{
 "cells": [
  {
   "cell_type": "markdown",
   "metadata": {},
   "source": [
    "# Lectura de CSVs"
   ]
  },
  {
   "cell_type": "markdown",
   "metadata": {},
   "source": [
    "librerias"
   ]
  },
  {
   "cell_type": "code",
   "execution_count": 352,
   "metadata": {},
   "outputs": [],
   "source": [
    "from fuentes import DatosConcurso\n",
    "import pandas as pd\n",
    "import plotly.express as px\n",
    "\n"
   ]
  },
  {
   "cell_type": "markdown",
   "metadata": {},
   "source": [
    "metodo para verificar que los dataframes funcionan correctamene"
   ]
  },
  {
   "cell_type": "code",
   "execution_count": 353,
   "metadata": {},
   "outputs": [],
   "source": [
    "\n",
    "def checkearVariablePanda(df_var,df_varname):\n",
    "    if isinstance(df_var, pd.DataFrame):\n",
    "        print('{0} ok'.format(df_varname))\n",
    "    else:\n",
    "        print('{0} fallido'.format(df_varname))"
   ]
  },
  {
   "cell_type": "code",
   "execution_count": 354,
   "metadata": {},
   "outputs": [
    {
     "name": "stdout",
     "output_type": "stream",
     "text": [
      "concurso.datos_resultados_finales.datos_encuestas.eurojury_results_2016 ok\n",
      "concurso.datos_resultados_finales.datos_encuestas.eurojury_results_2017 ok\n",
      "concurso.datos_resultados_finales.datos_encuestas.eurojury_results_2018 ok\n",
      "concurso.datos_resultados_finales.datos_encuestas.eurojury_results_2019 ok\n",
      "concurso.datos_resultados_finales.datos_encuestas.eurojury_results_2021 ok\n",
      "concurso.datos_resultados_finales.datos_encuestas.eurojury_results_2022 ok\n",
      "concurso.datos_resultados_finales.datos_encuestas.eurovisionworld_results_2016 ok\n",
      "concurso.datos_resultados_finales.datos_encuestas.eurovisionworld_results_2017 ok\n",
      "concurso.datos_resultados_finales.datos_encuestas.eurovisionworld_results_2018 ok\n",
      "concurso.datos_resultados_finales.datos_encuestas.eurovisionworld_results_2019 ok\n",
      "concurso.datos_resultados_finales.datos_encuestas.eurovisionworld_results_2021 ok\n",
      "concurso.datos_resultados_finales.datos_encuestas.eurovisionworld_results_2022 ok\n",
      "concurso.datos_resultados_finales.datos_encuestas.eurovisionworld_total ok\n",
      "concurso.datos_resultados_finales.datos_encuestas.myeurovisionscoreboard_results_2016 ok\n",
      "concurso.datos_resultados_finales.datos_encuestas.myeurovisionscoreboard_results_2017 ok\n",
      "concurso.datos_resultados_finales.datos_encuestas.myeurovisionscoreboard_results_2018 ok\n",
      "concurso.datos_resultados_finales.datos_encuestas.myeurovisionscoreboard_results_2019 ok\n",
      "concurso.datos_resultados_finales.datos_encuestas.myeurovisionscoreboard_results_2021 ok\n",
      "concurso.datos_resultados_finales.datos_encuestas.myeurovisionscoreboard_results_2022 ok\n",
      "concurso.datos_resultados_finales.datos_encuestas.ogae.ogae_results_2016 ok\n",
      "concurso.datos_resultados_finales.datos_encuestas.ogae.ogae_results_2017 ok\n",
      "concurso.datos_resultados_finales.datos_encuestas.ogae.ogae_results_2018 ok\n",
      "concurso.datos_resultados_finales.datos_encuestas.ogae.ogae_results_2019 ok\n",
      "concurso.datos_resultados_finales.datos_encuestas.ogae.ogae_results_2021 ok\n",
      "concurso.datos_resultados_finales.datos_encuestas.ogae.ogae_results_2022 ok\n",
      "concurso.datos_resultados_finales.datos_encuestas.wiwibloggs.wiwibloggs_results_2018 ok\n",
      "concurso.datos_resultados_finales.datos_encuestas.wiwibloggs.wiwibloggs_results_2019 ok\n",
      "concurso.datos_resultados_finales.datos_encuestas.wiwibloggs.wiwibloggs_results_2021 ok\n",
      "concurso.datos_resultados_finales.datos_encuestas.wiwibloggs.wiwibloggs_results_2022 ok\n"
     ]
    }
   ],
   "source": [
    "concurso = DatosConcurso()\n",
    "\n",
    "\n",
    "#variables encuestas\n",
    "#euro july\n",
    "checkearVariablePanda(concurso.datos_encuestas.euro_july.eurojury_results_2016,'concurso.datos_resultados_finales.datos_encuestas.eurojury_results_2016')\n",
    "checkearVariablePanda(concurso.datos_encuestas.euro_july.eurojury_results_2017,'concurso.datos_resultados_finales.datos_encuestas.eurojury_results_2017')\n",
    "checkearVariablePanda(concurso.datos_encuestas.euro_july.eurojury_results_2018,'concurso.datos_resultados_finales.datos_encuestas.eurojury_results_2018')\n",
    "checkearVariablePanda(concurso.datos_encuestas.euro_july.eurojury_results_2019,'concurso.datos_resultados_finales.datos_encuestas.eurojury_results_2019')\n",
    "checkearVariablePanda(concurso.datos_encuestas.euro_july.eurojury_results_2021,'concurso.datos_resultados_finales.datos_encuestas.eurojury_results_2021')\n",
    "checkearVariablePanda(concurso.datos_encuestas.euro_july.eurojury_results_2022,'concurso.datos_resultados_finales.datos_encuestas.eurojury_results_2022')\n",
    "\n",
    "#eurovisionworld\n",
    "checkearVariablePanda(concurso.datos_encuestas.eurovision_world.eurovisionworld_results_2016,'concurso.datos_resultados_finales.datos_encuestas.eurovisionworld_results_2016')\n",
    "checkearVariablePanda(concurso.datos_encuestas.eurovision_world.eurovisionworld_results_2017,'concurso.datos_resultados_finales.datos_encuestas.eurovisionworld_results_2017')\n",
    "checkearVariablePanda(concurso.datos_encuestas.eurovision_world.eurovisionworld_results_2018,'concurso.datos_resultados_finales.datos_encuestas.eurovisionworld_results_2018')\n",
    "checkearVariablePanda(concurso.datos_encuestas.eurovision_world.eurovisionworld_results_2019,'concurso.datos_resultados_finales.datos_encuestas.eurovisionworld_results_2019')\n",
    "checkearVariablePanda(concurso.datos_encuestas.eurovision_world.eurovisionworld_results_2021,'concurso.datos_resultados_finales.datos_encuestas.eurovisionworld_results_2021')\n",
    "checkearVariablePanda(concurso.datos_encuestas.eurovision_world.eurovisionworld_results_2022,'concurso.datos_resultados_finales.datos_encuestas.eurovisionworld_results_2022')\n",
    "\n",
    "#my eurovision score\n",
    "checkearVariablePanda(concurso.datos_encuestas.my_eurovision_score.myeurovisionscoreboard_results_2016,'concurso.datos_resultados_finales.datos_encuestas.myeurovisionscoreboard_results_2016')\n",
    "checkearVariablePanda(concurso.datos_encuestas.my_eurovision_score.myeurovisionscoreboard_results_2017,'concurso.datos_resultados_finales.datos_encuestas.myeurovisionscoreboard_results_2017')\n",
    "checkearVariablePanda(concurso.datos_encuestas.my_eurovision_score.myeurovisionscoreboard_results_2018,'concurso.datos_resultados_finales.datos_encuestas.myeurovisionscoreboard_results_2018')\n",
    "checkearVariablePanda(concurso.datos_encuestas.my_eurovision_score.myeurovisionscoreboard_results_2019,'concurso.datos_resultados_finales.datos_encuestas.myeurovisionscoreboard_results_2019')\n",
    "checkearVariablePanda(concurso.datos_encuestas.my_eurovision_score.myeurovisionscoreboard_results_2021,'concurso.datos_resultados_finales.datos_encuestas.myeurovisionscoreboard_results_2021')\n",
    "checkearVariablePanda(concurso.datos_encuestas.my_eurovision_score.myeurovisionscoreboard_results_2022,'concurso.datos_resultados_finales.datos_encuestas.myeurovisionscoreboard_results_2022')\n",
    "\n",
    "#ogae\n",
    "checkearVariablePanda(concurso.datos_encuestas.ogae.ogae_results_2016,'concurso.datos_resultados_finales.datos_encuestas.ogae.ogae_results_2016')\n",
    "checkearVariablePanda(concurso.datos_encuestas.ogae.ogae_results_2017,'concurso.datos_resultados_finales.datos_encuestas.ogae.ogae_results_2017')\n",
    "checkearVariablePanda(concurso.datos_encuestas.ogae.ogae_results_2018,'concurso.datos_resultados_finales.datos_encuestas.ogae.ogae_results_2018')\n",
    "checkearVariablePanda(concurso.datos_encuestas.ogae.ogae_results_2019,'concurso.datos_resultados_finales.datos_encuestas.ogae.ogae_results_2019')\n",
    "checkearVariablePanda(concurso.datos_encuestas.ogae.ogae_results_2021,'concurso.datos_resultados_finales.datos_encuestas.ogae.ogae_results_2021')\n",
    "checkearVariablePanda(concurso.datos_encuestas.ogae.ogae_results_2022,'concurso.datos_resultados_finales.datos_encuestas.ogae.ogae_results_2022')\n",
    "\n",
    "#wiwibloggs\n",
    "checkearVariablePanda(concurso.datos_encuestas.wiwibloggs.wiwibloggs_results_2018,'concurso.datos_resultados_finales.datos_encuestas.wiwibloggs.wiwibloggs_results_2018')\n",
    "checkearVariablePanda(concurso.datos_encuestas.wiwibloggs.wiwibloggs_results_2019,'concurso.datos_resultados_finales.datos_encuestas.wiwibloggs.wiwibloggs_results_2019')\n",
    "checkearVariablePanda(concurso.datos_encuestas.wiwibloggs.wiwibloggs_results_2021,'concurso.datos_resultados_finales.datos_encuestas.wiwibloggs.wiwibloggs_results_2021')\n",
    "checkearVariablePanda(concurso.datos_encuestas.wiwibloggs.wiwibloggs_results_2022,'concurso.datos_resultados_finales.datos_encuestas.wiwibloggs.wiwibloggs_results_2022')"
   ]
  },
  {
   "cell_type": "code",
   "execution_count": 355,
   "metadata": {},
   "outputs": [
    {
     "name": "stdout",
     "output_type": "stream",
     "text": [
      "concurso.country_data ok\n",
      "concurso.contest_data ok\n",
      "concurso.song_data ok\n"
     ]
    }
   ],
   "source": [
    "\n",
    "#variables de la raiz\n",
    "checkearVariablePanda(concurso.country_data,'concurso.country_data')\n",
    "checkearVariablePanda(concurso.contest_data,'concurso.contest_data')\n",
    "checkearVariablePanda(concurso.song_data,'concurso.song_data')"
   ]
  },
  {
   "cell_type": "code",
   "execution_count": 356,
   "metadata": {},
   "outputs": [
    {
     "name": "stdout",
     "output_type": "stream",
     "text": [
      "concurso.datos_resultados_finales.datos_jurado.jury_results_2016 ok\n",
      "concurso.datos_resultados_finales.datos_jurado.jury_results_2017 ok\n",
      "concurso.datos_resultados_finales.datos_jurado.jury_results_2018 ok\n",
      "concurso.datos_resultados_finales.datos_jurado.jury_results_2019 ok\n",
      "concurso.datos_resultados_finales.datos_jurado.jury_results_2021 ok\n",
      "concurso.datos_resultados_finales.datos_jurado.jury_results_2022 ok\n",
      "concurso.datos_resultados_finales.datos_televotacion.2016_televote_results ok\n",
      "concurso.datos_resultados_finales.datos_televotacion.2017_televote_results ok\n",
      "concurso.datos_resultados_finales.datos_televotacion.2018_televote_results ok\n",
      "concurso.datos_resultados_finales.datos_televotacion.2019_televote_results ok\n",
      "concurso.datos_resultados_finales.datos_televotacion.2021_televote_results ok\n",
      "concurso.datos_resultados_finales.datos_televotacion.2022_televote_results ok\n"
     ]
    }
   ],
   "source": [
    "#variables resultados finales\n",
    "#jurado\n",
    "checkearVariablePanda(concurso.datos_resultados_finales.datos_jurado.jury_results_2016,'concurso.datos_resultados_finales.datos_jurado.jury_results_2016')\n",
    "checkearVariablePanda(concurso.datos_resultados_finales.datos_jurado.jury_results_2017,'concurso.datos_resultados_finales.datos_jurado.jury_results_2017')\n",
    "checkearVariablePanda(concurso.datos_resultados_finales.datos_jurado.jury_results_2018,'concurso.datos_resultados_finales.datos_jurado.jury_results_2018')\n",
    "checkearVariablePanda(concurso.datos_resultados_finales.datos_jurado.jury_results_2019,'concurso.datos_resultados_finales.datos_jurado.jury_results_2019')\n",
    "checkearVariablePanda(concurso.datos_resultados_finales.datos_jurado.jury_results_2021,'concurso.datos_resultados_finales.datos_jurado.jury_results_2021')\n",
    "checkearVariablePanda(concurso.datos_resultados_finales.datos_jurado.jury_results_2022,'concurso.datos_resultados_finales.datos_jurado.jury_results_2022')\n",
    "\n",
    "#televotacion\n",
    "checkearVariablePanda(concurso.datos_resultados_finales.datos_televotacion.televote_results_2016,'concurso.datos_resultados_finales.datos_televotacion.2016_televote_results')\n",
    "checkearVariablePanda(concurso.datos_resultados_finales.datos_televotacion.televote_results_2017,'concurso.datos_resultados_finales.datos_televotacion.2017_televote_results')\n",
    "checkearVariablePanda(concurso.datos_resultados_finales.datos_televotacion.televote_results_2018,'concurso.datos_resultados_finales.datos_televotacion.2018_televote_results')\n",
    "checkearVariablePanda(concurso.datos_resultados_finales.datos_televotacion.televote_results_2019,'concurso.datos_resultados_finales.datos_televotacion.2019_televote_results')\n",
    "checkearVariablePanda(concurso.datos_resultados_finales.datos_televotacion.televote_results_2021,'concurso.datos_resultados_finales.datos_televotacion.2021_televote_results')\n",
    "checkearVariablePanda(concurso.datos_resultados_finales.datos_televotacion.televote_results_2022,'concurso.datos_resultados_finales.datos_televotacion.2022_televote_results')"
   ]
  },
  {
   "cell_type": "markdown",
   "metadata": {},
   "source": [
    "# Manipulacion de CSVs"
   ]
  },
  {
   "cell_type": "markdown",
   "metadata": {},
   "source": [
    "Utilizando el dataset principal haremos plots simples"
   ]
  },
  {
   "cell_type": "code",
   "execution_count": 357,
   "metadata": {},
   "outputs": [
    {
     "data": {
      "text/html": [
       "<div>\n",
       "<style scoped>\n",
       "    .dataframe tbody tr th:only-of-type {\n",
       "        vertical-align: middle;\n",
       "    }\n",
       "\n",
       "    .dataframe tbody tr th {\n",
       "        vertical-align: top;\n",
       "    }\n",
       "\n",
       "    .dataframe thead th {\n",
       "        text-align: right;\n",
       "    }\n",
       "</style>\n",
       "<table border=\"1\" class=\"dataframe\">\n",
       "  <thead>\n",
       "    <tr style=\"text-align: right;\">\n",
       "      <th></th>\n",
       "      <th>year</th>\n",
       "      <th>semi_draw_position</th>\n",
       "      <th>final_draw_position</th>\n",
       "      <th>country</th>\n",
       "      <th>artist_name</th>\n",
       "      <th>song_name</th>\n",
       "      <th>language</th>\n",
       "      <th>style</th>\n",
       "      <th>direct_qualifier_10</th>\n",
       "      <th>main_singers</th>\n",
       "      <th>...</th>\n",
       "      <th>final_jury_votes</th>\n",
       "      <th>final_place</th>\n",
       "      <th>final_total_points</th>\n",
       "      <th>semi_place</th>\n",
       "      <th>semi_televote_points</th>\n",
       "      <th>semi_jury_points</th>\n",
       "      <th>semi_total_points</th>\n",
       "      <th>favourite_10</th>\n",
       "      <th>race</th>\n",
       "      <th>host_10</th>\n",
       "    </tr>\n",
       "  </thead>\n",
       "  <tbody>\n",
       "    <tr>\n",
       "      <th>0</th>\n",
       "      <td>2022</td>\n",
       "      <td>1</td>\n",
       "      <td>0</td>\n",
       "      <td>Albania</td>\n",
       "      <td>Ronela Hajati</td>\n",
       "      <td>Sekret</td>\n",
       "      <td>Albanian, English</td>\n",
       "      <td>Pop</td>\n",
       "      <td>-</td>\n",
       "      <td>1</td>\n",
       "      <td>...</td>\n",
       "      <td>0.0</td>\n",
       "      <td>0.0</td>\n",
       "      <td>0.0</td>\n",
       "      <td>12.0</td>\n",
       "      <td>46.0</td>\n",
       "      <td>12.0</td>\n",
       "      <td>58.0</td>\n",
       "      <td>0</td>\n",
       "      <td>white</td>\n",
       "      <td>0</td>\n",
       "    </tr>\n",
       "    <tr>\n",
       "      <th>1</th>\n",
       "      <td>2022</td>\n",
       "      <td>2</td>\n",
       "      <td>0</td>\n",
       "      <td>Latvia</td>\n",
       "      <td>Citi Zeni</td>\n",
       "      <td>Eat Your Salad</td>\n",
       "      <td>English</td>\n",
       "      <td>Pop</td>\n",
       "      <td>-</td>\n",
       "      <td>1</td>\n",
       "      <td>...</td>\n",
       "      <td>0.0</td>\n",
       "      <td>0.0</td>\n",
       "      <td>0.0</td>\n",
       "      <td>14.0</td>\n",
       "      <td>16.0</td>\n",
       "      <td>39.0</td>\n",
       "      <td>55.0</td>\n",
       "      <td>0</td>\n",
       "      <td>white</td>\n",
       "      <td>0</td>\n",
       "    </tr>\n",
       "    <tr>\n",
       "      <th>2</th>\n",
       "      <td>2022</td>\n",
       "      <td>3</td>\n",
       "      <td>14</td>\n",
       "      <td>Lithuania</td>\n",
       "      <td>Monika Liu</td>\n",
       "      <td>Sentimentai</td>\n",
       "      <td>Lithuanian</td>\n",
       "      <td>Ballad</td>\n",
       "      <td>0</td>\n",
       "      <td>1</td>\n",
       "      <td>...</td>\n",
       "      <td>10.0</td>\n",
       "      <td>14.0</td>\n",
       "      <td>128.0</td>\n",
       "      <td>7.0</td>\n",
       "      <td>103.0</td>\n",
       "      <td>56.0</td>\n",
       "      <td>159.0</td>\n",
       "      <td>0</td>\n",
       "      <td>white</td>\n",
       "      <td>0</td>\n",
       "    </tr>\n",
       "    <tr>\n",
       "      <th>3</th>\n",
       "      <td>2022</td>\n",
       "      <td>4</td>\n",
       "      <td>5</td>\n",
       "      <td>Switzerland</td>\n",
       "      <td>Marius Bear</td>\n",
       "      <td>Boys Do Cry</td>\n",
       "      <td>English</td>\n",
       "      <td>Ballad</td>\n",
       "      <td>0</td>\n",
       "      <td>1</td>\n",
       "      <td>...</td>\n",
       "      <td>21.0</td>\n",
       "      <td>17.0</td>\n",
       "      <td>78.0</td>\n",
       "      <td>9.0</td>\n",
       "      <td>11.0</td>\n",
       "      <td>107.0</td>\n",
       "      <td>118.0</td>\n",
       "      <td>0</td>\n",
       "      <td>white</td>\n",
       "      <td>0</td>\n",
       "    </tr>\n",
       "    <tr>\n",
       "      <th>4</th>\n",
       "      <td>2022</td>\n",
       "      <td>5</td>\n",
       "      <td>0</td>\n",
       "      <td>Slovenia</td>\n",
       "      <td>LPS</td>\n",
       "      <td>Disko</td>\n",
       "      <td>Slovene</td>\n",
       "      <td>Pop</td>\n",
       "      <td>-</td>\n",
       "      <td>1</td>\n",
       "      <td>...</td>\n",
       "      <td>0.0</td>\n",
       "      <td>0.0</td>\n",
       "      <td>0.0</td>\n",
       "      <td>17.0</td>\n",
       "      <td>8.0</td>\n",
       "      <td>7.0</td>\n",
       "      <td>15.0</td>\n",
       "      <td>0</td>\n",
       "      <td>white</td>\n",
       "      <td>0</td>\n",
       "    </tr>\n",
       "    <tr>\n",
       "      <th>...</th>\n",
       "      <td>...</td>\n",
       "      <td>...</td>\n",
       "      <td>...</td>\n",
       "      <td>...</td>\n",
       "      <td>...</td>\n",
       "      <td>...</td>\n",
       "      <td>...</td>\n",
       "      <td>...</td>\n",
       "      <td>...</td>\n",
       "      <td>...</td>\n",
       "      <td>...</td>\n",
       "      <td>...</td>\n",
       "      <td>...</td>\n",
       "      <td>...</td>\n",
       "      <td>...</td>\n",
       "      <td>...</td>\n",
       "      <td>...</td>\n",
       "      <td>...</td>\n",
       "      <td>...</td>\n",
       "      <td>...</td>\n",
       "      <td>...</td>\n",
       "    </tr>\n",
       "    <tr>\n",
       "      <th>523</th>\n",
       "      <td>2009</td>\n",
       "      <td>0</td>\n",
       "      <td>3</td>\n",
       "      <td>France</td>\n",
       "      <td>Patricia Kaas</td>\n",
       "      <td>Et s'il fallait le faire</td>\n",
       "      <td>French</td>\n",
       "      <td>Ballad</td>\n",
       "      <td>1</td>\n",
       "      <td>1</td>\n",
       "      <td>...</td>\n",
       "      <td>0.0</td>\n",
       "      <td>8.0</td>\n",
       "      <td>218.0</td>\n",
       "      <td>0.0</td>\n",
       "      <td>0.0</td>\n",
       "      <td>0.0</td>\n",
       "      <td>0.0</td>\n",
       "      <td>0</td>\n",
       "      <td>unknown</td>\n",
       "      <td>0</td>\n",
       "    </tr>\n",
       "    <tr>\n",
       "      <th>524</th>\n",
       "      <td>2009</td>\n",
       "      <td>0</td>\n",
       "      <td>10</td>\n",
       "      <td>Russia</td>\n",
       "      <td>Anastasiya Prikhodko</td>\n",
       "      <td>Mamo</td>\n",
       "      <td>Russian, Ukrainian</td>\n",
       "      <td>Ballad</td>\n",
       "      <td>1</td>\n",
       "      <td>1</td>\n",
       "      <td>...</td>\n",
       "      <td>0.0</td>\n",
       "      <td>11.0</td>\n",
       "      <td>185.0</td>\n",
       "      <td>0.0</td>\n",
       "      <td>0.0</td>\n",
       "      <td>0.0</td>\n",
       "      <td>0.0</td>\n",
       "      <td>0</td>\n",
       "      <td>unknown</td>\n",
       "      <td>1</td>\n",
       "    </tr>\n",
       "    <tr>\n",
       "      <th>525</th>\n",
       "      <td>2009</td>\n",
       "      <td>0</td>\n",
       "      <td>17</td>\n",
       "      <td>Germany</td>\n",
       "      <td>Alex Swings Oscar Sings!</td>\n",
       "      <td>Miss Kiss Kiss Bang</td>\n",
       "      <td>English</td>\n",
       "      <td>Pop</td>\n",
       "      <td>1</td>\n",
       "      <td>1</td>\n",
       "      <td>...</td>\n",
       "      <td>0.0</td>\n",
       "      <td>20.0</td>\n",
       "      <td>91.0</td>\n",
       "      <td>0.0</td>\n",
       "      <td>0.0</td>\n",
       "      <td>0.0</td>\n",
       "      <td>0.0</td>\n",
       "      <td>0</td>\n",
       "      <td>unknown</td>\n",
       "      <td>0</td>\n",
       "    </tr>\n",
       "    <tr>\n",
       "      <th>526</th>\n",
       "      <td>2009</td>\n",
       "      <td>0</td>\n",
       "      <td>23</td>\n",
       "      <td>United Kingdom</td>\n",
       "      <td>Jade Ewen</td>\n",
       "      <td>It's My Time</td>\n",
       "      <td>English</td>\n",
       "      <td>Ballad</td>\n",
       "      <td>1</td>\n",
       "      <td>1</td>\n",
       "      <td>...</td>\n",
       "      <td>0.0</td>\n",
       "      <td>5.0</td>\n",
       "      <td>328.0</td>\n",
       "      <td>0.0</td>\n",
       "      <td>0.0</td>\n",
       "      <td>0.0</td>\n",
       "      <td>0.0</td>\n",
       "      <td>0</td>\n",
       "      <td>unknown</td>\n",
       "      <td>0</td>\n",
       "    </tr>\n",
       "    <tr>\n",
       "      <th>527</th>\n",
       "      <td>2009</td>\n",
       "      <td>0</td>\n",
       "      <td>25</td>\n",
       "      <td>Spain</td>\n",
       "      <td>Soraya Arnelas</td>\n",
       "      <td>La noche es para mi</td>\n",
       "      <td>Spanish, English</td>\n",
       "      <td>Dance</td>\n",
       "      <td>1</td>\n",
       "      <td>1</td>\n",
       "      <td>...</td>\n",
       "      <td>0.0</td>\n",
       "      <td>24.0</td>\n",
       "      <td>47.0</td>\n",
       "      <td>0.0</td>\n",
       "      <td>0.0</td>\n",
       "      <td>0.0</td>\n",
       "      <td>0.0</td>\n",
       "      <td>0</td>\n",
       "      <td>unknown</td>\n",
       "      <td>0</td>\n",
       "    </tr>\n",
       "  </tbody>\n",
       "</table>\n",
       "<p>528 rows × 40 columns</p>\n",
       "</div>"
      ],
      "text/plain": [
       "     year  semi_draw_position  final_draw_position         country  \\\n",
       "0    2022                   1                    0         Albania   \n",
       "1    2022                   2                    0          Latvia   \n",
       "2    2022                   3                   14       Lithuania   \n",
       "3    2022                   4                    5     Switzerland   \n",
       "4    2022                   5                    0        Slovenia   \n",
       "..    ...                 ...                  ...             ...   \n",
       "523  2009                   0                    3          France   \n",
       "524  2009                   0                   10          Russia   \n",
       "525  2009                   0                   17         Germany   \n",
       "526  2009                   0                   23  United Kingdom   \n",
       "527  2009                   0                   25           Spain   \n",
       "\n",
       "                  artist_name                 song_name            language  \\\n",
       "0               Ronela Hajati                    Sekret   Albanian, English   \n",
       "1                   Citi Zeni            Eat Your Salad             English   \n",
       "2                  Monika Liu               Sentimentai          Lithuanian   \n",
       "3                 Marius Bear               Boys Do Cry             English   \n",
       "4                         LPS                     Disko             Slovene   \n",
       "..                        ...                       ...                 ...   \n",
       "523             Patricia Kaas  Et s'il fallait le faire              French   \n",
       "524      Anastasiya Prikhodko                      Mamo  Russian, Ukrainian   \n",
       "525  Alex Swings Oscar Sings!       Miss Kiss Kiss Bang             English   \n",
       "526                 Jade Ewen              It's My Time             English   \n",
       "527            Soraya Arnelas       La noche es para mi    Spanish, English   \n",
       "\n",
       "      style direct_qualifier_10  main_singers  ... final_jury_votes  \\\n",
       "0       Pop                   -             1  ...              0.0   \n",
       "1       Pop                   -             1  ...              0.0   \n",
       "2    Ballad                   0             1  ...             10.0   \n",
       "3    Ballad                   0             1  ...             21.0   \n",
       "4       Pop                   -             1  ...              0.0   \n",
       "..      ...                 ...           ...  ...              ...   \n",
       "523  Ballad                   1             1  ...              0.0   \n",
       "524  Ballad                   1             1  ...              0.0   \n",
       "525     Pop                   1             1  ...              0.0   \n",
       "526  Ballad                   1             1  ...              0.0   \n",
       "527   Dance                   1             1  ...              0.0   \n",
       "\n",
       "     final_place  final_total_points  semi_place  semi_televote_points  \\\n",
       "0            0.0                 0.0        12.0                  46.0   \n",
       "1            0.0                 0.0        14.0                  16.0   \n",
       "2           14.0               128.0         7.0                 103.0   \n",
       "3           17.0                78.0         9.0                  11.0   \n",
       "4            0.0                 0.0        17.0                   8.0   \n",
       "..           ...                 ...         ...                   ...   \n",
       "523          8.0               218.0         0.0                   0.0   \n",
       "524         11.0               185.0         0.0                   0.0   \n",
       "525         20.0                91.0         0.0                   0.0   \n",
       "526          5.0               328.0         0.0                   0.0   \n",
       "527         24.0                47.0         0.0                   0.0   \n",
       "\n",
       "    semi_jury_points  semi_total_points  favourite_10     race host_10  \n",
       "0               12.0               58.0             0    white       0  \n",
       "1               39.0               55.0             0    white       0  \n",
       "2               56.0              159.0             0    white       0  \n",
       "3              107.0              118.0             0    white       0  \n",
       "4                7.0               15.0             0    white       0  \n",
       "..               ...                ...           ...      ...     ...  \n",
       "523              0.0                0.0             0  unknown       0  \n",
       "524              0.0                0.0             0  unknown       1  \n",
       "525              0.0                0.0             0  unknown       0  \n",
       "526              0.0                0.0             0  unknown       0  \n",
       "527              0.0                0.0             0  unknown       0  \n",
       "\n",
       "[528 rows x 40 columns]"
      ]
     },
     "execution_count": 357,
     "metadata": {},
     "output_type": "execute_result"
    }
   ],
   "source": [
    "song_data = concurso.song_data\n",
    "song_data"
   ]
  },
  {
   "cell_type": "code",
   "execution_count": 358,
   "metadata": {},
   "outputs": [
    {
     "data": {
      "text/plain": [
       "year                       int64\n",
       "semi_draw_position         int32\n",
       "final_draw_position        int32\n",
       "country                   string\n",
       "artist_name               string\n",
       "song_name                 string\n",
       "language                  string\n",
       "style                     string\n",
       "direct_qualifier_10       object\n",
       "main_singers               int64\n",
       "key                       object\n",
       "BPM                        int32\n",
       "energy                     int32\n",
       "danceability               int32\n",
       "happiness                  int32\n",
       "loudness                  string\n",
       "acousticness               int32\n",
       "instrumentalness           int32\n",
       "liveness                   int32\n",
       "speechiness               string\n",
       "release_date              object\n",
       "key_change_10             object\n",
       "backing_dancers            int64\n",
       "backing_singers            int64\n",
       "backing_instruments        int64\n",
       "instrument_10              int64\n",
       "qualified                 object\n",
       "final_televote_points    float64\n",
       "final_jury_points        float64\n",
       "final_televote_votes     float64\n",
       "final_jury_votes         float64\n",
       "final_place              float64\n",
       "final_total_points       float64\n",
       "semi_place               float64\n",
       "semi_televote_points     float64\n",
       "semi_jury_points         float64\n",
       "semi_total_points        float64\n",
       "favourite_10               int64\n",
       "race                      string\n",
       "host_10                    int64\n",
       "dtype: object"
      ]
     },
     "execution_count": 358,
     "metadata": {},
     "output_type": "execute_result"
    }
   ],
   "source": [
    "song_data.dtypes"
   ]
  },
  {
   "cell_type": "markdown",
   "metadata": {},
   "source": [
    "## Pie Chart"
   ]
  },
  {
   "cell_type": "markdown",
   "metadata": {},
   "source": [
    "Dataset"
   ]
  },
  {
   "cell_type": "code",
   "execution_count": 359,
   "metadata": {},
   "outputs": [
    {
     "name": "stdout",
     "output_type": "stream",
     "text": [
      "*\n"
     ]
    }
   ],
   "source": [
    "print('*')"
   ]
  },
  {
   "cell_type": "code",
   "execution_count": 360,
   "metadata": {},
   "outputs": [
    {
     "data": {
      "text/html": [
       "<div>\n",
       "<style scoped>\n",
       "    .dataframe tbody tr th:only-of-type {\n",
       "        vertical-align: middle;\n",
       "    }\n",
       "\n",
       "    .dataframe tbody tr th {\n",
       "        vertical-align: top;\n",
       "    }\n",
       "\n",
       "    .dataframe thead th {\n",
       "        text-align: right;\n",
       "    }\n",
       "</style>\n",
       "<table border=\"1\" class=\"dataframe\">\n",
       "  <thead>\n",
       "    <tr style=\"text-align: right;\">\n",
       "      <th></th>\n",
       "      <th>year</th>\n",
       "      <th>semi_draw_position</th>\n",
       "      <th>final_draw_position</th>\n",
       "      <th>country</th>\n",
       "      <th>artist_name</th>\n",
       "      <th>song_name</th>\n",
       "      <th>language</th>\n",
       "      <th>style</th>\n",
       "      <th>direct_qualifier_10</th>\n",
       "      <th>main_singers</th>\n",
       "      <th>...</th>\n",
       "      <th>final_jury_votes</th>\n",
       "      <th>final_place</th>\n",
       "      <th>final_total_points</th>\n",
       "      <th>semi_place</th>\n",
       "      <th>semi_televote_points</th>\n",
       "      <th>semi_jury_points</th>\n",
       "      <th>semi_total_points</th>\n",
       "      <th>favourite_10</th>\n",
       "      <th>race</th>\n",
       "      <th>host_10</th>\n",
       "    </tr>\n",
       "  </thead>\n",
       "  <tbody>\n",
       "    <tr>\n",
       "      <th>5</th>\n",
       "      <td>2022</td>\n",
       "      <td>6</td>\n",
       "      <td>12</td>\n",
       "      <td>Ukraine</td>\n",
       "      <td>Kalush Orchestra</td>\n",
       "      <td>Stefania</td>\n",
       "      <td>Ukrainian</td>\n",
       "      <td>Traditional</td>\n",
       "      <td>0</td>\n",
       "      <td>1</td>\n",
       "      <td>...</td>\n",
       "      <td>26.0</td>\n",
       "      <td>1.0</td>\n",
       "      <td>631.0</td>\n",
       "      <td>1.0</td>\n",
       "      <td>202.0</td>\n",
       "      <td>135.0</td>\n",
       "      <td>337.0</td>\n",
       "      <td>1</td>\n",
       "      <td>white</td>\n",
       "      <td>0</td>\n",
       "    </tr>\n",
       "    <tr>\n",
       "      <th>38</th>\n",
       "      <td>2022</td>\n",
       "      <td>0</td>\n",
       "      <td>22</td>\n",
       "      <td>United Kingdom</td>\n",
       "      <td>Sam Ryder</td>\n",
       "      <td>Space Man</td>\n",
       "      <td>English</td>\n",
       "      <td>Pop</td>\n",
       "      <td>1</td>\n",
       "      <td>1</td>\n",
       "      <td>...</td>\n",
       "      <td>35.0</td>\n",
       "      <td>2.0</td>\n",
       "      <td>466.0</td>\n",
       "      <td>0.0</td>\n",
       "      <td>0.0</td>\n",
       "      <td>0.0</td>\n",
       "      <td>0.0</td>\n",
       "      <td>0</td>\n",
       "      <td>white</td>\n",
       "      <td>0</td>\n",
       "    </tr>\n",
       "    <tr>\n",
       "      <th>36</th>\n",
       "      <td>2022</td>\n",
       "      <td>0</td>\n",
       "      <td>10</td>\n",
       "      <td>Spain</td>\n",
       "      <td>Chanel</td>\n",
       "      <td>SloMo</td>\n",
       "      <td>Spanish, English</td>\n",
       "      <td>Pop</td>\n",
       "      <td>1</td>\n",
       "      <td>1</td>\n",
       "      <td>...</td>\n",
       "      <td>34.0</td>\n",
       "      <td>3.0</td>\n",
       "      <td>459.0</td>\n",
       "      <td>0.0</td>\n",
       "      <td>0.0</td>\n",
       "      <td>0.0</td>\n",
       "      <td>0.0</td>\n",
       "      <td>0</td>\n",
       "      <td>white</td>\n",
       "      <td>0</td>\n",
       "    </tr>\n",
       "    <tr>\n",
       "      <th>33</th>\n",
       "      <td>2022</td>\n",
       "      <td>17</td>\n",
       "      <td>20</td>\n",
       "      <td>Sweden</td>\n",
       "      <td>Cornelia Jakobs</td>\n",
       "      <td>Hold Me Closer</td>\n",
       "      <td>English</td>\n",
       "      <td>Ballad</td>\n",
       "      <td>0</td>\n",
       "      <td>1</td>\n",
       "      <td>...</td>\n",
       "      <td>33.0</td>\n",
       "      <td>4.0</td>\n",
       "      <td>438.0</td>\n",
       "      <td>1.0</td>\n",
       "      <td>174.0</td>\n",
       "      <td>222.0</td>\n",
       "      <td>396.0</td>\n",
       "      <td>0</td>\n",
       "      <td>unknown</td>\n",
       "      <td>0</td>\n",
       "    </tr>\n",
       "    <tr>\n",
       "      <th>19</th>\n",
       "      <td>2022</td>\n",
       "      <td>3</td>\n",
       "      <td>24</td>\n",
       "      <td>Serbia</td>\n",
       "      <td>Konstrakta</td>\n",
       "      <td>In corpore sano</td>\n",
       "      <td>Serbian, Latin</td>\n",
       "      <td>Traditional</td>\n",
       "      <td>0</td>\n",
       "      <td>1</td>\n",
       "      <td>...</td>\n",
       "      <td>15.0</td>\n",
       "      <td>5.0</td>\n",
       "      <td>312.0</td>\n",
       "      <td>3.0</td>\n",
       "      <td>174.0</td>\n",
       "      <td>63.0</td>\n",
       "      <td>237.0</td>\n",
       "      <td>0</td>\n",
       "      <td>white</td>\n",
       "      <td>0</td>\n",
       "    </tr>\n",
       "  </tbody>\n",
       "</table>\n",
       "<p>5 rows × 40 columns</p>\n",
       "</div>"
      ],
      "text/plain": [
       "    year  semi_draw_position  final_draw_position         country  \\\n",
       "5   2022                   6                   12         Ukraine   \n",
       "38  2022                   0                   22  United Kingdom   \n",
       "36  2022                   0                   10           Spain   \n",
       "33  2022                  17                   20          Sweden   \n",
       "19  2022                   3                   24          Serbia   \n",
       "\n",
       "         artist_name        song_name          language        style  \\\n",
       "5   Kalush Orchestra         Stefania         Ukrainian  Traditional   \n",
       "38         Sam Ryder        Space Man           English          Pop   \n",
       "36            Chanel            SloMo  Spanish, English          Pop   \n",
       "33   Cornelia Jakobs   Hold Me Closer           English       Ballad   \n",
       "19        Konstrakta  In corpore sano    Serbian, Latin  Traditional   \n",
       "\n",
       "   direct_qualifier_10  main_singers  ... final_jury_votes  final_place  \\\n",
       "5                    0             1  ...             26.0          1.0   \n",
       "38                   1             1  ...             35.0          2.0   \n",
       "36                   1             1  ...             34.0          3.0   \n",
       "33                   0             1  ...             33.0          4.0   \n",
       "19                   0             1  ...             15.0          5.0   \n",
       "\n",
       "    final_total_points  semi_place  semi_televote_points semi_jury_points  \\\n",
       "5                631.0         1.0                 202.0            135.0   \n",
       "38               466.0         0.0                   0.0              0.0   \n",
       "36               459.0         0.0                   0.0              0.0   \n",
       "33               438.0         1.0                 174.0            222.0   \n",
       "19               312.0         3.0                 174.0             63.0   \n",
       "\n",
       "    semi_total_points  favourite_10     race host_10  \n",
       "5               337.0             1    white       0  \n",
       "38                0.0             0    white       0  \n",
       "36                0.0             0    white       0  \n",
       "33              396.0             0  unknown       0  \n",
       "19              237.0             0    white       0  \n",
       "\n",
       "[5 rows x 40 columns]"
      ]
     },
     "execution_count": 360,
     "metadata": {},
     "output_type": "execute_result"
    }
   ],
   "source": [
    "song_data_2022 = song_data[(song_data.year == 2022) & (song_data.final_place > 0.0)]\n",
    "song_data_2022_top = song_data_2022.sort_values(by='final_place',ascending=True)\n",
    "song_data_2022_top.head()"
   ]
  },
  {
   "cell_type": "markdown",
   "metadata": {},
   "source": [
    "Plot"
   ]
  },
  {
   "cell_type": "code",
   "execution_count": 361,
   "metadata": {},
   "outputs": [
    {
     "data": {
      "application/vnd.plotly.v1+json": {
       "config": {
        "plotlyServerURL": "https://plot.ly"
       },
       "data": [
        {
         "domain": {
          "x": [
           0,
           1
          ],
          "y": [
           0,
           1
          ]
         },
         "hovertemplate": "country=%{label}<br>final_total_points=%{value}<extra></extra>",
         "labels": [
          "Ukraine",
          "United Kingdom",
          "Spain",
          "Sweden",
          "Serbia"
         ],
         "legendgroup": "",
         "name": "",
         "showlegend": true,
         "type": "pie",
         "values": [
          631,
          466,
          459,
          438,
          312
         ]
        }
       ],
       "layout": {
        "legend": {
         "tracegroupgap": 0
        },
        "template": {
         "data": {
          "bar": [
           {
            "error_x": {
             "color": "#2a3f5f"
            },
            "error_y": {
             "color": "#2a3f5f"
            },
            "marker": {
             "line": {
              "color": "#E5ECF6",
              "width": 0.5
             },
             "pattern": {
              "fillmode": "overlay",
              "size": 10,
              "solidity": 0.2
             }
            },
            "type": "bar"
           }
          ],
          "barpolar": [
           {
            "marker": {
             "line": {
              "color": "#E5ECF6",
              "width": 0.5
             },
             "pattern": {
              "fillmode": "overlay",
              "size": 10,
              "solidity": 0.2
             }
            },
            "type": "barpolar"
           }
          ],
          "carpet": [
           {
            "aaxis": {
             "endlinecolor": "#2a3f5f",
             "gridcolor": "white",
             "linecolor": "white",
             "minorgridcolor": "white",
             "startlinecolor": "#2a3f5f"
            },
            "baxis": {
             "endlinecolor": "#2a3f5f",
             "gridcolor": "white",
             "linecolor": "white",
             "minorgridcolor": "white",
             "startlinecolor": "#2a3f5f"
            },
            "type": "carpet"
           }
          ],
          "choropleth": [
           {
            "colorbar": {
             "outlinewidth": 0,
             "ticks": ""
            },
            "type": "choropleth"
           }
          ],
          "contour": [
           {
            "colorbar": {
             "outlinewidth": 0,
             "ticks": ""
            },
            "colorscale": [
             [
              0,
              "#0d0887"
             ],
             [
              0.1111111111111111,
              "#46039f"
             ],
             [
              0.2222222222222222,
              "#7201a8"
             ],
             [
              0.3333333333333333,
              "#9c179e"
             ],
             [
              0.4444444444444444,
              "#bd3786"
             ],
             [
              0.5555555555555556,
              "#d8576b"
             ],
             [
              0.6666666666666666,
              "#ed7953"
             ],
             [
              0.7777777777777778,
              "#fb9f3a"
             ],
             [
              0.8888888888888888,
              "#fdca26"
             ],
             [
              1,
              "#f0f921"
             ]
            ],
            "type": "contour"
           }
          ],
          "contourcarpet": [
           {
            "colorbar": {
             "outlinewidth": 0,
             "ticks": ""
            },
            "type": "contourcarpet"
           }
          ],
          "heatmap": [
           {
            "colorbar": {
             "outlinewidth": 0,
             "ticks": ""
            },
            "colorscale": [
             [
              0,
              "#0d0887"
             ],
             [
              0.1111111111111111,
              "#46039f"
             ],
             [
              0.2222222222222222,
              "#7201a8"
             ],
             [
              0.3333333333333333,
              "#9c179e"
             ],
             [
              0.4444444444444444,
              "#bd3786"
             ],
             [
              0.5555555555555556,
              "#d8576b"
             ],
             [
              0.6666666666666666,
              "#ed7953"
             ],
             [
              0.7777777777777778,
              "#fb9f3a"
             ],
             [
              0.8888888888888888,
              "#fdca26"
             ],
             [
              1,
              "#f0f921"
             ]
            ],
            "type": "heatmap"
           }
          ],
          "heatmapgl": [
           {
            "colorbar": {
             "outlinewidth": 0,
             "ticks": ""
            },
            "colorscale": [
             [
              0,
              "#0d0887"
             ],
             [
              0.1111111111111111,
              "#46039f"
             ],
             [
              0.2222222222222222,
              "#7201a8"
             ],
             [
              0.3333333333333333,
              "#9c179e"
             ],
             [
              0.4444444444444444,
              "#bd3786"
             ],
             [
              0.5555555555555556,
              "#d8576b"
             ],
             [
              0.6666666666666666,
              "#ed7953"
             ],
             [
              0.7777777777777778,
              "#fb9f3a"
             ],
             [
              0.8888888888888888,
              "#fdca26"
             ],
             [
              1,
              "#f0f921"
             ]
            ],
            "type": "heatmapgl"
           }
          ],
          "histogram": [
           {
            "marker": {
             "pattern": {
              "fillmode": "overlay",
              "size": 10,
              "solidity": 0.2
             }
            },
            "type": "histogram"
           }
          ],
          "histogram2d": [
           {
            "colorbar": {
             "outlinewidth": 0,
             "ticks": ""
            },
            "colorscale": [
             [
              0,
              "#0d0887"
             ],
             [
              0.1111111111111111,
              "#46039f"
             ],
             [
              0.2222222222222222,
              "#7201a8"
             ],
             [
              0.3333333333333333,
              "#9c179e"
             ],
             [
              0.4444444444444444,
              "#bd3786"
             ],
             [
              0.5555555555555556,
              "#d8576b"
             ],
             [
              0.6666666666666666,
              "#ed7953"
             ],
             [
              0.7777777777777778,
              "#fb9f3a"
             ],
             [
              0.8888888888888888,
              "#fdca26"
             ],
             [
              1,
              "#f0f921"
             ]
            ],
            "type": "histogram2d"
           }
          ],
          "histogram2dcontour": [
           {
            "colorbar": {
             "outlinewidth": 0,
             "ticks": ""
            },
            "colorscale": [
             [
              0,
              "#0d0887"
             ],
             [
              0.1111111111111111,
              "#46039f"
             ],
             [
              0.2222222222222222,
              "#7201a8"
             ],
             [
              0.3333333333333333,
              "#9c179e"
             ],
             [
              0.4444444444444444,
              "#bd3786"
             ],
             [
              0.5555555555555556,
              "#d8576b"
             ],
             [
              0.6666666666666666,
              "#ed7953"
             ],
             [
              0.7777777777777778,
              "#fb9f3a"
             ],
             [
              0.8888888888888888,
              "#fdca26"
             ],
             [
              1,
              "#f0f921"
             ]
            ],
            "type": "histogram2dcontour"
           }
          ],
          "mesh3d": [
           {
            "colorbar": {
             "outlinewidth": 0,
             "ticks": ""
            },
            "type": "mesh3d"
           }
          ],
          "parcoords": [
           {
            "line": {
             "colorbar": {
              "outlinewidth": 0,
              "ticks": ""
             }
            },
            "type": "parcoords"
           }
          ],
          "pie": [
           {
            "automargin": true,
            "type": "pie"
           }
          ],
          "scatter": [
           {
            "fillpattern": {
             "fillmode": "overlay",
             "size": 10,
             "solidity": 0.2
            },
            "type": "scatter"
           }
          ],
          "scatter3d": [
           {
            "line": {
             "colorbar": {
              "outlinewidth": 0,
              "ticks": ""
             }
            },
            "marker": {
             "colorbar": {
              "outlinewidth": 0,
              "ticks": ""
             }
            },
            "type": "scatter3d"
           }
          ],
          "scattercarpet": [
           {
            "marker": {
             "colorbar": {
              "outlinewidth": 0,
              "ticks": ""
             }
            },
            "type": "scattercarpet"
           }
          ],
          "scattergeo": [
           {
            "marker": {
             "colorbar": {
              "outlinewidth": 0,
              "ticks": ""
             }
            },
            "type": "scattergeo"
           }
          ],
          "scattergl": [
           {
            "marker": {
             "colorbar": {
              "outlinewidth": 0,
              "ticks": ""
             }
            },
            "type": "scattergl"
           }
          ],
          "scattermapbox": [
           {
            "marker": {
             "colorbar": {
              "outlinewidth": 0,
              "ticks": ""
             }
            },
            "type": "scattermapbox"
           }
          ],
          "scatterpolar": [
           {
            "marker": {
             "colorbar": {
              "outlinewidth": 0,
              "ticks": ""
             }
            },
            "type": "scatterpolar"
           }
          ],
          "scatterpolargl": [
           {
            "marker": {
             "colorbar": {
              "outlinewidth": 0,
              "ticks": ""
             }
            },
            "type": "scatterpolargl"
           }
          ],
          "scatterternary": [
           {
            "marker": {
             "colorbar": {
              "outlinewidth": 0,
              "ticks": ""
             }
            },
            "type": "scatterternary"
           }
          ],
          "surface": [
           {
            "colorbar": {
             "outlinewidth": 0,
             "ticks": ""
            },
            "colorscale": [
             [
              0,
              "#0d0887"
             ],
             [
              0.1111111111111111,
              "#46039f"
             ],
             [
              0.2222222222222222,
              "#7201a8"
             ],
             [
              0.3333333333333333,
              "#9c179e"
             ],
             [
              0.4444444444444444,
              "#bd3786"
             ],
             [
              0.5555555555555556,
              "#d8576b"
             ],
             [
              0.6666666666666666,
              "#ed7953"
             ],
             [
              0.7777777777777778,
              "#fb9f3a"
             ],
             [
              0.8888888888888888,
              "#fdca26"
             ],
             [
              1,
              "#f0f921"
             ]
            ],
            "type": "surface"
           }
          ],
          "table": [
           {
            "cells": {
             "fill": {
              "color": "#EBF0F8"
             },
             "line": {
              "color": "white"
             }
            },
            "header": {
             "fill": {
              "color": "#C8D4E3"
             },
             "line": {
              "color": "white"
             }
            },
            "type": "table"
           }
          ]
         },
         "layout": {
          "annotationdefaults": {
           "arrowcolor": "#2a3f5f",
           "arrowhead": 0,
           "arrowwidth": 1
          },
          "autotypenumbers": "strict",
          "coloraxis": {
           "colorbar": {
            "outlinewidth": 0,
            "ticks": ""
           }
          },
          "colorscale": {
           "diverging": [
            [
             0,
             "#8e0152"
            ],
            [
             0.1,
             "#c51b7d"
            ],
            [
             0.2,
             "#de77ae"
            ],
            [
             0.3,
             "#f1b6da"
            ],
            [
             0.4,
             "#fde0ef"
            ],
            [
             0.5,
             "#f7f7f7"
            ],
            [
             0.6,
             "#e6f5d0"
            ],
            [
             0.7,
             "#b8e186"
            ],
            [
             0.8,
             "#7fbc41"
            ],
            [
             0.9,
             "#4d9221"
            ],
            [
             1,
             "#276419"
            ]
           ],
           "sequential": [
            [
             0,
             "#0d0887"
            ],
            [
             0.1111111111111111,
             "#46039f"
            ],
            [
             0.2222222222222222,
             "#7201a8"
            ],
            [
             0.3333333333333333,
             "#9c179e"
            ],
            [
             0.4444444444444444,
             "#bd3786"
            ],
            [
             0.5555555555555556,
             "#d8576b"
            ],
            [
             0.6666666666666666,
             "#ed7953"
            ],
            [
             0.7777777777777778,
             "#fb9f3a"
            ],
            [
             0.8888888888888888,
             "#fdca26"
            ],
            [
             1,
             "#f0f921"
            ]
           ],
           "sequentialminus": [
            [
             0,
             "#0d0887"
            ],
            [
             0.1111111111111111,
             "#46039f"
            ],
            [
             0.2222222222222222,
             "#7201a8"
            ],
            [
             0.3333333333333333,
             "#9c179e"
            ],
            [
             0.4444444444444444,
             "#bd3786"
            ],
            [
             0.5555555555555556,
             "#d8576b"
            ],
            [
             0.6666666666666666,
             "#ed7953"
            ],
            [
             0.7777777777777778,
             "#fb9f3a"
            ],
            [
             0.8888888888888888,
             "#fdca26"
            ],
            [
             1,
             "#f0f921"
            ]
           ]
          },
          "colorway": [
           "#636efa",
           "#EF553B",
           "#00cc96",
           "#ab63fa",
           "#FFA15A",
           "#19d3f3",
           "#FF6692",
           "#B6E880",
           "#FF97FF",
           "#FECB52"
          ],
          "font": {
           "color": "#2a3f5f"
          },
          "geo": {
           "bgcolor": "white",
           "lakecolor": "white",
           "landcolor": "#E5ECF6",
           "showlakes": true,
           "showland": true,
           "subunitcolor": "white"
          },
          "hoverlabel": {
           "align": "left"
          },
          "hovermode": "closest",
          "mapbox": {
           "style": "light"
          },
          "paper_bgcolor": "white",
          "plot_bgcolor": "#E5ECF6",
          "polar": {
           "angularaxis": {
            "gridcolor": "white",
            "linecolor": "white",
            "ticks": ""
           },
           "bgcolor": "#E5ECF6",
           "radialaxis": {
            "gridcolor": "white",
            "linecolor": "white",
            "ticks": ""
           }
          },
          "scene": {
           "xaxis": {
            "backgroundcolor": "#E5ECF6",
            "gridcolor": "white",
            "gridwidth": 2,
            "linecolor": "white",
            "showbackground": true,
            "ticks": "",
            "zerolinecolor": "white"
           },
           "yaxis": {
            "backgroundcolor": "#E5ECF6",
            "gridcolor": "white",
            "gridwidth": 2,
            "linecolor": "white",
            "showbackground": true,
            "ticks": "",
            "zerolinecolor": "white"
           },
           "zaxis": {
            "backgroundcolor": "#E5ECF6",
            "gridcolor": "white",
            "gridwidth": 2,
            "linecolor": "white",
            "showbackground": true,
            "ticks": "",
            "zerolinecolor": "white"
           }
          },
          "shapedefaults": {
           "line": {
            "color": "#2a3f5f"
           }
          },
          "ternary": {
           "aaxis": {
            "gridcolor": "white",
            "linecolor": "white",
            "ticks": ""
           },
           "baxis": {
            "gridcolor": "white",
            "linecolor": "white",
            "ticks": ""
           },
           "bgcolor": "#E5ECF6",
           "caxis": {
            "gridcolor": "white",
            "linecolor": "white",
            "ticks": ""
           }
          },
          "title": {
           "x": 0.05
          },
          "xaxis": {
           "automargin": true,
           "gridcolor": "white",
           "linecolor": "white",
           "ticks": "",
           "title": {
            "standoff": 15
           },
           "zerolinecolor": "white",
           "zerolinewidth": 2
          },
          "yaxis": {
           "automargin": true,
           "gridcolor": "white",
           "linecolor": "white",
           "ticks": "",
           "title": {
            "standoff": 15
           },
           "zerolinecolor": "white",
           "zerolinewidth": 2
          }
         }
        },
        "title": {
         "text": "Paises de los artistas con mas votos el año 2022"
        }
       }
      }
     },
     "metadata": {},
     "output_type": "display_data"
    }
   ],
   "source": [
    "fig = px.pie(song_data_2022_top.head(), values='final_total_points', names='country', title='Paises de los artistas con mas votos el año 2022')\n",
    "fig.show()"
   ]
  },
  {
   "cell_type": "markdown",
   "metadata": {},
   "source": [
    "## Bar Chart"
   ]
  },
  {
   "cell_type": "markdown",
   "metadata": {},
   "source": [
    "Dataset"
   ]
  },
  {
   "cell_type": "code",
   "execution_count": 362,
   "metadata": {},
   "outputs": [
    {
     "data": {
      "text/html": [
       "<div>\n",
       "<style scoped>\n",
       "    .dataframe tbody tr th:only-of-type {\n",
       "        vertical-align: middle;\n",
       "    }\n",
       "\n",
       "    .dataframe tbody tr th {\n",
       "        vertical-align: top;\n",
       "    }\n",
       "\n",
       "    .dataframe thead th {\n",
       "        text-align: right;\n",
       "    }\n",
       "</style>\n",
       "<table border=\"1\" class=\"dataframe\">\n",
       "  <thead>\n",
       "    <tr style=\"text-align: right;\">\n",
       "      <th></th>\n",
       "      <th>year</th>\n",
       "      <th>sum_final_televote_points</th>\n",
       "      <th>sum_final_jury_points</th>\n",
       "      <th>sum_final_total_points</th>\n",
       "    </tr>\n",
       "  </thead>\n",
       "  <tbody>\n",
       "    <tr>\n",
       "      <th>0</th>\n",
       "      <td>2009</td>\n",
       "      <td>2436.0</td>\n",
       "      <td>2436.0</td>\n",
       "      <td>4872.0</td>\n",
       "    </tr>\n",
       "    <tr>\n",
       "      <th>1</th>\n",
       "      <td>2010</td>\n",
       "      <td>2220.0</td>\n",
       "      <td>2179.0</td>\n",
       "      <td>4399.0</td>\n",
       "    </tr>\n",
       "    <tr>\n",
       "      <th>2</th>\n",
       "      <td>2011</td>\n",
       "      <td>2343.0</td>\n",
       "      <td>2404.0</td>\n",
       "      <td>4747.0</td>\n",
       "    </tr>\n",
       "    <tr>\n",
       "      <th>3</th>\n",
       "      <td>2012</td>\n",
       "      <td>2300.0</td>\n",
       "      <td>2296.0</td>\n",
       "      <td>4596.0</td>\n",
       "    </tr>\n",
       "    <tr>\n",
       "      <th>4</th>\n",
       "      <td>2013</td>\n",
       "      <td>0.0</td>\n",
       "      <td>0.0</td>\n",
       "      <td>0.0</td>\n",
       "    </tr>\n",
       "    <tr>\n",
       "      <th>5</th>\n",
       "      <td>2014</td>\n",
       "      <td>1888.0</td>\n",
       "      <td>1810.0</td>\n",
       "      <td>3698.0</td>\n",
       "    </tr>\n",
       "    <tr>\n",
       "      <th>6</th>\n",
       "      <td>2015</td>\n",
       "      <td>1980.0</td>\n",
       "      <td>2138.0</td>\n",
       "      <td>4118.0</td>\n",
       "    </tr>\n",
       "    <tr>\n",
       "      <th>7</th>\n",
       "      <td>2016</td>\n",
       "      <td>2436.0</td>\n",
       "      <td>2436.0</td>\n",
       "      <td>4872.0</td>\n",
       "    </tr>\n",
       "    <tr>\n",
       "      <th>8</th>\n",
       "      <td>2017</td>\n",
       "      <td>2436.0</td>\n",
       "      <td>2436.0</td>\n",
       "      <td>4872.0</td>\n",
       "    </tr>\n",
       "    <tr>\n",
       "      <th>9</th>\n",
       "      <td>2018</td>\n",
       "      <td>2494.0</td>\n",
       "      <td>2494.0</td>\n",
       "      <td>4988.0</td>\n",
       "    </tr>\n",
       "    <tr>\n",
       "      <th>10</th>\n",
       "      <td>2019</td>\n",
       "      <td>2378.0</td>\n",
       "      <td>2378.0</td>\n",
       "      <td>4756.0</td>\n",
       "    </tr>\n",
       "    <tr>\n",
       "      <th>11</th>\n",
       "      <td>2021</td>\n",
       "      <td>2262.0</td>\n",
       "      <td>2262.0</td>\n",
       "      <td>4108.0</td>\n",
       "    </tr>\n",
       "    <tr>\n",
       "      <th>12</th>\n",
       "      <td>2022</td>\n",
       "      <td>2320.0</td>\n",
       "      <td>2320.0</td>\n",
       "      <td>4640.0</td>\n",
       "    </tr>\n",
       "  </tbody>\n",
       "</table>\n",
       "</div>"
      ],
      "text/plain": [
       "    year  sum_final_televote_points  sum_final_jury_points  \\\n",
       "0   2009                     2436.0                 2436.0   \n",
       "1   2010                     2220.0                 2179.0   \n",
       "2   2011                     2343.0                 2404.0   \n",
       "3   2012                     2300.0                 2296.0   \n",
       "4   2013                        0.0                    0.0   \n",
       "5   2014                     1888.0                 1810.0   \n",
       "6   2015                     1980.0                 2138.0   \n",
       "7   2016                     2436.0                 2436.0   \n",
       "8   2017                     2436.0                 2436.0   \n",
       "9   2018                     2494.0                 2494.0   \n",
       "10  2019                     2378.0                 2378.0   \n",
       "11  2021                     2262.0                 2262.0   \n",
       "12  2022                     2320.0                 2320.0   \n",
       "\n",
       "    sum_final_total_points  \n",
       "0                   4872.0  \n",
       "1                   4399.0  \n",
       "2                   4747.0  \n",
       "3                   4596.0  \n",
       "4                      0.0  \n",
       "5                   3698.0  \n",
       "6                   4118.0  \n",
       "7                   4872.0  \n",
       "8                   4872.0  \n",
       "9                   4988.0  \n",
       "10                  4756.0  \n",
       "11                  4108.0  \n",
       "12                  4640.0  "
      ]
     },
     "execution_count": 362,
     "metadata": {},
     "output_type": "execute_result"
    }
   ],
   "source": [
    "song_data_agrupado_1 = song_data.groupby(['year']).agg(\n",
    "     sum_final_televote_points = ('final_televote_points','sum'),\n",
    "     sum_final_jury_points = ('final_jury_points','sum'),\n",
    "     sum_final_total_points = ('final_total_points','sum'),\n",
    "     ).reset_index()\n",
    "\n",
    "song_data_agrupado_1"
   ]
  },
  {
   "cell_type": "markdown",
   "metadata": {},
   "source": [
    "Plot"
   ]
  },
  {
   "cell_type": "code",
   "execution_count": 363,
   "metadata": {},
   "outputs": [
    {
     "data": {
      "application/vnd.plotly.v1+json": {
       "config": {
        "plotlyServerURL": "https://plot.ly"
       },
       "data": [
        {
         "alignmentgroup": "True",
         "hovertemplate": "variable=sum_final_televote_points<br>year=%{x}<br>value=%{y}<extra></extra>",
         "legendgroup": "sum_final_televote_points",
         "marker": {
          "color": "#636efa",
          "pattern": {
           "shape": ""
          }
         },
         "name": "sum_final_televote_points",
         "offsetgroup": "sum_final_televote_points",
         "orientation": "v",
         "showlegend": true,
         "textposition": "auto",
         "type": "bar",
         "x": [
          2009,
          2010,
          2011,
          2012,
          2013,
          2014,
          2015,
          2016,
          2017,
          2018,
          2019,
          2021,
          2022
         ],
         "xaxis": "x",
         "y": [
          2436,
          2220,
          2343,
          2300,
          0,
          1888,
          1980,
          2436,
          2436,
          2494,
          2378,
          2262,
          2320
         ],
         "yaxis": "y"
        },
        {
         "alignmentgroup": "True",
         "hovertemplate": "variable=sum_final_jury_points<br>year=%{x}<br>value=%{y}<extra></extra>",
         "legendgroup": "sum_final_jury_points",
         "marker": {
          "color": "#EF553B",
          "pattern": {
           "shape": ""
          }
         },
         "name": "sum_final_jury_points",
         "offsetgroup": "sum_final_jury_points",
         "orientation": "v",
         "showlegend": true,
         "textposition": "auto",
         "type": "bar",
         "x": [
          2009,
          2010,
          2011,
          2012,
          2013,
          2014,
          2015,
          2016,
          2017,
          2018,
          2019,
          2021,
          2022
         ],
         "xaxis": "x",
         "y": [
          2436,
          2179,
          2404,
          2296,
          0,
          1810,
          2138,
          2436,
          2436,
          2494,
          2378,
          2262,
          2320
         ],
         "yaxis": "y"
        }
       ],
       "layout": {
        "barmode": "relative",
        "legend": {
         "title": {
          "text": "variable"
         },
         "tracegroupgap": 0
        },
        "template": {
         "data": {
          "bar": [
           {
            "error_x": {
             "color": "#2a3f5f"
            },
            "error_y": {
             "color": "#2a3f5f"
            },
            "marker": {
             "line": {
              "color": "#E5ECF6",
              "width": 0.5
             },
             "pattern": {
              "fillmode": "overlay",
              "size": 10,
              "solidity": 0.2
             }
            },
            "type": "bar"
           }
          ],
          "barpolar": [
           {
            "marker": {
             "line": {
              "color": "#E5ECF6",
              "width": 0.5
             },
             "pattern": {
              "fillmode": "overlay",
              "size": 10,
              "solidity": 0.2
             }
            },
            "type": "barpolar"
           }
          ],
          "carpet": [
           {
            "aaxis": {
             "endlinecolor": "#2a3f5f",
             "gridcolor": "white",
             "linecolor": "white",
             "minorgridcolor": "white",
             "startlinecolor": "#2a3f5f"
            },
            "baxis": {
             "endlinecolor": "#2a3f5f",
             "gridcolor": "white",
             "linecolor": "white",
             "minorgridcolor": "white",
             "startlinecolor": "#2a3f5f"
            },
            "type": "carpet"
           }
          ],
          "choropleth": [
           {
            "colorbar": {
             "outlinewidth": 0,
             "ticks": ""
            },
            "type": "choropleth"
           }
          ],
          "contour": [
           {
            "colorbar": {
             "outlinewidth": 0,
             "ticks": ""
            },
            "colorscale": [
             [
              0,
              "#0d0887"
             ],
             [
              0.1111111111111111,
              "#46039f"
             ],
             [
              0.2222222222222222,
              "#7201a8"
             ],
             [
              0.3333333333333333,
              "#9c179e"
             ],
             [
              0.4444444444444444,
              "#bd3786"
             ],
             [
              0.5555555555555556,
              "#d8576b"
             ],
             [
              0.6666666666666666,
              "#ed7953"
             ],
             [
              0.7777777777777778,
              "#fb9f3a"
             ],
             [
              0.8888888888888888,
              "#fdca26"
             ],
             [
              1,
              "#f0f921"
             ]
            ],
            "type": "contour"
           }
          ],
          "contourcarpet": [
           {
            "colorbar": {
             "outlinewidth": 0,
             "ticks": ""
            },
            "type": "contourcarpet"
           }
          ],
          "heatmap": [
           {
            "colorbar": {
             "outlinewidth": 0,
             "ticks": ""
            },
            "colorscale": [
             [
              0,
              "#0d0887"
             ],
             [
              0.1111111111111111,
              "#46039f"
             ],
             [
              0.2222222222222222,
              "#7201a8"
             ],
             [
              0.3333333333333333,
              "#9c179e"
             ],
             [
              0.4444444444444444,
              "#bd3786"
             ],
             [
              0.5555555555555556,
              "#d8576b"
             ],
             [
              0.6666666666666666,
              "#ed7953"
             ],
             [
              0.7777777777777778,
              "#fb9f3a"
             ],
             [
              0.8888888888888888,
              "#fdca26"
             ],
             [
              1,
              "#f0f921"
             ]
            ],
            "type": "heatmap"
           }
          ],
          "heatmapgl": [
           {
            "colorbar": {
             "outlinewidth": 0,
             "ticks": ""
            },
            "colorscale": [
             [
              0,
              "#0d0887"
             ],
             [
              0.1111111111111111,
              "#46039f"
             ],
             [
              0.2222222222222222,
              "#7201a8"
             ],
             [
              0.3333333333333333,
              "#9c179e"
             ],
             [
              0.4444444444444444,
              "#bd3786"
             ],
             [
              0.5555555555555556,
              "#d8576b"
             ],
             [
              0.6666666666666666,
              "#ed7953"
             ],
             [
              0.7777777777777778,
              "#fb9f3a"
             ],
             [
              0.8888888888888888,
              "#fdca26"
             ],
             [
              1,
              "#f0f921"
             ]
            ],
            "type": "heatmapgl"
           }
          ],
          "histogram": [
           {
            "marker": {
             "pattern": {
              "fillmode": "overlay",
              "size": 10,
              "solidity": 0.2
             }
            },
            "type": "histogram"
           }
          ],
          "histogram2d": [
           {
            "colorbar": {
             "outlinewidth": 0,
             "ticks": ""
            },
            "colorscale": [
             [
              0,
              "#0d0887"
             ],
             [
              0.1111111111111111,
              "#46039f"
             ],
             [
              0.2222222222222222,
              "#7201a8"
             ],
             [
              0.3333333333333333,
              "#9c179e"
             ],
             [
              0.4444444444444444,
              "#bd3786"
             ],
             [
              0.5555555555555556,
              "#d8576b"
             ],
             [
              0.6666666666666666,
              "#ed7953"
             ],
             [
              0.7777777777777778,
              "#fb9f3a"
             ],
             [
              0.8888888888888888,
              "#fdca26"
             ],
             [
              1,
              "#f0f921"
             ]
            ],
            "type": "histogram2d"
           }
          ],
          "histogram2dcontour": [
           {
            "colorbar": {
             "outlinewidth": 0,
             "ticks": ""
            },
            "colorscale": [
             [
              0,
              "#0d0887"
             ],
             [
              0.1111111111111111,
              "#46039f"
             ],
             [
              0.2222222222222222,
              "#7201a8"
             ],
             [
              0.3333333333333333,
              "#9c179e"
             ],
             [
              0.4444444444444444,
              "#bd3786"
             ],
             [
              0.5555555555555556,
              "#d8576b"
             ],
             [
              0.6666666666666666,
              "#ed7953"
             ],
             [
              0.7777777777777778,
              "#fb9f3a"
             ],
             [
              0.8888888888888888,
              "#fdca26"
             ],
             [
              1,
              "#f0f921"
             ]
            ],
            "type": "histogram2dcontour"
           }
          ],
          "mesh3d": [
           {
            "colorbar": {
             "outlinewidth": 0,
             "ticks": ""
            },
            "type": "mesh3d"
           }
          ],
          "parcoords": [
           {
            "line": {
             "colorbar": {
              "outlinewidth": 0,
              "ticks": ""
             }
            },
            "type": "parcoords"
           }
          ],
          "pie": [
           {
            "automargin": true,
            "type": "pie"
           }
          ],
          "scatter": [
           {
            "fillpattern": {
             "fillmode": "overlay",
             "size": 10,
             "solidity": 0.2
            },
            "type": "scatter"
           }
          ],
          "scatter3d": [
           {
            "line": {
             "colorbar": {
              "outlinewidth": 0,
              "ticks": ""
             }
            },
            "marker": {
             "colorbar": {
              "outlinewidth": 0,
              "ticks": ""
             }
            },
            "type": "scatter3d"
           }
          ],
          "scattercarpet": [
           {
            "marker": {
             "colorbar": {
              "outlinewidth": 0,
              "ticks": ""
             }
            },
            "type": "scattercarpet"
           }
          ],
          "scattergeo": [
           {
            "marker": {
             "colorbar": {
              "outlinewidth": 0,
              "ticks": ""
             }
            },
            "type": "scattergeo"
           }
          ],
          "scattergl": [
           {
            "marker": {
             "colorbar": {
              "outlinewidth": 0,
              "ticks": ""
             }
            },
            "type": "scattergl"
           }
          ],
          "scattermapbox": [
           {
            "marker": {
             "colorbar": {
              "outlinewidth": 0,
              "ticks": ""
             }
            },
            "type": "scattermapbox"
           }
          ],
          "scatterpolar": [
           {
            "marker": {
             "colorbar": {
              "outlinewidth": 0,
              "ticks": ""
             }
            },
            "type": "scatterpolar"
           }
          ],
          "scatterpolargl": [
           {
            "marker": {
             "colorbar": {
              "outlinewidth": 0,
              "ticks": ""
             }
            },
            "type": "scatterpolargl"
           }
          ],
          "scatterternary": [
           {
            "marker": {
             "colorbar": {
              "outlinewidth": 0,
              "ticks": ""
             }
            },
            "type": "scatterternary"
           }
          ],
          "surface": [
           {
            "colorbar": {
             "outlinewidth": 0,
             "ticks": ""
            },
            "colorscale": [
             [
              0,
              "#0d0887"
             ],
             [
              0.1111111111111111,
              "#46039f"
             ],
             [
              0.2222222222222222,
              "#7201a8"
             ],
             [
              0.3333333333333333,
              "#9c179e"
             ],
             [
              0.4444444444444444,
              "#bd3786"
             ],
             [
              0.5555555555555556,
              "#d8576b"
             ],
             [
              0.6666666666666666,
              "#ed7953"
             ],
             [
              0.7777777777777778,
              "#fb9f3a"
             ],
             [
              0.8888888888888888,
              "#fdca26"
             ],
             [
              1,
              "#f0f921"
             ]
            ],
            "type": "surface"
           }
          ],
          "table": [
           {
            "cells": {
             "fill": {
              "color": "#EBF0F8"
             },
             "line": {
              "color": "white"
             }
            },
            "header": {
             "fill": {
              "color": "#C8D4E3"
             },
             "line": {
              "color": "white"
             }
            },
            "type": "table"
           }
          ]
         },
         "layout": {
          "annotationdefaults": {
           "arrowcolor": "#2a3f5f",
           "arrowhead": 0,
           "arrowwidth": 1
          },
          "autotypenumbers": "strict",
          "coloraxis": {
           "colorbar": {
            "outlinewidth": 0,
            "ticks": ""
           }
          },
          "colorscale": {
           "diverging": [
            [
             0,
             "#8e0152"
            ],
            [
             0.1,
             "#c51b7d"
            ],
            [
             0.2,
             "#de77ae"
            ],
            [
             0.3,
             "#f1b6da"
            ],
            [
             0.4,
             "#fde0ef"
            ],
            [
             0.5,
             "#f7f7f7"
            ],
            [
             0.6,
             "#e6f5d0"
            ],
            [
             0.7,
             "#b8e186"
            ],
            [
             0.8,
             "#7fbc41"
            ],
            [
             0.9,
             "#4d9221"
            ],
            [
             1,
             "#276419"
            ]
           ],
           "sequential": [
            [
             0,
             "#0d0887"
            ],
            [
             0.1111111111111111,
             "#46039f"
            ],
            [
             0.2222222222222222,
             "#7201a8"
            ],
            [
             0.3333333333333333,
             "#9c179e"
            ],
            [
             0.4444444444444444,
             "#bd3786"
            ],
            [
             0.5555555555555556,
             "#d8576b"
            ],
            [
             0.6666666666666666,
             "#ed7953"
            ],
            [
             0.7777777777777778,
             "#fb9f3a"
            ],
            [
             0.8888888888888888,
             "#fdca26"
            ],
            [
             1,
             "#f0f921"
            ]
           ],
           "sequentialminus": [
            [
             0,
             "#0d0887"
            ],
            [
             0.1111111111111111,
             "#46039f"
            ],
            [
             0.2222222222222222,
             "#7201a8"
            ],
            [
             0.3333333333333333,
             "#9c179e"
            ],
            [
             0.4444444444444444,
             "#bd3786"
            ],
            [
             0.5555555555555556,
             "#d8576b"
            ],
            [
             0.6666666666666666,
             "#ed7953"
            ],
            [
             0.7777777777777778,
             "#fb9f3a"
            ],
            [
             0.8888888888888888,
             "#fdca26"
            ],
            [
             1,
             "#f0f921"
            ]
           ]
          },
          "colorway": [
           "#636efa",
           "#EF553B",
           "#00cc96",
           "#ab63fa",
           "#FFA15A",
           "#19d3f3",
           "#FF6692",
           "#B6E880",
           "#FF97FF",
           "#FECB52"
          ],
          "font": {
           "color": "#2a3f5f"
          },
          "geo": {
           "bgcolor": "white",
           "lakecolor": "white",
           "landcolor": "#E5ECF6",
           "showlakes": true,
           "showland": true,
           "subunitcolor": "white"
          },
          "hoverlabel": {
           "align": "left"
          },
          "hovermode": "closest",
          "mapbox": {
           "style": "light"
          },
          "paper_bgcolor": "white",
          "plot_bgcolor": "#E5ECF6",
          "polar": {
           "angularaxis": {
            "gridcolor": "white",
            "linecolor": "white",
            "ticks": ""
           },
           "bgcolor": "#E5ECF6",
           "radialaxis": {
            "gridcolor": "white",
            "linecolor": "white",
            "ticks": ""
           }
          },
          "scene": {
           "xaxis": {
            "backgroundcolor": "#E5ECF6",
            "gridcolor": "white",
            "gridwidth": 2,
            "linecolor": "white",
            "showbackground": true,
            "ticks": "",
            "zerolinecolor": "white"
           },
           "yaxis": {
            "backgroundcolor": "#E5ECF6",
            "gridcolor": "white",
            "gridwidth": 2,
            "linecolor": "white",
            "showbackground": true,
            "ticks": "",
            "zerolinecolor": "white"
           },
           "zaxis": {
            "backgroundcolor": "#E5ECF6",
            "gridcolor": "white",
            "gridwidth": 2,
            "linecolor": "white",
            "showbackground": true,
            "ticks": "",
            "zerolinecolor": "white"
           }
          },
          "shapedefaults": {
           "line": {
            "color": "#2a3f5f"
           }
          },
          "ternary": {
           "aaxis": {
            "gridcolor": "white",
            "linecolor": "white",
            "ticks": ""
           },
           "baxis": {
            "gridcolor": "white",
            "linecolor": "white",
            "ticks": ""
           },
           "bgcolor": "#E5ECF6",
           "caxis": {
            "gridcolor": "white",
            "linecolor": "white",
            "ticks": ""
           }
          },
          "title": {
           "x": 0.05
          },
          "xaxis": {
           "automargin": true,
           "gridcolor": "white",
           "linecolor": "white",
           "ticks": "",
           "title": {
            "standoff": 15
           },
           "zerolinecolor": "white",
           "zerolinewidth": 2
          },
          "yaxis": {
           "automargin": true,
           "gridcolor": "white",
           "linecolor": "white",
           "ticks": "",
           "title": {
            "standoff": 15
           },
           "zerolinecolor": "white",
           "zerolinewidth": 2
          }
         }
        },
        "title": {
         "text": "Puntos por año"
        },
        "xaxis": {
         "anchor": "y",
         "domain": [
          0,
          1
         ],
         "title": {
          "text": "year"
         }
        },
        "yaxis": {
         "anchor": "x",
         "domain": [
          0,
          1
         ],
         "title": {
          "text": "value"
         }
        }
       }
      }
     },
     "metadata": {},
     "output_type": "display_data"
    }
   ],
   "source": [
    "fig = px.bar(song_data_agrupado_1, x=\"year\", y=[\"sum_final_televote_points\", \"sum_final_jury_points\"], title=\"Puntos por año\")\n",
    "fig.show()"
   ]
  },
  {
   "cell_type": "code",
   "execution_count": 364,
   "metadata": {},
   "outputs": [
    {
     "name": "stdout",
     "output_type": "stream",
     "text": [
      "concurso.datos_resultados_finales.datos_encuestas.eurojury_results_2016 ok\n",
      "concurso.datos_resultados_finales.datos_encuestas.eurojury_results_2017 ok\n",
      "concurso.datos_resultados_finales.datos_encuestas.eurojury_results_2018 ok\n",
      "concurso.datos_resultados_finales.datos_encuestas.eurojury_results_2019 ok\n",
      "concurso.datos_resultados_finales.datos_encuestas.eurojury_results_2021 ok\n",
      "concurso.datos_resultados_finales.datos_encuestas.eurojury_results_2022 ok\n",
      "concurso.datos_resultados_finales.datos_encuestas.eurovisionworld_results_2016 ok\n",
      "concurso.datos_resultados_finales.datos_encuestas.eurovisionworld_results_2017 ok\n",
      "concurso.datos_resultados_finales.datos_encuestas.eurovisionworld_results_2018 ok\n",
      "concurso.datos_resultados_finales.datos_encuestas.eurovisionworld_results_2019 ok\n",
      "concurso.datos_resultados_finales.datos_encuestas.eurovisionworld_results_2021 ok\n",
      "concurso.datos_resultados_finales.datos_encuestas.eurovisionworld_results_2022 ok\n",
      "concurso.datos_resultados_finales.datos_encuestas.myeurovisionscoreboard_results_2016 ok\n",
      "concurso.datos_resultados_finales.datos_encuestas.myeurovisionscoreboard_results_2017 ok\n",
      "concurso.datos_resultados_finales.datos_encuestas.myeurovisionscoreboard_results_2018 ok\n",
      "concurso.datos_resultados_finales.datos_encuestas.myeurovisionscoreboard_results_2019 ok\n",
      "concurso.datos_resultados_finales.datos_encuestas.myeurovisionscoreboard_results_2021 ok\n",
      "concurso.datos_resultados_finales.datos_encuestas.myeurovisionscoreboard_results_2022 ok\n",
      "concurso.datos_resultados_finales.datos_encuestas.ogae.ogae_results_2016 ok\n",
      "concurso.datos_resultados_finales.datos_encuestas.ogae.ogae_results_2017 ok\n",
      "concurso.datos_resultados_finales.datos_encuestas.ogae.ogae_results_2018 ok\n",
      "concurso.datos_resultados_finales.datos_encuestas.ogae.ogae_results_2019 ok\n",
      "concurso.datos_resultados_finales.datos_encuestas.ogae.ogae_results_2021 ok\n",
      "concurso.datos_resultados_finales.datos_encuestas.ogae.ogae_results_2022 ok\n",
      "concurso.datos_resultados_finales.datos_encuestas.wiwibloggs.wiwibloggs_results_2018 ok\n",
      "concurso.datos_resultados_finales.datos_encuestas.wiwibloggs.wiwibloggs_results_2019 ok\n",
      "concurso.datos_resultados_finales.datos_encuestas.wiwibloggs.wiwibloggs_results_2021 ok\n",
      "concurso.datos_resultados_finales.datos_encuestas.wiwibloggs.wiwibloggs_results_2022 ok\n"
     ]
    }
   ],
   "source": [
    "\n",
    "#variables encuestas\n",
    "#euro july\n",
    "checkearVariablePanda(concurso.datos_encuestas.euro_july.eurojury_results_2016,'concurso.datos_resultados_finales.datos_encuestas.eurojury_results_2016')\n",
    "checkearVariablePanda(concurso.datos_encuestas.euro_july.eurojury_results_2017,'concurso.datos_resultados_finales.datos_encuestas.eurojury_results_2017')\n",
    "checkearVariablePanda(concurso.datos_encuestas.euro_july.eurojury_results_2018,'concurso.datos_resultados_finales.datos_encuestas.eurojury_results_2018')\n",
    "checkearVariablePanda(concurso.datos_encuestas.euro_july.eurojury_results_2019,'concurso.datos_resultados_finales.datos_encuestas.eurojury_results_2019')\n",
    "checkearVariablePanda(concurso.datos_encuestas.euro_july.eurojury_results_2021,'concurso.datos_resultados_finales.datos_encuestas.eurojury_results_2021')\n",
    "checkearVariablePanda(concurso.datos_encuestas.euro_july.eurojury_results_2022,'concurso.datos_resultados_finales.datos_encuestas.eurojury_results_2022')\n",
    "\n",
    "#eurovisionworld\n",
    "checkearVariablePanda(concurso.datos_encuestas.eurovision_world.eurovisionworld_results_2016,'concurso.datos_resultados_finales.datos_encuestas.eurovisionworld_results_2016')\n",
    "checkearVariablePanda(concurso.datos_encuestas.eurovision_world.eurovisionworld_results_2017,'concurso.datos_resultados_finales.datos_encuestas.eurovisionworld_results_2017')\n",
    "checkearVariablePanda(concurso.datos_encuestas.eurovision_world.eurovisionworld_results_2018,'concurso.datos_resultados_finales.datos_encuestas.eurovisionworld_results_2018')\n",
    "checkearVariablePanda(concurso.datos_encuestas.eurovision_world.eurovisionworld_results_2019,'concurso.datos_resultados_finales.datos_encuestas.eurovisionworld_results_2019')\n",
    "checkearVariablePanda(concurso.datos_encuestas.eurovision_world.eurovisionworld_results_2021,'concurso.datos_resultados_finales.datos_encuestas.eurovisionworld_results_2021')\n",
    "checkearVariablePanda(concurso.datos_encuestas.eurovision_world.eurovisionworld_results_2022,'concurso.datos_resultados_finales.datos_encuestas.eurovisionworld_results_2022')\n",
    "\n",
    "#my eurovision score\n",
    "checkearVariablePanda(concurso.datos_encuestas.my_eurovision_score.myeurovisionscoreboard_results_2016,'concurso.datos_resultados_finales.datos_encuestas.myeurovisionscoreboard_results_2016')\n",
    "checkearVariablePanda(concurso.datos_encuestas.my_eurovision_score.myeurovisionscoreboard_results_2017,'concurso.datos_resultados_finales.datos_encuestas.myeurovisionscoreboard_results_2017')\n",
    "checkearVariablePanda(concurso.datos_encuestas.my_eurovision_score.myeurovisionscoreboard_results_2018,'concurso.datos_resultados_finales.datos_encuestas.myeurovisionscoreboard_results_2018')\n",
    "checkearVariablePanda(concurso.datos_encuestas.my_eurovision_score.myeurovisionscoreboard_results_2019,'concurso.datos_resultados_finales.datos_encuestas.myeurovisionscoreboard_results_2019')\n",
    "checkearVariablePanda(concurso.datos_encuestas.my_eurovision_score.myeurovisionscoreboard_results_2021,'concurso.datos_resultados_finales.datos_encuestas.myeurovisionscoreboard_results_2021')\n",
    "checkearVariablePanda(concurso.datos_encuestas.my_eurovision_score.myeurovisionscoreboard_results_2022,'concurso.datos_resultados_finales.datos_encuestas.myeurovisionscoreboard_results_2022')\n",
    "\n",
    "#ogae\n",
    "checkearVariablePanda(concurso.datos_encuestas.ogae.ogae_results_2016,'concurso.datos_resultados_finales.datos_encuestas.ogae.ogae_results_2016')\n",
    "checkearVariablePanda(concurso.datos_encuestas.ogae.ogae_results_2017,'concurso.datos_resultados_finales.datos_encuestas.ogae.ogae_results_2017')\n",
    "checkearVariablePanda(concurso.datos_encuestas.ogae.ogae_results_2018,'concurso.datos_resultados_finales.datos_encuestas.ogae.ogae_results_2018')\n",
    "checkearVariablePanda(concurso.datos_encuestas.ogae.ogae_results_2019,'concurso.datos_resultados_finales.datos_encuestas.ogae.ogae_results_2019')\n",
    "checkearVariablePanda(concurso.datos_encuestas.ogae.ogae_results_2021,'concurso.datos_resultados_finales.datos_encuestas.ogae.ogae_results_2021')\n",
    "checkearVariablePanda(concurso.datos_encuestas.ogae.ogae_results_2022,'concurso.datos_resultados_finales.datos_encuestas.ogae.ogae_results_2022')\n",
    "\n",
    "#wiwibloggs\n",
    "checkearVariablePanda(concurso.datos_encuestas.wiwibloggs.wiwibloggs_results_2018,'concurso.datos_resultados_finales.datos_encuestas.wiwibloggs.wiwibloggs_results_2018')\n",
    "checkearVariablePanda(concurso.datos_encuestas.wiwibloggs.wiwibloggs_results_2019,'concurso.datos_resultados_finales.datos_encuestas.wiwibloggs.wiwibloggs_results_2019')\n",
    "checkearVariablePanda(concurso.datos_encuestas.wiwibloggs.wiwibloggs_results_2021,'concurso.datos_resultados_finales.datos_encuestas.wiwibloggs.wiwibloggs_results_2021')\n",
    "checkearVariablePanda(concurso.datos_encuestas.wiwibloggs.wiwibloggs_results_2022,'concurso.datos_resultados_finales.datos_encuestas.wiwibloggs.wiwibloggs_results_2022')"
   ]
  },
  {
   "cell_type": "code",
   "execution_count": 365,
   "metadata": {},
   "outputs": [],
   "source": [
    "### Series de tiempo\n",
    "\n",
    "concurso_2016 = concurso.datos_encuestas.euro_july.eurojury_results_2016\n",
    "concurso_2017 = concurso.datos_encuestas.euro_july.eurojury_results_2017\n",
    "concurso_2018 = concurso.datos_encuestas.euro_july.eurojury_results_2018\n",
    "concurso_2019 = concurso.datos_encuestas.euro_july.eurojury_results_2019\n",
    "concurso_2021 = concurso.datos_encuestas.euro_july.eurojury_results_2021\n",
    "concurso_2022 = concurso.datos_encuestas.euro_july.eurojury_results_2022\n",
    "\n",
    "años = [2016, 2017, 2018, 2019, 2021, 2022]\n",
    "euro_july = pd.DataFrame()\n",
    "for an in años:\n",
    "    data1 =  locals()['concurso_'+str(an)]\n",
    "    data1['año'] = an\n",
    "    euro_july = pd.concat([data1, euro_july])"
   ]
  },
  {
   "cell_type": "code",
   "execution_count": 366,
   "metadata": {},
   "outputs": [],
   "source": [
    "\n",
    "concurso_2016 = concurso.datos_encuestas.eurovision_world.eurovisionworld_results_2016\n",
    "concurso_2017 = concurso.datos_encuestas.eurovision_world.eurovisionworld_results_2017\n",
    "concurso_2018 = concurso.datos_encuestas.eurovision_world.eurovisionworld_results_2018\n",
    "concurso_2019 = concurso.datos_encuestas.eurovision_world.eurovisionworld_results_2019\n",
    "concurso_2021 = concurso.datos_encuestas.eurovision_world.eurovisionworld_results_2021\n",
    "concurso_2022 = concurso.datos_encuestas.eurovision_world.eurovisionworld_results_2022\n",
    "\n",
    "años = [2016, 2017, 2018, 2019, 2021, 2022]\n",
    "eurovisionworld = pd.DataFrame()\n",
    "for an in años:\n",
    "    data1 =  locals()['concurso_'+str(an)]\n",
    "    data1['año'] = an\n",
    "    eurovisionworld = pd.concat([data1, eurovisionworld])"
   ]
  },
  {
   "cell_type": "code",
   "execution_count": 367,
   "metadata": {},
   "outputs": [],
   "source": [
    "concurso_2016 = concurso.datos_encuestas.my_eurovision_score.myeurovisionscoreboard_results_2016\n",
    "concurso_2017 = concurso.datos_encuestas.my_eurovision_score.myeurovisionscoreboard_results_2017\n",
    "concurso_2018 = concurso.datos_encuestas.my_eurovision_score.myeurovisionscoreboard_results_2018\n",
    "concurso_2019 = concurso.datos_encuestas.my_eurovision_score.myeurovisionscoreboard_results_2019\n",
    "concurso_2021 = concurso.datos_encuestas.my_eurovision_score.myeurovisionscoreboard_results_2021\n",
    "concurso_2022 = concurso.datos_encuestas.my_eurovision_score.myeurovisionscoreboard_results_2022\n",
    "\n",
    "años = [2016, 2017, 2018, 2019, 2021, 2022]\n",
    "myeurovisionscoreboard = pd.DataFrame()\n",
    "for an in años:\n",
    "    data1 =  locals()['concurso_'+str(an)]\n",
    "    data1['año'] = an\n",
    "    myeurovisionscoreboard = pd.concat([data1, myeurovisionscoreboard])"
   ]
  },
  {
   "cell_type": "code",
   "execution_count": 368,
   "metadata": {},
   "outputs": [],
   "source": [
    "concurso_2016 = concurso.datos_encuestas.ogae.ogae_results_2016\n",
    "concurso_2017 = concurso.datos_encuestas.ogae.ogae_results_2017\n",
    "concurso_2018 = concurso.datos_encuestas.ogae.ogae_results_2018\n",
    "concurso_2019 = concurso.datos_encuestas.ogae.ogae_results_2019\n",
    "concurso_2021 = concurso.datos_encuestas.ogae.ogae_results_2021\n",
    "concurso_2022 = concurso.datos_encuestas.ogae.ogae_results_2022\n",
    "años = [2016, 2017, 2018, 2019, 2021, 2022]\n",
    "ogae = pd.DataFrame()\n",
    "for an in años:\n",
    "    data1 =  locals()['concurso_'+str(an)]\n",
    "    data1['año'] = an\n",
    "    ogae = pd.concat([data1, ogae])"
   ]
  },
  {
   "cell_type": "code",
   "execution_count": 369,
   "metadata": {},
   "outputs": [],
   "source": [
    "concurso_2018 = concurso.datos_encuestas.wiwibloggs.wiwibloggs_results_2018\n",
    "concurso_2019 = concurso.datos_encuestas.wiwibloggs.wiwibloggs_results_2019\n",
    "concurso_2021 = concurso.datos_encuestas.wiwibloggs.wiwibloggs_results_2021\n",
    "concurso_2022 = concurso.datos_encuestas.wiwibloggs.wiwibloggs_results_2022\n",
    "años = [2018, 2019, 2021, 2022]\n",
    "wiwibloggs = pd.DataFrame()\n",
    "for an in años:\n",
    "    data1 =  locals()['concurso_'+str(an)]\n",
    "    data1['año'] = an\n",
    "    wiwibloggs = pd.concat([data1, wiwibloggs])"
   ]
  },
  {
   "cell_type": "code",
   "execution_count": 370,
   "metadata": {},
   "outputs": [],
   "source": [
    "country = concurso.country_data"
   ]
  },
  {
   "cell_type": "code",
   "execution_count": 371,
   "metadata": {},
   "outputs": [],
   "source": [
    "data = pd.merge(eurovisionworld.rename(columns= {'Contestant':'country'}),country, how = 'left', on = ['country'])"
   ]
  },
  {
   "cell_type": "markdown",
   "metadata": {},
   "source": [
    "###"
   ]
  },
  {
   "attachments": {},
   "cell_type": "markdown",
   "metadata": {},
   "source": [
    "## Series de tiempo"
   ]
  },
  {
   "cell_type": "code",
   "execution_count": 372,
   "metadata": {},
   "outputs": [
    {
     "name": "stderr",
     "output_type": "stream",
     "text": [
      "C:\\Users\\paofr\\AppData\\Local\\Temp\\ipykernel_23508\\4140174491.py:3: FutureWarning:\n",
      "\n",
      "The default value of numeric_only in DataFrameGroupBy.sum is deprecated. In a future version, numeric_only will default to False. Either specify numeric_only or select only columns which should be valid for the function.\n",
      "\n"
     ]
    },
    {
     "data": {
      "application/vnd.plotly.v1+json": {
       "config": {
        "plotlyServerURL": "https://plot.ly"
       },
       "data": [
        {
         "name": "Ukraine",
         "type": "scatter",
         "x": [
          2016,
          2017,
          2018,
          2019,
          2021,
          2022
         ],
         "y": [
          13057,
          1675,
          3438,
          null,
          15448,
          24631
         ]
        },
        {
         "name": "Sweden",
         "type": "scatter",
         "x": [
          2016,
          2017,
          2018,
          2019,
          2021,
          2022
         ],
         "y": [
          3073,
          4793,
          2744,
          15440,
          9865,
          23073
         ]
        },
        {
         "name": "France",
         "type": "scatter",
         "x": [
          2016,
          2017,
          2018,
          2019,
          2021,
          2022
         ],
         "y": [
          7137,
          2651,
          5306,
          10171,
          32651,
          6140
         ]
        },
        {
         "name": "Netherlands",
         "type": "scatter",
         "x": [
          2016,
          2017,
          2018,
          2019,
          2021,
          2022
         ],
         "y": [
          5043,
          7237,
          4145,
          51174,
          5557,
          12345
         ]
        },
        {
         "name": "Italy",
         "type": "scatter",
         "x": [
          2016,
          2017,
          2018,
          2019,
          2021,
          2022
         ],
         "y": [
          1165,
          13651,
          2679,
          14005,
          36383,
          21213
         ]
        }
       ],
       "layout": {
        "template": {
         "data": {
          "bar": [
           {
            "error_x": {
             "color": "#2a3f5f"
            },
            "error_y": {
             "color": "#2a3f5f"
            },
            "marker": {
             "line": {
              "color": "white",
              "width": 0.5
             },
             "pattern": {
              "fillmode": "overlay",
              "size": 10,
              "solidity": 0.2
             }
            },
            "type": "bar"
           }
          ],
          "barpolar": [
           {
            "marker": {
             "line": {
              "color": "white",
              "width": 0.5
             },
             "pattern": {
              "fillmode": "overlay",
              "size": 10,
              "solidity": 0.2
             }
            },
            "type": "barpolar"
           }
          ],
          "carpet": [
           {
            "aaxis": {
             "endlinecolor": "#2a3f5f",
             "gridcolor": "#C8D4E3",
             "linecolor": "#C8D4E3",
             "minorgridcolor": "#C8D4E3",
             "startlinecolor": "#2a3f5f"
            },
            "baxis": {
             "endlinecolor": "#2a3f5f",
             "gridcolor": "#C8D4E3",
             "linecolor": "#C8D4E3",
             "minorgridcolor": "#C8D4E3",
             "startlinecolor": "#2a3f5f"
            },
            "type": "carpet"
           }
          ],
          "choropleth": [
           {
            "colorbar": {
             "outlinewidth": 0,
             "ticks": ""
            },
            "type": "choropleth"
           }
          ],
          "contour": [
           {
            "colorbar": {
             "outlinewidth": 0,
             "ticks": ""
            },
            "colorscale": [
             [
              0,
              "#0d0887"
             ],
             [
              0.1111111111111111,
              "#46039f"
             ],
             [
              0.2222222222222222,
              "#7201a8"
             ],
             [
              0.3333333333333333,
              "#9c179e"
             ],
             [
              0.4444444444444444,
              "#bd3786"
             ],
             [
              0.5555555555555556,
              "#d8576b"
             ],
             [
              0.6666666666666666,
              "#ed7953"
             ],
             [
              0.7777777777777778,
              "#fb9f3a"
             ],
             [
              0.8888888888888888,
              "#fdca26"
             ],
             [
              1,
              "#f0f921"
             ]
            ],
            "type": "contour"
           }
          ],
          "contourcarpet": [
           {
            "colorbar": {
             "outlinewidth": 0,
             "ticks": ""
            },
            "type": "contourcarpet"
           }
          ],
          "heatmap": [
           {
            "colorbar": {
             "outlinewidth": 0,
             "ticks": ""
            },
            "colorscale": [
             [
              0,
              "#0d0887"
             ],
             [
              0.1111111111111111,
              "#46039f"
             ],
             [
              0.2222222222222222,
              "#7201a8"
             ],
             [
              0.3333333333333333,
              "#9c179e"
             ],
             [
              0.4444444444444444,
              "#bd3786"
             ],
             [
              0.5555555555555556,
              "#d8576b"
             ],
             [
              0.6666666666666666,
              "#ed7953"
             ],
             [
              0.7777777777777778,
              "#fb9f3a"
             ],
             [
              0.8888888888888888,
              "#fdca26"
             ],
             [
              1,
              "#f0f921"
             ]
            ],
            "type": "heatmap"
           }
          ],
          "heatmapgl": [
           {
            "colorbar": {
             "outlinewidth": 0,
             "ticks": ""
            },
            "colorscale": [
             [
              0,
              "#0d0887"
             ],
             [
              0.1111111111111111,
              "#46039f"
             ],
             [
              0.2222222222222222,
              "#7201a8"
             ],
             [
              0.3333333333333333,
              "#9c179e"
             ],
             [
              0.4444444444444444,
              "#bd3786"
             ],
             [
              0.5555555555555556,
              "#d8576b"
             ],
             [
              0.6666666666666666,
              "#ed7953"
             ],
             [
              0.7777777777777778,
              "#fb9f3a"
             ],
             [
              0.8888888888888888,
              "#fdca26"
             ],
             [
              1,
              "#f0f921"
             ]
            ],
            "type": "heatmapgl"
           }
          ],
          "histogram": [
           {
            "marker": {
             "pattern": {
              "fillmode": "overlay",
              "size": 10,
              "solidity": 0.2
             }
            },
            "type": "histogram"
           }
          ],
          "histogram2d": [
           {
            "colorbar": {
             "outlinewidth": 0,
             "ticks": ""
            },
            "colorscale": [
             [
              0,
              "#0d0887"
             ],
             [
              0.1111111111111111,
              "#46039f"
             ],
             [
              0.2222222222222222,
              "#7201a8"
             ],
             [
              0.3333333333333333,
              "#9c179e"
             ],
             [
              0.4444444444444444,
              "#bd3786"
             ],
             [
              0.5555555555555556,
              "#d8576b"
             ],
             [
              0.6666666666666666,
              "#ed7953"
             ],
             [
              0.7777777777777778,
              "#fb9f3a"
             ],
             [
              0.8888888888888888,
              "#fdca26"
             ],
             [
              1,
              "#f0f921"
             ]
            ],
            "type": "histogram2d"
           }
          ],
          "histogram2dcontour": [
           {
            "colorbar": {
             "outlinewidth": 0,
             "ticks": ""
            },
            "colorscale": [
             [
              0,
              "#0d0887"
             ],
             [
              0.1111111111111111,
              "#46039f"
             ],
             [
              0.2222222222222222,
              "#7201a8"
             ],
             [
              0.3333333333333333,
              "#9c179e"
             ],
             [
              0.4444444444444444,
              "#bd3786"
             ],
             [
              0.5555555555555556,
              "#d8576b"
             ],
             [
              0.6666666666666666,
              "#ed7953"
             ],
             [
              0.7777777777777778,
              "#fb9f3a"
             ],
             [
              0.8888888888888888,
              "#fdca26"
             ],
             [
              1,
              "#f0f921"
             ]
            ],
            "type": "histogram2dcontour"
           }
          ],
          "mesh3d": [
           {
            "colorbar": {
             "outlinewidth": 0,
             "ticks": ""
            },
            "type": "mesh3d"
           }
          ],
          "parcoords": [
           {
            "line": {
             "colorbar": {
              "outlinewidth": 0,
              "ticks": ""
             }
            },
            "type": "parcoords"
           }
          ],
          "pie": [
           {
            "automargin": true,
            "type": "pie"
           }
          ],
          "scatter": [
           {
            "fillpattern": {
             "fillmode": "overlay",
             "size": 10,
             "solidity": 0.2
            },
            "type": "scatter"
           }
          ],
          "scatter3d": [
           {
            "line": {
             "colorbar": {
              "outlinewidth": 0,
              "ticks": ""
             }
            },
            "marker": {
             "colorbar": {
              "outlinewidth": 0,
              "ticks": ""
             }
            },
            "type": "scatter3d"
           }
          ],
          "scattercarpet": [
           {
            "marker": {
             "colorbar": {
              "outlinewidth": 0,
              "ticks": ""
             }
            },
            "type": "scattercarpet"
           }
          ],
          "scattergeo": [
           {
            "marker": {
             "colorbar": {
              "outlinewidth": 0,
              "ticks": ""
             }
            },
            "type": "scattergeo"
           }
          ],
          "scattergl": [
           {
            "marker": {
             "colorbar": {
              "outlinewidth": 0,
              "ticks": ""
             }
            },
            "type": "scattergl"
           }
          ],
          "scattermapbox": [
           {
            "marker": {
             "colorbar": {
              "outlinewidth": 0,
              "ticks": ""
             }
            },
            "type": "scattermapbox"
           }
          ],
          "scatterpolar": [
           {
            "marker": {
             "colorbar": {
              "outlinewidth": 0,
              "ticks": ""
             }
            },
            "type": "scatterpolar"
           }
          ],
          "scatterpolargl": [
           {
            "marker": {
             "colorbar": {
              "outlinewidth": 0,
              "ticks": ""
             }
            },
            "type": "scatterpolargl"
           }
          ],
          "scatterternary": [
           {
            "marker": {
             "colorbar": {
              "outlinewidth": 0,
              "ticks": ""
             }
            },
            "type": "scatterternary"
           }
          ],
          "surface": [
           {
            "colorbar": {
             "outlinewidth": 0,
             "ticks": ""
            },
            "colorscale": [
             [
              0,
              "#0d0887"
             ],
             [
              0.1111111111111111,
              "#46039f"
             ],
             [
              0.2222222222222222,
              "#7201a8"
             ],
             [
              0.3333333333333333,
              "#9c179e"
             ],
             [
              0.4444444444444444,
              "#bd3786"
             ],
             [
              0.5555555555555556,
              "#d8576b"
             ],
             [
              0.6666666666666666,
              "#ed7953"
             ],
             [
              0.7777777777777778,
              "#fb9f3a"
             ],
             [
              0.8888888888888888,
              "#fdca26"
             ],
             [
              1,
              "#f0f921"
             ]
            ],
            "type": "surface"
           }
          ],
          "table": [
           {
            "cells": {
             "fill": {
              "color": "#EBF0F8"
             },
             "line": {
              "color": "white"
             }
            },
            "header": {
             "fill": {
              "color": "#C8D4E3"
             },
             "line": {
              "color": "white"
             }
            },
            "type": "table"
           }
          ]
         },
         "layout": {
          "annotationdefaults": {
           "arrowcolor": "#2a3f5f",
           "arrowhead": 0,
           "arrowwidth": 1
          },
          "autotypenumbers": "strict",
          "coloraxis": {
           "colorbar": {
            "outlinewidth": 0,
            "ticks": ""
           }
          },
          "colorscale": {
           "diverging": [
            [
             0,
             "#8e0152"
            ],
            [
             0.1,
             "#c51b7d"
            ],
            [
             0.2,
             "#de77ae"
            ],
            [
             0.3,
             "#f1b6da"
            ],
            [
             0.4,
             "#fde0ef"
            ],
            [
             0.5,
             "#f7f7f7"
            ],
            [
             0.6,
             "#e6f5d0"
            ],
            [
             0.7,
             "#b8e186"
            ],
            [
             0.8,
             "#7fbc41"
            ],
            [
             0.9,
             "#4d9221"
            ],
            [
             1,
             "#276419"
            ]
           ],
           "sequential": [
            [
             0,
             "#0d0887"
            ],
            [
             0.1111111111111111,
             "#46039f"
            ],
            [
             0.2222222222222222,
             "#7201a8"
            ],
            [
             0.3333333333333333,
             "#9c179e"
            ],
            [
             0.4444444444444444,
             "#bd3786"
            ],
            [
             0.5555555555555556,
             "#d8576b"
            ],
            [
             0.6666666666666666,
             "#ed7953"
            ],
            [
             0.7777777777777778,
             "#fb9f3a"
            ],
            [
             0.8888888888888888,
             "#fdca26"
            ],
            [
             1,
             "#f0f921"
            ]
           ],
           "sequentialminus": [
            [
             0,
             "#0d0887"
            ],
            [
             0.1111111111111111,
             "#46039f"
            ],
            [
             0.2222222222222222,
             "#7201a8"
            ],
            [
             0.3333333333333333,
             "#9c179e"
            ],
            [
             0.4444444444444444,
             "#bd3786"
            ],
            [
             0.5555555555555556,
             "#d8576b"
            ],
            [
             0.6666666666666666,
             "#ed7953"
            ],
            [
             0.7777777777777778,
             "#fb9f3a"
            ],
            [
             0.8888888888888888,
             "#fdca26"
            ],
            [
             1,
             "#f0f921"
            ]
           ]
          },
          "colorway": [
           "#636efa",
           "#EF553B",
           "#00cc96",
           "#ab63fa",
           "#FFA15A",
           "#19d3f3",
           "#FF6692",
           "#B6E880",
           "#FF97FF",
           "#FECB52"
          ],
          "font": {
           "color": "#2a3f5f"
          },
          "geo": {
           "bgcolor": "white",
           "lakecolor": "white",
           "landcolor": "white",
           "showlakes": true,
           "showland": true,
           "subunitcolor": "#C8D4E3"
          },
          "hoverlabel": {
           "align": "left"
          },
          "hovermode": "closest",
          "mapbox": {
           "style": "light"
          },
          "paper_bgcolor": "white",
          "plot_bgcolor": "white",
          "polar": {
           "angularaxis": {
            "gridcolor": "#EBF0F8",
            "linecolor": "#EBF0F8",
            "ticks": ""
           },
           "bgcolor": "white",
           "radialaxis": {
            "gridcolor": "#EBF0F8",
            "linecolor": "#EBF0F8",
            "ticks": ""
           }
          },
          "scene": {
           "xaxis": {
            "backgroundcolor": "white",
            "gridcolor": "#DFE8F3",
            "gridwidth": 2,
            "linecolor": "#EBF0F8",
            "showbackground": true,
            "ticks": "",
            "zerolinecolor": "#EBF0F8"
           },
           "yaxis": {
            "backgroundcolor": "white",
            "gridcolor": "#DFE8F3",
            "gridwidth": 2,
            "linecolor": "#EBF0F8",
            "showbackground": true,
            "ticks": "",
            "zerolinecolor": "#EBF0F8"
           },
           "zaxis": {
            "backgroundcolor": "white",
            "gridcolor": "#DFE8F3",
            "gridwidth": 2,
            "linecolor": "#EBF0F8",
            "showbackground": true,
            "ticks": "",
            "zerolinecolor": "#EBF0F8"
           }
          },
          "shapedefaults": {
           "line": {
            "color": "#2a3f5f"
           }
          },
          "ternary": {
           "aaxis": {
            "gridcolor": "#DFE8F3",
            "linecolor": "#A2B1C6",
            "ticks": ""
           },
           "baxis": {
            "gridcolor": "#DFE8F3",
            "linecolor": "#A2B1C6",
            "ticks": ""
           },
           "bgcolor": "white",
           "caxis": {
            "gridcolor": "#DFE8F3",
            "linecolor": "#A2B1C6",
            "ticks": ""
           }
          },
          "title": {
           "x": 0.05
          },
          "xaxis": {
           "automargin": true,
           "gridcolor": "#EBF0F8",
           "linecolor": "#EBF0F8",
           "ticks": "",
           "title": {
            "standoff": 15
           },
           "zerolinecolor": "#EBF0F8",
           "zerolinewidth": 2
          },
          "yaxis": {
           "automargin": true,
           "gridcolor": "#EBF0F8",
           "linecolor": "#EBF0F8",
           "ticks": "",
           "title": {
            "standoff": 15
           },
           "zerolinecolor": "#EBF0F8",
           "zerolinewidth": 2
          }
         }
        },
        "title": {
         "text": "Series de tiempo evolutiva del TOP 5 de Paises con mayor cantidad de votos"
        },
        "xaxis": {
         "title": {
          "text": "Año"
         }
        },
        "yaxis": {
         "title": {
          "text": "Cantidad de Votos"
         }
        }
       }
      }
     },
     "metadata": {},
     "output_type": "display_data"
    }
   ],
   "source": [
    "import plotly.graph_objs as go\n",
    "\n",
    "paises_top_5 = data.groupby(['country']).sum().sort_values(by='Votes')[-5:].index\n",
    "df = pd.pivot_table(data.drop(['region'], axis=1), index='año', columns='country', values='Votes')\n",
    "df_top5 = df[list(paises_top_5)]\n",
    "\n",
    "fig = go.Figure()\n",
    "for col in df_top5.columns:\n",
    "    fig.add_trace(go.Scatter(x=df_top5.index, y=df_top5[col], name=col))\n",
    "\n",
    "fig.update_layout(\n",
    "    title='Series de tiempo evolutiva del TOP 5 de Paises con mayor cantidad de votos',\n",
    "    xaxis_title='Año',\n",
    "    yaxis_title='Cantidad de Votos',\n",
    "    template='plotly_white'\n",
    ")\n",
    "\n",
    "fig.show()\n"
   ]
  },
  {
   "cell_type": "code",
   "execution_count": 373,
   "metadata": {},
   "outputs": [
    {
     "name": "stdout",
     "output_type": "stream",
     "text": [
      "Requirement already satisfied: wordcloud in c:\\users\\paofr\\anaconda3\\envs\\environment\\lib\\site-packages (1.8.2.2)\n",
      "Requirement already satisfied: matplotlib in c:\\users\\paofr\\anaconda3\\envs\\environment\\lib\\site-packages (from wordcloud) (3.7.1)\n",
      "Requirement already satisfied: pillow in c:\\users\\paofr\\anaconda3\\envs\\environment\\lib\\site-packages (from wordcloud) (9.5.0)\n",
      "Requirement already satisfied: numpy>=1.6.1 in c:\\users\\paofr\\anaconda3\\envs\\environment\\lib\\site-packages (from wordcloud) (1.22.3)\n",
      "Requirement already satisfied: packaging>=20.0 in c:\\users\\paofr\\anaconda3\\envs\\environment\\lib\\site-packages (from matplotlib->wordcloud) (23.0)\n",
      "Requirement already satisfied: contourpy>=1.0.1 in c:\\users\\paofr\\anaconda3\\envs\\environment\\lib\\site-packages (from matplotlib->wordcloud) (1.0.7)\n",
      "Requirement already satisfied: kiwisolver>=1.0.1 in c:\\users\\paofr\\anaconda3\\envs\\environment\\lib\\site-packages (from matplotlib->wordcloud) (1.4.4)\n",
      "Requirement already satisfied: cycler>=0.10 in c:\\users\\paofr\\anaconda3\\envs\\environment\\lib\\site-packages (from matplotlib->wordcloud) (0.11.0)\n",
      "Requirement already satisfied: pyparsing>=2.3.1 in c:\\users\\paofr\\anaconda3\\envs\\environment\\lib\\site-packages (from matplotlib->wordcloud) (3.0.9)\n",
      "Requirement already satisfied: fonttools>=4.22.0 in c:\\users\\paofr\\anaconda3\\envs\\environment\\lib\\site-packages (from matplotlib->wordcloud) (4.39.3)\n",
      "Requirement already satisfied: python-dateutil>=2.7 in c:\\users\\paofr\\anaconda3\\envs\\environment\\lib\\site-packages (from matplotlib->wordcloud) (2.8.2)\n",
      "Requirement already satisfied: six>=1.5 in c:\\users\\paofr\\anaconda3\\envs\\environment\\lib\\site-packages (from python-dateutil>=2.7->matplotlib->wordcloud) (1.16.0)\n"
     ]
    }
   ],
   "source": [
    "! pip install wordcloud"
   ]
  },
  {
   "cell_type": "code",
   "execution_count": 374,
   "metadata": {},
   "outputs": [],
   "source": [
    "## Nubes de palabras"
   ]
  },
  {
   "cell_type": "code",
   "execution_count": 375,
   "metadata": {},
   "outputs": [
    {
     "name": "stdout",
     "output_type": "stream",
     "text": [
      "Wordcloud and Plotly are installed and imported!\n"
     ]
    },
    {
     "data": {
      "application/vnd.plotly.v1+json": {
       "config": {
        "plotlyServerURL": "https://plot.ly"
       },
       "data": [
        {
         "hovertemplate": "x: %{x}<br>y: %{y}<br>color: [%{z[0]}, %{z[1]}, %{z[2]}]<extra></extra>",
         "name": "0",
         "source": "data:image/png;base64,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",
         "type": "image",
         "xaxis": "x",
         "yaxis": "y"
        }
       ],
       "layout": {
        "margin": {
         "t": 60
        },
        "template": {
         "data": {
          "bar": [
           {
            "error_x": {
             "color": "#2a3f5f"
            },
            "error_y": {
             "color": "#2a3f5f"
            },
            "marker": {
             "line": {
              "color": "white",
              "width": 0.5
             },
             "pattern": {
              "fillmode": "overlay",
              "size": 10,
              "solidity": 0.2
             }
            },
            "type": "bar"
           }
          ],
          "barpolar": [
           {
            "marker": {
             "line": {
              "color": "white",
              "width": 0.5
             },
             "pattern": {
              "fillmode": "overlay",
              "size": 10,
              "solidity": 0.2
             }
            },
            "type": "barpolar"
           }
          ],
          "carpet": [
           {
            "aaxis": {
             "endlinecolor": "#2a3f5f",
             "gridcolor": "#C8D4E3",
             "linecolor": "#C8D4E3",
             "minorgridcolor": "#C8D4E3",
             "startlinecolor": "#2a3f5f"
            },
            "baxis": {
             "endlinecolor": "#2a3f5f",
             "gridcolor": "#C8D4E3",
             "linecolor": "#C8D4E3",
             "minorgridcolor": "#C8D4E3",
             "startlinecolor": "#2a3f5f"
            },
            "type": "carpet"
           }
          ],
          "choropleth": [
           {
            "colorbar": {
             "outlinewidth": 0,
             "ticks": ""
            },
            "type": "choropleth"
           }
          ],
          "contour": [
           {
            "colorbar": {
             "outlinewidth": 0,
             "ticks": ""
            },
            "colorscale": [
             [
              0,
              "#0d0887"
             ],
             [
              0.1111111111111111,
              "#46039f"
             ],
             [
              0.2222222222222222,
              "#7201a8"
             ],
             [
              0.3333333333333333,
              "#9c179e"
             ],
             [
              0.4444444444444444,
              "#bd3786"
             ],
             [
              0.5555555555555556,
              "#d8576b"
             ],
             [
              0.6666666666666666,
              "#ed7953"
             ],
             [
              0.7777777777777778,
              "#fb9f3a"
             ],
             [
              0.8888888888888888,
              "#fdca26"
             ],
             [
              1,
              "#f0f921"
             ]
            ],
            "type": "contour"
           }
          ],
          "contourcarpet": [
           {
            "colorbar": {
             "outlinewidth": 0,
             "ticks": ""
            },
            "type": "contourcarpet"
           }
          ],
          "heatmap": [
           {
            "colorbar": {
             "outlinewidth": 0,
             "ticks": ""
            },
            "colorscale": [
             [
              0,
              "#0d0887"
             ],
             [
              0.1111111111111111,
              "#46039f"
             ],
             [
              0.2222222222222222,
              "#7201a8"
             ],
             [
              0.3333333333333333,
              "#9c179e"
             ],
             [
              0.4444444444444444,
              "#bd3786"
             ],
             [
              0.5555555555555556,
              "#d8576b"
             ],
             [
              0.6666666666666666,
              "#ed7953"
             ],
             [
              0.7777777777777778,
              "#fb9f3a"
             ],
             [
              0.8888888888888888,
              "#fdca26"
             ],
             [
              1,
              "#f0f921"
             ]
            ],
            "type": "heatmap"
           }
          ],
          "heatmapgl": [
           {
            "colorbar": {
             "outlinewidth": 0,
             "ticks": ""
            },
            "colorscale": [
             [
              0,
              "#0d0887"
             ],
             [
              0.1111111111111111,
              "#46039f"
             ],
             [
              0.2222222222222222,
              "#7201a8"
             ],
             [
              0.3333333333333333,
              "#9c179e"
             ],
             [
              0.4444444444444444,
              "#bd3786"
             ],
             [
              0.5555555555555556,
              "#d8576b"
             ],
             [
              0.6666666666666666,
              "#ed7953"
             ],
             [
              0.7777777777777778,
              "#fb9f3a"
             ],
             [
              0.8888888888888888,
              "#fdca26"
             ],
             [
              1,
              "#f0f921"
             ]
            ],
            "type": "heatmapgl"
           }
          ],
          "histogram": [
           {
            "marker": {
             "pattern": {
              "fillmode": "overlay",
              "size": 10,
              "solidity": 0.2
             }
            },
            "type": "histogram"
           }
          ],
          "histogram2d": [
           {
            "colorbar": {
             "outlinewidth": 0,
             "ticks": ""
            },
            "colorscale": [
             [
              0,
              "#0d0887"
             ],
             [
              0.1111111111111111,
              "#46039f"
             ],
             [
              0.2222222222222222,
              "#7201a8"
             ],
             [
              0.3333333333333333,
              "#9c179e"
             ],
             [
              0.4444444444444444,
              "#bd3786"
             ],
             [
              0.5555555555555556,
              "#d8576b"
             ],
             [
              0.6666666666666666,
              "#ed7953"
             ],
             [
              0.7777777777777778,
              "#fb9f3a"
             ],
             [
              0.8888888888888888,
              "#fdca26"
             ],
             [
              1,
              "#f0f921"
             ]
            ],
            "type": "histogram2d"
           }
          ],
          "histogram2dcontour": [
           {
            "colorbar": {
             "outlinewidth": 0,
             "ticks": ""
            },
            "colorscale": [
             [
              0,
              "#0d0887"
             ],
             [
              0.1111111111111111,
              "#46039f"
             ],
             [
              0.2222222222222222,
              "#7201a8"
             ],
             [
              0.3333333333333333,
              "#9c179e"
             ],
             [
              0.4444444444444444,
              "#bd3786"
             ],
             [
              0.5555555555555556,
              "#d8576b"
             ],
             [
              0.6666666666666666,
              "#ed7953"
             ],
             [
              0.7777777777777778,
              "#fb9f3a"
             ],
             [
              0.8888888888888888,
              "#fdca26"
             ],
             [
              1,
              "#f0f921"
             ]
            ],
            "type": "histogram2dcontour"
           }
          ],
          "mesh3d": [
           {
            "colorbar": {
             "outlinewidth": 0,
             "ticks": ""
            },
            "type": "mesh3d"
           }
          ],
          "parcoords": [
           {
            "line": {
             "colorbar": {
              "outlinewidth": 0,
              "ticks": ""
             }
            },
            "type": "parcoords"
           }
          ],
          "pie": [
           {
            "automargin": true,
            "type": "pie"
           }
          ],
          "scatter": [
           {
            "fillpattern": {
             "fillmode": "overlay",
             "size": 10,
             "solidity": 0.2
            },
            "type": "scatter"
           }
          ],
          "scatter3d": [
           {
            "line": {
             "colorbar": {
              "outlinewidth": 0,
              "ticks": ""
             }
            },
            "marker": {
             "colorbar": {
              "outlinewidth": 0,
              "ticks": ""
             }
            },
            "type": "scatter3d"
           }
          ],
          "scattercarpet": [
           {
            "marker": {
             "colorbar": {
              "outlinewidth": 0,
              "ticks": ""
             }
            },
            "type": "scattercarpet"
           }
          ],
          "scattergeo": [
           {
            "marker": {
             "colorbar": {
              "outlinewidth": 0,
              "ticks": ""
             }
            },
            "type": "scattergeo"
           }
          ],
          "scattergl": [
           {
            "marker": {
             "colorbar": {
              "outlinewidth": 0,
              "ticks": ""
             }
            },
            "type": "scattergl"
           }
          ],
          "scattermapbox": [
           {
            "marker": {
             "colorbar": {
              "outlinewidth": 0,
              "ticks": ""
             }
            },
            "type": "scattermapbox"
           }
          ],
          "scatterpolar": [
           {
            "marker": {
             "colorbar": {
              "outlinewidth": 0,
              "ticks": ""
             }
            },
            "type": "scatterpolar"
           }
          ],
          "scatterpolargl": [
           {
            "marker": {
             "colorbar": {
              "outlinewidth": 0,
              "ticks": ""
             }
            },
            "type": "scatterpolargl"
           }
          ],
          "scatterternary": [
           {
            "marker": {
             "colorbar": {
              "outlinewidth": 0,
              "ticks": ""
             }
            },
            "type": "scatterternary"
           }
          ],
          "surface": [
           {
            "colorbar": {
             "outlinewidth": 0,
             "ticks": ""
            },
            "colorscale": [
             [
              0,
              "#0d0887"
             ],
             [
              0.1111111111111111,
              "#46039f"
             ],
             [
              0.2222222222222222,
              "#7201a8"
             ],
             [
              0.3333333333333333,
              "#9c179e"
             ],
             [
              0.4444444444444444,
              "#bd3786"
             ],
             [
              0.5555555555555556,
              "#d8576b"
             ],
             [
              0.6666666666666666,
              "#ed7953"
             ],
             [
              0.7777777777777778,
              "#fb9f3a"
             ],
             [
              0.8888888888888888,
              "#fdca26"
             ],
             [
              1,
              "#f0f921"
             ]
            ],
            "type": "surface"
           }
          ],
          "table": [
           {
            "cells": {
             "fill": {
              "color": "#EBF0F8"
             },
             "line": {
              "color": "white"
             }
            },
            "header": {
             "fill": {
              "color": "#C8D4E3"
             },
             "line": {
              "color": "white"
             }
            },
            "type": "table"
           }
          ]
         },
         "layout": {
          "annotationdefaults": {
           "arrowcolor": "#2a3f5f",
           "arrowhead": 0,
           "arrowwidth": 1
          },
          "autotypenumbers": "strict",
          "coloraxis": {
           "colorbar": {
            "outlinewidth": 0,
            "ticks": ""
           }
          },
          "colorscale": {
           "diverging": [
            [
             0,
             "#8e0152"
            ],
            [
             0.1,
             "#c51b7d"
            ],
            [
             0.2,
             "#de77ae"
            ],
            [
             0.3,
             "#f1b6da"
            ],
            [
             0.4,
             "#fde0ef"
            ],
            [
             0.5,
             "#f7f7f7"
            ],
            [
             0.6,
             "#e6f5d0"
            ],
            [
             0.7,
             "#b8e186"
            ],
            [
             0.8,
             "#7fbc41"
            ],
            [
             0.9,
             "#4d9221"
            ],
            [
             1,
             "#276419"
            ]
           ],
           "sequential": [
            [
             0,
             "#0d0887"
            ],
            [
             0.1111111111111111,
             "#46039f"
            ],
            [
             0.2222222222222222,
             "#7201a8"
            ],
            [
             0.3333333333333333,
             "#9c179e"
            ],
            [
             0.4444444444444444,
             "#bd3786"
            ],
            [
             0.5555555555555556,
             "#d8576b"
            ],
            [
             0.6666666666666666,
             "#ed7953"
            ],
            [
             0.7777777777777778,
             "#fb9f3a"
            ],
            [
             0.8888888888888888,
             "#fdca26"
            ],
            [
             1,
             "#f0f921"
            ]
           ],
           "sequentialminus": [
            [
             0,
             "#0d0887"
            ],
            [
             0.1111111111111111,
             "#46039f"
            ],
            [
             0.2222222222222222,
             "#7201a8"
            ],
            [
             0.3333333333333333,
             "#9c179e"
            ],
            [
             0.4444444444444444,
             "#bd3786"
            ],
            [
             0.5555555555555556,
             "#d8576b"
            ],
            [
             0.6666666666666666,
             "#ed7953"
            ],
            [
             0.7777777777777778,
             "#fb9f3a"
            ],
            [
             0.8888888888888888,
             "#fdca26"
            ],
            [
             1,
             "#f0f921"
            ]
           ]
          },
          "colorway": [
           "#636efa",
           "#EF553B",
           "#00cc96",
           "#ab63fa",
           "#FFA15A",
           "#19d3f3",
           "#FF6692",
           "#B6E880",
           "#FF97FF",
           "#FECB52"
          ],
          "font": {
           "color": "#2a3f5f"
          },
          "geo": {
           "bgcolor": "white",
           "lakecolor": "white",
           "landcolor": "white",
           "showlakes": true,
           "showland": true,
           "subunitcolor": "#C8D4E3"
          },
          "hoverlabel": {
           "align": "left"
          },
          "hovermode": "closest",
          "mapbox": {
           "style": "light"
          },
          "paper_bgcolor": "white",
          "plot_bgcolor": "white",
          "polar": {
           "angularaxis": {
            "gridcolor": "#EBF0F8",
            "linecolor": "#EBF0F8",
            "ticks": ""
           },
           "bgcolor": "white",
           "radialaxis": {
            "gridcolor": "#EBF0F8",
            "linecolor": "#EBF0F8",
            "ticks": ""
           }
          },
          "scene": {
           "xaxis": {
            "backgroundcolor": "white",
            "gridcolor": "#DFE8F3",
            "gridwidth": 2,
            "linecolor": "#EBF0F8",
            "showbackground": true,
            "ticks": "",
            "zerolinecolor": "#EBF0F8"
           },
           "yaxis": {
            "backgroundcolor": "white",
            "gridcolor": "#DFE8F3",
            "gridwidth": 2,
            "linecolor": "#EBF0F8",
            "showbackground": true,
            "ticks": "",
            "zerolinecolor": "#EBF0F8"
           },
           "zaxis": {
            "backgroundcolor": "white",
            "gridcolor": "#DFE8F3",
            "gridwidth": 2,
            "linecolor": "#EBF0F8",
            "showbackground": true,
            "ticks": "",
            "zerolinecolor": "#EBF0F8"
           }
          },
          "shapedefaults": {
           "line": {
            "color": "#2a3f5f"
           }
          },
          "ternary": {
           "aaxis": {
            "gridcolor": "#DFE8F3",
            "linecolor": "#A2B1C6",
            "ticks": ""
           },
           "baxis": {
            "gridcolor": "#DFE8F3",
            "linecolor": "#A2B1C6",
            "ticks": ""
           },
           "bgcolor": "white",
           "caxis": {
            "gridcolor": "#DFE8F3",
            "linecolor": "#A2B1C6",
            "ticks": ""
           }
          },
          "title": {
           "x": 0.05
          },
          "xaxis": {
           "automargin": true,
           "gridcolor": "#EBF0F8",
           "linecolor": "#EBF0F8",
           "ticks": "",
           "title": {
            "standoff": 15
           },
           "zerolinecolor": "#EBF0F8",
           "zerolinewidth": 2
          },
          "yaxis": {
           "automargin": true,
           "gridcolor": "#EBF0F8",
           "linecolor": "#EBF0F8",
           "ticks": "",
           "title": {
            "standoff": 15
           },
           "zerolinecolor": "#EBF0F8",
           "zerolinewidth": 2
          }
         }
        },
        "title": {
         "text": "Word cloud de los Países"
        },
        "xaxis": {
         "anchor": "y",
         "domain": [
          0,
          1
         ],
         "showgrid": false,
         "showticklabels": false,
         "zeroline": false
        },
        "yaxis": {
         "anchor": "x",
         "domain": [
          0,
          1
         ],
         "showgrid": false,
         "showticklabels": false,
         "zeroline": false
        }
       }
      }
     },
     "metadata": {},
     "output_type": "display_data"
    }
   ],
   "source": [
    "from wordcloud import WordCloud, STOPWORDS\n",
    "import plotly.express as px\n",
    "from wordcloud import WordCloud, STOPWORDS\n",
    "\n",
    "print('Wordcloud and Plotly are installed and imported!')\n",
    "\n",
    "# Set stopwords\n",
    "stopwords = set(STOPWORDS)\n",
    "\n",
    "# Concatenate all country names into a single string\n",
    "country_text = ' '.join(song_data['country'].astype(str).tolist())\n",
    "\n",
    "# Generate the word cloud\n",
    "nube = WordCloud(\n",
    "    background_color='white',\n",
    "    max_words=2000,\n",
    "    stopwords=stopwords\n",
    ").generate(country_text)\n",
    "\n",
    "# Convert the word cloud to a Plotly figure\n",
    "fig = px.imshow(nube, color_continuous_scale='Blues')\n",
    "\n",
    "# Update the layout of the figure\n",
    "fig.update_layout(\n",
    "    title='Word cloud de los Países',\n",
    "    xaxis=dict(showticklabels=False, showgrid=False, zeroline=False),\n",
    "    yaxis=dict(showticklabels=False, showgrid=False, zeroline=False),\n",
    "    template='plotly_white'\n",
    ")\n",
    "\n",
    "# Show the plot\n",
    "fig.show()\n"
   ]
  },
  {
   "cell_type": "code",
   "execution_count": 376,
   "metadata": {},
   "outputs": [
    {
     "name": "stdout",
     "output_type": "stream",
     "text": [
      "Wordcloud and Plotly are installed and imported!\n"
     ]
    },
    {
     "data": {
      "application/vnd.plotly.v1+json": {
       "config": {
        "plotlyServerURL": "https://plot.ly"
       },
       "data": [
        {
         "hovertemplate": "x: %{x}<br>y: %{y}<br>color: [%{z[0]}, %{z[1]}, %{z[2]}]<extra></extra>",
         "name": "0",
         "source": "data:image/png;base64,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",
         "type": "image",
         "xaxis": "x",
         "yaxis": "y"
        }
       ],
       "layout": {
        "margin": {
         "t": 60
        },
        "template": {
         "data": {
          "bar": [
           {
            "error_x": {
             "color": "#2a3f5f"
            },
            "error_y": {
             "color": "#2a3f5f"
            },
            "marker": {
             "line": {
              "color": "white",
              "width": 0.5
             },
             "pattern": {
              "fillmode": "overlay",
              "size": 10,
              "solidity": 0.2
             }
            },
            "type": "bar"
           }
          ],
          "barpolar": [
           {
            "marker": {
             "line": {
              "color": "white",
              "width": 0.5
             },
             "pattern": {
              "fillmode": "overlay",
              "size": 10,
              "solidity": 0.2
             }
            },
            "type": "barpolar"
           }
          ],
          "carpet": [
           {
            "aaxis": {
             "endlinecolor": "#2a3f5f",
             "gridcolor": "#C8D4E3",
             "linecolor": "#C8D4E3",
             "minorgridcolor": "#C8D4E3",
             "startlinecolor": "#2a3f5f"
            },
            "baxis": {
             "endlinecolor": "#2a3f5f",
             "gridcolor": "#C8D4E3",
             "linecolor": "#C8D4E3",
             "minorgridcolor": "#C8D4E3",
             "startlinecolor": "#2a3f5f"
            },
            "type": "carpet"
           }
          ],
          "choropleth": [
           {
            "colorbar": {
             "outlinewidth": 0,
             "ticks": ""
            },
            "type": "choropleth"
           }
          ],
          "contour": [
           {
            "colorbar": {
             "outlinewidth": 0,
             "ticks": ""
            },
            "colorscale": [
             [
              0,
              "#0d0887"
             ],
             [
              0.1111111111111111,
              "#46039f"
             ],
             [
              0.2222222222222222,
              "#7201a8"
             ],
             [
              0.3333333333333333,
              "#9c179e"
             ],
             [
              0.4444444444444444,
              "#bd3786"
             ],
             [
              0.5555555555555556,
              "#d8576b"
             ],
             [
              0.6666666666666666,
              "#ed7953"
             ],
             [
              0.7777777777777778,
              "#fb9f3a"
             ],
             [
              0.8888888888888888,
              "#fdca26"
             ],
             [
              1,
              "#f0f921"
             ]
            ],
            "type": "contour"
           }
          ],
          "contourcarpet": [
           {
            "colorbar": {
             "outlinewidth": 0,
             "ticks": ""
            },
            "type": "contourcarpet"
           }
          ],
          "heatmap": [
           {
            "colorbar": {
             "outlinewidth": 0,
             "ticks": ""
            },
            "colorscale": [
             [
              0,
              "#0d0887"
             ],
             [
              0.1111111111111111,
              "#46039f"
             ],
             [
              0.2222222222222222,
              "#7201a8"
             ],
             [
              0.3333333333333333,
              "#9c179e"
             ],
             [
              0.4444444444444444,
              "#bd3786"
             ],
             [
              0.5555555555555556,
              "#d8576b"
             ],
             [
              0.6666666666666666,
              "#ed7953"
             ],
             [
              0.7777777777777778,
              "#fb9f3a"
             ],
             [
              0.8888888888888888,
              "#fdca26"
             ],
             [
              1,
              "#f0f921"
             ]
            ],
            "type": "heatmap"
           }
          ],
          "heatmapgl": [
           {
            "colorbar": {
             "outlinewidth": 0,
             "ticks": ""
            },
            "colorscale": [
             [
              0,
              "#0d0887"
             ],
             [
              0.1111111111111111,
              "#46039f"
             ],
             [
              0.2222222222222222,
              "#7201a8"
             ],
             [
              0.3333333333333333,
              "#9c179e"
             ],
             [
              0.4444444444444444,
              "#bd3786"
             ],
             [
              0.5555555555555556,
              "#d8576b"
             ],
             [
              0.6666666666666666,
              "#ed7953"
             ],
             [
              0.7777777777777778,
              "#fb9f3a"
             ],
             [
              0.8888888888888888,
              "#fdca26"
             ],
             [
              1,
              "#f0f921"
             ]
            ],
            "type": "heatmapgl"
           }
          ],
          "histogram": [
           {
            "marker": {
             "pattern": {
              "fillmode": "overlay",
              "size": 10,
              "solidity": 0.2
             }
            },
            "type": "histogram"
           }
          ],
          "histogram2d": [
           {
            "colorbar": {
             "outlinewidth": 0,
             "ticks": ""
            },
            "colorscale": [
             [
              0,
              "#0d0887"
             ],
             [
              0.1111111111111111,
              "#46039f"
             ],
             [
              0.2222222222222222,
              "#7201a8"
             ],
             [
              0.3333333333333333,
              "#9c179e"
             ],
             [
              0.4444444444444444,
              "#bd3786"
             ],
             [
              0.5555555555555556,
              "#d8576b"
             ],
             [
              0.6666666666666666,
              "#ed7953"
             ],
             [
              0.7777777777777778,
              "#fb9f3a"
             ],
             [
              0.8888888888888888,
              "#fdca26"
             ],
             [
              1,
              "#f0f921"
             ]
            ],
            "type": "histogram2d"
           }
          ],
          "histogram2dcontour": [
           {
            "colorbar": {
             "outlinewidth": 0,
             "ticks": ""
            },
            "colorscale": [
             [
              0,
              "#0d0887"
             ],
             [
              0.1111111111111111,
              "#46039f"
             ],
             [
              0.2222222222222222,
              "#7201a8"
             ],
             [
              0.3333333333333333,
              "#9c179e"
             ],
             [
              0.4444444444444444,
              "#bd3786"
             ],
             [
              0.5555555555555556,
              "#d8576b"
             ],
             [
              0.6666666666666666,
              "#ed7953"
             ],
             [
              0.7777777777777778,
              "#fb9f3a"
             ],
             [
              0.8888888888888888,
              "#fdca26"
             ],
             [
              1,
              "#f0f921"
             ]
            ],
            "type": "histogram2dcontour"
           }
          ],
          "mesh3d": [
           {
            "colorbar": {
             "outlinewidth": 0,
             "ticks": ""
            },
            "type": "mesh3d"
           }
          ],
          "parcoords": [
           {
            "line": {
             "colorbar": {
              "outlinewidth": 0,
              "ticks": ""
             }
            },
            "type": "parcoords"
           }
          ],
          "pie": [
           {
            "automargin": true,
            "type": "pie"
           }
          ],
          "scatter": [
           {
            "fillpattern": {
             "fillmode": "overlay",
             "size": 10,
             "solidity": 0.2
            },
            "type": "scatter"
           }
          ],
          "scatter3d": [
           {
            "line": {
             "colorbar": {
              "outlinewidth": 0,
              "ticks": ""
             }
            },
            "marker": {
             "colorbar": {
              "outlinewidth": 0,
              "ticks": ""
             }
            },
            "type": "scatter3d"
           }
          ],
          "scattercarpet": [
           {
            "marker": {
             "colorbar": {
              "outlinewidth": 0,
              "ticks": ""
             }
            },
            "type": "scattercarpet"
           }
          ],
          "scattergeo": [
           {
            "marker": {
             "colorbar": {
              "outlinewidth": 0,
              "ticks": ""
             }
            },
            "type": "scattergeo"
           }
          ],
          "scattergl": [
           {
            "marker": {
             "colorbar": {
              "outlinewidth": 0,
              "ticks": ""
             }
            },
            "type": "scattergl"
           }
          ],
          "scattermapbox": [
           {
            "marker": {
             "colorbar": {
              "outlinewidth": 0,
              "ticks": ""
             }
            },
            "type": "scattermapbox"
           }
          ],
          "scatterpolar": [
           {
            "marker": {
             "colorbar": {
              "outlinewidth": 0,
              "ticks": ""
             }
            },
            "type": "scatterpolar"
           }
          ],
          "scatterpolargl": [
           {
            "marker": {
             "colorbar": {
              "outlinewidth": 0,
              "ticks": ""
             }
            },
            "type": "scatterpolargl"
           }
          ],
          "scatterternary": [
           {
            "marker": {
             "colorbar": {
              "outlinewidth": 0,
              "ticks": ""
             }
            },
            "type": "scatterternary"
           }
          ],
          "surface": [
           {
            "colorbar": {
             "outlinewidth": 0,
             "ticks": ""
            },
            "colorscale": [
             [
              0,
              "#0d0887"
             ],
             [
              0.1111111111111111,
              "#46039f"
             ],
             [
              0.2222222222222222,
              "#7201a8"
             ],
             [
              0.3333333333333333,
              "#9c179e"
             ],
             [
              0.4444444444444444,
              "#bd3786"
             ],
             [
              0.5555555555555556,
              "#d8576b"
             ],
             [
              0.6666666666666666,
              "#ed7953"
             ],
             [
              0.7777777777777778,
              "#fb9f3a"
             ],
             [
              0.8888888888888888,
              "#fdca26"
             ],
             [
              1,
              "#f0f921"
             ]
            ],
            "type": "surface"
           }
          ],
          "table": [
           {
            "cells": {
             "fill": {
              "color": "#EBF0F8"
             },
             "line": {
              "color": "white"
             }
            },
            "header": {
             "fill": {
              "color": "#C8D4E3"
             },
             "line": {
              "color": "white"
             }
            },
            "type": "table"
           }
          ]
         },
         "layout": {
          "annotationdefaults": {
           "arrowcolor": "#2a3f5f",
           "arrowhead": 0,
           "arrowwidth": 1
          },
          "autotypenumbers": "strict",
          "coloraxis": {
           "colorbar": {
            "outlinewidth": 0,
            "ticks": ""
           }
          },
          "colorscale": {
           "diverging": [
            [
             0,
             "#8e0152"
            ],
            [
             0.1,
             "#c51b7d"
            ],
            [
             0.2,
             "#de77ae"
            ],
            [
             0.3,
             "#f1b6da"
            ],
            [
             0.4,
             "#fde0ef"
            ],
            [
             0.5,
             "#f7f7f7"
            ],
            [
             0.6,
             "#e6f5d0"
            ],
            [
             0.7,
             "#b8e186"
            ],
            [
             0.8,
             "#7fbc41"
            ],
            [
             0.9,
             "#4d9221"
            ],
            [
             1,
             "#276419"
            ]
           ],
           "sequential": [
            [
             0,
             "#0d0887"
            ],
            [
             0.1111111111111111,
             "#46039f"
            ],
            [
             0.2222222222222222,
             "#7201a8"
            ],
            [
             0.3333333333333333,
             "#9c179e"
            ],
            [
             0.4444444444444444,
             "#bd3786"
            ],
            [
             0.5555555555555556,
             "#d8576b"
            ],
            [
             0.6666666666666666,
             "#ed7953"
            ],
            [
             0.7777777777777778,
             "#fb9f3a"
            ],
            [
             0.8888888888888888,
             "#fdca26"
            ],
            [
             1,
             "#f0f921"
            ]
           ],
           "sequentialminus": [
            [
             0,
             "#0d0887"
            ],
            [
             0.1111111111111111,
             "#46039f"
            ],
            [
             0.2222222222222222,
             "#7201a8"
            ],
            [
             0.3333333333333333,
             "#9c179e"
            ],
            [
             0.4444444444444444,
             "#bd3786"
            ],
            [
             0.5555555555555556,
             "#d8576b"
            ],
            [
             0.6666666666666666,
             "#ed7953"
            ],
            [
             0.7777777777777778,
             "#fb9f3a"
            ],
            [
             0.8888888888888888,
             "#fdca26"
            ],
            [
             1,
             "#f0f921"
            ]
           ]
          },
          "colorway": [
           "#636efa",
           "#EF553B",
           "#00cc96",
           "#ab63fa",
           "#FFA15A",
           "#19d3f3",
           "#FF6692",
           "#B6E880",
           "#FF97FF",
           "#FECB52"
          ],
          "font": {
           "color": "#2a3f5f"
          },
          "geo": {
           "bgcolor": "white",
           "lakecolor": "white",
           "landcolor": "white",
           "showlakes": true,
           "showland": true,
           "subunitcolor": "#C8D4E3"
          },
          "hoverlabel": {
           "align": "left"
          },
          "hovermode": "closest",
          "mapbox": {
           "style": "light"
          },
          "paper_bgcolor": "white",
          "plot_bgcolor": "white",
          "polar": {
           "angularaxis": {
            "gridcolor": "#EBF0F8",
            "linecolor": "#EBF0F8",
            "ticks": ""
           },
           "bgcolor": "white",
           "radialaxis": {
            "gridcolor": "#EBF0F8",
            "linecolor": "#EBF0F8",
            "ticks": ""
           }
          },
          "scene": {
           "xaxis": {
            "backgroundcolor": "white",
            "gridcolor": "#DFE8F3",
            "gridwidth": 2,
            "linecolor": "#EBF0F8",
            "showbackground": true,
            "ticks": "",
            "zerolinecolor": "#EBF0F8"
           },
           "yaxis": {
            "backgroundcolor": "white",
            "gridcolor": "#DFE8F3",
            "gridwidth": 2,
            "linecolor": "#EBF0F8",
            "showbackground": true,
            "ticks": "",
            "zerolinecolor": "#EBF0F8"
           },
           "zaxis": {
            "backgroundcolor": "white",
            "gridcolor": "#DFE8F3",
            "gridwidth": 2,
            "linecolor": "#EBF0F8",
            "showbackground": true,
            "ticks": "",
            "zerolinecolor": "#EBF0F8"
           }
          },
          "shapedefaults": {
           "line": {
            "color": "#2a3f5f"
           }
          },
          "ternary": {
           "aaxis": {
            "gridcolor": "#DFE8F3",
            "linecolor": "#A2B1C6",
            "ticks": ""
           },
           "baxis": {
            "gridcolor": "#DFE8F3",
            "linecolor": "#A2B1C6",
            "ticks": ""
           },
           "bgcolor": "white",
           "caxis": {
            "gridcolor": "#DFE8F3",
            "linecolor": "#A2B1C6",
            "ticks": ""
           }
          },
          "title": {
           "x": 0.05
          },
          "xaxis": {
           "automargin": true,
           "gridcolor": "#EBF0F8",
           "linecolor": "#EBF0F8",
           "ticks": "",
           "title": {
            "standoff": 15
           },
           "zerolinecolor": "#EBF0F8",
           "zerolinewidth": 2
          },
          "yaxis": {
           "automargin": true,
           "gridcolor": "#EBF0F8",
           "linecolor": "#EBF0F8",
           "ticks": "",
           "title": {
            "standoff": 15
           },
           "zerolinecolor": "#EBF0F8",
           "zerolinewidth": 2
          }
         }
        },
        "title": {
         "text": "Word cloud de los Estilos"
        },
        "xaxis": {
         "anchor": "y",
         "domain": [
          0,
          1
         ],
         "showgrid": false,
         "showticklabels": false,
         "zeroline": false
        },
        "yaxis": {
         "anchor": "x",
         "domain": [
          0,
          1
         ],
         "showgrid": false,
         "showticklabels": false,
         "zeroline": false
        }
       }
      }
     },
     "metadata": {},
     "output_type": "display_data"
    }
   ],
   "source": [
    "import plotly.express as px\n",
    "from wordcloud import WordCloud, STOPWORDS\n",
    "\n",
    "print('Wordcloud and Plotly are installed and imported!')\n",
    "\n",
    "# Set stopwords\n",
    "stopwords = set(STOPWORDS)\n",
    "\n",
    "# Concatenate all style names into a single string\n",
    "style_text = ' '.join(song_data['style'].astype(str).tolist())\n",
    "\n",
    "# Generate the word cloud\n",
    "nube = WordCloud(\n",
    "    background_color='white',\n",
    "    max_words=2000,\n",
    "    stopwords=stopwords\n",
    ").generate(style_text)\n",
    "\n",
    "# Convert the word cloud to a Plotly figure\n",
    "fig = px.imshow(nube, color_continuous_scale='Blues')\n",
    "\n",
    "# Update the layout of the figure\n",
    "fig.update_layout(\n",
    "    title='Word cloud de los Estilos',\n",
    "    xaxis=dict(showticklabels=False, showgrid=False, zeroline=False),\n",
    "    yaxis=dict(showticklabels=False, showgrid=False, zeroline=False),\n",
    "    template='plotly_white'\n",
    ")\n",
    "\n",
    "# Show the plot\n",
    "fig.show()\n"
   ]
  },
  {
   "cell_type": "markdown",
   "metadata": {},
   "source": [
    "## Gráfico de distribución"
   ]
  },
  {
   "cell_type": "code",
   "execution_count": 377,
   "metadata": {},
   "outputs": [
    {
     "data": {
      "application/vnd.plotly.v1+json": {
       "config": {
        "plotlyServerURL": "https://plot.ly"
       },
       "data": [
        {
         "name": "Ukraine",
         "type": "scatter",
         "x": [
          2016,
          2017,
          2018,
          2019,
          2021,
          2022
         ],
         "y": [
          13057,
          1675,
          3438,
          null,
          15448,
          24631
         ]
        },
        {
         "name": "Sweden",
         "type": "scatter",
         "x": [
          2016,
          2017,
          2018,
          2019,
          2021,
          2022
         ],
         "y": [
          3073,
          4793,
          2744,
          15440,
          9865,
          23073
         ]
        },
        {
         "name": "France",
         "type": "scatter",
         "x": [
          2016,
          2017,
          2018,
          2019,
          2021,
          2022
         ],
         "y": [
          7137,
          2651,
          5306,
          10171,
          32651,
          6140
         ]
        },
        {
         "name": "Netherlands",
         "type": "scatter",
         "x": [
          2016,
          2017,
          2018,
          2019,
          2021,
          2022
         ],
         "y": [
          5043,
          7237,
          4145,
          51174,
          5557,
          12345
         ]
        },
        {
         "name": "Italy",
         "type": "scatter",
         "x": [
          2016,
          2017,
          2018,
          2019,
          2021,
          2022
         ],
         "y": [
          1165,
          13651,
          2679,
          14005,
          36383,
          21213
         ]
        }
       ],
       "layout": {
        "template": {
         "data": {
          "bar": [
           {
            "error_x": {
             "color": "#2a3f5f"
            },
            "error_y": {
             "color": "#2a3f5f"
            },
            "marker": {
             "line": {
              "color": "white",
              "width": 0.5
             },
             "pattern": {
              "fillmode": "overlay",
              "size": 10,
              "solidity": 0.2
             }
            },
            "type": "bar"
           }
          ],
          "barpolar": [
           {
            "marker": {
             "line": {
              "color": "white",
              "width": 0.5
             },
             "pattern": {
              "fillmode": "overlay",
              "size": 10,
              "solidity": 0.2
             }
            },
            "type": "barpolar"
           }
          ],
          "carpet": [
           {
            "aaxis": {
             "endlinecolor": "#2a3f5f",
             "gridcolor": "#C8D4E3",
             "linecolor": "#C8D4E3",
             "minorgridcolor": "#C8D4E3",
             "startlinecolor": "#2a3f5f"
            },
            "baxis": {
             "endlinecolor": "#2a3f5f",
             "gridcolor": "#C8D4E3",
             "linecolor": "#C8D4E3",
             "minorgridcolor": "#C8D4E3",
             "startlinecolor": "#2a3f5f"
            },
            "type": "carpet"
           }
          ],
          "choropleth": [
           {
            "colorbar": {
             "outlinewidth": 0,
             "ticks": ""
            },
            "type": "choropleth"
           }
          ],
          "contour": [
           {
            "colorbar": {
             "outlinewidth": 0,
             "ticks": ""
            },
            "colorscale": [
             [
              0,
              "#0d0887"
             ],
             [
              0.1111111111111111,
              "#46039f"
             ],
             [
              0.2222222222222222,
              "#7201a8"
             ],
             [
              0.3333333333333333,
              "#9c179e"
             ],
             [
              0.4444444444444444,
              "#bd3786"
             ],
             [
              0.5555555555555556,
              "#d8576b"
             ],
             [
              0.6666666666666666,
              "#ed7953"
             ],
             [
              0.7777777777777778,
              "#fb9f3a"
             ],
             [
              0.8888888888888888,
              "#fdca26"
             ],
             [
              1,
              "#f0f921"
             ]
            ],
            "type": "contour"
           }
          ],
          "contourcarpet": [
           {
            "colorbar": {
             "outlinewidth": 0,
             "ticks": ""
            },
            "type": "contourcarpet"
           }
          ],
          "heatmap": [
           {
            "colorbar": {
             "outlinewidth": 0,
             "ticks": ""
            },
            "colorscale": [
             [
              0,
              "#0d0887"
             ],
             [
              0.1111111111111111,
              "#46039f"
             ],
             [
              0.2222222222222222,
              "#7201a8"
             ],
             [
              0.3333333333333333,
              "#9c179e"
             ],
             [
              0.4444444444444444,
              "#bd3786"
             ],
             [
              0.5555555555555556,
              "#d8576b"
             ],
             [
              0.6666666666666666,
              "#ed7953"
             ],
             [
              0.7777777777777778,
              "#fb9f3a"
             ],
             [
              0.8888888888888888,
              "#fdca26"
             ],
             [
              1,
              "#f0f921"
             ]
            ],
            "type": "heatmap"
           }
          ],
          "heatmapgl": [
           {
            "colorbar": {
             "outlinewidth": 0,
             "ticks": ""
            },
            "colorscale": [
             [
              0,
              "#0d0887"
             ],
             [
              0.1111111111111111,
              "#46039f"
             ],
             [
              0.2222222222222222,
              "#7201a8"
             ],
             [
              0.3333333333333333,
              "#9c179e"
             ],
             [
              0.4444444444444444,
              "#bd3786"
             ],
             [
              0.5555555555555556,
              "#d8576b"
             ],
             [
              0.6666666666666666,
              "#ed7953"
             ],
             [
              0.7777777777777778,
              "#fb9f3a"
             ],
             [
              0.8888888888888888,
              "#fdca26"
             ],
             [
              1,
              "#f0f921"
             ]
            ],
            "type": "heatmapgl"
           }
          ],
          "histogram": [
           {
            "marker": {
             "pattern": {
              "fillmode": "overlay",
              "size": 10,
              "solidity": 0.2
             }
            },
            "type": "histogram"
           }
          ],
          "histogram2d": [
           {
            "colorbar": {
             "outlinewidth": 0,
             "ticks": ""
            },
            "colorscale": [
             [
              0,
              "#0d0887"
             ],
             [
              0.1111111111111111,
              "#46039f"
             ],
             [
              0.2222222222222222,
              "#7201a8"
             ],
             [
              0.3333333333333333,
              "#9c179e"
             ],
             [
              0.4444444444444444,
              "#bd3786"
             ],
             [
              0.5555555555555556,
              "#d8576b"
             ],
             [
              0.6666666666666666,
              "#ed7953"
             ],
             [
              0.7777777777777778,
              "#fb9f3a"
             ],
             [
              0.8888888888888888,
              "#fdca26"
             ],
             [
              1,
              "#f0f921"
             ]
            ],
            "type": "histogram2d"
           }
          ],
          "histogram2dcontour": [
           {
            "colorbar": {
             "outlinewidth": 0,
             "ticks": ""
            },
            "colorscale": [
             [
              0,
              "#0d0887"
             ],
             [
              0.1111111111111111,
              "#46039f"
             ],
             [
              0.2222222222222222,
              "#7201a8"
             ],
             [
              0.3333333333333333,
              "#9c179e"
             ],
             [
              0.4444444444444444,
              "#bd3786"
             ],
             [
              0.5555555555555556,
              "#d8576b"
             ],
             [
              0.6666666666666666,
              "#ed7953"
             ],
             [
              0.7777777777777778,
              "#fb9f3a"
             ],
             [
              0.8888888888888888,
              "#fdca26"
             ],
             [
              1,
              "#f0f921"
             ]
            ],
            "type": "histogram2dcontour"
           }
          ],
          "mesh3d": [
           {
            "colorbar": {
             "outlinewidth": 0,
             "ticks": ""
            },
            "type": "mesh3d"
           }
          ],
          "parcoords": [
           {
            "line": {
             "colorbar": {
              "outlinewidth": 0,
              "ticks": ""
             }
            },
            "type": "parcoords"
           }
          ],
          "pie": [
           {
            "automargin": true,
            "type": "pie"
           }
          ],
          "scatter": [
           {
            "fillpattern": {
             "fillmode": "overlay",
             "size": 10,
             "solidity": 0.2
            },
            "type": "scatter"
           }
          ],
          "scatter3d": [
           {
            "line": {
             "colorbar": {
              "outlinewidth": 0,
              "ticks": ""
             }
            },
            "marker": {
             "colorbar": {
              "outlinewidth": 0,
              "ticks": ""
             }
            },
            "type": "scatter3d"
           }
          ],
          "scattercarpet": [
           {
            "marker": {
             "colorbar": {
              "outlinewidth": 0,
              "ticks": ""
             }
            },
            "type": "scattercarpet"
           }
          ],
          "scattergeo": [
           {
            "marker": {
             "colorbar": {
              "outlinewidth": 0,
              "ticks": ""
             }
            },
            "type": "scattergeo"
           }
          ],
          "scattergl": [
           {
            "marker": {
             "colorbar": {
              "outlinewidth": 0,
              "ticks": ""
             }
            },
            "type": "scattergl"
           }
          ],
          "scattermapbox": [
           {
            "marker": {
             "colorbar": {
              "outlinewidth": 0,
              "ticks": ""
             }
            },
            "type": "scattermapbox"
           }
          ],
          "scatterpolar": [
           {
            "marker": {
             "colorbar": {
              "outlinewidth": 0,
              "ticks": ""
             }
            },
            "type": "scatterpolar"
           }
          ],
          "scatterpolargl": [
           {
            "marker": {
             "colorbar": {
              "outlinewidth": 0,
              "ticks": ""
             }
            },
            "type": "scatterpolargl"
           }
          ],
          "scatterternary": [
           {
            "marker": {
             "colorbar": {
              "outlinewidth": 0,
              "ticks": ""
             }
            },
            "type": "scatterternary"
           }
          ],
          "surface": [
           {
            "colorbar": {
             "outlinewidth": 0,
             "ticks": ""
            },
            "colorscale": [
             [
              0,
              "#0d0887"
             ],
             [
              0.1111111111111111,
              "#46039f"
             ],
             [
              0.2222222222222222,
              "#7201a8"
             ],
             [
              0.3333333333333333,
              "#9c179e"
             ],
             [
              0.4444444444444444,
              "#bd3786"
             ],
             [
              0.5555555555555556,
              "#d8576b"
             ],
             [
              0.6666666666666666,
              "#ed7953"
             ],
             [
              0.7777777777777778,
              "#fb9f3a"
             ],
             [
              0.8888888888888888,
              "#fdca26"
             ],
             [
              1,
              "#f0f921"
             ]
            ],
            "type": "surface"
           }
          ],
          "table": [
           {
            "cells": {
             "fill": {
              "color": "#EBF0F8"
             },
             "line": {
              "color": "white"
             }
            },
            "header": {
             "fill": {
              "color": "#C8D4E3"
             },
             "line": {
              "color": "white"
             }
            },
            "type": "table"
           }
          ]
         },
         "layout": {
          "annotationdefaults": {
           "arrowcolor": "#2a3f5f",
           "arrowhead": 0,
           "arrowwidth": 1
          },
          "autotypenumbers": "strict",
          "coloraxis": {
           "colorbar": {
            "outlinewidth": 0,
            "ticks": ""
           }
          },
          "colorscale": {
           "diverging": [
            [
             0,
             "#8e0152"
            ],
            [
             0.1,
             "#c51b7d"
            ],
            [
             0.2,
             "#de77ae"
            ],
            [
             0.3,
             "#f1b6da"
            ],
            [
             0.4,
             "#fde0ef"
            ],
            [
             0.5,
             "#f7f7f7"
            ],
            [
             0.6,
             "#e6f5d0"
            ],
            [
             0.7,
             "#b8e186"
            ],
            [
             0.8,
             "#7fbc41"
            ],
            [
             0.9,
             "#4d9221"
            ],
            [
             1,
             "#276419"
            ]
           ],
           "sequential": [
            [
             0,
             "#0d0887"
            ],
            [
             0.1111111111111111,
             "#46039f"
            ],
            [
             0.2222222222222222,
             "#7201a8"
            ],
            [
             0.3333333333333333,
             "#9c179e"
            ],
            [
             0.4444444444444444,
             "#bd3786"
            ],
            [
             0.5555555555555556,
             "#d8576b"
            ],
            [
             0.6666666666666666,
             "#ed7953"
            ],
            [
             0.7777777777777778,
             "#fb9f3a"
            ],
            [
             0.8888888888888888,
             "#fdca26"
            ],
            [
             1,
             "#f0f921"
            ]
           ],
           "sequentialminus": [
            [
             0,
             "#0d0887"
            ],
            [
             0.1111111111111111,
             "#46039f"
            ],
            [
             0.2222222222222222,
             "#7201a8"
            ],
            [
             0.3333333333333333,
             "#9c179e"
            ],
            [
             0.4444444444444444,
             "#bd3786"
            ],
            [
             0.5555555555555556,
             "#d8576b"
            ],
            [
             0.6666666666666666,
             "#ed7953"
            ],
            [
             0.7777777777777778,
             "#fb9f3a"
            ],
            [
             0.8888888888888888,
             "#fdca26"
            ],
            [
             1,
             "#f0f921"
            ]
           ]
          },
          "colorway": [
           "#636efa",
           "#EF553B",
           "#00cc96",
           "#ab63fa",
           "#FFA15A",
           "#19d3f3",
           "#FF6692",
           "#B6E880",
           "#FF97FF",
           "#FECB52"
          ],
          "font": {
           "color": "#2a3f5f"
          },
          "geo": {
           "bgcolor": "white",
           "lakecolor": "white",
           "landcolor": "white",
           "showlakes": true,
           "showland": true,
           "subunitcolor": "#C8D4E3"
          },
          "hoverlabel": {
           "align": "left"
          },
          "hovermode": "closest",
          "mapbox": {
           "style": "light"
          },
          "paper_bgcolor": "white",
          "plot_bgcolor": "white",
          "polar": {
           "angularaxis": {
            "gridcolor": "#EBF0F8",
            "linecolor": "#EBF0F8",
            "ticks": ""
           },
           "bgcolor": "white",
           "radialaxis": {
            "gridcolor": "#EBF0F8",
            "linecolor": "#EBF0F8",
            "ticks": ""
           }
          },
          "scene": {
           "xaxis": {
            "backgroundcolor": "white",
            "gridcolor": "#DFE8F3",
            "gridwidth": 2,
            "linecolor": "#EBF0F8",
            "showbackground": true,
            "ticks": "",
            "zerolinecolor": "#EBF0F8"
           },
           "yaxis": {
            "backgroundcolor": "white",
            "gridcolor": "#DFE8F3",
            "gridwidth": 2,
            "linecolor": "#EBF0F8",
            "showbackground": true,
            "ticks": "",
            "zerolinecolor": "#EBF0F8"
           },
           "zaxis": {
            "backgroundcolor": "white",
            "gridcolor": "#DFE8F3",
            "gridwidth": 2,
            "linecolor": "#EBF0F8",
            "showbackground": true,
            "ticks": "",
            "zerolinecolor": "#EBF0F8"
           }
          },
          "shapedefaults": {
           "line": {
            "color": "#2a3f5f"
           }
          },
          "ternary": {
           "aaxis": {
            "gridcolor": "#DFE8F3",
            "linecolor": "#A2B1C6",
            "ticks": ""
           },
           "baxis": {
            "gridcolor": "#DFE8F3",
            "linecolor": "#A2B1C6",
            "ticks": ""
           },
           "bgcolor": "white",
           "caxis": {
            "gridcolor": "#DFE8F3",
            "linecolor": "#A2B1C6",
            "ticks": ""
           }
          },
          "title": {
           "x": 0.05
          },
          "xaxis": {
           "automargin": true,
           "gridcolor": "#EBF0F8",
           "linecolor": "#EBF0F8",
           "ticks": "",
           "title": {
            "standoff": 15
           },
           "zerolinecolor": "#EBF0F8",
           "zerolinewidth": 2
          },
          "yaxis": {
           "automargin": true,
           "gridcolor": "#EBF0F8",
           "linecolor": "#EBF0F8",
           "ticks": "",
           "title": {
            "standoff": 15
           },
           "zerolinecolor": "#EBF0F8",
           "zerolinewidth": 2
          }
         }
        },
        "title": {
         "text": "Series de tiempo evolutiva del TOP 5 de Paises con mayor cantidad de votos"
        },
        "xaxis": {
         "title": {
          "text": "Año"
         }
        },
        "yaxis": {
         "title": {
          "text": "Cantidad de Votos"
         }
        }
       }
      }
     },
     "metadata": {},
     "output_type": "display_data"
    }
   ],
   "source": [
    "fig = go.Figure()\n",
    "for col in df_top5.columns:\n",
    "    fig.add_trace(go.Scatter(x=df_top5.index, y=df_top5[col], name=col))\n",
    "\n",
    "fig.update_layout(\n",
    "    title='Series de tiempo evolutiva del TOP 5 de Paises con mayor cantidad de votos',\n",
    "    xaxis_title='Año',\n",
    "    yaxis_title='Cantidad de Votos',\n",
    "    template='plotly_white'\n",
    ")\n",
    "\n",
    "fig.show()\n"
   ]
  },
  {
   "cell_type": "code",
   "execution_count": 378,
   "metadata": {},
   "outputs": [
    {
     "name": "stdout",
     "output_type": "stream",
     "text": [
      "Requirement already satisfied: numpy in c:\\users\\paofr\\anaconda3\\envs\\environment\\lib\\site-packages (1.22.3)\n"
     ]
    }
   ],
   "source": [
    "! pip install numpy\n",
    "import numpy as np"
   ]
  },
  {
   "attachments": {},
   "cell_type": "markdown",
   "metadata": {},
   "source": [
    "## Waffle Chart"
   ]
  },
  {
   "cell_type": "code",
   "execution_count": 379,
   "metadata": {},
   "outputs": [
    {
     "data": {
      "text/plain": [
       "Index(['Ukraine', 'Sweden', 'France', 'Netherlands', 'Italy'], dtype='object', name='country')"
      ]
     },
     "execution_count": 379,
     "metadata": {},
     "output_type": "execute_result"
    }
   ],
   "source": [
    "df_top5.columns"
   ]
  },
  {
   "cell_type": "code",
   "execution_count": 380,
   "metadata": {},
   "outputs": [
    {
     "name": "stdout",
     "output_type": "stream",
     "text": [
      "Número total de celdas:  400\n",
      "Waffle chart populated!\n"
     ]
    },
    {
     "name": "stderr",
     "output_type": "stream",
     "text": [
      "C:\\Users\\paofr\\AppData\\Local\\Temp\\ipykernel_23508\\3482441284.py:4: FutureWarning:\n",
      "\n",
      "The default value of numeric_only in DataFrameGroupBy.sum is deprecated. In a future version, numeric_only will default to False. Either specify numeric_only or select only columns which should be valid for the function.\n",
      "\n"
     ]
    }
   ],
   "source": [
    "\n",
    "song_data['unos']=1\n",
    "anio = 2018\n",
    "song_data1 = song_data[song_data['year']==anio]\n",
    "df_pcb = song_data1.groupby(['style','country']).sum()['unos'].to_frame().reset_index()\n",
    "\n",
    "df_pcb = df_pcb[df_pcb['country'].isin(df_top5.columns)].drop(['country'], axis=1).groupby(['style']).sum()\n",
    "\n",
    "df_pcb.columns = ['Total']\n",
    "df_pcb\n",
    "\n",
    "width = 40 # ancho del of chart\n",
    "height = 10 \n",
    "m = 40,\n",
    "n = 10\n",
    "\n",
    "\n",
    "width = 40 # ancho del of chart\n",
    "height = 10 # altura del chart\n",
    "\n",
    "total_num_tiles = width * height # número total de celdas\n",
    "\n",
    "print ('Número total de celdas: ', total_num_tiles)\n",
    "# calcula la cantidad de celdas por categoría\n",
    "tiles_per_category = [round(proportion * total_num_tiles) for proportion in category_proportions]\n",
    "\n",
    "# imprime número de celdas por categoría\n",
    "\n",
    "\n",
    "# inicializa el waffle chart como una matriz vacía\n",
    "waffle_chart = np.zeros((height, width))\n",
    "\n",
    "# índices que recorren la estructura\n",
    "category_index = 0\n",
    "tile_index = 0\n",
    "\n",
    "# poblar el waffle chart\n",
    "for col in range(width):\n",
    "    for row in range(height):\n",
    "        tile_index += 1\n",
    "\n",
    "        # si el número de celdas para la categoría actual es igual a las celdas asignadas...\n",
    "        if tile_index > sum(tiles_per_category[0:category_index]):\n",
    "            # ...se continúa con la siguiente categoría\n",
    "            category_index += 1       \n",
    "            \n",
    "        # Se asigna el valor de la categoría actual a las coordenadas row,col\n",
    "        waffle_chart[row, col] = category_index\n",
    "        \n",
    "print ('Waffle chart populated!')"
   ]
  },
  {
   "cell_type": "code",
   "execution_count": 382,
   "metadata": {},
   "outputs": [
    {
     "data": {
      "application/vnd.plotly.v1+json": {
       "config": {
        "plotlyServerURL": "https://plot.ly"
       },
       "data": [
        {
         "colorscale": [
          [
           0,
           "#FFD700"
          ],
          [
           0.2,
           "#FFA500"
          ],
          [
           0.4,
           "#FF8C00"
          ],
          [
           0.6,
           "#FF4500"
          ],
          [
           0.8,
           "#FF0000"
          ],
          [
           1,
           "#800000"
          ]
         ],
         "hoverinfo": "text",
         "showscale": false,
         "text": [
          "Dance",
          "Pop",
          "Rock"
         ],
         "type": "heatmap",
         "xgap": 3,
         "ygap": 3,
         "z": [
          [
           1,
           2,
           2,
           2,
           3
          ],
          [
           1,
           2,
           2,
           2,
           3
          ],
          [
           1,
           2,
           2,
           2,
           3
          ],
          [
           1,
           2,
           2,
           2,
           3
          ]
         ]
        },
        {
         "marker": {
          "color": "#FFD700",
          "size": 2
         },
         "mode": "markers",
         "name": "Dance: 4",
         "type": "scatter",
         "x": [
          null
         ],
         "y": [
          null
         ]
        },
        {
         "marker": {
          "color": "#FFA500",
          "size": 3.4641016151377544
         },
         "mode": "markers",
         "name": "Pop: 12",
         "type": "scatter",
         "x": [
          null
         ],
         "y": [
          null
         ]
        },
        {
         "marker": {
          "color": "#FF8C00",
          "size": 2
         },
         "mode": "markers",
         "name": "Rock: 4",
         "type": "scatter",
         "x": [
          null
         ],
         "y": [
          null
         ]
        }
       ],
       "layout": {
        "legend": {
         "orientation": "h",
         "x": 1,
         "xanchor": "right",
         "y": 1.02,
         "yanchor": "bottom"
        },
        "template": {
         "data": {
          "bar": [
           {
            "error_x": {
             "color": "#2a3f5f"
            },
            "error_y": {
             "color": "#2a3f5f"
            },
            "marker": {
             "line": {
              "color": "#E5ECF6",
              "width": 0.5
             },
             "pattern": {
              "fillmode": "overlay",
              "size": 10,
              "solidity": 0.2
             }
            },
            "type": "bar"
           }
          ],
          "barpolar": [
           {
            "marker": {
             "line": {
              "color": "#E5ECF6",
              "width": 0.5
             },
             "pattern": {
              "fillmode": "overlay",
              "size": 10,
              "solidity": 0.2
             }
            },
            "type": "barpolar"
           }
          ],
          "carpet": [
           {
            "aaxis": {
             "endlinecolor": "#2a3f5f",
             "gridcolor": "white",
             "linecolor": "white",
             "minorgridcolor": "white",
             "startlinecolor": "#2a3f5f"
            },
            "baxis": {
             "endlinecolor": "#2a3f5f",
             "gridcolor": "white",
             "linecolor": "white",
             "minorgridcolor": "white",
             "startlinecolor": "#2a3f5f"
            },
            "type": "carpet"
           }
          ],
          "choropleth": [
           {
            "colorbar": {
             "outlinewidth": 0,
             "ticks": ""
            },
            "type": "choropleth"
           }
          ],
          "contour": [
           {
            "colorbar": {
             "outlinewidth": 0,
             "ticks": ""
            },
            "colorscale": [
             [
              0,
              "#0d0887"
             ],
             [
              0.1111111111111111,
              "#46039f"
             ],
             [
              0.2222222222222222,
              "#7201a8"
             ],
             [
              0.3333333333333333,
              "#9c179e"
             ],
             [
              0.4444444444444444,
              "#bd3786"
             ],
             [
              0.5555555555555556,
              "#d8576b"
             ],
             [
              0.6666666666666666,
              "#ed7953"
             ],
             [
              0.7777777777777778,
              "#fb9f3a"
             ],
             [
              0.8888888888888888,
              "#fdca26"
             ],
             [
              1,
              "#f0f921"
             ]
            ],
            "type": "contour"
           }
          ],
          "contourcarpet": [
           {
            "colorbar": {
             "outlinewidth": 0,
             "ticks": ""
            },
            "type": "contourcarpet"
           }
          ],
          "heatmap": [
           {
            "colorbar": {
             "outlinewidth": 0,
             "ticks": ""
            },
            "colorscale": [
             [
              0,
              "#0d0887"
             ],
             [
              0.1111111111111111,
              "#46039f"
             ],
             [
              0.2222222222222222,
              "#7201a8"
             ],
             [
              0.3333333333333333,
              "#9c179e"
             ],
             [
              0.4444444444444444,
              "#bd3786"
             ],
             [
              0.5555555555555556,
              "#d8576b"
             ],
             [
              0.6666666666666666,
              "#ed7953"
             ],
             [
              0.7777777777777778,
              "#fb9f3a"
             ],
             [
              0.8888888888888888,
              "#fdca26"
             ],
             [
              1,
              "#f0f921"
             ]
            ],
            "type": "heatmap"
           }
          ],
          "heatmapgl": [
           {
            "colorbar": {
             "outlinewidth": 0,
             "ticks": ""
            },
            "colorscale": [
             [
              0,
              "#0d0887"
             ],
             [
              0.1111111111111111,
              "#46039f"
             ],
             [
              0.2222222222222222,
              "#7201a8"
             ],
             [
              0.3333333333333333,
              "#9c179e"
             ],
             [
              0.4444444444444444,
              "#bd3786"
             ],
             [
              0.5555555555555556,
              "#d8576b"
             ],
             [
              0.6666666666666666,
              "#ed7953"
             ],
             [
              0.7777777777777778,
              "#fb9f3a"
             ],
             [
              0.8888888888888888,
              "#fdca26"
             ],
             [
              1,
              "#f0f921"
             ]
            ],
            "type": "heatmapgl"
           }
          ],
          "histogram": [
           {
            "marker": {
             "pattern": {
              "fillmode": "overlay",
              "size": 10,
              "solidity": 0.2
             }
            },
            "type": "histogram"
           }
          ],
          "histogram2d": [
           {
            "colorbar": {
             "outlinewidth": 0,
             "ticks": ""
            },
            "colorscale": [
             [
              0,
              "#0d0887"
             ],
             [
              0.1111111111111111,
              "#46039f"
             ],
             [
              0.2222222222222222,
              "#7201a8"
             ],
             [
              0.3333333333333333,
              "#9c179e"
             ],
             [
              0.4444444444444444,
              "#bd3786"
             ],
             [
              0.5555555555555556,
              "#d8576b"
             ],
             [
              0.6666666666666666,
              "#ed7953"
             ],
             [
              0.7777777777777778,
              "#fb9f3a"
             ],
             [
              0.8888888888888888,
              "#fdca26"
             ],
             [
              1,
              "#f0f921"
             ]
            ],
            "type": "histogram2d"
           }
          ],
          "histogram2dcontour": [
           {
            "colorbar": {
             "outlinewidth": 0,
             "ticks": ""
            },
            "colorscale": [
             [
              0,
              "#0d0887"
             ],
             [
              0.1111111111111111,
              "#46039f"
             ],
             [
              0.2222222222222222,
              "#7201a8"
             ],
             [
              0.3333333333333333,
              "#9c179e"
             ],
             [
              0.4444444444444444,
              "#bd3786"
             ],
             [
              0.5555555555555556,
              "#d8576b"
             ],
             [
              0.6666666666666666,
              "#ed7953"
             ],
             [
              0.7777777777777778,
              "#fb9f3a"
             ],
             [
              0.8888888888888888,
              "#fdca26"
             ],
             [
              1,
              "#f0f921"
             ]
            ],
            "type": "histogram2dcontour"
           }
          ],
          "mesh3d": [
           {
            "colorbar": {
             "outlinewidth": 0,
             "ticks": ""
            },
            "type": "mesh3d"
           }
          ],
          "parcoords": [
           {
            "line": {
             "colorbar": {
              "outlinewidth": 0,
              "ticks": ""
             }
            },
            "type": "parcoords"
           }
          ],
          "pie": [
           {
            "automargin": true,
            "type": "pie"
           }
          ],
          "scatter": [
           {
            "fillpattern": {
             "fillmode": "overlay",
             "size": 10,
             "solidity": 0.2
            },
            "type": "scatter"
           }
          ],
          "scatter3d": [
           {
            "line": {
             "colorbar": {
              "outlinewidth": 0,
              "ticks": ""
             }
            },
            "marker": {
             "colorbar": {
              "outlinewidth": 0,
              "ticks": ""
             }
            },
            "type": "scatter3d"
           }
          ],
          "scattercarpet": [
           {
            "marker": {
             "colorbar": {
              "outlinewidth": 0,
              "ticks": ""
             }
            },
            "type": "scattercarpet"
           }
          ],
          "scattergeo": [
           {
            "marker": {
             "colorbar": {
              "outlinewidth": 0,
              "ticks": ""
             }
            },
            "type": "scattergeo"
           }
          ],
          "scattergl": [
           {
            "marker": {
             "colorbar": {
              "outlinewidth": 0,
              "ticks": ""
             }
            },
            "type": "scattergl"
           }
          ],
          "scattermapbox": [
           {
            "marker": {
             "colorbar": {
              "outlinewidth": 0,
              "ticks": ""
             }
            },
            "type": "scattermapbox"
           }
          ],
          "scatterpolar": [
           {
            "marker": {
             "colorbar": {
              "outlinewidth": 0,
              "ticks": ""
             }
            },
            "type": "scatterpolar"
           }
          ],
          "scatterpolargl": [
           {
            "marker": {
             "colorbar": {
              "outlinewidth": 0,
              "ticks": ""
             }
            },
            "type": "scatterpolargl"
           }
          ],
          "scatterternary": [
           {
            "marker": {
             "colorbar": {
              "outlinewidth": 0,
              "ticks": ""
             }
            },
            "type": "scatterternary"
           }
          ],
          "surface": [
           {
            "colorbar": {
             "outlinewidth": 0,
             "ticks": ""
            },
            "colorscale": [
             [
              0,
              "#0d0887"
             ],
             [
              0.1111111111111111,
              "#46039f"
             ],
             [
              0.2222222222222222,
              "#7201a8"
             ],
             [
              0.3333333333333333,
              "#9c179e"
             ],
             [
              0.4444444444444444,
              "#bd3786"
             ],
             [
              0.5555555555555556,
              "#d8576b"
             ],
             [
              0.6666666666666666,
              "#ed7953"
             ],
             [
              0.7777777777777778,
              "#fb9f3a"
             ],
             [
              0.8888888888888888,
              "#fdca26"
             ],
             [
              1,
              "#f0f921"
             ]
            ],
            "type": "surface"
           }
          ],
          "table": [
           {
            "cells": {
             "fill": {
              "color": "#EBF0F8"
             },
             "line": {
              "color": "white"
             }
            },
            "header": {
             "fill": {
              "color": "#C8D4E3"
             },
             "line": {
              "color": "white"
             }
            },
            "type": "table"
           }
          ]
         },
         "layout": {
          "annotationdefaults": {
           "arrowcolor": "#2a3f5f",
           "arrowhead": 0,
           "arrowwidth": 1
          },
          "autotypenumbers": "strict",
          "coloraxis": {
           "colorbar": {
            "outlinewidth": 0,
            "ticks": ""
           }
          },
          "colorscale": {
           "diverging": [
            [
             0,
             "#8e0152"
            ],
            [
             0.1,
             "#c51b7d"
            ],
            [
             0.2,
             "#de77ae"
            ],
            [
             0.3,
             "#f1b6da"
            ],
            [
             0.4,
             "#fde0ef"
            ],
            [
             0.5,
             "#f7f7f7"
            ],
            [
             0.6,
             "#e6f5d0"
            ],
            [
             0.7,
             "#b8e186"
            ],
            [
             0.8,
             "#7fbc41"
            ],
            [
             0.9,
             "#4d9221"
            ],
            [
             1,
             "#276419"
            ]
           ],
           "sequential": [
            [
             0,
             "#0d0887"
            ],
            [
             0.1111111111111111,
             "#46039f"
            ],
            [
             0.2222222222222222,
             "#7201a8"
            ],
            [
             0.3333333333333333,
             "#9c179e"
            ],
            [
             0.4444444444444444,
             "#bd3786"
            ],
            [
             0.5555555555555556,
             "#d8576b"
            ],
            [
             0.6666666666666666,
             "#ed7953"
            ],
            [
             0.7777777777777778,
             "#fb9f3a"
            ],
            [
             0.8888888888888888,
             "#fdca26"
            ],
            [
             1,
             "#f0f921"
            ]
           ],
           "sequentialminus": [
            [
             0,
             "#0d0887"
            ],
            [
             0.1111111111111111,
             "#46039f"
            ],
            [
             0.2222222222222222,
             "#7201a8"
            ],
            [
             0.3333333333333333,
             "#9c179e"
            ],
            [
             0.4444444444444444,
             "#bd3786"
            ],
            [
             0.5555555555555556,
             "#d8576b"
            ],
            [
             0.6666666666666666,
             "#ed7953"
            ],
            [
             0.7777777777777778,
             "#fb9f3a"
            ],
            [
             0.8888888888888888,
             "#fdca26"
            ],
            [
             1,
             "#f0f921"
            ]
           ]
          },
          "colorway": [
           "#636efa",
           "#EF553B",
           "#00cc96",
           "#ab63fa",
           "#FFA15A",
           "#19d3f3",
           "#FF6692",
           "#B6E880",
           "#FF97FF",
           "#FECB52"
          ],
          "font": {
           "color": "#2a3f5f"
          },
          "geo": {
           "bgcolor": "white",
           "lakecolor": "white",
           "landcolor": "#E5ECF6",
           "showlakes": true,
           "showland": true,
           "subunitcolor": "white"
          },
          "hoverlabel": {
           "align": "left"
          },
          "hovermode": "closest",
          "mapbox": {
           "style": "light"
          },
          "paper_bgcolor": "white",
          "plot_bgcolor": "#E5ECF6",
          "polar": {
           "angularaxis": {
            "gridcolor": "white",
            "linecolor": "white",
            "ticks": ""
           },
           "bgcolor": "#E5ECF6",
           "radialaxis": {
            "gridcolor": "white",
            "linecolor": "white",
            "ticks": ""
           }
          },
          "scene": {
           "xaxis": {
            "backgroundcolor": "#E5ECF6",
            "gridcolor": "white",
            "gridwidth": 2,
            "linecolor": "white",
            "showbackground": true,
            "ticks": "",
            "zerolinecolor": "white"
           },
           "yaxis": {
            "backgroundcolor": "#E5ECF6",
            "gridcolor": "white",
            "gridwidth": 2,
            "linecolor": "white",
            "showbackground": true,
            "ticks": "",
            "zerolinecolor": "white"
           },
           "zaxis": {
            "backgroundcolor": "#E5ECF6",
            "gridcolor": "white",
            "gridwidth": 2,
            "linecolor": "white",
            "showbackground": true,
            "ticks": "",
            "zerolinecolor": "white"
           }
          },
          "shapedefaults": {
           "line": {
            "color": "#2a3f5f"
           }
          },
          "ternary": {
           "aaxis": {
            "gridcolor": "white",
            "linecolor": "white",
            "ticks": ""
           },
           "baxis": {
            "gridcolor": "white",
            "linecolor": "white",
            "ticks": ""
           },
           "bgcolor": "#E5ECF6",
           "caxis": {
            "gridcolor": "white",
            "linecolor": "white",
            "ticks": ""
           }
          },
          "title": {
           "x": 0.05
          },
          "xaxis": {
           "automargin": true,
           "gridcolor": "white",
           "linecolor": "white",
           "ticks": "",
           "title": {
            "standoff": 15
           },
           "zerolinecolor": "white",
           "zerolinewidth": 2
          },
          "yaxis": {
           "automargin": true,
           "gridcolor": "white",
           "linecolor": "white",
           "ticks": "",
           "title": {
            "standoff": 15
           },
           "zerolinecolor": "white",
           "zerolinewidth": 2
          }
         }
        },
        "title": {
         "text": "Waffle Chart"
        },
        "xaxis": {
         "showgrid": false
        },
        "yaxis": {
         "showgrid": false
        }
       }
      }
     },
     "metadata": {},
     "output_type": "display_data"
    }
   ],
   "source": [
    "# importar librerías\n",
    "import plotly.graph_objects as go\n",
    "import numpy as np\n",
    "\n",
    "# definir categorías y proporciones\n",
    "categories = df_pcb.index.values\n",
    "category_proportions = (df_pcb['Total']/df_pcb['Total'].sum()).values\n",
    "\n",
    "# definir dimensiones del waffle chart\n",
    "#width = int(np.ceil((df_pcb.sum()/12)*2).values[0])\n",
    "#height = int(np.ceil((df_pcb.sum()/12)).values[0])\n",
    "width = 5\n",
    "height = 4\n",
    "\n",
    "\n",
    "# calcular número total de celdas\n",
    "total_num_tiles = width * height\n",
    "\n",
    "# calcular número de celdas por categoría\n",
    "tiles_per_category = [round(proportion * total_num_tiles) for proportion in category_proportions]\n",
    "\n",
    "# crear matriz para el waffle chart\n",
    "waffle_chart = np.zeros((height, width))\n",
    "\n",
    "# índices que recorren la estructura\n",
    "category_index = 0\n",
    "tile_index = 0\n",
    "\n",
    "# poblar el waffle chart\n",
    "for col in range(width):\n",
    "    for row in range(height):\n",
    "        tile_index += 1\n",
    "\n",
    "        # si el número de celdas para la categoría actual es igual a las celdas asignadas...\n",
    "        if tile_index > sum(tiles_per_category[0:category_index]):\n",
    "            # ...se continúa con la siguiente categoría\n",
    "            category_index += 1       \n",
    "            \n",
    "        # Se asigna el valor de la categoría actual a las coordenadas row,col\n",
    "        waffle_chart[row, col] = category_index\n",
    "        \n",
    "# crear lista de colores para cada categoría\n",
    "colors =  ['#FFD700', '#FFA500', '#FF8C00', '#FF4500', '#FF0000', '#800000']\n",
    "\n",
    "# crear lista de texto para cada categoría\n",
    "text = df_pcb.index.values\n",
    "# crear el waffle chart con plotly\n",
    "fig = go.Figure(data=go.Heatmap(z=waffle_chart, text=text, hoverinfo='text',  xgap=3, ygap=3,\n",
    "                            showscale=False,colorscale=colors))\n",
    "\n",
    "\n",
    "# actualizar estilo del gráfico\n",
    "fig.update_layout(\n",
    "    title='Waffle Chart',\n",
    "    xaxis_showgrid=False,\n",
    "    yaxis_showgrid=False,\n",
    "   \n",
    ")\n",
    "for i, tiles in enumerate(tiles_per_category):\n",
    "    fig.add_trace(go.Scatter(\n",
    "        x=[None],\n",
    "        y=[None],\n",
    "        mode='markers',\n",
    "        marker=dict(size=math.sqrt(tiles), color=colors[i]),\n",
    "        name=df_pcb.index.values[i] + ': ' + str(tiles)\n",
    "    ))\n",
    "\n",
    "# Actualizar la configuración del diseño para agregar la leyenda\n",
    "fig.update_layout(\n",
    "     title='Waffle Chart',\n",
    "    legend=dict(\n",
    "        orientation=\"h\",\n",
    "        yanchor=\"bottom\",\n",
    "        y=1.02,\n",
    "        xanchor=\"right\",\n",
    "        x=1\n",
    "    )\n",
    ")\n",
    "# mostrar el gráfico\n",
    "fig.show()\n"
   ]
  }
 ],
 "metadata": {
  "kernelspec": {
   "display_name": "Python 3",
   "language": "python",
   "name": "python3"
  },
  "language_info": {
   "codemirror_mode": {
    "name": "ipython",
    "version": 3
   },
   "file_extension": ".py",
   "mimetype": "text/x-python",
   "name": "python",
   "nbconvert_exporter": "python",
   "pygments_lexer": "ipython3",
   "version": "3.10.10"
  }
 },
 "nbformat": 4,
 "nbformat_minor": 2
}
