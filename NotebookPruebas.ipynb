{
 "cells": [
  {
   "cell_type": "markdown",
   "metadata": {},
   "source": [
    "# Lectura de CSVs"
   ]
  },
  {
   "cell_type": "markdown",
   "metadata": {},
   "source": [
    "librerias"
   ]
  },
  {
   "cell_type": "code",
   "execution_count": 162,
   "metadata": {},
   "outputs": [],
   "source": [
    "from fuentes import DatosConcurso\n",
    "import pandas as pd\n",
    "import plotly.express as px\n",
    "\n"
   ]
  },
  {
   "cell_type": "markdown",
   "metadata": {},
   "source": [
    "metodo para verificar que los dataframes funcionan correctamene"
   ]
  },
  {
   "cell_type": "code",
   "execution_count": 163,
   "metadata": {},
   "outputs": [],
   "source": [
    "\n",
    "def checkearVariablePanda(df_var,df_varname):\n",
    "    if isinstance(df_var, pd.DataFrame):\n",
    "        print('{0} ok'.format(df_varname))\n",
    "    else:\n",
    "        print('{0} fallido'.format(df_varname))"
   ]
  },
  {
   "cell_type": "code",
   "execution_count": 164,
   "metadata": {},
   "outputs": [
    {
     "name": "stdout",
     "output_type": "stream",
     "text": [
      "concurso.datos_resultados_finales.datos_encuestas.eurojury_results_2016 ok\n",
      "concurso.datos_resultados_finales.datos_encuestas.eurojury_results_2017 ok\n",
      "concurso.datos_resultados_finales.datos_encuestas.eurojury_results_2018 ok\n",
      "concurso.datos_resultados_finales.datos_encuestas.eurojury_results_2019 ok\n",
      "concurso.datos_resultados_finales.datos_encuestas.eurojury_results_2021 ok\n",
      "concurso.datos_resultados_finales.datos_encuestas.eurojury_results_2022 ok\n",
      "concurso.datos_resultados_finales.datos_encuestas.eurovisionworld_results_2016 ok\n",
      "concurso.datos_resultados_finales.datos_encuestas.eurovisionworld_results_2017 ok\n",
      "concurso.datos_resultados_finales.datos_encuestas.eurovisionworld_results_2018 ok\n",
      "concurso.datos_resultados_finales.datos_encuestas.eurovisionworld_results_2019 ok\n",
      "concurso.datos_resultados_finales.datos_encuestas.eurovisionworld_results_2021 ok\n",
      "concurso.datos_resultados_finales.datos_encuestas.eurovisionworld_results_2022 ok\n",
      "concurso.datos_resultados_finales.datos_encuestas.myeurovisionscoreboard_results_2016 ok\n",
      "concurso.datos_resultados_finales.datos_encuestas.myeurovisionscoreboard_results_2017 ok\n",
      "concurso.datos_resultados_finales.datos_encuestas.myeurovisionscoreboard_results_2018 ok\n",
      "concurso.datos_resultados_finales.datos_encuestas.myeurovisionscoreboard_results_2019 ok\n",
      "concurso.datos_resultados_finales.datos_encuestas.myeurovisionscoreboard_results_2021 ok\n",
      "concurso.datos_resultados_finales.datos_encuestas.myeurovisionscoreboard_results_2022 ok\n",
      "concurso.datos_resultados_finales.datos_encuestas.ogae.ogae_results_2016 ok\n",
      "concurso.datos_resultados_finales.datos_encuestas.ogae.ogae_results_2017 ok\n",
      "concurso.datos_resultados_finales.datos_encuestas.ogae.ogae_results_2018 ok\n",
      "concurso.datos_resultados_finales.datos_encuestas.ogae.ogae_results_2019 ok\n",
      "concurso.datos_resultados_finales.datos_encuestas.ogae.ogae_results_2021 ok\n",
      "concurso.datos_resultados_finales.datos_encuestas.ogae.ogae_results_2022 ok\n",
      "concurso.datos_resultados_finales.datos_encuestas.wiwibloggs.wiwibloggs_results_2018 ok\n",
      "concurso.datos_resultados_finales.datos_encuestas.wiwibloggs.wiwibloggs_results_2019 ok\n",
      "concurso.datos_resultados_finales.datos_encuestas.wiwibloggs.wiwibloggs_results_2021 ok\n",
      "concurso.datos_resultados_finales.datos_encuestas.wiwibloggs.wiwibloggs_results_2022 ok\n"
     ]
    }
   ],
   "source": [
    "concurso = DatosConcurso()\n",
    "\n",
    "\n",
    "#variables encuestas\n",
    "#euro july\n",
    "checkearVariablePanda(concurso.datos_encuestas.euro_july.eurojury_results_2016,'concurso.datos_resultados_finales.datos_encuestas.eurojury_results_2016')\n",
    "checkearVariablePanda(concurso.datos_encuestas.euro_july.eurojury_results_2017,'concurso.datos_resultados_finales.datos_encuestas.eurojury_results_2017')\n",
    "checkearVariablePanda(concurso.datos_encuestas.euro_july.eurojury_results_2018,'concurso.datos_resultados_finales.datos_encuestas.eurojury_results_2018')\n",
    "checkearVariablePanda(concurso.datos_encuestas.euro_july.eurojury_results_2019,'concurso.datos_resultados_finales.datos_encuestas.eurojury_results_2019')\n",
    "checkearVariablePanda(concurso.datos_encuestas.euro_july.eurojury_results_2021,'concurso.datos_resultados_finales.datos_encuestas.eurojury_results_2021')\n",
    "checkearVariablePanda(concurso.datos_encuestas.euro_july.eurojury_results_2022,'concurso.datos_resultados_finales.datos_encuestas.eurojury_results_2022')\n",
    "\n",
    "#eurovisionworld\n",
    "checkearVariablePanda(concurso.datos_encuestas.eurovision_world.eurovisionworld_results_2016,'concurso.datos_resultados_finales.datos_encuestas.eurovisionworld_results_2016')\n",
    "checkearVariablePanda(concurso.datos_encuestas.eurovision_world.eurovisionworld_results_2017,'concurso.datos_resultados_finales.datos_encuestas.eurovisionworld_results_2017')\n",
    "checkearVariablePanda(concurso.datos_encuestas.eurovision_world.eurovisionworld_results_2018,'concurso.datos_resultados_finales.datos_encuestas.eurovisionworld_results_2018')\n",
    "checkearVariablePanda(concurso.datos_encuestas.eurovision_world.eurovisionworld_results_2019,'concurso.datos_resultados_finales.datos_encuestas.eurovisionworld_results_2019')\n",
    "checkearVariablePanda(concurso.datos_encuestas.eurovision_world.eurovisionworld_results_2021,'concurso.datos_resultados_finales.datos_encuestas.eurovisionworld_results_2021')\n",
    "checkearVariablePanda(concurso.datos_encuestas.eurovision_world.eurovisionworld_results_2022,'concurso.datos_resultados_finales.datos_encuestas.eurovisionworld_results_2022')\n",
    "\n",
    "#my eurovision score\n",
    "checkearVariablePanda(concurso.datos_encuestas.my_eurovision_score.myeurovisionscoreboard_results_2016,'concurso.datos_resultados_finales.datos_encuestas.myeurovisionscoreboard_results_2016')\n",
    "checkearVariablePanda(concurso.datos_encuestas.my_eurovision_score.myeurovisionscoreboard_results_2017,'concurso.datos_resultados_finales.datos_encuestas.myeurovisionscoreboard_results_2017')\n",
    "checkearVariablePanda(concurso.datos_encuestas.my_eurovision_score.myeurovisionscoreboard_results_2018,'concurso.datos_resultados_finales.datos_encuestas.myeurovisionscoreboard_results_2018')\n",
    "checkearVariablePanda(concurso.datos_encuestas.my_eurovision_score.myeurovisionscoreboard_results_2019,'concurso.datos_resultados_finales.datos_encuestas.myeurovisionscoreboard_results_2019')\n",
    "checkearVariablePanda(concurso.datos_encuestas.my_eurovision_score.myeurovisionscoreboard_results_2021,'concurso.datos_resultados_finales.datos_encuestas.myeurovisionscoreboard_results_2021')\n",
    "checkearVariablePanda(concurso.datos_encuestas.my_eurovision_score.myeurovisionscoreboard_results_2022,'concurso.datos_resultados_finales.datos_encuestas.myeurovisionscoreboard_results_2022')\n",
    "\n",
    "#ogae\n",
    "checkearVariablePanda(concurso.datos_encuestas.ogae.ogae_results_2016,'concurso.datos_resultados_finales.datos_encuestas.ogae.ogae_results_2016')\n",
    "checkearVariablePanda(concurso.datos_encuestas.ogae.ogae_results_2017,'concurso.datos_resultados_finales.datos_encuestas.ogae.ogae_results_2017')\n",
    "checkearVariablePanda(concurso.datos_encuestas.ogae.ogae_results_2018,'concurso.datos_resultados_finales.datos_encuestas.ogae.ogae_results_2018')\n",
    "checkearVariablePanda(concurso.datos_encuestas.ogae.ogae_results_2019,'concurso.datos_resultados_finales.datos_encuestas.ogae.ogae_results_2019')\n",
    "checkearVariablePanda(concurso.datos_encuestas.ogae.ogae_results_2021,'concurso.datos_resultados_finales.datos_encuestas.ogae.ogae_results_2021')\n",
    "checkearVariablePanda(concurso.datos_encuestas.ogae.ogae_results_2022,'concurso.datos_resultados_finales.datos_encuestas.ogae.ogae_results_2022')\n",
    "\n",
    "#wiwibloggs\n",
    "checkearVariablePanda(concurso.datos_encuestas.wiwibloggs.wiwibloggs_results_2018,'concurso.datos_resultados_finales.datos_encuestas.wiwibloggs.wiwibloggs_results_2018')\n",
    "checkearVariablePanda(concurso.datos_encuestas.wiwibloggs.wiwibloggs_results_2019,'concurso.datos_resultados_finales.datos_encuestas.wiwibloggs.wiwibloggs_results_2019')\n",
    "checkearVariablePanda(concurso.datos_encuestas.wiwibloggs.wiwibloggs_results_2021,'concurso.datos_resultados_finales.datos_encuestas.wiwibloggs.wiwibloggs_results_2021')\n",
    "checkearVariablePanda(concurso.datos_encuestas.wiwibloggs.wiwibloggs_results_2022,'concurso.datos_resultados_finales.datos_encuestas.wiwibloggs.wiwibloggs_results_2022')"
   ]
  },
  {
   "cell_type": "code",
   "execution_count": 165,
   "metadata": {},
   "outputs": [
    {
     "name": "stdout",
     "output_type": "stream",
     "text": [
      "concurso.country_data ok\n",
      "concurso.contest_data ok\n",
      "concurso.song_data ok\n"
     ]
    }
   ],
   "source": [
    "\n",
    "#variables de la raiz\n",
    "checkearVariablePanda(concurso.country_data,'concurso.country_data')\n",
    "checkearVariablePanda(concurso.contest_data,'concurso.contest_data')\n",
    "checkearVariablePanda(concurso.song_data,'concurso.song_data')"
   ]
  },
  {
   "cell_type": "code",
   "execution_count": 166,
   "metadata": {},
   "outputs": [
    {
     "name": "stdout",
     "output_type": "stream",
     "text": [
      "concurso.datos_resultados_finales.datos_jurado.jury_results_2016 ok\n",
      "concurso.datos_resultados_finales.datos_jurado.jury_results_2017 ok\n",
      "concurso.datos_resultados_finales.datos_jurado.jury_results_2018 ok\n",
      "concurso.datos_resultados_finales.datos_jurado.jury_results_2019 ok\n",
      "concurso.datos_resultados_finales.datos_jurado.jury_results_2021 ok\n",
      "concurso.datos_resultados_finales.datos_jurado.jury_results_2022 ok\n",
      "concurso.datos_resultados_finales.datos_televotacion.2016_televote_results ok\n",
      "concurso.datos_resultados_finales.datos_televotacion.2017_televote_results ok\n",
      "concurso.datos_resultados_finales.datos_televotacion.2018_televote_results ok\n",
      "concurso.datos_resultados_finales.datos_televotacion.2019_televote_results ok\n",
      "concurso.datos_resultados_finales.datos_televotacion.2021_televote_results ok\n",
      "concurso.datos_resultados_finales.datos_televotacion.2022_televote_results ok\n"
     ]
    }
   ],
   "source": [
    "#variables resultados finales\n",
    "#jurado\n",
    "checkearVariablePanda(concurso.datos_resultados_finales.datos_jurado.jury_results_2016,'concurso.datos_resultados_finales.datos_jurado.jury_results_2016')\n",
    "checkearVariablePanda(concurso.datos_resultados_finales.datos_jurado.jury_results_2017,'concurso.datos_resultados_finales.datos_jurado.jury_results_2017')\n",
    "checkearVariablePanda(concurso.datos_resultados_finales.datos_jurado.jury_results_2018,'concurso.datos_resultados_finales.datos_jurado.jury_results_2018')\n",
    "checkearVariablePanda(concurso.datos_resultados_finales.datos_jurado.jury_results_2019,'concurso.datos_resultados_finales.datos_jurado.jury_results_2019')\n",
    "checkearVariablePanda(concurso.datos_resultados_finales.datos_jurado.jury_results_2021,'concurso.datos_resultados_finales.datos_jurado.jury_results_2021')\n",
    "checkearVariablePanda(concurso.datos_resultados_finales.datos_jurado.jury_results_2022,'concurso.datos_resultados_finales.datos_jurado.jury_results_2022')\n",
    "\n",
    "#televotacion\n",
    "checkearVariablePanda(concurso.datos_resultados_finales.datos_televotacion.televote_results_2016,'concurso.datos_resultados_finales.datos_televotacion.2016_televote_results')\n",
    "checkearVariablePanda(concurso.datos_resultados_finales.datos_televotacion.televote_results_2017,'concurso.datos_resultados_finales.datos_televotacion.2017_televote_results')\n",
    "checkearVariablePanda(concurso.datos_resultados_finales.datos_televotacion.televote_results_2018,'concurso.datos_resultados_finales.datos_televotacion.2018_televote_results')\n",
    "checkearVariablePanda(concurso.datos_resultados_finales.datos_televotacion.televote_results_2019,'concurso.datos_resultados_finales.datos_televotacion.2019_televote_results')\n",
    "checkearVariablePanda(concurso.datos_resultados_finales.datos_televotacion.televote_results_2021,'concurso.datos_resultados_finales.datos_televotacion.2021_televote_results')\n",
    "checkearVariablePanda(concurso.datos_resultados_finales.datos_televotacion.televote_results_2022,'concurso.datos_resultados_finales.datos_televotacion.2022_televote_results')"
   ]
  },
  {
   "cell_type": "markdown",
   "metadata": {},
   "source": [
    "# Manipulacion de CSVs"
   ]
  },
  {
   "cell_type": "markdown",
   "metadata": {},
   "source": [
    "Utilizando el dataset principal haremos plots simples"
   ]
  },
  {
   "cell_type": "code",
   "execution_count": 167,
   "metadata": {},
   "outputs": [
    {
     "data": {
      "text/html": [
       "<div>\n",
       "<style scoped>\n",
       "    .dataframe tbody tr th:only-of-type {\n",
       "        vertical-align: middle;\n",
       "    }\n",
       "\n",
       "    .dataframe tbody tr th {\n",
       "        vertical-align: top;\n",
       "    }\n",
       "\n",
       "    .dataframe thead th {\n",
       "        text-align: right;\n",
       "    }\n",
       "</style>\n",
       "<table border=\"1\" class=\"dataframe\">\n",
       "  <thead>\n",
       "    <tr style=\"text-align: right;\">\n",
       "      <th></th>\n",
       "      <th>year</th>\n",
       "      <th>semi_draw_position</th>\n",
       "      <th>final_draw_position</th>\n",
       "      <th>country</th>\n",
       "      <th>artist_name</th>\n",
       "      <th>song_name</th>\n",
       "      <th>language</th>\n",
       "      <th>style</th>\n",
       "      <th>direct_qualifier_10</th>\n",
       "      <th>main_singers</th>\n",
       "      <th>...</th>\n",
       "      <th>final_jury_votes</th>\n",
       "      <th>final_place</th>\n",
       "      <th>final_total_points</th>\n",
       "      <th>semi_place</th>\n",
       "      <th>semi_televote_points</th>\n",
       "      <th>semi_jury_points</th>\n",
       "      <th>semi_total_points</th>\n",
       "      <th>favourite_10</th>\n",
       "      <th>race</th>\n",
       "      <th>host_10</th>\n",
       "    </tr>\n",
       "  </thead>\n",
       "  <tbody>\n",
       "    <tr>\n",
       "      <th>0</th>\n",
       "      <td>2022</td>\n",
       "      <td>1</td>\n",
       "      <td>0</td>\n",
       "      <td>Albania</td>\n",
       "      <td>Ronela Hajati</td>\n",
       "      <td>Sekret</td>\n",
       "      <td>Albanian, English</td>\n",
       "      <td>Pop</td>\n",
       "      <td>-</td>\n",
       "      <td>1</td>\n",
       "      <td>...</td>\n",
       "      <td>0.0</td>\n",
       "      <td>0.0</td>\n",
       "      <td>0.0</td>\n",
       "      <td>12.0</td>\n",
       "      <td>46.0</td>\n",
       "      <td>12.0</td>\n",
       "      <td>58.0</td>\n",
       "      <td>0</td>\n",
       "      <td>white</td>\n",
       "      <td>0</td>\n",
       "    </tr>\n",
       "    <tr>\n",
       "      <th>1</th>\n",
       "      <td>2022</td>\n",
       "      <td>2</td>\n",
       "      <td>0</td>\n",
       "      <td>Latvia</td>\n",
       "      <td>Citi Zeni</td>\n",
       "      <td>Eat Your Salad</td>\n",
       "      <td>English</td>\n",
       "      <td>Pop</td>\n",
       "      <td>-</td>\n",
       "      <td>1</td>\n",
       "      <td>...</td>\n",
       "      <td>0.0</td>\n",
       "      <td>0.0</td>\n",
       "      <td>0.0</td>\n",
       "      <td>14.0</td>\n",
       "      <td>16.0</td>\n",
       "      <td>39.0</td>\n",
       "      <td>55.0</td>\n",
       "      <td>0</td>\n",
       "      <td>white</td>\n",
       "      <td>0</td>\n",
       "    </tr>\n",
       "    <tr>\n",
       "      <th>2</th>\n",
       "      <td>2022</td>\n",
       "      <td>3</td>\n",
       "      <td>14</td>\n",
       "      <td>Lithuania</td>\n",
       "      <td>Monika Liu</td>\n",
       "      <td>Sentimentai</td>\n",
       "      <td>Lithuanian</td>\n",
       "      <td>Ballad</td>\n",
       "      <td>0</td>\n",
       "      <td>1</td>\n",
       "      <td>...</td>\n",
       "      <td>10.0</td>\n",
       "      <td>14.0</td>\n",
       "      <td>128.0</td>\n",
       "      <td>7.0</td>\n",
       "      <td>103.0</td>\n",
       "      <td>56.0</td>\n",
       "      <td>159.0</td>\n",
       "      <td>0</td>\n",
       "      <td>white</td>\n",
       "      <td>0</td>\n",
       "    </tr>\n",
       "    <tr>\n",
       "      <th>3</th>\n",
       "      <td>2022</td>\n",
       "      <td>4</td>\n",
       "      <td>5</td>\n",
       "      <td>Switzerland</td>\n",
       "      <td>Marius Bear</td>\n",
       "      <td>Boys Do Cry</td>\n",
       "      <td>English</td>\n",
       "      <td>Ballad</td>\n",
       "      <td>0</td>\n",
       "      <td>1</td>\n",
       "      <td>...</td>\n",
       "      <td>21.0</td>\n",
       "      <td>17.0</td>\n",
       "      <td>78.0</td>\n",
       "      <td>9.0</td>\n",
       "      <td>11.0</td>\n",
       "      <td>107.0</td>\n",
       "      <td>118.0</td>\n",
       "      <td>0</td>\n",
       "      <td>white</td>\n",
       "      <td>0</td>\n",
       "    </tr>\n",
       "    <tr>\n",
       "      <th>4</th>\n",
       "      <td>2022</td>\n",
       "      <td>5</td>\n",
       "      <td>0</td>\n",
       "      <td>Slovenia</td>\n",
       "      <td>LPS</td>\n",
       "      <td>Disko</td>\n",
       "      <td>Slovene</td>\n",
       "      <td>Pop</td>\n",
       "      <td>-</td>\n",
       "      <td>1</td>\n",
       "      <td>...</td>\n",
       "      <td>0.0</td>\n",
       "      <td>0.0</td>\n",
       "      <td>0.0</td>\n",
       "      <td>17.0</td>\n",
       "      <td>8.0</td>\n",
       "      <td>7.0</td>\n",
       "      <td>15.0</td>\n",
       "      <td>0</td>\n",
       "      <td>white</td>\n",
       "      <td>0</td>\n",
       "    </tr>\n",
       "    <tr>\n",
       "      <th>...</th>\n",
       "      <td>...</td>\n",
       "      <td>...</td>\n",
       "      <td>...</td>\n",
       "      <td>...</td>\n",
       "      <td>...</td>\n",
       "      <td>...</td>\n",
       "      <td>...</td>\n",
       "      <td>...</td>\n",
       "      <td>...</td>\n",
       "      <td>...</td>\n",
       "      <td>...</td>\n",
       "      <td>...</td>\n",
       "      <td>...</td>\n",
       "      <td>...</td>\n",
       "      <td>...</td>\n",
       "      <td>...</td>\n",
       "      <td>...</td>\n",
       "      <td>...</td>\n",
       "      <td>...</td>\n",
       "      <td>...</td>\n",
       "      <td>...</td>\n",
       "    </tr>\n",
       "    <tr>\n",
       "      <th>523</th>\n",
       "      <td>2009</td>\n",
       "      <td>0</td>\n",
       "      <td>3</td>\n",
       "      <td>France</td>\n",
       "      <td>Patricia Kaas</td>\n",
       "      <td>Et s'il fallait le faire</td>\n",
       "      <td>French</td>\n",
       "      <td>Ballad</td>\n",
       "      <td>1</td>\n",
       "      <td>1</td>\n",
       "      <td>...</td>\n",
       "      <td>0.0</td>\n",
       "      <td>8.0</td>\n",
       "      <td>218.0</td>\n",
       "      <td>0.0</td>\n",
       "      <td>0.0</td>\n",
       "      <td>0.0</td>\n",
       "      <td>0.0</td>\n",
       "      <td>0</td>\n",
       "      <td>unknown</td>\n",
       "      <td>0</td>\n",
       "    </tr>\n",
       "    <tr>\n",
       "      <th>524</th>\n",
       "      <td>2009</td>\n",
       "      <td>0</td>\n",
       "      <td>10</td>\n",
       "      <td>Russia</td>\n",
       "      <td>Anastasiya Prikhodko</td>\n",
       "      <td>Mamo</td>\n",
       "      <td>Russian, Ukrainian</td>\n",
       "      <td>Ballad</td>\n",
       "      <td>1</td>\n",
       "      <td>1</td>\n",
       "      <td>...</td>\n",
       "      <td>0.0</td>\n",
       "      <td>11.0</td>\n",
       "      <td>185.0</td>\n",
       "      <td>0.0</td>\n",
       "      <td>0.0</td>\n",
       "      <td>0.0</td>\n",
       "      <td>0.0</td>\n",
       "      <td>0</td>\n",
       "      <td>unknown</td>\n",
       "      <td>1</td>\n",
       "    </tr>\n",
       "    <tr>\n",
       "      <th>525</th>\n",
       "      <td>2009</td>\n",
       "      <td>0</td>\n",
       "      <td>17</td>\n",
       "      <td>Germany</td>\n",
       "      <td>Alex Swings Oscar Sings!</td>\n",
       "      <td>Miss Kiss Kiss Bang</td>\n",
       "      <td>English</td>\n",
       "      <td>Pop</td>\n",
       "      <td>1</td>\n",
       "      <td>1</td>\n",
       "      <td>...</td>\n",
       "      <td>0.0</td>\n",
       "      <td>20.0</td>\n",
       "      <td>91.0</td>\n",
       "      <td>0.0</td>\n",
       "      <td>0.0</td>\n",
       "      <td>0.0</td>\n",
       "      <td>0.0</td>\n",
       "      <td>0</td>\n",
       "      <td>unknown</td>\n",
       "      <td>0</td>\n",
       "    </tr>\n",
       "    <tr>\n",
       "      <th>526</th>\n",
       "      <td>2009</td>\n",
       "      <td>0</td>\n",
       "      <td>23</td>\n",
       "      <td>United Kingdom</td>\n",
       "      <td>Jade Ewen</td>\n",
       "      <td>It's My Time</td>\n",
       "      <td>English</td>\n",
       "      <td>Ballad</td>\n",
       "      <td>1</td>\n",
       "      <td>1</td>\n",
       "      <td>...</td>\n",
       "      <td>0.0</td>\n",
       "      <td>5.0</td>\n",
       "      <td>328.0</td>\n",
       "      <td>0.0</td>\n",
       "      <td>0.0</td>\n",
       "      <td>0.0</td>\n",
       "      <td>0.0</td>\n",
       "      <td>0</td>\n",
       "      <td>unknown</td>\n",
       "      <td>0</td>\n",
       "    </tr>\n",
       "    <tr>\n",
       "      <th>527</th>\n",
       "      <td>2009</td>\n",
       "      <td>0</td>\n",
       "      <td>25</td>\n",
       "      <td>Spain</td>\n",
       "      <td>Soraya Arnelas</td>\n",
       "      <td>La noche es para mi</td>\n",
       "      <td>Spanish, English</td>\n",
       "      <td>Dance</td>\n",
       "      <td>1</td>\n",
       "      <td>1</td>\n",
       "      <td>...</td>\n",
       "      <td>0.0</td>\n",
       "      <td>24.0</td>\n",
       "      <td>47.0</td>\n",
       "      <td>0.0</td>\n",
       "      <td>0.0</td>\n",
       "      <td>0.0</td>\n",
       "      <td>0.0</td>\n",
       "      <td>0</td>\n",
       "      <td>unknown</td>\n",
       "      <td>0</td>\n",
       "    </tr>\n",
       "  </tbody>\n",
       "</table>\n",
       "<p>528 rows × 40 columns</p>\n",
       "</div>"
      ],
      "text/plain": [
       "     year  semi_draw_position  final_draw_position         country  \\\n",
       "0    2022                   1                    0         Albania   \n",
       "1    2022                   2                    0          Latvia   \n",
       "2    2022                   3                   14       Lithuania   \n",
       "3    2022                   4                    5     Switzerland   \n",
       "4    2022                   5                    0        Slovenia   \n",
       "..    ...                 ...                  ...             ...   \n",
       "523  2009                   0                    3          France   \n",
       "524  2009                   0                   10          Russia   \n",
       "525  2009                   0                   17         Germany   \n",
       "526  2009                   0                   23  United Kingdom   \n",
       "527  2009                   0                   25           Spain   \n",
       "\n",
       "                  artist_name                 song_name            language  \\\n",
       "0               Ronela Hajati                    Sekret   Albanian, English   \n",
       "1                   Citi Zeni            Eat Your Salad             English   \n",
       "2                  Monika Liu               Sentimentai          Lithuanian   \n",
       "3                 Marius Bear               Boys Do Cry             English   \n",
       "4                         LPS                     Disko             Slovene   \n",
       "..                        ...                       ...                 ...   \n",
       "523             Patricia Kaas  Et s'il fallait le faire              French   \n",
       "524      Anastasiya Prikhodko                      Mamo  Russian, Ukrainian   \n",
       "525  Alex Swings Oscar Sings!       Miss Kiss Kiss Bang             English   \n",
       "526                 Jade Ewen              It's My Time             English   \n",
       "527            Soraya Arnelas       La noche es para mi    Spanish, English   \n",
       "\n",
       "      style direct_qualifier_10  main_singers  ... final_jury_votes  \\\n",
       "0       Pop                   -             1  ...              0.0   \n",
       "1       Pop                   -             1  ...              0.0   \n",
       "2    Ballad                   0             1  ...             10.0   \n",
       "3    Ballad                   0             1  ...             21.0   \n",
       "4       Pop                   -             1  ...              0.0   \n",
       "..      ...                 ...           ...  ...              ...   \n",
       "523  Ballad                   1             1  ...              0.0   \n",
       "524  Ballad                   1             1  ...              0.0   \n",
       "525     Pop                   1             1  ...              0.0   \n",
       "526  Ballad                   1             1  ...              0.0   \n",
       "527   Dance                   1             1  ...              0.0   \n",
       "\n",
       "     final_place  final_total_points  semi_place  semi_televote_points  \\\n",
       "0            0.0                 0.0        12.0                  46.0   \n",
       "1            0.0                 0.0        14.0                  16.0   \n",
       "2           14.0               128.0         7.0                 103.0   \n",
       "3           17.0                78.0         9.0                  11.0   \n",
       "4            0.0                 0.0        17.0                   8.0   \n",
       "..           ...                 ...         ...                   ...   \n",
       "523          8.0               218.0         0.0                   0.0   \n",
       "524         11.0               185.0         0.0                   0.0   \n",
       "525         20.0                91.0         0.0                   0.0   \n",
       "526          5.0               328.0         0.0                   0.0   \n",
       "527         24.0                47.0         0.0                   0.0   \n",
       "\n",
       "    semi_jury_points  semi_total_points  favourite_10     race host_10  \n",
       "0               12.0               58.0             0    white       0  \n",
       "1               39.0               55.0             0    white       0  \n",
       "2               56.0              159.0             0    white       0  \n",
       "3              107.0              118.0             0    white       0  \n",
       "4                7.0               15.0             0    white       0  \n",
       "..               ...                ...           ...      ...     ...  \n",
       "523              0.0                0.0             0  unknown       0  \n",
       "524              0.0                0.0             0  unknown       1  \n",
       "525              0.0                0.0             0  unknown       0  \n",
       "526              0.0                0.0             0  unknown       0  \n",
       "527              0.0                0.0             0  unknown       0  \n",
       "\n",
       "[528 rows x 40 columns]"
      ]
     },
     "execution_count": 167,
     "metadata": {},
     "output_type": "execute_result"
    }
   ],
   "source": [
    "song_data = concurso.song_data\n",
    "song_data"
   ]
  },
  {
   "cell_type": "code",
   "execution_count": 168,
   "metadata": {},
   "outputs": [
    {
     "data": {
      "text/plain": [
       "year                       int64\n",
       "semi_draw_position         int32\n",
       "final_draw_position        int32\n",
       "country                   string\n",
       "artist_name               string\n",
       "song_name                 string\n",
       "language                  string\n",
       "style                     string\n",
       "direct_qualifier_10       object\n",
       "main_singers               int64\n",
       "key                       object\n",
       "BPM                        int32\n",
       "energy                     int32\n",
       "danceability               int32\n",
       "happiness                  int32\n",
       "loudness                  string\n",
       "acousticness               int32\n",
       "instrumentalness           int32\n",
       "liveness                   int32\n",
       "speechiness               string\n",
       "release_date              object\n",
       "key_change_10             object\n",
       "backing_dancers            int64\n",
       "backing_singers            int64\n",
       "backing_instruments        int64\n",
       "instrument_10              int64\n",
       "qualified                 object\n",
       "final_televote_points    float64\n",
       "final_jury_points        float64\n",
       "final_televote_votes     float64\n",
       "final_jury_votes         float64\n",
       "final_place              float64\n",
       "final_total_points       float64\n",
       "semi_place               float64\n",
       "semi_televote_points     float64\n",
       "semi_jury_points         float64\n",
       "semi_total_points        float64\n",
       "favourite_10               int64\n",
       "race                      string\n",
       "host_10                    int64\n",
       "dtype: object"
      ]
     },
     "execution_count": 168,
     "metadata": {},
     "output_type": "execute_result"
    }
   ],
   "source": [
    "song_data.dtypes"
   ]
  },
  {
   "cell_type": "markdown",
   "metadata": {},
   "source": [
    "## Pie Chart"
   ]
  },
  {
   "cell_type": "markdown",
   "metadata": {},
   "source": [
    "Dataset"
   ]
  },
  {
   "cell_type": "code",
   "execution_count": 169,
   "metadata": {},
   "outputs": [
    {
     "name": "stdout",
     "output_type": "stream",
     "text": [
      "*\n"
     ]
    }
   ],
   "source": [
    "print('*')"
   ]
  },
  {
   "cell_type": "code",
   "execution_count": 170,
   "metadata": {},
   "outputs": [
    {
     "data": {
      "text/html": [
       "<div>\n",
       "<style scoped>\n",
       "    .dataframe tbody tr th:only-of-type {\n",
       "        vertical-align: middle;\n",
       "    }\n",
       "\n",
       "    .dataframe tbody tr th {\n",
       "        vertical-align: top;\n",
       "    }\n",
       "\n",
       "    .dataframe thead th {\n",
       "        text-align: right;\n",
       "    }\n",
       "</style>\n",
       "<table border=\"1\" class=\"dataframe\">\n",
       "  <thead>\n",
       "    <tr style=\"text-align: right;\">\n",
       "      <th></th>\n",
       "      <th>year</th>\n",
       "      <th>semi_draw_position</th>\n",
       "      <th>final_draw_position</th>\n",
       "      <th>country</th>\n",
       "      <th>artist_name</th>\n",
       "      <th>song_name</th>\n",
       "      <th>language</th>\n",
       "      <th>style</th>\n",
       "      <th>direct_qualifier_10</th>\n",
       "      <th>main_singers</th>\n",
       "      <th>...</th>\n",
       "      <th>final_jury_votes</th>\n",
       "      <th>final_place</th>\n",
       "      <th>final_total_points</th>\n",
       "      <th>semi_place</th>\n",
       "      <th>semi_televote_points</th>\n",
       "      <th>semi_jury_points</th>\n",
       "      <th>semi_total_points</th>\n",
       "      <th>favourite_10</th>\n",
       "      <th>race</th>\n",
       "      <th>host_10</th>\n",
       "    </tr>\n",
       "  </thead>\n",
       "  <tbody>\n",
       "    <tr>\n",
       "      <th>5</th>\n",
       "      <td>2022</td>\n",
       "      <td>6</td>\n",
       "      <td>12</td>\n",
       "      <td>Ukraine</td>\n",
       "      <td>Kalush Orchestra</td>\n",
       "      <td>Stefania</td>\n",
       "      <td>Ukrainian</td>\n",
       "      <td>Traditional</td>\n",
       "      <td>0</td>\n",
       "      <td>1</td>\n",
       "      <td>...</td>\n",
       "      <td>26.0</td>\n",
       "      <td>1.0</td>\n",
       "      <td>631.0</td>\n",
       "      <td>1.0</td>\n",
       "      <td>202.0</td>\n",
       "      <td>135.0</td>\n",
       "      <td>337.0</td>\n",
       "      <td>1</td>\n",
       "      <td>white</td>\n",
       "      <td>0</td>\n",
       "    </tr>\n",
       "    <tr>\n",
       "      <th>38</th>\n",
       "      <td>2022</td>\n",
       "      <td>0</td>\n",
       "      <td>22</td>\n",
       "      <td>United Kingdom</td>\n",
       "      <td>Sam Ryder</td>\n",
       "      <td>Space Man</td>\n",
       "      <td>English</td>\n",
       "      <td>Pop</td>\n",
       "      <td>1</td>\n",
       "      <td>1</td>\n",
       "      <td>...</td>\n",
       "      <td>35.0</td>\n",
       "      <td>2.0</td>\n",
       "      <td>466.0</td>\n",
       "      <td>0.0</td>\n",
       "      <td>0.0</td>\n",
       "      <td>0.0</td>\n",
       "      <td>0.0</td>\n",
       "      <td>0</td>\n",
       "      <td>white</td>\n",
       "      <td>0</td>\n",
       "    </tr>\n",
       "    <tr>\n",
       "      <th>36</th>\n",
       "      <td>2022</td>\n",
       "      <td>0</td>\n",
       "      <td>10</td>\n",
       "      <td>Spain</td>\n",
       "      <td>Chanel</td>\n",
       "      <td>SloMo</td>\n",
       "      <td>Spanish, English</td>\n",
       "      <td>Pop</td>\n",
       "      <td>1</td>\n",
       "      <td>1</td>\n",
       "      <td>...</td>\n",
       "      <td>34.0</td>\n",
       "      <td>3.0</td>\n",
       "      <td>459.0</td>\n",
       "      <td>0.0</td>\n",
       "      <td>0.0</td>\n",
       "      <td>0.0</td>\n",
       "      <td>0.0</td>\n",
       "      <td>0</td>\n",
       "      <td>white</td>\n",
       "      <td>0</td>\n",
       "    </tr>\n",
       "    <tr>\n",
       "      <th>33</th>\n",
       "      <td>2022</td>\n",
       "      <td>17</td>\n",
       "      <td>20</td>\n",
       "      <td>Sweden</td>\n",
       "      <td>Cornelia Jakobs</td>\n",
       "      <td>Hold Me Closer</td>\n",
       "      <td>English</td>\n",
       "      <td>Ballad</td>\n",
       "      <td>0</td>\n",
       "      <td>1</td>\n",
       "      <td>...</td>\n",
       "      <td>33.0</td>\n",
       "      <td>4.0</td>\n",
       "      <td>438.0</td>\n",
       "      <td>1.0</td>\n",
       "      <td>174.0</td>\n",
       "      <td>222.0</td>\n",
       "      <td>396.0</td>\n",
       "      <td>0</td>\n",
       "      <td>unknown</td>\n",
       "      <td>0</td>\n",
       "    </tr>\n",
       "    <tr>\n",
       "      <th>19</th>\n",
       "      <td>2022</td>\n",
       "      <td>3</td>\n",
       "      <td>24</td>\n",
       "      <td>Serbia</td>\n",
       "      <td>Konstrakta</td>\n",
       "      <td>In corpore sano</td>\n",
       "      <td>Serbian, Latin</td>\n",
       "      <td>Traditional</td>\n",
       "      <td>0</td>\n",
       "      <td>1</td>\n",
       "      <td>...</td>\n",
       "      <td>15.0</td>\n",
       "      <td>5.0</td>\n",
       "      <td>312.0</td>\n",
       "      <td>3.0</td>\n",
       "      <td>174.0</td>\n",
       "      <td>63.0</td>\n",
       "      <td>237.0</td>\n",
       "      <td>0</td>\n",
       "      <td>white</td>\n",
       "      <td>0</td>\n",
       "    </tr>\n",
       "  </tbody>\n",
       "</table>\n",
       "<p>5 rows × 40 columns</p>\n",
       "</div>"
      ],
      "text/plain": [
       "    year  semi_draw_position  final_draw_position         country  \\\n",
       "5   2022                   6                   12         Ukraine   \n",
       "38  2022                   0                   22  United Kingdom   \n",
       "36  2022                   0                   10           Spain   \n",
       "33  2022                  17                   20          Sweden   \n",
       "19  2022                   3                   24          Serbia   \n",
       "\n",
       "         artist_name        song_name          language        style  \\\n",
       "5   Kalush Orchestra         Stefania         Ukrainian  Traditional   \n",
       "38         Sam Ryder        Space Man           English          Pop   \n",
       "36            Chanel            SloMo  Spanish, English          Pop   \n",
       "33   Cornelia Jakobs   Hold Me Closer           English       Ballad   \n",
       "19        Konstrakta  In corpore sano    Serbian, Latin  Traditional   \n",
       "\n",
       "   direct_qualifier_10  main_singers  ... final_jury_votes  final_place  \\\n",
       "5                    0             1  ...             26.0          1.0   \n",
       "38                   1             1  ...             35.0          2.0   \n",
       "36                   1             1  ...             34.0          3.0   \n",
       "33                   0             1  ...             33.0          4.0   \n",
       "19                   0             1  ...             15.0          5.0   \n",
       "\n",
       "    final_total_points  semi_place  semi_televote_points semi_jury_points  \\\n",
       "5                631.0         1.0                 202.0            135.0   \n",
       "38               466.0         0.0                   0.0              0.0   \n",
       "36               459.0         0.0                   0.0              0.0   \n",
       "33               438.0         1.0                 174.0            222.0   \n",
       "19               312.0         3.0                 174.0             63.0   \n",
       "\n",
       "    semi_total_points  favourite_10     race host_10  \n",
       "5               337.0             1    white       0  \n",
       "38                0.0             0    white       0  \n",
       "36                0.0             0    white       0  \n",
       "33              396.0             0  unknown       0  \n",
       "19              237.0             0    white       0  \n",
       "\n",
       "[5 rows x 40 columns]"
      ]
     },
     "execution_count": 170,
     "metadata": {},
     "output_type": "execute_result"
    }
   ],
   "source": [
    "song_data_2022 = song_data[(song_data.year == 2022) & (song_data.final_place > 0.0)]\n",
    "song_data_2022_top = song_data_2022.sort_values(by='final_place',ascending=True)\n",
    "song_data_2022_top.head()"
   ]
  },
  {
   "cell_type": "markdown",
   "metadata": {},
   "source": [
    "Plot"
   ]
  },
  {
   "cell_type": "code",
   "execution_count": 171,
   "metadata": {},
   "outputs": [
    {
     "data": {
      "application/vnd.plotly.v1+json": {
       "config": {
        "plotlyServerURL": "https://plot.ly"
       },
       "data": [
        {
         "domain": {
          "x": [
           0,
           1
          ],
          "y": [
           0,
           1
          ]
         },
         "hovertemplate": "country=%{label}<br>final_total_points=%{value}<extra></extra>",
         "labels": [
          "Ukraine",
          "United Kingdom",
          "Spain",
          "Sweden",
          "Serbia"
         ],
         "legendgroup": "",
         "name": "",
         "showlegend": true,
         "type": "pie",
         "values": [
          631,
          466,
          459,
          438,
          312
         ]
        }
       ],
       "layout": {
        "legend": {
         "tracegroupgap": 0
        },
        "template": {
         "data": {
          "bar": [
           {
            "error_x": {
             "color": "#2a3f5f"
            },
            "error_y": {
             "color": "#2a3f5f"
            },
            "marker": {
             "line": {
              "color": "#E5ECF6",
              "width": 0.5
             },
             "pattern": {
              "fillmode": "overlay",
              "size": 10,
              "solidity": 0.2
             }
            },
            "type": "bar"
           }
          ],
          "barpolar": [
           {
            "marker": {
             "line": {
              "color": "#E5ECF6",
              "width": 0.5
             },
             "pattern": {
              "fillmode": "overlay",
              "size": 10,
              "solidity": 0.2
             }
            },
            "type": "barpolar"
           }
          ],
          "carpet": [
           {
            "aaxis": {
             "endlinecolor": "#2a3f5f",
             "gridcolor": "white",
             "linecolor": "white",
             "minorgridcolor": "white",
             "startlinecolor": "#2a3f5f"
            },
            "baxis": {
             "endlinecolor": "#2a3f5f",
             "gridcolor": "white",
             "linecolor": "white",
             "minorgridcolor": "white",
             "startlinecolor": "#2a3f5f"
            },
            "type": "carpet"
           }
          ],
          "choropleth": [
           {
            "colorbar": {
             "outlinewidth": 0,
             "ticks": ""
            },
            "type": "choropleth"
           }
          ],
          "contour": [
           {
            "colorbar": {
             "outlinewidth": 0,
             "ticks": ""
            },
            "colorscale": [
             [
              0,
              "#0d0887"
             ],
             [
              0.1111111111111111,
              "#46039f"
             ],
             [
              0.2222222222222222,
              "#7201a8"
             ],
             [
              0.3333333333333333,
              "#9c179e"
             ],
             [
              0.4444444444444444,
              "#bd3786"
             ],
             [
              0.5555555555555556,
              "#d8576b"
             ],
             [
              0.6666666666666666,
              "#ed7953"
             ],
             [
              0.7777777777777778,
              "#fb9f3a"
             ],
             [
              0.8888888888888888,
              "#fdca26"
             ],
             [
              1,
              "#f0f921"
             ]
            ],
            "type": "contour"
           }
          ],
          "contourcarpet": [
           {
            "colorbar": {
             "outlinewidth": 0,
             "ticks": ""
            },
            "type": "contourcarpet"
           }
          ],
          "heatmap": [
           {
            "colorbar": {
             "outlinewidth": 0,
             "ticks": ""
            },
            "colorscale": [
             [
              0,
              "#0d0887"
             ],
             [
              0.1111111111111111,
              "#46039f"
             ],
             [
              0.2222222222222222,
              "#7201a8"
             ],
             [
              0.3333333333333333,
              "#9c179e"
             ],
             [
              0.4444444444444444,
              "#bd3786"
             ],
             [
              0.5555555555555556,
              "#d8576b"
             ],
             [
              0.6666666666666666,
              "#ed7953"
             ],
             [
              0.7777777777777778,
              "#fb9f3a"
             ],
             [
              0.8888888888888888,
              "#fdca26"
             ],
             [
              1,
              "#f0f921"
             ]
            ],
            "type": "heatmap"
           }
          ],
          "heatmapgl": [
           {
            "colorbar": {
             "outlinewidth": 0,
             "ticks": ""
            },
            "colorscale": [
             [
              0,
              "#0d0887"
             ],
             [
              0.1111111111111111,
              "#46039f"
             ],
             [
              0.2222222222222222,
              "#7201a8"
             ],
             [
              0.3333333333333333,
              "#9c179e"
             ],
             [
              0.4444444444444444,
              "#bd3786"
             ],
             [
              0.5555555555555556,
              "#d8576b"
             ],
             [
              0.6666666666666666,
              "#ed7953"
             ],
             [
              0.7777777777777778,
              "#fb9f3a"
             ],
             [
              0.8888888888888888,
              "#fdca26"
             ],
             [
              1,
              "#f0f921"
             ]
            ],
            "type": "heatmapgl"
           }
          ],
          "histogram": [
           {
            "marker": {
             "pattern": {
              "fillmode": "overlay",
              "size": 10,
              "solidity": 0.2
             }
            },
            "type": "histogram"
           }
          ],
          "histogram2d": [
           {
            "colorbar": {
             "outlinewidth": 0,
             "ticks": ""
            },
            "colorscale": [
             [
              0,
              "#0d0887"
             ],
             [
              0.1111111111111111,
              "#46039f"
             ],
             [
              0.2222222222222222,
              "#7201a8"
             ],
             [
              0.3333333333333333,
              "#9c179e"
             ],
             [
              0.4444444444444444,
              "#bd3786"
             ],
             [
              0.5555555555555556,
              "#d8576b"
             ],
             [
              0.6666666666666666,
              "#ed7953"
             ],
             [
              0.7777777777777778,
              "#fb9f3a"
             ],
             [
              0.8888888888888888,
              "#fdca26"
             ],
             [
              1,
              "#f0f921"
             ]
            ],
            "type": "histogram2d"
           }
          ],
          "histogram2dcontour": [
           {
            "colorbar": {
             "outlinewidth": 0,
             "ticks": ""
            },
            "colorscale": [
             [
              0,
              "#0d0887"
             ],
             [
              0.1111111111111111,
              "#46039f"
             ],
             [
              0.2222222222222222,
              "#7201a8"
             ],
             [
              0.3333333333333333,
              "#9c179e"
             ],
             [
              0.4444444444444444,
              "#bd3786"
             ],
             [
              0.5555555555555556,
              "#d8576b"
             ],
             [
              0.6666666666666666,
              "#ed7953"
             ],
             [
              0.7777777777777778,
              "#fb9f3a"
             ],
             [
              0.8888888888888888,
              "#fdca26"
             ],
             [
              1,
              "#f0f921"
             ]
            ],
            "type": "histogram2dcontour"
           }
          ],
          "mesh3d": [
           {
            "colorbar": {
             "outlinewidth": 0,
             "ticks": ""
            },
            "type": "mesh3d"
           }
          ],
          "parcoords": [
           {
            "line": {
             "colorbar": {
              "outlinewidth": 0,
              "ticks": ""
             }
            },
            "type": "parcoords"
           }
          ],
          "pie": [
           {
            "automargin": true,
            "type": "pie"
           }
          ],
          "scatter": [
           {
            "fillpattern": {
             "fillmode": "overlay",
             "size": 10,
             "solidity": 0.2
            },
            "type": "scatter"
           }
          ],
          "scatter3d": [
           {
            "line": {
             "colorbar": {
              "outlinewidth": 0,
              "ticks": ""
             }
            },
            "marker": {
             "colorbar": {
              "outlinewidth": 0,
              "ticks": ""
             }
            },
            "type": "scatter3d"
           }
          ],
          "scattercarpet": [
           {
            "marker": {
             "colorbar": {
              "outlinewidth": 0,
              "ticks": ""
             }
            },
            "type": "scattercarpet"
           }
          ],
          "scattergeo": [
           {
            "marker": {
             "colorbar": {
              "outlinewidth": 0,
              "ticks": ""
             }
            },
            "type": "scattergeo"
           }
          ],
          "scattergl": [
           {
            "marker": {
             "colorbar": {
              "outlinewidth": 0,
              "ticks": ""
             }
            },
            "type": "scattergl"
           }
          ],
          "scattermapbox": [
           {
            "marker": {
             "colorbar": {
              "outlinewidth": 0,
              "ticks": ""
             }
            },
            "type": "scattermapbox"
           }
          ],
          "scatterpolar": [
           {
            "marker": {
             "colorbar": {
              "outlinewidth": 0,
              "ticks": ""
             }
            },
            "type": "scatterpolar"
           }
          ],
          "scatterpolargl": [
           {
            "marker": {
             "colorbar": {
              "outlinewidth": 0,
              "ticks": ""
             }
            },
            "type": "scatterpolargl"
           }
          ],
          "scatterternary": [
           {
            "marker": {
             "colorbar": {
              "outlinewidth": 0,
              "ticks": ""
             }
            },
            "type": "scatterternary"
           }
          ],
          "surface": [
           {
            "colorbar": {
             "outlinewidth": 0,
             "ticks": ""
            },
            "colorscale": [
             [
              0,
              "#0d0887"
             ],
             [
              0.1111111111111111,
              "#46039f"
             ],
             [
              0.2222222222222222,
              "#7201a8"
             ],
             [
              0.3333333333333333,
              "#9c179e"
             ],
             [
              0.4444444444444444,
              "#bd3786"
             ],
             [
              0.5555555555555556,
              "#d8576b"
             ],
             [
              0.6666666666666666,
              "#ed7953"
             ],
             [
              0.7777777777777778,
              "#fb9f3a"
             ],
             [
              0.8888888888888888,
              "#fdca26"
             ],
             [
              1,
              "#f0f921"
             ]
            ],
            "type": "surface"
           }
          ],
          "table": [
           {
            "cells": {
             "fill": {
              "color": "#EBF0F8"
             },
             "line": {
              "color": "white"
             }
            },
            "header": {
             "fill": {
              "color": "#C8D4E3"
             },
             "line": {
              "color": "white"
             }
            },
            "type": "table"
           }
          ]
         },
         "layout": {
          "annotationdefaults": {
           "arrowcolor": "#2a3f5f",
           "arrowhead": 0,
           "arrowwidth": 1
          },
          "autotypenumbers": "strict",
          "coloraxis": {
           "colorbar": {
            "outlinewidth": 0,
            "ticks": ""
           }
          },
          "colorscale": {
           "diverging": [
            [
             0,
             "#8e0152"
            ],
            [
             0.1,
             "#c51b7d"
            ],
            [
             0.2,
             "#de77ae"
            ],
            [
             0.3,
             "#f1b6da"
            ],
            [
             0.4,
             "#fde0ef"
            ],
            [
             0.5,
             "#f7f7f7"
            ],
            [
             0.6,
             "#e6f5d0"
            ],
            [
             0.7,
             "#b8e186"
            ],
            [
             0.8,
             "#7fbc41"
            ],
            [
             0.9,
             "#4d9221"
            ],
            [
             1,
             "#276419"
            ]
           ],
           "sequential": [
            [
             0,
             "#0d0887"
            ],
            [
             0.1111111111111111,
             "#46039f"
            ],
            [
             0.2222222222222222,
             "#7201a8"
            ],
            [
             0.3333333333333333,
             "#9c179e"
            ],
            [
             0.4444444444444444,
             "#bd3786"
            ],
            [
             0.5555555555555556,
             "#d8576b"
            ],
            [
             0.6666666666666666,
             "#ed7953"
            ],
            [
             0.7777777777777778,
             "#fb9f3a"
            ],
            [
             0.8888888888888888,
             "#fdca26"
            ],
            [
             1,
             "#f0f921"
            ]
           ],
           "sequentialminus": [
            [
             0,
             "#0d0887"
            ],
            [
             0.1111111111111111,
             "#46039f"
            ],
            [
             0.2222222222222222,
             "#7201a8"
            ],
            [
             0.3333333333333333,
             "#9c179e"
            ],
            [
             0.4444444444444444,
             "#bd3786"
            ],
            [
             0.5555555555555556,
             "#d8576b"
            ],
            [
             0.6666666666666666,
             "#ed7953"
            ],
            [
             0.7777777777777778,
             "#fb9f3a"
            ],
            [
             0.8888888888888888,
             "#fdca26"
            ],
            [
             1,
             "#f0f921"
            ]
           ]
          },
          "colorway": [
           "#636efa",
           "#EF553B",
           "#00cc96",
           "#ab63fa",
           "#FFA15A",
           "#19d3f3",
           "#FF6692",
           "#B6E880",
           "#FF97FF",
           "#FECB52"
          ],
          "font": {
           "color": "#2a3f5f"
          },
          "geo": {
           "bgcolor": "white",
           "lakecolor": "white",
           "landcolor": "#E5ECF6",
           "showlakes": true,
           "showland": true,
           "subunitcolor": "white"
          },
          "hoverlabel": {
           "align": "left"
          },
          "hovermode": "closest",
          "mapbox": {
           "style": "light"
          },
          "paper_bgcolor": "white",
          "plot_bgcolor": "#E5ECF6",
          "polar": {
           "angularaxis": {
            "gridcolor": "white",
            "linecolor": "white",
            "ticks": ""
           },
           "bgcolor": "#E5ECF6",
           "radialaxis": {
            "gridcolor": "white",
            "linecolor": "white",
            "ticks": ""
           }
          },
          "scene": {
           "xaxis": {
            "backgroundcolor": "#E5ECF6",
            "gridcolor": "white",
            "gridwidth": 2,
            "linecolor": "white",
            "showbackground": true,
            "ticks": "",
            "zerolinecolor": "white"
           },
           "yaxis": {
            "backgroundcolor": "#E5ECF6",
            "gridcolor": "white",
            "gridwidth": 2,
            "linecolor": "white",
            "showbackground": true,
            "ticks": "",
            "zerolinecolor": "white"
           },
           "zaxis": {
            "backgroundcolor": "#E5ECF6",
            "gridcolor": "white",
            "gridwidth": 2,
            "linecolor": "white",
            "showbackground": true,
            "ticks": "",
            "zerolinecolor": "white"
           }
          },
          "shapedefaults": {
           "line": {
            "color": "#2a3f5f"
           }
          },
          "ternary": {
           "aaxis": {
            "gridcolor": "white",
            "linecolor": "white",
            "ticks": ""
           },
           "baxis": {
            "gridcolor": "white",
            "linecolor": "white",
            "ticks": ""
           },
           "bgcolor": "#E5ECF6",
           "caxis": {
            "gridcolor": "white",
            "linecolor": "white",
            "ticks": ""
           }
          },
          "title": {
           "x": 0.05
          },
          "xaxis": {
           "automargin": true,
           "gridcolor": "white",
           "linecolor": "white",
           "ticks": "",
           "title": {
            "standoff": 15
           },
           "zerolinecolor": "white",
           "zerolinewidth": 2
          },
          "yaxis": {
           "automargin": true,
           "gridcolor": "white",
           "linecolor": "white",
           "ticks": "",
           "title": {
            "standoff": 15
           },
           "zerolinecolor": "white",
           "zerolinewidth": 2
          }
         }
        },
        "title": {
         "text": "Paises de los artistas con mas votos el año 2022"
        }
       }
      }
     },
     "metadata": {},
     "output_type": "display_data"
    }
   ],
   "source": [
    "fig = px.pie(song_data_2022_top.head(), values='final_total_points', names='country', title='Paises de los artistas con mas votos el año 2022')\n",
    "fig.show()"
   ]
  },
  {
   "cell_type": "markdown",
   "metadata": {},
   "source": [
    "## Bar Chart"
   ]
  },
  {
   "cell_type": "markdown",
   "metadata": {},
   "source": [
    "Dataset"
   ]
  },
  {
   "cell_type": "code",
   "execution_count": 172,
   "metadata": {},
   "outputs": [
    {
     "data": {
      "text/html": [
       "<div>\n",
       "<style scoped>\n",
       "    .dataframe tbody tr th:only-of-type {\n",
       "        vertical-align: middle;\n",
       "    }\n",
       "\n",
       "    .dataframe tbody tr th {\n",
       "        vertical-align: top;\n",
       "    }\n",
       "\n",
       "    .dataframe thead th {\n",
       "        text-align: right;\n",
       "    }\n",
       "</style>\n",
       "<table border=\"1\" class=\"dataframe\">\n",
       "  <thead>\n",
       "    <tr style=\"text-align: right;\">\n",
       "      <th></th>\n",
       "      <th>year</th>\n",
       "      <th>sum_final_televote_points</th>\n",
       "      <th>sum_final_jury_points</th>\n",
       "      <th>sum_final_total_points</th>\n",
       "    </tr>\n",
       "  </thead>\n",
       "  <tbody>\n",
       "    <tr>\n",
       "      <th>0</th>\n",
       "      <td>2009</td>\n",
       "      <td>2436.0</td>\n",
       "      <td>2436.0</td>\n",
       "      <td>4872.0</td>\n",
       "    </tr>\n",
       "    <tr>\n",
       "      <th>1</th>\n",
       "      <td>2010</td>\n",
       "      <td>2220.0</td>\n",
       "      <td>2179.0</td>\n",
       "      <td>4399.0</td>\n",
       "    </tr>\n",
       "    <tr>\n",
       "      <th>2</th>\n",
       "      <td>2011</td>\n",
       "      <td>2343.0</td>\n",
       "      <td>2404.0</td>\n",
       "      <td>4747.0</td>\n",
       "    </tr>\n",
       "    <tr>\n",
       "      <th>3</th>\n",
       "      <td>2012</td>\n",
       "      <td>2300.0</td>\n",
       "      <td>2296.0</td>\n",
       "      <td>4596.0</td>\n",
       "    </tr>\n",
       "    <tr>\n",
       "      <th>4</th>\n",
       "      <td>2013</td>\n",
       "      <td>0.0</td>\n",
       "      <td>0.0</td>\n",
       "      <td>0.0</td>\n",
       "    </tr>\n",
       "    <tr>\n",
       "      <th>5</th>\n",
       "      <td>2014</td>\n",
       "      <td>1888.0</td>\n",
       "      <td>1810.0</td>\n",
       "      <td>3698.0</td>\n",
       "    </tr>\n",
       "    <tr>\n",
       "      <th>6</th>\n",
       "      <td>2015</td>\n",
       "      <td>1980.0</td>\n",
       "      <td>2138.0</td>\n",
       "      <td>4118.0</td>\n",
       "    </tr>\n",
       "    <tr>\n",
       "      <th>7</th>\n",
       "      <td>2016</td>\n",
       "      <td>2436.0</td>\n",
       "      <td>2436.0</td>\n",
       "      <td>4872.0</td>\n",
       "    </tr>\n",
       "    <tr>\n",
       "      <th>8</th>\n",
       "      <td>2017</td>\n",
       "      <td>2436.0</td>\n",
       "      <td>2436.0</td>\n",
       "      <td>4872.0</td>\n",
       "    </tr>\n",
       "    <tr>\n",
       "      <th>9</th>\n",
       "      <td>2018</td>\n",
       "      <td>2494.0</td>\n",
       "      <td>2494.0</td>\n",
       "      <td>4988.0</td>\n",
       "    </tr>\n",
       "    <tr>\n",
       "      <th>10</th>\n",
       "      <td>2019</td>\n",
       "      <td>2378.0</td>\n",
       "      <td>2378.0</td>\n",
       "      <td>4756.0</td>\n",
       "    </tr>\n",
       "    <tr>\n",
       "      <th>11</th>\n",
       "      <td>2021</td>\n",
       "      <td>2262.0</td>\n",
       "      <td>2262.0</td>\n",
       "      <td>4108.0</td>\n",
       "    </tr>\n",
       "    <tr>\n",
       "      <th>12</th>\n",
       "      <td>2022</td>\n",
       "      <td>2320.0</td>\n",
       "      <td>2320.0</td>\n",
       "      <td>4640.0</td>\n",
       "    </tr>\n",
       "  </tbody>\n",
       "</table>\n",
       "</div>"
      ],
      "text/plain": [
       "    year  sum_final_televote_points  sum_final_jury_points  \\\n",
       "0   2009                     2436.0                 2436.0   \n",
       "1   2010                     2220.0                 2179.0   \n",
       "2   2011                     2343.0                 2404.0   \n",
       "3   2012                     2300.0                 2296.0   \n",
       "4   2013                        0.0                    0.0   \n",
       "5   2014                     1888.0                 1810.0   \n",
       "6   2015                     1980.0                 2138.0   \n",
       "7   2016                     2436.0                 2436.0   \n",
       "8   2017                     2436.0                 2436.0   \n",
       "9   2018                     2494.0                 2494.0   \n",
       "10  2019                     2378.0                 2378.0   \n",
       "11  2021                     2262.0                 2262.0   \n",
       "12  2022                     2320.0                 2320.0   \n",
       "\n",
       "    sum_final_total_points  \n",
       "0                   4872.0  \n",
       "1                   4399.0  \n",
       "2                   4747.0  \n",
       "3                   4596.0  \n",
       "4                      0.0  \n",
       "5                   3698.0  \n",
       "6                   4118.0  \n",
       "7                   4872.0  \n",
       "8                   4872.0  \n",
       "9                   4988.0  \n",
       "10                  4756.0  \n",
       "11                  4108.0  \n",
       "12                  4640.0  "
      ]
     },
     "execution_count": 172,
     "metadata": {},
     "output_type": "execute_result"
    }
   ],
   "source": [
    "song_data_agrupado_1 = song_data.groupby(['year']).agg(\n",
    "     sum_final_televote_points = ('final_televote_points','sum'),\n",
    "     sum_final_jury_points = ('final_jury_points','sum'),\n",
    "     sum_final_total_points = ('final_total_points','sum'),\n",
    "     ).reset_index()\n",
    "\n",
    "song_data_agrupado_1"
   ]
  },
  {
   "cell_type": "markdown",
   "metadata": {},
   "source": [
    "Plot"
   ]
  },
  {
   "cell_type": "code",
   "execution_count": 173,
   "metadata": {},
   "outputs": [
    {
     "data": {
      "application/vnd.plotly.v1+json": {
       "config": {
        "plotlyServerURL": "https://plot.ly"
       },
       "data": [
        {
         "alignmentgroup": "True",
         "hovertemplate": "variable=sum_final_televote_points<br>year=%{x}<br>value=%{y}<extra></extra>",
         "legendgroup": "sum_final_televote_points",
         "marker": {
          "color": "#636efa",
          "pattern": {
           "shape": ""
          }
         },
         "name": "sum_final_televote_points",
         "offsetgroup": "sum_final_televote_points",
         "orientation": "v",
         "showlegend": true,
         "textposition": "auto",
         "type": "bar",
         "x": [
          2009,
          2010,
          2011,
          2012,
          2013,
          2014,
          2015,
          2016,
          2017,
          2018,
          2019,
          2021,
          2022
         ],
         "xaxis": "x",
         "y": [
          2436,
          2220,
          2343,
          2300,
          0,
          1888,
          1980,
          2436,
          2436,
          2494,
          2378,
          2262,
          2320
         ],
         "yaxis": "y"
        },
        {
         "alignmentgroup": "True",
         "hovertemplate": "variable=sum_final_jury_points<br>year=%{x}<br>value=%{y}<extra></extra>",
         "legendgroup": "sum_final_jury_points",
         "marker": {
          "color": "#EF553B",
          "pattern": {
           "shape": ""
          }
         },
         "name": "sum_final_jury_points",
         "offsetgroup": "sum_final_jury_points",
         "orientation": "v",
         "showlegend": true,
         "textposition": "auto",
         "type": "bar",
         "x": [
          2009,
          2010,
          2011,
          2012,
          2013,
          2014,
          2015,
          2016,
          2017,
          2018,
          2019,
          2021,
          2022
         ],
         "xaxis": "x",
         "y": [
          2436,
          2179,
          2404,
          2296,
          0,
          1810,
          2138,
          2436,
          2436,
          2494,
          2378,
          2262,
          2320
         ],
         "yaxis": "y"
        }
       ],
       "layout": {
        "barmode": "relative",
        "legend": {
         "title": {
          "text": "variable"
         },
         "tracegroupgap": 0
        },
        "template": {
         "data": {
          "bar": [
           {
            "error_x": {
             "color": "#2a3f5f"
            },
            "error_y": {
             "color": "#2a3f5f"
            },
            "marker": {
             "line": {
              "color": "#E5ECF6",
              "width": 0.5
             },
             "pattern": {
              "fillmode": "overlay",
              "size": 10,
              "solidity": 0.2
             }
            },
            "type": "bar"
           }
          ],
          "barpolar": [
           {
            "marker": {
             "line": {
              "color": "#E5ECF6",
              "width": 0.5
             },
             "pattern": {
              "fillmode": "overlay",
              "size": 10,
              "solidity": 0.2
             }
            },
            "type": "barpolar"
           }
          ],
          "carpet": [
           {
            "aaxis": {
             "endlinecolor": "#2a3f5f",
             "gridcolor": "white",
             "linecolor": "white",
             "minorgridcolor": "white",
             "startlinecolor": "#2a3f5f"
            },
            "baxis": {
             "endlinecolor": "#2a3f5f",
             "gridcolor": "white",
             "linecolor": "white",
             "minorgridcolor": "white",
             "startlinecolor": "#2a3f5f"
            },
            "type": "carpet"
           }
          ],
          "choropleth": [
           {
            "colorbar": {
             "outlinewidth": 0,
             "ticks": ""
            },
            "type": "choropleth"
           }
          ],
          "contour": [
           {
            "colorbar": {
             "outlinewidth": 0,
             "ticks": ""
            },
            "colorscale": [
             [
              0,
              "#0d0887"
             ],
             [
              0.1111111111111111,
              "#46039f"
             ],
             [
              0.2222222222222222,
              "#7201a8"
             ],
             [
              0.3333333333333333,
              "#9c179e"
             ],
             [
              0.4444444444444444,
              "#bd3786"
             ],
             [
              0.5555555555555556,
              "#d8576b"
             ],
             [
              0.6666666666666666,
              "#ed7953"
             ],
             [
              0.7777777777777778,
              "#fb9f3a"
             ],
             [
              0.8888888888888888,
              "#fdca26"
             ],
             [
              1,
              "#f0f921"
             ]
            ],
            "type": "contour"
           }
          ],
          "contourcarpet": [
           {
            "colorbar": {
             "outlinewidth": 0,
             "ticks": ""
            },
            "type": "contourcarpet"
           }
          ],
          "heatmap": [
           {
            "colorbar": {
             "outlinewidth": 0,
             "ticks": ""
            },
            "colorscale": [
             [
              0,
              "#0d0887"
             ],
             [
              0.1111111111111111,
              "#46039f"
             ],
             [
              0.2222222222222222,
              "#7201a8"
             ],
             [
              0.3333333333333333,
              "#9c179e"
             ],
             [
              0.4444444444444444,
              "#bd3786"
             ],
             [
              0.5555555555555556,
              "#d8576b"
             ],
             [
              0.6666666666666666,
              "#ed7953"
             ],
             [
              0.7777777777777778,
              "#fb9f3a"
             ],
             [
              0.8888888888888888,
              "#fdca26"
             ],
             [
              1,
              "#f0f921"
             ]
            ],
            "type": "heatmap"
           }
          ],
          "heatmapgl": [
           {
            "colorbar": {
             "outlinewidth": 0,
             "ticks": ""
            },
            "colorscale": [
             [
              0,
              "#0d0887"
             ],
             [
              0.1111111111111111,
              "#46039f"
             ],
             [
              0.2222222222222222,
              "#7201a8"
             ],
             [
              0.3333333333333333,
              "#9c179e"
             ],
             [
              0.4444444444444444,
              "#bd3786"
             ],
             [
              0.5555555555555556,
              "#d8576b"
             ],
             [
              0.6666666666666666,
              "#ed7953"
             ],
             [
              0.7777777777777778,
              "#fb9f3a"
             ],
             [
              0.8888888888888888,
              "#fdca26"
             ],
             [
              1,
              "#f0f921"
             ]
            ],
            "type": "heatmapgl"
           }
          ],
          "histogram": [
           {
            "marker": {
             "pattern": {
              "fillmode": "overlay",
              "size": 10,
              "solidity": 0.2
             }
            },
            "type": "histogram"
           }
          ],
          "histogram2d": [
           {
            "colorbar": {
             "outlinewidth": 0,
             "ticks": ""
            },
            "colorscale": [
             [
              0,
              "#0d0887"
             ],
             [
              0.1111111111111111,
              "#46039f"
             ],
             [
              0.2222222222222222,
              "#7201a8"
             ],
             [
              0.3333333333333333,
              "#9c179e"
             ],
             [
              0.4444444444444444,
              "#bd3786"
             ],
             [
              0.5555555555555556,
              "#d8576b"
             ],
             [
              0.6666666666666666,
              "#ed7953"
             ],
             [
              0.7777777777777778,
              "#fb9f3a"
             ],
             [
              0.8888888888888888,
              "#fdca26"
             ],
             [
              1,
              "#f0f921"
             ]
            ],
            "type": "histogram2d"
           }
          ],
          "histogram2dcontour": [
           {
            "colorbar": {
             "outlinewidth": 0,
             "ticks": ""
            },
            "colorscale": [
             [
              0,
              "#0d0887"
             ],
             [
              0.1111111111111111,
              "#46039f"
             ],
             [
              0.2222222222222222,
              "#7201a8"
             ],
             [
              0.3333333333333333,
              "#9c179e"
             ],
             [
              0.4444444444444444,
              "#bd3786"
             ],
             [
              0.5555555555555556,
              "#d8576b"
             ],
             [
              0.6666666666666666,
              "#ed7953"
             ],
             [
              0.7777777777777778,
              "#fb9f3a"
             ],
             [
              0.8888888888888888,
              "#fdca26"
             ],
             [
              1,
              "#f0f921"
             ]
            ],
            "type": "histogram2dcontour"
           }
          ],
          "mesh3d": [
           {
            "colorbar": {
             "outlinewidth": 0,
             "ticks": ""
            },
            "type": "mesh3d"
           }
          ],
          "parcoords": [
           {
            "line": {
             "colorbar": {
              "outlinewidth": 0,
              "ticks": ""
             }
            },
            "type": "parcoords"
           }
          ],
          "pie": [
           {
            "automargin": true,
            "type": "pie"
           }
          ],
          "scatter": [
           {
            "fillpattern": {
             "fillmode": "overlay",
             "size": 10,
             "solidity": 0.2
            },
            "type": "scatter"
           }
          ],
          "scatter3d": [
           {
            "line": {
             "colorbar": {
              "outlinewidth": 0,
              "ticks": ""
             }
            },
            "marker": {
             "colorbar": {
              "outlinewidth": 0,
              "ticks": ""
             }
            },
            "type": "scatter3d"
           }
          ],
          "scattercarpet": [
           {
            "marker": {
             "colorbar": {
              "outlinewidth": 0,
              "ticks": ""
             }
            },
            "type": "scattercarpet"
           }
          ],
          "scattergeo": [
           {
            "marker": {
             "colorbar": {
              "outlinewidth": 0,
              "ticks": ""
             }
            },
            "type": "scattergeo"
           }
          ],
          "scattergl": [
           {
            "marker": {
             "colorbar": {
              "outlinewidth": 0,
              "ticks": ""
             }
            },
            "type": "scattergl"
           }
          ],
          "scattermapbox": [
           {
            "marker": {
             "colorbar": {
              "outlinewidth": 0,
              "ticks": ""
             }
            },
            "type": "scattermapbox"
           }
          ],
          "scatterpolar": [
           {
            "marker": {
             "colorbar": {
              "outlinewidth": 0,
              "ticks": ""
             }
            },
            "type": "scatterpolar"
           }
          ],
          "scatterpolargl": [
           {
            "marker": {
             "colorbar": {
              "outlinewidth": 0,
              "ticks": ""
             }
            },
            "type": "scatterpolargl"
           }
          ],
          "scatterternary": [
           {
            "marker": {
             "colorbar": {
              "outlinewidth": 0,
              "ticks": ""
             }
            },
            "type": "scatterternary"
           }
          ],
          "surface": [
           {
            "colorbar": {
             "outlinewidth": 0,
             "ticks": ""
            },
            "colorscale": [
             [
              0,
              "#0d0887"
             ],
             [
              0.1111111111111111,
              "#46039f"
             ],
             [
              0.2222222222222222,
              "#7201a8"
             ],
             [
              0.3333333333333333,
              "#9c179e"
             ],
             [
              0.4444444444444444,
              "#bd3786"
             ],
             [
              0.5555555555555556,
              "#d8576b"
             ],
             [
              0.6666666666666666,
              "#ed7953"
             ],
             [
              0.7777777777777778,
              "#fb9f3a"
             ],
             [
              0.8888888888888888,
              "#fdca26"
             ],
             [
              1,
              "#f0f921"
             ]
            ],
            "type": "surface"
           }
          ],
          "table": [
           {
            "cells": {
             "fill": {
              "color": "#EBF0F8"
             },
             "line": {
              "color": "white"
             }
            },
            "header": {
             "fill": {
              "color": "#C8D4E3"
             },
             "line": {
              "color": "white"
             }
            },
            "type": "table"
           }
          ]
         },
         "layout": {
          "annotationdefaults": {
           "arrowcolor": "#2a3f5f",
           "arrowhead": 0,
           "arrowwidth": 1
          },
          "autotypenumbers": "strict",
          "coloraxis": {
           "colorbar": {
            "outlinewidth": 0,
            "ticks": ""
           }
          },
          "colorscale": {
           "diverging": [
            [
             0,
             "#8e0152"
            ],
            [
             0.1,
             "#c51b7d"
            ],
            [
             0.2,
             "#de77ae"
            ],
            [
             0.3,
             "#f1b6da"
            ],
            [
             0.4,
             "#fde0ef"
            ],
            [
             0.5,
             "#f7f7f7"
            ],
            [
             0.6,
             "#e6f5d0"
            ],
            [
             0.7,
             "#b8e186"
            ],
            [
             0.8,
             "#7fbc41"
            ],
            [
             0.9,
             "#4d9221"
            ],
            [
             1,
             "#276419"
            ]
           ],
           "sequential": [
            [
             0,
             "#0d0887"
            ],
            [
             0.1111111111111111,
             "#46039f"
            ],
            [
             0.2222222222222222,
             "#7201a8"
            ],
            [
             0.3333333333333333,
             "#9c179e"
            ],
            [
             0.4444444444444444,
             "#bd3786"
            ],
            [
             0.5555555555555556,
             "#d8576b"
            ],
            [
             0.6666666666666666,
             "#ed7953"
            ],
            [
             0.7777777777777778,
             "#fb9f3a"
            ],
            [
             0.8888888888888888,
             "#fdca26"
            ],
            [
             1,
             "#f0f921"
            ]
           ],
           "sequentialminus": [
            [
             0,
             "#0d0887"
            ],
            [
             0.1111111111111111,
             "#46039f"
            ],
            [
             0.2222222222222222,
             "#7201a8"
            ],
            [
             0.3333333333333333,
             "#9c179e"
            ],
            [
             0.4444444444444444,
             "#bd3786"
            ],
            [
             0.5555555555555556,
             "#d8576b"
            ],
            [
             0.6666666666666666,
             "#ed7953"
            ],
            [
             0.7777777777777778,
             "#fb9f3a"
            ],
            [
             0.8888888888888888,
             "#fdca26"
            ],
            [
             1,
             "#f0f921"
            ]
           ]
          },
          "colorway": [
           "#636efa",
           "#EF553B",
           "#00cc96",
           "#ab63fa",
           "#FFA15A",
           "#19d3f3",
           "#FF6692",
           "#B6E880",
           "#FF97FF",
           "#FECB52"
          ],
          "font": {
           "color": "#2a3f5f"
          },
          "geo": {
           "bgcolor": "white",
           "lakecolor": "white",
           "landcolor": "#E5ECF6",
           "showlakes": true,
           "showland": true,
           "subunitcolor": "white"
          },
          "hoverlabel": {
           "align": "left"
          },
          "hovermode": "closest",
          "mapbox": {
           "style": "light"
          },
          "paper_bgcolor": "white",
          "plot_bgcolor": "#E5ECF6",
          "polar": {
           "angularaxis": {
            "gridcolor": "white",
            "linecolor": "white",
            "ticks": ""
           },
           "bgcolor": "#E5ECF6",
           "radialaxis": {
            "gridcolor": "white",
            "linecolor": "white",
            "ticks": ""
           }
          },
          "scene": {
           "xaxis": {
            "backgroundcolor": "#E5ECF6",
            "gridcolor": "white",
            "gridwidth": 2,
            "linecolor": "white",
            "showbackground": true,
            "ticks": "",
            "zerolinecolor": "white"
           },
           "yaxis": {
            "backgroundcolor": "#E5ECF6",
            "gridcolor": "white",
            "gridwidth": 2,
            "linecolor": "white",
            "showbackground": true,
            "ticks": "",
            "zerolinecolor": "white"
           },
           "zaxis": {
            "backgroundcolor": "#E5ECF6",
            "gridcolor": "white",
            "gridwidth": 2,
            "linecolor": "white",
            "showbackground": true,
            "ticks": "",
            "zerolinecolor": "white"
           }
          },
          "shapedefaults": {
           "line": {
            "color": "#2a3f5f"
           }
          },
          "ternary": {
           "aaxis": {
            "gridcolor": "white",
            "linecolor": "white",
            "ticks": ""
           },
           "baxis": {
            "gridcolor": "white",
            "linecolor": "white",
            "ticks": ""
           },
           "bgcolor": "#E5ECF6",
           "caxis": {
            "gridcolor": "white",
            "linecolor": "white",
            "ticks": ""
           }
          },
          "title": {
           "x": 0.05
          },
          "xaxis": {
           "automargin": true,
           "gridcolor": "white",
           "linecolor": "white",
           "ticks": "",
           "title": {
            "standoff": 15
           },
           "zerolinecolor": "white",
           "zerolinewidth": 2
          },
          "yaxis": {
           "automargin": true,
           "gridcolor": "white",
           "linecolor": "white",
           "ticks": "",
           "title": {
            "standoff": 15
           },
           "zerolinecolor": "white",
           "zerolinewidth": 2
          }
         }
        },
        "title": {
         "text": "Puntos por año"
        },
        "xaxis": {
         "anchor": "y",
         "domain": [
          0,
          1
         ],
         "title": {
          "text": "year"
         }
        },
        "yaxis": {
         "anchor": "x",
         "domain": [
          0,
          1
         ],
         "title": {
          "text": "value"
         }
        }
       }
      }
     },
     "metadata": {},
     "output_type": "display_data"
    }
   ],
   "source": [
    "fig = px.bar(song_data_agrupado_1, x=\"year\", y=[\"sum_final_televote_points\", \"sum_final_jury_points\"], title=\"Puntos por año\")\n",
    "fig.show()"
   ]
  },
  {
   "cell_type": "code",
   "execution_count": 174,
   "metadata": {},
   "outputs": [
    {
     "name": "stdout",
     "output_type": "stream",
     "text": [
      "concurso.datos_resultados_finales.datos_encuestas.eurojury_results_2016 ok\n",
      "concurso.datos_resultados_finales.datos_encuestas.eurojury_results_2017 ok\n",
      "concurso.datos_resultados_finales.datos_encuestas.eurojury_results_2018 ok\n",
      "concurso.datos_resultados_finales.datos_encuestas.eurojury_results_2019 ok\n",
      "concurso.datos_resultados_finales.datos_encuestas.eurojury_results_2021 ok\n",
      "concurso.datos_resultados_finales.datos_encuestas.eurojury_results_2022 ok\n",
      "concurso.datos_resultados_finales.datos_encuestas.eurovisionworld_results_2016 ok\n",
      "concurso.datos_resultados_finales.datos_encuestas.eurovisionworld_results_2017 ok\n",
      "concurso.datos_resultados_finales.datos_encuestas.eurovisionworld_results_2018 ok\n",
      "concurso.datos_resultados_finales.datos_encuestas.eurovisionworld_results_2019 ok\n",
      "concurso.datos_resultados_finales.datos_encuestas.eurovisionworld_results_2021 ok\n",
      "concurso.datos_resultados_finales.datos_encuestas.eurovisionworld_results_2022 ok\n",
      "concurso.datos_resultados_finales.datos_encuestas.myeurovisionscoreboard_results_2016 ok\n",
      "concurso.datos_resultados_finales.datos_encuestas.myeurovisionscoreboard_results_2017 ok\n",
      "concurso.datos_resultados_finales.datos_encuestas.myeurovisionscoreboard_results_2018 ok\n",
      "concurso.datos_resultados_finales.datos_encuestas.myeurovisionscoreboard_results_2019 ok\n",
      "concurso.datos_resultados_finales.datos_encuestas.myeurovisionscoreboard_results_2021 ok\n",
      "concurso.datos_resultados_finales.datos_encuestas.myeurovisionscoreboard_results_2022 ok\n",
      "concurso.datos_resultados_finales.datos_encuestas.ogae.ogae_results_2016 ok\n",
      "concurso.datos_resultados_finales.datos_encuestas.ogae.ogae_results_2017 ok\n",
      "concurso.datos_resultados_finales.datos_encuestas.ogae.ogae_results_2018 ok\n",
      "concurso.datos_resultados_finales.datos_encuestas.ogae.ogae_results_2019 ok\n",
      "concurso.datos_resultados_finales.datos_encuestas.ogae.ogae_results_2021 ok\n",
      "concurso.datos_resultados_finales.datos_encuestas.ogae.ogae_results_2022 ok\n",
      "concurso.datos_resultados_finales.datos_encuestas.wiwibloggs.wiwibloggs_results_2018 ok\n",
      "concurso.datos_resultados_finales.datos_encuestas.wiwibloggs.wiwibloggs_results_2019 ok\n",
      "concurso.datos_resultados_finales.datos_encuestas.wiwibloggs.wiwibloggs_results_2021 ok\n",
      "concurso.datos_resultados_finales.datos_encuestas.wiwibloggs.wiwibloggs_results_2022 ok\n"
     ]
    }
   ],
   "source": [
    "\n",
    "#variables encuestas\n",
    "#euro july\n",
    "checkearVariablePanda(concurso.datos_encuestas.euro_july.eurojury_results_2016,'concurso.datos_resultados_finales.datos_encuestas.eurojury_results_2016')\n",
    "checkearVariablePanda(concurso.datos_encuestas.euro_july.eurojury_results_2017,'concurso.datos_resultados_finales.datos_encuestas.eurojury_results_2017')\n",
    "checkearVariablePanda(concurso.datos_encuestas.euro_july.eurojury_results_2018,'concurso.datos_resultados_finales.datos_encuestas.eurojury_results_2018')\n",
    "checkearVariablePanda(concurso.datos_encuestas.euro_july.eurojury_results_2019,'concurso.datos_resultados_finales.datos_encuestas.eurojury_results_2019')\n",
    "checkearVariablePanda(concurso.datos_encuestas.euro_july.eurojury_results_2021,'concurso.datos_resultados_finales.datos_encuestas.eurojury_results_2021')\n",
    "checkearVariablePanda(concurso.datos_encuestas.euro_july.eurojury_results_2022,'concurso.datos_resultados_finales.datos_encuestas.eurojury_results_2022')\n",
    "\n",
    "#eurovisionworld\n",
    "checkearVariablePanda(concurso.datos_encuestas.eurovision_world.eurovisionworld_results_2016,'concurso.datos_resultados_finales.datos_encuestas.eurovisionworld_results_2016')\n",
    "checkearVariablePanda(concurso.datos_encuestas.eurovision_world.eurovisionworld_results_2017,'concurso.datos_resultados_finales.datos_encuestas.eurovisionworld_results_2017')\n",
    "checkearVariablePanda(concurso.datos_encuestas.eurovision_world.eurovisionworld_results_2018,'concurso.datos_resultados_finales.datos_encuestas.eurovisionworld_results_2018')\n",
    "checkearVariablePanda(concurso.datos_encuestas.eurovision_world.eurovisionworld_results_2019,'concurso.datos_resultados_finales.datos_encuestas.eurovisionworld_results_2019')\n",
    "checkearVariablePanda(concurso.datos_encuestas.eurovision_world.eurovisionworld_results_2021,'concurso.datos_resultados_finales.datos_encuestas.eurovisionworld_results_2021')\n",
    "checkearVariablePanda(concurso.datos_encuestas.eurovision_world.eurovisionworld_results_2022,'concurso.datos_resultados_finales.datos_encuestas.eurovisionworld_results_2022')\n",
    "\n",
    "#my eurovision score\n",
    "checkearVariablePanda(concurso.datos_encuestas.my_eurovision_score.myeurovisionscoreboard_results_2016,'concurso.datos_resultados_finales.datos_encuestas.myeurovisionscoreboard_results_2016')\n",
    "checkearVariablePanda(concurso.datos_encuestas.my_eurovision_score.myeurovisionscoreboard_results_2017,'concurso.datos_resultados_finales.datos_encuestas.myeurovisionscoreboard_results_2017')\n",
    "checkearVariablePanda(concurso.datos_encuestas.my_eurovision_score.myeurovisionscoreboard_results_2018,'concurso.datos_resultados_finales.datos_encuestas.myeurovisionscoreboard_results_2018')\n",
    "checkearVariablePanda(concurso.datos_encuestas.my_eurovision_score.myeurovisionscoreboard_results_2019,'concurso.datos_resultados_finales.datos_encuestas.myeurovisionscoreboard_results_2019')\n",
    "checkearVariablePanda(concurso.datos_encuestas.my_eurovision_score.myeurovisionscoreboard_results_2021,'concurso.datos_resultados_finales.datos_encuestas.myeurovisionscoreboard_results_2021')\n",
    "checkearVariablePanda(concurso.datos_encuestas.my_eurovision_score.myeurovisionscoreboard_results_2022,'concurso.datos_resultados_finales.datos_encuestas.myeurovisionscoreboard_results_2022')\n",
    "\n",
    "#ogae\n",
    "checkearVariablePanda(concurso.datos_encuestas.ogae.ogae_results_2016,'concurso.datos_resultados_finales.datos_encuestas.ogae.ogae_results_2016')\n",
    "checkearVariablePanda(concurso.datos_encuestas.ogae.ogae_results_2017,'concurso.datos_resultados_finales.datos_encuestas.ogae.ogae_results_2017')\n",
    "checkearVariablePanda(concurso.datos_encuestas.ogae.ogae_results_2018,'concurso.datos_resultados_finales.datos_encuestas.ogae.ogae_results_2018')\n",
    "checkearVariablePanda(concurso.datos_encuestas.ogae.ogae_results_2019,'concurso.datos_resultados_finales.datos_encuestas.ogae.ogae_results_2019')\n",
    "checkearVariablePanda(concurso.datos_encuestas.ogae.ogae_results_2021,'concurso.datos_resultados_finales.datos_encuestas.ogae.ogae_results_2021')\n",
    "checkearVariablePanda(concurso.datos_encuestas.ogae.ogae_results_2022,'concurso.datos_resultados_finales.datos_encuestas.ogae.ogae_results_2022')\n",
    "\n",
    "#wiwibloggs\n",
    "checkearVariablePanda(concurso.datos_encuestas.wiwibloggs.wiwibloggs_results_2018,'concurso.datos_resultados_finales.datos_encuestas.wiwibloggs.wiwibloggs_results_2018')\n",
    "checkearVariablePanda(concurso.datos_encuestas.wiwibloggs.wiwibloggs_results_2019,'concurso.datos_resultados_finales.datos_encuestas.wiwibloggs.wiwibloggs_results_2019')\n",
    "checkearVariablePanda(concurso.datos_encuestas.wiwibloggs.wiwibloggs_results_2021,'concurso.datos_resultados_finales.datos_encuestas.wiwibloggs.wiwibloggs_results_2021')\n",
    "checkearVariablePanda(concurso.datos_encuestas.wiwibloggs.wiwibloggs_results_2022,'concurso.datos_resultados_finales.datos_encuestas.wiwibloggs.wiwibloggs_results_2022')"
   ]
  },
  {
   "cell_type": "code",
   "execution_count": 175,
   "metadata": {},
   "outputs": [],
   "source": [
    "### Series de tiempo\n",
    "\n",
    "concurso_2016 = concurso.datos_encuestas.euro_july.eurojury_results_2016\n",
    "concurso_2017 = concurso.datos_encuestas.euro_july.eurojury_results_2017\n",
    "concurso_2018 = concurso.datos_encuestas.euro_july.eurojury_results_2018\n",
    "concurso_2019 = concurso.datos_encuestas.euro_july.eurojury_results_2019\n",
    "concurso_2021 = concurso.datos_encuestas.euro_july.eurojury_results_2021\n",
    "concurso_2022 = concurso.datos_encuestas.euro_july.eurojury_results_2022\n",
    "\n",
    "años = [2016, 2017, 2018, 2019, 2021, 2022]\n",
    "euro_july = pd.DataFrame()\n",
    "for an in años:\n",
    "    data1 =  locals()['concurso_'+str(an)]\n",
    "    data1['año'] = an\n",
    "    euro_july = pd.concat([data1, euro_july])"
   ]
  },
  {
   "cell_type": "code",
   "execution_count": 176,
   "metadata": {},
   "outputs": [],
   "source": [
    "\n",
    "concurso_2016 = concurso.datos_encuestas.eurovision_world.eurovisionworld_results_2016\n",
    "concurso_2017 = concurso.datos_encuestas.eurovision_world.eurovisionworld_results_2017\n",
    "concurso_2018 = concurso.datos_encuestas.eurovision_world.eurovisionworld_results_2018\n",
    "concurso_2019 = concurso.datos_encuestas.eurovision_world.eurovisionworld_results_2019\n",
    "concurso_2021 = concurso.datos_encuestas.eurovision_world.eurovisionworld_results_2021\n",
    "concurso_2022 = concurso.datos_encuestas.eurovision_world.eurovisionworld_results_2022\n",
    "\n",
    "años = [2016, 2017, 2018, 2019, 2021, 2022]\n",
    "eurovisionworld = pd.DataFrame()\n",
    "for an in años:\n",
    "    data1 =  locals()['concurso_'+str(an)]\n",
    "    data1['año'] = an\n",
    "    eurovisionworld = pd.concat([data1, eurovisionworld])"
   ]
  },
  {
   "cell_type": "code",
   "execution_count": 177,
   "metadata": {},
   "outputs": [],
   "source": [
    "concurso_2016 = concurso.datos_encuestas.my_eurovision_score.myeurovisionscoreboard_results_2016\n",
    "concurso_2017 = concurso.datos_encuestas.my_eurovision_score.myeurovisionscoreboard_results_2017\n",
    "concurso_2018 = concurso.datos_encuestas.my_eurovision_score.myeurovisionscoreboard_results_2018\n",
    "concurso_2019 = concurso.datos_encuestas.my_eurovision_score.myeurovisionscoreboard_results_2019\n",
    "concurso_2021 = concurso.datos_encuestas.my_eurovision_score.myeurovisionscoreboard_results_2021\n",
    "concurso_2022 = concurso.datos_encuestas.my_eurovision_score.myeurovisionscoreboard_results_2022\n",
    "\n",
    "años = [2016, 2017, 2018, 2019, 2021, 2022]\n",
    "myeurovisionscoreboard = pd.DataFrame()\n",
    "for an in años:\n",
    "    data1 =  locals()['concurso_'+str(an)]\n",
    "    data1['año'] = an\n",
    "    myeurovisionscoreboard = pd.concat([data1, myeurovisionscoreboard])"
   ]
  },
  {
   "cell_type": "code",
   "execution_count": 178,
   "metadata": {},
   "outputs": [],
   "source": [
    "concurso_2016 = concurso.datos_encuestas.ogae.ogae_results_2016\n",
    "concurso_2017 = concurso.datos_encuestas.ogae.ogae_results_2017\n",
    "concurso_2018 = concurso.datos_encuestas.ogae.ogae_results_2018\n",
    "concurso_2019 = concurso.datos_encuestas.ogae.ogae_results_2019\n",
    "concurso_2021 = concurso.datos_encuestas.ogae.ogae_results_2021\n",
    "concurso_2022 = concurso.datos_encuestas.ogae.ogae_results_2022\n",
    "años = [2016, 2017, 2018, 2019, 2021, 2022]\n",
    "ogae = pd.DataFrame()\n",
    "for an in años:\n",
    "    data1 =  locals()['concurso_'+str(an)]\n",
    "    data1['año'] = an\n",
    "    ogae = pd.concat([data1, ogae])"
   ]
  },
  {
   "cell_type": "code",
   "execution_count": 179,
   "metadata": {},
   "outputs": [],
   "source": [
    "concurso_2018 = concurso.datos_encuestas.wiwibloggs.wiwibloggs_results_2018\n",
    "concurso_2019 = concurso.datos_encuestas.wiwibloggs.wiwibloggs_results_2019\n",
    "concurso_2021 = concurso.datos_encuestas.wiwibloggs.wiwibloggs_results_2021\n",
    "concurso_2022 = concurso.datos_encuestas.wiwibloggs.wiwibloggs_results_2022\n",
    "años = [2018, 2019, 2021, 2022]\n",
    "wiwibloggs = pd.DataFrame()\n",
    "for an in años:\n",
    "    data1 =  locals()['concurso_'+str(an)]\n",
    "    data1['año'] = an\n",
    "    wiwibloggs = pd.concat([data1, wiwibloggs])"
   ]
  },
  {
   "cell_type": "code",
   "execution_count": 180,
   "metadata": {},
   "outputs": [],
   "source": [
    "country = concurso.country_data"
   ]
  },
  {
   "cell_type": "code",
   "execution_count": 181,
   "metadata": {},
   "outputs": [],
   "source": [
    "data = pd.merge(eurovisionworld.rename(columns= {'Contestant':'country'}),country, how = 'left', on = ['country'])"
   ]
  },
  {
   "cell_type": "markdown",
   "metadata": {},
   "source": [
    "###"
   ]
  },
  {
   "attachments": {},
   "cell_type": "markdown",
   "metadata": {},
   "source": [
    "## Series de tiempo"
   ]
  },
  {
   "cell_type": "code",
   "execution_count": 182,
   "metadata": {},
   "outputs": [
    {
     "name": "stderr",
     "output_type": "stream",
     "text": [
      "C:\\Users\\paofr\\AppData\\Local\\Temp\\ipykernel_22228\\4140174491.py:3: FutureWarning:\n",
      "\n",
      "The default value of numeric_only in DataFrameGroupBy.sum is deprecated. In a future version, numeric_only will default to False. Either specify numeric_only or select only columns which should be valid for the function.\n",
      "\n"
     ]
    },
    {
     "data": {
      "application/vnd.plotly.v1+json": {
       "config": {
        "plotlyServerURL": "https://plot.ly"
       },
       "data": [
        {
         "name": "Ukraine",
         "type": "scatter",
         "x": [
          2016,
          2017,
          2018,
          2019,
          2021,
          2022
         ],
         "y": [
          13057,
          1675,
          3438,
          null,
          15448,
          24631
         ]
        },
        {
         "name": "Sweden",
         "type": "scatter",
         "x": [
          2016,
          2017,
          2018,
          2019,
          2021,
          2022
         ],
         "y": [
          3073,
          4793,
          2744,
          15440,
          9865,
          23073
         ]
        },
        {
         "name": "France",
         "type": "scatter",
         "x": [
          2016,
          2017,
          2018,
          2019,
          2021,
          2022
         ],
         "y": [
          7137,
          2651,
          5306,
          10171,
          32651,
          6140
         ]
        },
        {
         "name": "Netherlands",
         "type": "scatter",
         "x": [
          2016,
          2017,
          2018,
          2019,
          2021,
          2022
         ],
         "y": [
          5043,
          7237,
          4145,
          51174,
          5557,
          12345
         ]
        },
        {
         "name": "Italy",
         "type": "scatter",
         "x": [
          2016,
          2017,
          2018,
          2019,
          2021,
          2022
         ],
         "y": [
          1165,
          13651,
          2679,
          14005,
          36383,
          21213
         ]
        }
       ],
       "layout": {
        "template": {
         "data": {
          "bar": [
           {
            "error_x": {
             "color": "#2a3f5f"
            },
            "error_y": {
             "color": "#2a3f5f"
            },
            "marker": {
             "line": {
              "color": "white",
              "width": 0.5
             },
             "pattern": {
              "fillmode": "overlay",
              "size": 10,
              "solidity": 0.2
             }
            },
            "type": "bar"
           }
          ],
          "barpolar": [
           {
            "marker": {
             "line": {
              "color": "white",
              "width": 0.5
             },
             "pattern": {
              "fillmode": "overlay",
              "size": 10,
              "solidity": 0.2
             }
            },
            "type": "barpolar"
           }
          ],
          "carpet": [
           {
            "aaxis": {
             "endlinecolor": "#2a3f5f",
             "gridcolor": "#C8D4E3",
             "linecolor": "#C8D4E3",
             "minorgridcolor": "#C8D4E3",
             "startlinecolor": "#2a3f5f"
            },
            "baxis": {
             "endlinecolor": "#2a3f5f",
             "gridcolor": "#C8D4E3",
             "linecolor": "#C8D4E3",
             "minorgridcolor": "#C8D4E3",
             "startlinecolor": "#2a3f5f"
            },
            "type": "carpet"
           }
          ],
          "choropleth": [
           {
            "colorbar": {
             "outlinewidth": 0,
             "ticks": ""
            },
            "type": "choropleth"
           }
          ],
          "contour": [
           {
            "colorbar": {
             "outlinewidth": 0,
             "ticks": ""
            },
            "colorscale": [
             [
              0,
              "#0d0887"
             ],
             [
              0.1111111111111111,
              "#46039f"
             ],
             [
              0.2222222222222222,
              "#7201a8"
             ],
             [
              0.3333333333333333,
              "#9c179e"
             ],
             [
              0.4444444444444444,
              "#bd3786"
             ],
             [
              0.5555555555555556,
              "#d8576b"
             ],
             [
              0.6666666666666666,
              "#ed7953"
             ],
             [
              0.7777777777777778,
              "#fb9f3a"
             ],
             [
              0.8888888888888888,
              "#fdca26"
             ],
             [
              1,
              "#f0f921"
             ]
            ],
            "type": "contour"
           }
          ],
          "contourcarpet": [
           {
            "colorbar": {
             "outlinewidth": 0,
             "ticks": ""
            },
            "type": "contourcarpet"
           }
          ],
          "heatmap": [
           {
            "colorbar": {
             "outlinewidth": 0,
             "ticks": ""
            },
            "colorscale": [
             [
              0,
              "#0d0887"
             ],
             [
              0.1111111111111111,
              "#46039f"
             ],
             [
              0.2222222222222222,
              "#7201a8"
             ],
             [
              0.3333333333333333,
              "#9c179e"
             ],
             [
              0.4444444444444444,
              "#bd3786"
             ],
             [
              0.5555555555555556,
              "#d8576b"
             ],
             [
              0.6666666666666666,
              "#ed7953"
             ],
             [
              0.7777777777777778,
              "#fb9f3a"
             ],
             [
              0.8888888888888888,
              "#fdca26"
             ],
             [
              1,
              "#f0f921"
             ]
            ],
            "type": "heatmap"
           }
          ],
          "heatmapgl": [
           {
            "colorbar": {
             "outlinewidth": 0,
             "ticks": ""
            },
            "colorscale": [
             [
              0,
              "#0d0887"
             ],
             [
              0.1111111111111111,
              "#46039f"
             ],
             [
              0.2222222222222222,
              "#7201a8"
             ],
             [
              0.3333333333333333,
              "#9c179e"
             ],
             [
              0.4444444444444444,
              "#bd3786"
             ],
             [
              0.5555555555555556,
              "#d8576b"
             ],
             [
              0.6666666666666666,
              "#ed7953"
             ],
             [
              0.7777777777777778,
              "#fb9f3a"
             ],
             [
              0.8888888888888888,
              "#fdca26"
             ],
             [
              1,
              "#f0f921"
             ]
            ],
            "type": "heatmapgl"
           }
          ],
          "histogram": [
           {
            "marker": {
             "pattern": {
              "fillmode": "overlay",
              "size": 10,
              "solidity": 0.2
             }
            },
            "type": "histogram"
           }
          ],
          "histogram2d": [
           {
            "colorbar": {
             "outlinewidth": 0,
             "ticks": ""
            },
            "colorscale": [
             [
              0,
              "#0d0887"
             ],
             [
              0.1111111111111111,
              "#46039f"
             ],
             [
              0.2222222222222222,
              "#7201a8"
             ],
             [
              0.3333333333333333,
              "#9c179e"
             ],
             [
              0.4444444444444444,
              "#bd3786"
             ],
             [
              0.5555555555555556,
              "#d8576b"
             ],
             [
              0.6666666666666666,
              "#ed7953"
             ],
             [
              0.7777777777777778,
              "#fb9f3a"
             ],
             [
              0.8888888888888888,
              "#fdca26"
             ],
             [
              1,
              "#f0f921"
             ]
            ],
            "type": "histogram2d"
           }
          ],
          "histogram2dcontour": [
           {
            "colorbar": {
             "outlinewidth": 0,
             "ticks": ""
            },
            "colorscale": [
             [
              0,
              "#0d0887"
             ],
             [
              0.1111111111111111,
              "#46039f"
             ],
             [
              0.2222222222222222,
              "#7201a8"
             ],
             [
              0.3333333333333333,
              "#9c179e"
             ],
             [
              0.4444444444444444,
              "#bd3786"
             ],
             [
              0.5555555555555556,
              "#d8576b"
             ],
             [
              0.6666666666666666,
              "#ed7953"
             ],
             [
              0.7777777777777778,
              "#fb9f3a"
             ],
             [
              0.8888888888888888,
              "#fdca26"
             ],
             [
              1,
              "#f0f921"
             ]
            ],
            "type": "histogram2dcontour"
           }
          ],
          "mesh3d": [
           {
            "colorbar": {
             "outlinewidth": 0,
             "ticks": ""
            },
            "type": "mesh3d"
           }
          ],
          "parcoords": [
           {
            "line": {
             "colorbar": {
              "outlinewidth": 0,
              "ticks": ""
             }
            },
            "type": "parcoords"
           }
          ],
          "pie": [
           {
            "automargin": true,
            "type": "pie"
           }
          ],
          "scatter": [
           {
            "fillpattern": {
             "fillmode": "overlay",
             "size": 10,
             "solidity": 0.2
            },
            "type": "scatter"
           }
          ],
          "scatter3d": [
           {
            "line": {
             "colorbar": {
              "outlinewidth": 0,
              "ticks": ""
             }
            },
            "marker": {
             "colorbar": {
              "outlinewidth": 0,
              "ticks": ""
             }
            },
            "type": "scatter3d"
           }
          ],
          "scattercarpet": [
           {
            "marker": {
             "colorbar": {
              "outlinewidth": 0,
              "ticks": ""
             }
            },
            "type": "scattercarpet"
           }
          ],
          "scattergeo": [
           {
            "marker": {
             "colorbar": {
              "outlinewidth": 0,
              "ticks": ""
             }
            },
            "type": "scattergeo"
           }
          ],
          "scattergl": [
           {
            "marker": {
             "colorbar": {
              "outlinewidth": 0,
              "ticks": ""
             }
            },
            "type": "scattergl"
           }
          ],
          "scattermapbox": [
           {
            "marker": {
             "colorbar": {
              "outlinewidth": 0,
              "ticks": ""
             }
            },
            "type": "scattermapbox"
           }
          ],
          "scatterpolar": [
           {
            "marker": {
             "colorbar": {
              "outlinewidth": 0,
              "ticks": ""
             }
            },
            "type": "scatterpolar"
           }
          ],
          "scatterpolargl": [
           {
            "marker": {
             "colorbar": {
              "outlinewidth": 0,
              "ticks": ""
             }
            },
            "type": "scatterpolargl"
           }
          ],
          "scatterternary": [
           {
            "marker": {
             "colorbar": {
              "outlinewidth": 0,
              "ticks": ""
             }
            },
            "type": "scatterternary"
           }
          ],
          "surface": [
           {
            "colorbar": {
             "outlinewidth": 0,
             "ticks": ""
            },
            "colorscale": [
             [
              0,
              "#0d0887"
             ],
             [
              0.1111111111111111,
              "#46039f"
             ],
             [
              0.2222222222222222,
              "#7201a8"
             ],
             [
              0.3333333333333333,
              "#9c179e"
             ],
             [
              0.4444444444444444,
              "#bd3786"
             ],
             [
              0.5555555555555556,
              "#d8576b"
             ],
             [
              0.6666666666666666,
              "#ed7953"
             ],
             [
              0.7777777777777778,
              "#fb9f3a"
             ],
             [
              0.8888888888888888,
              "#fdca26"
             ],
             [
              1,
              "#f0f921"
             ]
            ],
            "type": "surface"
           }
          ],
          "table": [
           {
            "cells": {
             "fill": {
              "color": "#EBF0F8"
             },
             "line": {
              "color": "white"
             }
            },
            "header": {
             "fill": {
              "color": "#C8D4E3"
             },
             "line": {
              "color": "white"
             }
            },
            "type": "table"
           }
          ]
         },
         "layout": {
          "annotationdefaults": {
           "arrowcolor": "#2a3f5f",
           "arrowhead": 0,
           "arrowwidth": 1
          },
          "autotypenumbers": "strict",
          "coloraxis": {
           "colorbar": {
            "outlinewidth": 0,
            "ticks": ""
           }
          },
          "colorscale": {
           "diverging": [
            [
             0,
             "#8e0152"
            ],
            [
             0.1,
             "#c51b7d"
            ],
            [
             0.2,
             "#de77ae"
            ],
            [
             0.3,
             "#f1b6da"
            ],
            [
             0.4,
             "#fde0ef"
            ],
            [
             0.5,
             "#f7f7f7"
            ],
            [
             0.6,
             "#e6f5d0"
            ],
            [
             0.7,
             "#b8e186"
            ],
            [
             0.8,
             "#7fbc41"
            ],
            [
             0.9,
             "#4d9221"
            ],
            [
             1,
             "#276419"
            ]
           ],
           "sequential": [
            [
             0,
             "#0d0887"
            ],
            [
             0.1111111111111111,
             "#46039f"
            ],
            [
             0.2222222222222222,
             "#7201a8"
            ],
            [
             0.3333333333333333,
             "#9c179e"
            ],
            [
             0.4444444444444444,
             "#bd3786"
            ],
            [
             0.5555555555555556,
             "#d8576b"
            ],
            [
             0.6666666666666666,
             "#ed7953"
            ],
            [
             0.7777777777777778,
             "#fb9f3a"
            ],
            [
             0.8888888888888888,
             "#fdca26"
            ],
            [
             1,
             "#f0f921"
            ]
           ],
           "sequentialminus": [
            [
             0,
             "#0d0887"
            ],
            [
             0.1111111111111111,
             "#46039f"
            ],
            [
             0.2222222222222222,
             "#7201a8"
            ],
            [
             0.3333333333333333,
             "#9c179e"
            ],
            [
             0.4444444444444444,
             "#bd3786"
            ],
            [
             0.5555555555555556,
             "#d8576b"
            ],
            [
             0.6666666666666666,
             "#ed7953"
            ],
            [
             0.7777777777777778,
             "#fb9f3a"
            ],
            [
             0.8888888888888888,
             "#fdca26"
            ],
            [
             1,
             "#f0f921"
            ]
           ]
          },
          "colorway": [
           "#636efa",
           "#EF553B",
           "#00cc96",
           "#ab63fa",
           "#FFA15A",
           "#19d3f3",
           "#FF6692",
           "#B6E880",
           "#FF97FF",
           "#FECB52"
          ],
          "font": {
           "color": "#2a3f5f"
          },
          "geo": {
           "bgcolor": "white",
           "lakecolor": "white",
           "landcolor": "white",
           "showlakes": true,
           "showland": true,
           "subunitcolor": "#C8D4E3"
          },
          "hoverlabel": {
           "align": "left"
          },
          "hovermode": "closest",
          "mapbox": {
           "style": "light"
          },
          "paper_bgcolor": "white",
          "plot_bgcolor": "white",
          "polar": {
           "angularaxis": {
            "gridcolor": "#EBF0F8",
            "linecolor": "#EBF0F8",
            "ticks": ""
           },
           "bgcolor": "white",
           "radialaxis": {
            "gridcolor": "#EBF0F8",
            "linecolor": "#EBF0F8",
            "ticks": ""
           }
          },
          "scene": {
           "xaxis": {
            "backgroundcolor": "white",
            "gridcolor": "#DFE8F3",
            "gridwidth": 2,
            "linecolor": "#EBF0F8",
            "showbackground": true,
            "ticks": "",
            "zerolinecolor": "#EBF0F8"
           },
           "yaxis": {
            "backgroundcolor": "white",
            "gridcolor": "#DFE8F3",
            "gridwidth": 2,
            "linecolor": "#EBF0F8",
            "showbackground": true,
            "ticks": "",
            "zerolinecolor": "#EBF0F8"
           },
           "zaxis": {
            "backgroundcolor": "white",
            "gridcolor": "#DFE8F3",
            "gridwidth": 2,
            "linecolor": "#EBF0F8",
            "showbackground": true,
            "ticks": "",
            "zerolinecolor": "#EBF0F8"
           }
          },
          "shapedefaults": {
           "line": {
            "color": "#2a3f5f"
           }
          },
          "ternary": {
           "aaxis": {
            "gridcolor": "#DFE8F3",
            "linecolor": "#A2B1C6",
            "ticks": ""
           },
           "baxis": {
            "gridcolor": "#DFE8F3",
            "linecolor": "#A2B1C6",
            "ticks": ""
           },
           "bgcolor": "white",
           "caxis": {
            "gridcolor": "#DFE8F3",
            "linecolor": "#A2B1C6",
            "ticks": ""
           }
          },
          "title": {
           "x": 0.05
          },
          "xaxis": {
           "automargin": true,
           "gridcolor": "#EBF0F8",
           "linecolor": "#EBF0F8",
           "ticks": "",
           "title": {
            "standoff": 15
           },
           "zerolinecolor": "#EBF0F8",
           "zerolinewidth": 2
          },
          "yaxis": {
           "automargin": true,
           "gridcolor": "#EBF0F8",
           "linecolor": "#EBF0F8",
           "ticks": "",
           "title": {
            "standoff": 15
           },
           "zerolinecolor": "#EBF0F8",
           "zerolinewidth": 2
          }
         }
        },
        "title": {
         "text": "Series de tiempo evolutiva del TOP 5 de Paises con mayor cantidad de votos"
        },
        "xaxis": {
         "title": {
          "text": "Año"
         }
        },
        "yaxis": {
         "title": {
          "text": "Cantidad de Votos"
         }
        }
       }
      }
     },
     "metadata": {},
     "output_type": "display_data"
    }
   ],
   "source": [
    "import plotly.graph_objs as go\n",
    "\n",
    "paises_top_5 = data.groupby(['country']).sum().sort_values(by='Votes')[-5:].index\n",
    "df = pd.pivot_table(data.drop(['region'], axis=1), index='año', columns='country', values='Votes')\n",
    "df_top5 = df[list(paises_top_5)]\n",
    "\n",
    "fig = go.Figure()\n",
    "for col in df_top5.columns:\n",
    "    fig.add_trace(go.Scatter(x=df_top5.index, y=df_top5[col], name=col))\n",
    "\n",
    "fig.update_layout(\n",
    "    title='Series de tiempo evolutiva del TOP 5 de Paises con mayor cantidad de votos',\n",
    "    xaxis_title='Año',\n",
    "    yaxis_title='Cantidad de Votos',\n",
    "    template='plotly_white'\n",
    ")\n",
    "\n",
    "fig.show()\n"
   ]
  },
  {
   "cell_type": "code",
   "execution_count": 183,
   "metadata": {},
   "outputs": [
    {
     "name": "stdout",
     "output_type": "stream",
     "text": [
      "Requirement already satisfied: wordcloud in c:\\users\\paofr\\anaconda3\\envs\\environment\\lib\\site-packages (1.8.2.2)\n",
      "Requirement already satisfied: pillow in c:\\users\\paofr\\anaconda3\\envs\\environment\\lib\\site-packages (from wordcloud) (9.5.0)\n",
      "Requirement already satisfied: numpy>=1.6.1 in c:\\users\\paofr\\anaconda3\\envs\\environment\\lib\\site-packages (from wordcloud) (1.22.3)\n",
      "Requirement already satisfied: matplotlib in c:\\users\\paofr\\anaconda3\\envs\\environment\\lib\\site-packages (from wordcloud) (3.7.1)\n",
      "Requirement already satisfied: python-dateutil>=2.7 in c:\\users\\paofr\\anaconda3\\envs\\environment\\lib\\site-packages (from matplotlib->wordcloud) (2.8.2)\n",
      "Requirement already satisfied: fonttools>=4.22.0 in c:\\users\\paofr\\anaconda3\\envs\\environment\\lib\\site-packages (from matplotlib->wordcloud) (4.39.3)\n",
      "Requirement already satisfied: pyparsing>=2.3.1 in c:\\users\\paofr\\anaconda3\\envs\\environment\\lib\\site-packages (from matplotlib->wordcloud) (3.0.9)\n",
      "Requirement already satisfied: kiwisolver>=1.0.1 in c:\\users\\paofr\\anaconda3\\envs\\environment\\lib\\site-packages (from matplotlib->wordcloud) (1.4.4)\n",
      "Requirement already satisfied: cycler>=0.10 in c:\\users\\paofr\\anaconda3\\envs\\environment\\lib\\site-packages (from matplotlib->wordcloud) (0.11.0)\n",
      "Requirement already satisfied: packaging>=20.0 in c:\\users\\paofr\\anaconda3\\envs\\environment\\lib\\site-packages (from matplotlib->wordcloud) (23.0)\n",
      "Requirement already satisfied: contourpy>=1.0.1 in c:\\users\\paofr\\anaconda3\\envs\\environment\\lib\\site-packages (from matplotlib->wordcloud) (1.0.7)\n",
      "Requirement already satisfied: six>=1.5 in c:\\users\\paofr\\anaconda3\\envs\\environment\\lib\\site-packages (from python-dateutil>=2.7->matplotlib->wordcloud) (1.16.0)\n"
     ]
    }
   ],
   "source": [
    "! pip install wordcloud"
   ]
  },
  {
   "cell_type": "code",
   "execution_count": 184,
   "metadata": {},
   "outputs": [],
   "source": [
    "## Nubes de palabras"
   ]
  },
  {
   "cell_type": "code",
   "execution_count": 185,
   "metadata": {},
   "outputs": [
    {
     "name": "stdout",
     "output_type": "stream",
     "text": [
      "Wordcloud and Plotly are installed and imported!\n"
     ]
    },
    {
     "data": {
      "application/vnd.plotly.v1+json": {
       "config": {
        "plotlyServerURL": "https://plot.ly"
       },
       "data": [
        {
         "hovertemplate": "x: %{x}<br>y: %{y}<br>color: [%{z[0]}, %{z[1]}, %{z[2]}]<extra></extra>",
         "name": "0",
         "source": "data:image/png;base64,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",
         "type": "image",
         "xaxis": "x",
         "yaxis": "y"
        }
       ],
       "layout": {
        "margin": {
         "t": 60
        },
        "template": {
         "data": {
          "bar": [
           {
            "error_x": {
             "color": "#2a3f5f"
            },
            "error_y": {
             "color": "#2a3f5f"
            },
            "marker": {
             "line": {
              "color": "white",
              "width": 0.5
             },
             "pattern": {
              "fillmode": "overlay",
              "size": 10,
              "solidity": 0.2
             }
            },
            "type": "bar"
           }
          ],
          "barpolar": [
           {
            "marker": {
             "line": {
              "color": "white",
              "width": 0.5
             },
             "pattern": {
              "fillmode": "overlay",
              "size": 10,
              "solidity": 0.2
             }
            },
            "type": "barpolar"
           }
          ],
          "carpet": [
           {
            "aaxis": {
             "endlinecolor": "#2a3f5f",
             "gridcolor": "#C8D4E3",
             "linecolor": "#C8D4E3",
             "minorgridcolor": "#C8D4E3",
             "startlinecolor": "#2a3f5f"
            },
            "baxis": {
             "endlinecolor": "#2a3f5f",
             "gridcolor": "#C8D4E3",
             "linecolor": "#C8D4E3",
             "minorgridcolor": "#C8D4E3",
             "startlinecolor": "#2a3f5f"
            },
            "type": "carpet"
           }
          ],
          "choropleth": [
           {
            "colorbar": {
             "outlinewidth": 0,
             "ticks": ""
            },
            "type": "choropleth"
           }
          ],
          "contour": [
           {
            "colorbar": {
             "outlinewidth": 0,
             "ticks": ""
            },
            "colorscale": [
             [
              0,
              "#0d0887"
             ],
             [
              0.1111111111111111,
              "#46039f"
             ],
             [
              0.2222222222222222,
              "#7201a8"
             ],
             [
              0.3333333333333333,
              "#9c179e"
             ],
             [
              0.4444444444444444,
              "#bd3786"
             ],
             [
              0.5555555555555556,
              "#d8576b"
             ],
             [
              0.6666666666666666,
              "#ed7953"
             ],
             [
              0.7777777777777778,
              "#fb9f3a"
             ],
             [
              0.8888888888888888,
              "#fdca26"
             ],
             [
              1,
              "#f0f921"
             ]
            ],
            "type": "contour"
           }
          ],
          "contourcarpet": [
           {
            "colorbar": {
             "outlinewidth": 0,
             "ticks": ""
            },
            "type": "contourcarpet"
           }
          ],
          "heatmap": [
           {
            "colorbar": {
             "outlinewidth": 0,
             "ticks": ""
            },
            "colorscale": [
             [
              0,
              "#0d0887"
             ],
             [
              0.1111111111111111,
              "#46039f"
             ],
             [
              0.2222222222222222,
              "#7201a8"
             ],
             [
              0.3333333333333333,
              "#9c179e"
             ],
             [
              0.4444444444444444,
              "#bd3786"
             ],
             [
              0.5555555555555556,
              "#d8576b"
             ],
             [
              0.6666666666666666,
              "#ed7953"
             ],
             [
              0.7777777777777778,
              "#fb9f3a"
             ],
             [
              0.8888888888888888,
              "#fdca26"
             ],
             [
              1,
              "#f0f921"
             ]
            ],
            "type": "heatmap"
           }
          ],
          "heatmapgl": [
           {
            "colorbar": {
             "outlinewidth": 0,
             "ticks": ""
            },
            "colorscale": [
             [
              0,
              "#0d0887"
             ],
             [
              0.1111111111111111,
              "#46039f"
             ],
             [
              0.2222222222222222,
              "#7201a8"
             ],
             [
              0.3333333333333333,
              "#9c179e"
             ],
             [
              0.4444444444444444,
              "#bd3786"
             ],
             [
              0.5555555555555556,
              "#d8576b"
             ],
             [
              0.6666666666666666,
              "#ed7953"
             ],
             [
              0.7777777777777778,
              "#fb9f3a"
             ],
             [
              0.8888888888888888,
              "#fdca26"
             ],
             [
              1,
              "#f0f921"
             ]
            ],
            "type": "heatmapgl"
           }
          ],
          "histogram": [
           {
            "marker": {
             "pattern": {
              "fillmode": "overlay",
              "size": 10,
              "solidity": 0.2
             }
            },
            "type": "histogram"
           }
          ],
          "histogram2d": [
           {
            "colorbar": {
             "outlinewidth": 0,
             "ticks": ""
            },
            "colorscale": [
             [
              0,
              "#0d0887"
             ],
             [
              0.1111111111111111,
              "#46039f"
             ],
             [
              0.2222222222222222,
              "#7201a8"
             ],
             [
              0.3333333333333333,
              "#9c179e"
             ],
             [
              0.4444444444444444,
              "#bd3786"
             ],
             [
              0.5555555555555556,
              "#d8576b"
             ],
             [
              0.6666666666666666,
              "#ed7953"
             ],
             [
              0.7777777777777778,
              "#fb9f3a"
             ],
             [
              0.8888888888888888,
              "#fdca26"
             ],
             [
              1,
              "#f0f921"
             ]
            ],
            "type": "histogram2d"
           }
          ],
          "histogram2dcontour": [
           {
            "colorbar": {
             "outlinewidth": 0,
             "ticks": ""
            },
            "colorscale": [
             [
              0,
              "#0d0887"
             ],
             [
              0.1111111111111111,
              "#46039f"
             ],
             [
              0.2222222222222222,
              "#7201a8"
             ],
             [
              0.3333333333333333,
              "#9c179e"
             ],
             [
              0.4444444444444444,
              "#bd3786"
             ],
             [
              0.5555555555555556,
              "#d8576b"
             ],
             [
              0.6666666666666666,
              "#ed7953"
             ],
             [
              0.7777777777777778,
              "#fb9f3a"
             ],
             [
              0.8888888888888888,
              "#fdca26"
             ],
             [
              1,
              "#f0f921"
             ]
            ],
            "type": "histogram2dcontour"
           }
          ],
          "mesh3d": [
           {
            "colorbar": {
             "outlinewidth": 0,
             "ticks": ""
            },
            "type": "mesh3d"
           }
          ],
          "parcoords": [
           {
            "line": {
             "colorbar": {
              "outlinewidth": 0,
              "ticks": ""
             }
            },
            "type": "parcoords"
           }
          ],
          "pie": [
           {
            "automargin": true,
            "type": "pie"
           }
          ],
          "scatter": [
           {
            "fillpattern": {
             "fillmode": "overlay",
             "size": 10,
             "solidity": 0.2
            },
            "type": "scatter"
           }
          ],
          "scatter3d": [
           {
            "line": {
             "colorbar": {
              "outlinewidth": 0,
              "ticks": ""
             }
            },
            "marker": {
             "colorbar": {
              "outlinewidth": 0,
              "ticks": ""
             }
            },
            "type": "scatter3d"
           }
          ],
          "scattercarpet": [
           {
            "marker": {
             "colorbar": {
              "outlinewidth": 0,
              "ticks": ""
             }
            },
            "type": "scattercarpet"
           }
          ],
          "scattergeo": [
           {
            "marker": {
             "colorbar": {
              "outlinewidth": 0,
              "ticks": ""
             }
            },
            "type": "scattergeo"
           }
          ],
          "scattergl": [
           {
            "marker": {
             "colorbar": {
              "outlinewidth": 0,
              "ticks": ""
             }
            },
            "type": "scattergl"
           }
          ],
          "scattermapbox": [
           {
            "marker": {
             "colorbar": {
              "outlinewidth": 0,
              "ticks": ""
             }
            },
            "type": "scattermapbox"
           }
          ],
          "scatterpolar": [
           {
            "marker": {
             "colorbar": {
              "outlinewidth": 0,
              "ticks": ""
             }
            },
            "type": "scatterpolar"
           }
          ],
          "scatterpolargl": [
           {
            "marker": {
             "colorbar": {
              "outlinewidth": 0,
              "ticks": ""
             }
            },
            "type": "scatterpolargl"
           }
          ],
          "scatterternary": [
           {
            "marker": {
             "colorbar": {
              "outlinewidth": 0,
              "ticks": ""
             }
            },
            "type": "scatterternary"
           }
          ],
          "surface": [
           {
            "colorbar": {
             "outlinewidth": 0,
             "ticks": ""
            },
            "colorscale": [
             [
              0,
              "#0d0887"
             ],
             [
              0.1111111111111111,
              "#46039f"
             ],
             [
              0.2222222222222222,
              "#7201a8"
             ],
             [
              0.3333333333333333,
              "#9c179e"
             ],
             [
              0.4444444444444444,
              "#bd3786"
             ],
             [
              0.5555555555555556,
              "#d8576b"
             ],
             [
              0.6666666666666666,
              "#ed7953"
             ],
             [
              0.7777777777777778,
              "#fb9f3a"
             ],
             [
              0.8888888888888888,
              "#fdca26"
             ],
             [
              1,
              "#f0f921"
             ]
            ],
            "type": "surface"
           }
          ],
          "table": [
           {
            "cells": {
             "fill": {
              "color": "#EBF0F8"
             },
             "line": {
              "color": "white"
             }
            },
            "header": {
             "fill": {
              "color": "#C8D4E3"
             },
             "line": {
              "color": "white"
             }
            },
            "type": "table"
           }
          ]
         },
         "layout": {
          "annotationdefaults": {
           "arrowcolor": "#2a3f5f",
           "arrowhead": 0,
           "arrowwidth": 1
          },
          "autotypenumbers": "strict",
          "coloraxis": {
           "colorbar": {
            "outlinewidth": 0,
            "ticks": ""
           }
          },
          "colorscale": {
           "diverging": [
            [
             0,
             "#8e0152"
            ],
            [
             0.1,
             "#c51b7d"
            ],
            [
             0.2,
             "#de77ae"
            ],
            [
             0.3,
             "#f1b6da"
            ],
            [
             0.4,
             "#fde0ef"
            ],
            [
             0.5,
             "#f7f7f7"
            ],
            [
             0.6,
             "#e6f5d0"
            ],
            [
             0.7,
             "#b8e186"
            ],
            [
             0.8,
             "#7fbc41"
            ],
            [
             0.9,
             "#4d9221"
            ],
            [
             1,
             "#276419"
            ]
           ],
           "sequential": [
            [
             0,
             "#0d0887"
            ],
            [
             0.1111111111111111,
             "#46039f"
            ],
            [
             0.2222222222222222,
             "#7201a8"
            ],
            [
             0.3333333333333333,
             "#9c179e"
            ],
            [
             0.4444444444444444,
             "#bd3786"
            ],
            [
             0.5555555555555556,
             "#d8576b"
            ],
            [
             0.6666666666666666,
             "#ed7953"
            ],
            [
             0.7777777777777778,
             "#fb9f3a"
            ],
            [
             0.8888888888888888,
             "#fdca26"
            ],
            [
             1,
             "#f0f921"
            ]
           ],
           "sequentialminus": [
            [
             0,
             "#0d0887"
            ],
            [
             0.1111111111111111,
             "#46039f"
            ],
            [
             0.2222222222222222,
             "#7201a8"
            ],
            [
             0.3333333333333333,
             "#9c179e"
            ],
            [
             0.4444444444444444,
             "#bd3786"
            ],
            [
             0.5555555555555556,
             "#d8576b"
            ],
            [
             0.6666666666666666,
             "#ed7953"
            ],
            [
             0.7777777777777778,
             "#fb9f3a"
            ],
            [
             0.8888888888888888,
             "#fdca26"
            ],
            [
             1,
             "#f0f921"
            ]
           ]
          },
          "colorway": [
           "#636efa",
           "#EF553B",
           "#00cc96",
           "#ab63fa",
           "#FFA15A",
           "#19d3f3",
           "#FF6692",
           "#B6E880",
           "#FF97FF",
           "#FECB52"
          ],
          "font": {
           "color": "#2a3f5f"
          },
          "geo": {
           "bgcolor": "white",
           "lakecolor": "white",
           "landcolor": "white",
           "showlakes": true,
           "showland": true,
           "subunitcolor": "#C8D4E3"
          },
          "hoverlabel": {
           "align": "left"
          },
          "hovermode": "closest",
          "mapbox": {
           "style": "light"
          },
          "paper_bgcolor": "white",
          "plot_bgcolor": "white",
          "polar": {
           "angularaxis": {
            "gridcolor": "#EBF0F8",
            "linecolor": "#EBF0F8",
            "ticks": ""
           },
           "bgcolor": "white",
           "radialaxis": {
            "gridcolor": "#EBF0F8",
            "linecolor": "#EBF0F8",
            "ticks": ""
           }
          },
          "scene": {
           "xaxis": {
            "backgroundcolor": "white",
            "gridcolor": "#DFE8F3",
            "gridwidth": 2,
            "linecolor": "#EBF0F8",
            "showbackground": true,
            "ticks": "",
            "zerolinecolor": "#EBF0F8"
           },
           "yaxis": {
            "backgroundcolor": "white",
            "gridcolor": "#DFE8F3",
            "gridwidth": 2,
            "linecolor": "#EBF0F8",
            "showbackground": true,
            "ticks": "",
            "zerolinecolor": "#EBF0F8"
           },
           "zaxis": {
            "backgroundcolor": "white",
            "gridcolor": "#DFE8F3",
            "gridwidth": 2,
            "linecolor": "#EBF0F8",
            "showbackground": true,
            "ticks": "",
            "zerolinecolor": "#EBF0F8"
           }
          },
          "shapedefaults": {
           "line": {
            "color": "#2a3f5f"
           }
          },
          "ternary": {
           "aaxis": {
            "gridcolor": "#DFE8F3",
            "linecolor": "#A2B1C6",
            "ticks": ""
           },
           "baxis": {
            "gridcolor": "#DFE8F3",
            "linecolor": "#A2B1C6",
            "ticks": ""
           },
           "bgcolor": "white",
           "caxis": {
            "gridcolor": "#DFE8F3",
            "linecolor": "#A2B1C6",
            "ticks": ""
           }
          },
          "title": {
           "x": 0.05
          },
          "xaxis": {
           "automargin": true,
           "gridcolor": "#EBF0F8",
           "linecolor": "#EBF0F8",
           "ticks": "",
           "title": {
            "standoff": 15
           },
           "zerolinecolor": "#EBF0F8",
           "zerolinewidth": 2
          },
          "yaxis": {
           "automargin": true,
           "gridcolor": "#EBF0F8",
           "linecolor": "#EBF0F8",
           "ticks": "",
           "title": {
            "standoff": 15
           },
           "zerolinecolor": "#EBF0F8",
           "zerolinewidth": 2
          }
         }
        },
        "title": {
         "text": "Word cloud de los Países"
        },
        "xaxis": {
         "anchor": "y",
         "domain": [
          0,
          1
         ],
         "showgrid": false,
         "showticklabels": false,
         "zeroline": false
        },
        "yaxis": {
         "anchor": "x",
         "domain": [
          0,
          1
         ],
         "showgrid": false,
         "showticklabels": false,
         "zeroline": false
        }
       }
      }
     },
     "metadata": {},
     "output_type": "display_data"
    }
   ],
   "source": [
    "from wordcloud import WordCloud, STOPWORDS\n",
    "import plotly.express as px\n",
    "from wordcloud import WordCloud, STOPWORDS\n",
    "\n",
    "print('Wordcloud and Plotly are installed and imported!')\n",
    "\n",
    "# Set stopwords\n",
    "stopwords = set(STOPWORDS)\n",
    "\n",
    "# Concatenate all country names into a single string\n",
    "country_text = ' '.join(song_data['country'].astype(str).tolist())\n",
    "\n",
    "# Generate the word cloud\n",
    "nube = WordCloud(\n",
    "    background_color='white',\n",
    "    max_words=2000,\n",
    "    stopwords=stopwords\n",
    ").generate(country_text)\n",
    "\n",
    "# Convert the word cloud to a Plotly figure\n",
    "fig = px.imshow(nube, color_continuous_scale='Blues')\n",
    "\n",
    "# Update the layout of the figure\n",
    "fig.update_layout(\n",
    "    title='Word cloud de los Países',\n",
    "    xaxis=dict(showticklabels=False, showgrid=False, zeroline=False),\n",
    "    yaxis=dict(showticklabels=False, showgrid=False, zeroline=False),\n",
    "    template='plotly_white'\n",
    ")\n",
    "\n",
    "# Show the plot\n",
    "fig.show()\n"
   ]
  },
  {
   "cell_type": "code",
   "execution_count": 186,
   "metadata": {},
   "outputs": [
    {
     "name": "stdout",
     "output_type": "stream",
     "text": [
      "Wordcloud and Plotly are installed and imported!\n"
     ]
    },
    {
     "data": {
      "application/vnd.plotly.v1+json": {
       "config": {
        "plotlyServerURL": "https://plot.ly"
       },
       "data": [
        {
         "hovertemplate": "x: %{x}<br>y: %{y}<br>color: [%{z[0]}, %{z[1]}, %{z[2]}]<extra></extra>",
         "name": "0",
         "source": "data:image/png;base64,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",
         "type": "image",
         "xaxis": "x",
         "yaxis": "y"
        }
       ],
       "layout": {
        "margin": {
         "t": 60
        },
        "template": {
         "data": {
          "bar": [
           {
            "error_x": {
             "color": "#2a3f5f"
            },
            "error_y": {
             "color": "#2a3f5f"
            },
            "marker": {
             "line": {
              "color": "white",
              "width": 0.5
             },
             "pattern": {
              "fillmode": "overlay",
              "size": 10,
              "solidity": 0.2
             }
            },
            "type": "bar"
           }
          ],
          "barpolar": [
           {
            "marker": {
             "line": {
              "color": "white",
              "width": 0.5
             },
             "pattern": {
              "fillmode": "overlay",
              "size": 10,
              "solidity": 0.2
             }
            },
            "type": "barpolar"
           }
          ],
          "carpet": [
           {
            "aaxis": {
             "endlinecolor": "#2a3f5f",
             "gridcolor": "#C8D4E3",
             "linecolor": "#C8D4E3",
             "minorgridcolor": "#C8D4E3",
             "startlinecolor": "#2a3f5f"
            },
            "baxis": {
             "endlinecolor": "#2a3f5f",
             "gridcolor": "#C8D4E3",
             "linecolor": "#C8D4E3",
             "minorgridcolor": "#C8D4E3",
             "startlinecolor": "#2a3f5f"
            },
            "type": "carpet"
           }
          ],
          "choropleth": [
           {
            "colorbar": {
             "outlinewidth": 0,
             "ticks": ""
            },
            "type": "choropleth"
           }
          ],
          "contour": [
           {
            "colorbar": {
             "outlinewidth": 0,
             "ticks": ""
            },
            "colorscale": [
             [
              0,
              "#0d0887"
             ],
             [
              0.1111111111111111,
              "#46039f"
             ],
             [
              0.2222222222222222,
              "#7201a8"
             ],
             [
              0.3333333333333333,
              "#9c179e"
             ],
             [
              0.4444444444444444,
              "#bd3786"
             ],
             [
              0.5555555555555556,
              "#d8576b"
             ],
             [
              0.6666666666666666,
              "#ed7953"
             ],
             [
              0.7777777777777778,
              "#fb9f3a"
             ],
             [
              0.8888888888888888,
              "#fdca26"
             ],
             [
              1,
              "#f0f921"
             ]
            ],
            "type": "contour"
           }
          ],
          "contourcarpet": [
           {
            "colorbar": {
             "outlinewidth": 0,
             "ticks": ""
            },
            "type": "contourcarpet"
           }
          ],
          "heatmap": [
           {
            "colorbar": {
             "outlinewidth": 0,
             "ticks": ""
            },
            "colorscale": [
             [
              0,
              "#0d0887"
             ],
             [
              0.1111111111111111,
              "#46039f"
             ],
             [
              0.2222222222222222,
              "#7201a8"
             ],
             [
              0.3333333333333333,
              "#9c179e"
             ],
             [
              0.4444444444444444,
              "#bd3786"
             ],
             [
              0.5555555555555556,
              "#d8576b"
             ],
             [
              0.6666666666666666,
              "#ed7953"
             ],
             [
              0.7777777777777778,
              "#fb9f3a"
             ],
             [
              0.8888888888888888,
              "#fdca26"
             ],
             [
              1,
              "#f0f921"
             ]
            ],
            "type": "heatmap"
           }
          ],
          "heatmapgl": [
           {
            "colorbar": {
             "outlinewidth": 0,
             "ticks": ""
            },
            "colorscale": [
             [
              0,
              "#0d0887"
             ],
             [
              0.1111111111111111,
              "#46039f"
             ],
             [
              0.2222222222222222,
              "#7201a8"
             ],
             [
              0.3333333333333333,
              "#9c179e"
             ],
             [
              0.4444444444444444,
              "#bd3786"
             ],
             [
              0.5555555555555556,
              "#d8576b"
             ],
             [
              0.6666666666666666,
              "#ed7953"
             ],
             [
              0.7777777777777778,
              "#fb9f3a"
             ],
             [
              0.8888888888888888,
              "#fdca26"
             ],
             [
              1,
              "#f0f921"
             ]
            ],
            "type": "heatmapgl"
           }
          ],
          "histogram": [
           {
            "marker": {
             "pattern": {
              "fillmode": "overlay",
              "size": 10,
              "solidity": 0.2
             }
            },
            "type": "histogram"
           }
          ],
          "histogram2d": [
           {
            "colorbar": {
             "outlinewidth": 0,
             "ticks": ""
            },
            "colorscale": [
             [
              0,
              "#0d0887"
             ],
             [
              0.1111111111111111,
              "#46039f"
             ],
             [
              0.2222222222222222,
              "#7201a8"
             ],
             [
              0.3333333333333333,
              "#9c179e"
             ],
             [
              0.4444444444444444,
              "#bd3786"
             ],
             [
              0.5555555555555556,
              "#d8576b"
             ],
             [
              0.6666666666666666,
              "#ed7953"
             ],
             [
              0.7777777777777778,
              "#fb9f3a"
             ],
             [
              0.8888888888888888,
              "#fdca26"
             ],
             [
              1,
              "#f0f921"
             ]
            ],
            "type": "histogram2d"
           }
          ],
          "histogram2dcontour": [
           {
            "colorbar": {
             "outlinewidth": 0,
             "ticks": ""
            },
            "colorscale": [
             [
              0,
              "#0d0887"
             ],
             [
              0.1111111111111111,
              "#46039f"
             ],
             [
              0.2222222222222222,
              "#7201a8"
             ],
             [
              0.3333333333333333,
              "#9c179e"
             ],
             [
              0.4444444444444444,
              "#bd3786"
             ],
             [
              0.5555555555555556,
              "#d8576b"
             ],
             [
              0.6666666666666666,
              "#ed7953"
             ],
             [
              0.7777777777777778,
              "#fb9f3a"
             ],
             [
              0.8888888888888888,
              "#fdca26"
             ],
             [
              1,
              "#f0f921"
             ]
            ],
            "type": "histogram2dcontour"
           }
          ],
          "mesh3d": [
           {
            "colorbar": {
             "outlinewidth": 0,
             "ticks": ""
            },
            "type": "mesh3d"
           }
          ],
          "parcoords": [
           {
            "line": {
             "colorbar": {
              "outlinewidth": 0,
              "ticks": ""
             }
            },
            "type": "parcoords"
           }
          ],
          "pie": [
           {
            "automargin": true,
            "type": "pie"
           }
          ],
          "scatter": [
           {
            "fillpattern": {
             "fillmode": "overlay",
             "size": 10,
             "solidity": 0.2
            },
            "type": "scatter"
           }
          ],
          "scatter3d": [
           {
            "line": {
             "colorbar": {
              "outlinewidth": 0,
              "ticks": ""
             }
            },
            "marker": {
             "colorbar": {
              "outlinewidth": 0,
              "ticks": ""
             }
            },
            "type": "scatter3d"
           }
          ],
          "scattercarpet": [
           {
            "marker": {
             "colorbar": {
              "outlinewidth": 0,
              "ticks": ""
             }
            },
            "type": "scattercarpet"
           }
          ],
          "scattergeo": [
           {
            "marker": {
             "colorbar": {
              "outlinewidth": 0,
              "ticks": ""
             }
            },
            "type": "scattergeo"
           }
          ],
          "scattergl": [
           {
            "marker": {
             "colorbar": {
              "outlinewidth": 0,
              "ticks": ""
             }
            },
            "type": "scattergl"
           }
          ],
          "scattermapbox": [
           {
            "marker": {
             "colorbar": {
              "outlinewidth": 0,
              "ticks": ""
             }
            },
            "type": "scattermapbox"
           }
          ],
          "scatterpolar": [
           {
            "marker": {
             "colorbar": {
              "outlinewidth": 0,
              "ticks": ""
             }
            },
            "type": "scatterpolar"
           }
          ],
          "scatterpolargl": [
           {
            "marker": {
             "colorbar": {
              "outlinewidth": 0,
              "ticks": ""
             }
            },
            "type": "scatterpolargl"
           }
          ],
          "scatterternary": [
           {
            "marker": {
             "colorbar": {
              "outlinewidth": 0,
              "ticks": ""
             }
            },
            "type": "scatterternary"
           }
          ],
          "surface": [
           {
            "colorbar": {
             "outlinewidth": 0,
             "ticks": ""
            },
            "colorscale": [
             [
              0,
              "#0d0887"
             ],
             [
              0.1111111111111111,
              "#46039f"
             ],
             [
              0.2222222222222222,
              "#7201a8"
             ],
             [
              0.3333333333333333,
              "#9c179e"
             ],
             [
              0.4444444444444444,
              "#bd3786"
             ],
             [
              0.5555555555555556,
              "#d8576b"
             ],
             [
              0.6666666666666666,
              "#ed7953"
             ],
             [
              0.7777777777777778,
              "#fb9f3a"
             ],
             [
              0.8888888888888888,
              "#fdca26"
             ],
             [
              1,
              "#f0f921"
             ]
            ],
            "type": "surface"
           }
          ],
          "table": [
           {
            "cells": {
             "fill": {
              "color": "#EBF0F8"
             },
             "line": {
              "color": "white"
             }
            },
            "header": {
             "fill": {
              "color": "#C8D4E3"
             },
             "line": {
              "color": "white"
             }
            },
            "type": "table"
           }
          ]
         },
         "layout": {
          "annotationdefaults": {
           "arrowcolor": "#2a3f5f",
           "arrowhead": 0,
           "arrowwidth": 1
          },
          "autotypenumbers": "strict",
          "coloraxis": {
           "colorbar": {
            "outlinewidth": 0,
            "ticks": ""
           }
          },
          "colorscale": {
           "diverging": [
            [
             0,
             "#8e0152"
            ],
            [
             0.1,
             "#c51b7d"
            ],
            [
             0.2,
             "#de77ae"
            ],
            [
             0.3,
             "#f1b6da"
            ],
            [
             0.4,
             "#fde0ef"
            ],
            [
             0.5,
             "#f7f7f7"
            ],
            [
             0.6,
             "#e6f5d0"
            ],
            [
             0.7,
             "#b8e186"
            ],
            [
             0.8,
             "#7fbc41"
            ],
            [
             0.9,
             "#4d9221"
            ],
            [
             1,
             "#276419"
            ]
           ],
           "sequential": [
            [
             0,
             "#0d0887"
            ],
            [
             0.1111111111111111,
             "#46039f"
            ],
            [
             0.2222222222222222,
             "#7201a8"
            ],
            [
             0.3333333333333333,
             "#9c179e"
            ],
            [
             0.4444444444444444,
             "#bd3786"
            ],
            [
             0.5555555555555556,
             "#d8576b"
            ],
            [
             0.6666666666666666,
             "#ed7953"
            ],
            [
             0.7777777777777778,
             "#fb9f3a"
            ],
            [
             0.8888888888888888,
             "#fdca26"
            ],
            [
             1,
             "#f0f921"
            ]
           ],
           "sequentialminus": [
            [
             0,
             "#0d0887"
            ],
            [
             0.1111111111111111,
             "#46039f"
            ],
            [
             0.2222222222222222,
             "#7201a8"
            ],
            [
             0.3333333333333333,
             "#9c179e"
            ],
            [
             0.4444444444444444,
             "#bd3786"
            ],
            [
             0.5555555555555556,
             "#d8576b"
            ],
            [
             0.6666666666666666,
             "#ed7953"
            ],
            [
             0.7777777777777778,
             "#fb9f3a"
            ],
            [
             0.8888888888888888,
             "#fdca26"
            ],
            [
             1,
             "#f0f921"
            ]
           ]
          },
          "colorway": [
           "#636efa",
           "#EF553B",
           "#00cc96",
           "#ab63fa",
           "#FFA15A",
           "#19d3f3",
           "#FF6692",
           "#B6E880",
           "#FF97FF",
           "#FECB52"
          ],
          "font": {
           "color": "#2a3f5f"
          },
          "geo": {
           "bgcolor": "white",
           "lakecolor": "white",
           "landcolor": "white",
           "showlakes": true,
           "showland": true,
           "subunitcolor": "#C8D4E3"
          },
          "hoverlabel": {
           "align": "left"
          },
          "hovermode": "closest",
          "mapbox": {
           "style": "light"
          },
          "paper_bgcolor": "white",
          "plot_bgcolor": "white",
          "polar": {
           "angularaxis": {
            "gridcolor": "#EBF0F8",
            "linecolor": "#EBF0F8",
            "ticks": ""
           },
           "bgcolor": "white",
           "radialaxis": {
            "gridcolor": "#EBF0F8",
            "linecolor": "#EBF0F8",
            "ticks": ""
           }
          },
          "scene": {
           "xaxis": {
            "backgroundcolor": "white",
            "gridcolor": "#DFE8F3",
            "gridwidth": 2,
            "linecolor": "#EBF0F8",
            "showbackground": true,
            "ticks": "",
            "zerolinecolor": "#EBF0F8"
           },
           "yaxis": {
            "backgroundcolor": "white",
            "gridcolor": "#DFE8F3",
            "gridwidth": 2,
            "linecolor": "#EBF0F8",
            "showbackground": true,
            "ticks": "",
            "zerolinecolor": "#EBF0F8"
           },
           "zaxis": {
            "backgroundcolor": "white",
            "gridcolor": "#DFE8F3",
            "gridwidth": 2,
            "linecolor": "#EBF0F8",
            "showbackground": true,
            "ticks": "",
            "zerolinecolor": "#EBF0F8"
           }
          },
          "shapedefaults": {
           "line": {
            "color": "#2a3f5f"
           }
          },
          "ternary": {
           "aaxis": {
            "gridcolor": "#DFE8F3",
            "linecolor": "#A2B1C6",
            "ticks": ""
           },
           "baxis": {
            "gridcolor": "#DFE8F3",
            "linecolor": "#A2B1C6",
            "ticks": ""
           },
           "bgcolor": "white",
           "caxis": {
            "gridcolor": "#DFE8F3",
            "linecolor": "#A2B1C6",
            "ticks": ""
           }
          },
          "title": {
           "x": 0.05
          },
          "xaxis": {
           "automargin": true,
           "gridcolor": "#EBF0F8",
           "linecolor": "#EBF0F8",
           "ticks": "",
           "title": {
            "standoff": 15
           },
           "zerolinecolor": "#EBF0F8",
           "zerolinewidth": 2
          },
          "yaxis": {
           "automargin": true,
           "gridcolor": "#EBF0F8",
           "linecolor": "#EBF0F8",
           "ticks": "",
           "title": {
            "standoff": 15
           },
           "zerolinecolor": "#EBF0F8",
           "zerolinewidth": 2
          }
         }
        },
        "title": {
         "text": "Word cloud de los Estilos"
        },
        "xaxis": {
         "anchor": "y",
         "domain": [
          0,
          1
         ],
         "showgrid": false,
         "showticklabels": false,
         "zeroline": false
        },
        "yaxis": {
         "anchor": "x",
         "domain": [
          0,
          1
         ],
         "showgrid": false,
         "showticklabels": false,
         "zeroline": false
        }
       }
      }
     },
     "metadata": {},
     "output_type": "display_data"
    }
   ],
   "source": [
    "import plotly.express as px\n",
    "from wordcloud import WordCloud, STOPWORDS\n",
    "\n",
    "print('Wordcloud and Plotly are installed and imported!')\n",
    "\n",
    "# Set stopwords\n",
    "stopwords = set(STOPWORDS)\n",
    "\n",
    "# Concatenate all style names into a single string\n",
    "style_text = ' '.join(song_data['style'].astype(str).tolist())\n",
    "\n",
    "# Generate the word cloud\n",
    "nube = WordCloud(\n",
    "    background_color='white',\n",
    "    max_words=2000,\n",
    "    stopwords=stopwords\n",
    ").generate(style_text)\n",
    "\n",
    "# Convert the word cloud to a Plotly figure\n",
    "fig = px.imshow(nube, color_continuous_scale='Blues')\n",
    "\n",
    "# Update the layout of the figure\n",
    "fig.update_layout(\n",
    "    title='Word cloud de los Estilos',\n",
    "    xaxis=dict(showticklabels=False, showgrid=False, zeroline=False),\n",
    "    yaxis=dict(showticklabels=False, showgrid=False, zeroline=False),\n",
    "    template='plotly_white'\n",
    ")\n",
    "\n",
    "# Show the plot\n",
    "fig.show()\n"
   ]
  },
  {
   "attachments": {},
   "cell_type": "markdown",
   "metadata": {},
   "source": [
    "## Waffle Chart"
   ]
  },
  {
   "cell_type": "code",
   "execution_count": 192,
   "metadata": {},
   "outputs": [
    {
     "name": "stdout",
     "output_type": "stream",
     "text": [
      "Collecting pywaffle\n",
      "  Downloading pywaffle-1.1.0-py2.py3-none-any.whl (30 kB)\n",
      "Requirement already satisfied: matplotlib in c:\\users\\paofr\\anaconda3\\envs\\environment\\lib\\site-packages (from pywaffle) (3.7.1)\n",
      "Collecting fontawesomefree\n",
      "  Downloading fontawesomefree-6.4.0-py3-none-any.whl (25.2 MB)\n",
      "     ---------------------------------------- 25.2/25.2 MB 6.3 MB/s eta 0:00:00\n",
      "Requirement already satisfied: contourpy>=1.0.1 in c:\\users\\paofr\\anaconda3\\envs\\environment\\lib\\site-packages (from matplotlib->pywaffle) (1.0.7)\n",
      "Requirement already satisfied: fonttools>=4.22.0 in c:\\users\\paofr\\anaconda3\\envs\\environment\\lib\\site-packages (from matplotlib->pywaffle) (4.39.3)\n",
      "Requirement already satisfied: numpy>=1.20 in c:\\users\\paofr\\anaconda3\\envs\\environment\\lib\\site-packages (from matplotlib->pywaffle) (1.22.3)\n",
      "Requirement already satisfied: python-dateutil>=2.7 in c:\\users\\paofr\\anaconda3\\envs\\environment\\lib\\site-packages (from matplotlib->pywaffle) (2.8.2)\n",
      "Requirement already satisfied: cycler>=0.10 in c:\\users\\paofr\\anaconda3\\envs\\environment\\lib\\site-packages (from matplotlib->pywaffle) (0.11.0)\n",
      "Requirement already satisfied: packaging>=20.0 in c:\\users\\paofr\\anaconda3\\envs\\environment\\lib\\site-packages (from matplotlib->pywaffle) (23.0)\n",
      "Requirement already satisfied: pyparsing>=2.3.1 in c:\\users\\paofr\\anaconda3\\envs\\environment\\lib\\site-packages (from matplotlib->pywaffle) (3.0.9)\n",
      "Requirement already satisfied: pillow>=6.2.0 in c:\\users\\paofr\\anaconda3\\envs\\environment\\lib\\site-packages (from matplotlib->pywaffle) (9.5.0)\n",
      "Requirement already satisfied: kiwisolver>=1.0.1 in c:\\users\\paofr\\anaconda3\\envs\\environment\\lib\\site-packages (from matplotlib->pywaffle) (1.4.4)\n",
      "Requirement already satisfied: six>=1.5 in c:\\users\\paofr\\anaconda3\\envs\\environment\\lib\\site-packages (from python-dateutil>=2.7->matplotlib->pywaffle) (1.16.0)\n",
      "Installing collected packages: fontawesomefree, pywaffle\n",
      "Successfully installed fontawesomefree-6.4.0 pywaffle-1.1.0\n"
     ]
    }
   ],
   "source": [
    "! pip install pywaffle"
   ]
  },
  {
   "cell_type": "code",
   "execution_count": null,
   "metadata": {},
   "outputs": [],
   "source": []
  },
  {
   "cell_type": "code",
   "execution_count": null,
   "metadata": {},
   "outputs": [],
   "source": []
  },
  {
   "cell_type": "code",
   "execution_count": null,
   "metadata": {},
   "outputs": [],
   "source": []
  }
 ],
 "metadata": {
  "kernelspec": {
   "display_name": "Python 3",
   "language": "python",
   "name": "python3"
  },
  "language_info": {
   "codemirror_mode": {
    "name": "ipython",
    "version": 3
   },
   "file_extension": ".py",
   "mimetype": "text/x-python",
   "name": "python",
   "nbconvert_exporter": "python",
   "pygments_lexer": "ipython3",
   "version": "3.10.10"
  }
 },
 "nbformat": 4,
 "nbformat_minor": 2
}
