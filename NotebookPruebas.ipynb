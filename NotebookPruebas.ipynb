{
 "cells": [
  {
   "cell_type": "markdown",
   "metadata": {},
   "source": [
    "# Lectura de CSVs"
   ]
  },
  {
   "cell_type": "markdown",
   "metadata": {},
   "source": [
    "librerias"
   ]
  },
  {
   "cell_type": "code",
   "execution_count": 121,
   "metadata": {},
   "outputs": [],
   "source": [
    "from fuentes import DatosConcurso\n",
    "import pandas as pd\n",
    "import plotly.express as px\n",
    "\n"
   ]
  },
  {
   "cell_type": "markdown",
   "metadata": {},
   "source": [
    "metodo para verificar que los dataframes funcionan correctamene"
   ]
  },
  {
   "cell_type": "code",
   "execution_count": 122,
   "metadata": {},
   "outputs": [],
   "source": [
    "\n",
    "def checkearVariablePanda(df_var,df_varname):\n",
    "    if isinstance(df_var, pd.DataFrame):\n",
    "        print('{0} ok'.format(df_varname))\n",
    "    else:\n",
    "        print('{0} fallido'.format(df_varname))"
   ]
  },
  {
   "cell_type": "code",
   "execution_count": 123,
   "metadata": {},
   "outputs": [
    {
     "name": "stdout",
     "output_type": "stream",
     "text": [
      "concurso.datos_resultados_finales.datos_encuestas.eurojury_results_2016 ok\n",
      "concurso.datos_resultados_finales.datos_encuestas.eurojury_results_2017 ok\n",
      "concurso.datos_resultados_finales.datos_encuestas.eurojury_results_2018 ok\n",
      "concurso.datos_resultados_finales.datos_encuestas.eurojury_results_2019 ok\n",
      "concurso.datos_resultados_finales.datos_encuestas.eurojury_results_2021 ok\n",
      "concurso.datos_resultados_finales.datos_encuestas.eurojury_results_2022 ok\n",
      "concurso.datos_resultados_finales.datos_encuestas.eurovisionworld_results_2016 ok\n",
      "concurso.datos_resultados_finales.datos_encuestas.eurovisionworld_results_2017 ok\n",
      "concurso.datos_resultados_finales.datos_encuestas.eurovisionworld_results_2018 ok\n",
      "concurso.datos_resultados_finales.datos_encuestas.eurovisionworld_results_2019 ok\n",
      "concurso.datos_resultados_finales.datos_encuestas.eurovisionworld_results_2021 ok\n",
      "concurso.datos_resultados_finales.datos_encuestas.eurovisionworld_results_2022 ok\n",
      "concurso.datos_resultados_finales.datos_encuestas.myeurovisionscoreboard_results_2016 ok\n",
      "concurso.datos_resultados_finales.datos_encuestas.myeurovisionscoreboard_results_2017 ok\n",
      "concurso.datos_resultados_finales.datos_encuestas.myeurovisionscoreboard_results_2018 ok\n",
      "concurso.datos_resultados_finales.datos_encuestas.myeurovisionscoreboard_results_2019 ok\n",
      "concurso.datos_resultados_finales.datos_encuestas.myeurovisionscoreboard_results_2021 ok\n",
      "concurso.datos_resultados_finales.datos_encuestas.myeurovisionscoreboard_results_2022 ok\n",
      "concurso.datos_resultados_finales.datos_encuestas.ogae.ogae_results_2016 ok\n",
      "concurso.datos_resultados_finales.datos_encuestas.ogae.ogae_results_2017 ok\n",
      "concurso.datos_resultados_finales.datos_encuestas.ogae.ogae_results_2018 ok\n",
      "concurso.datos_resultados_finales.datos_encuestas.ogae.ogae_results_2019 ok\n",
      "concurso.datos_resultados_finales.datos_encuestas.ogae.ogae_results_2021 ok\n",
      "concurso.datos_resultados_finales.datos_encuestas.ogae.ogae_results_2022 ok\n",
      "concurso.datos_resultados_finales.datos_encuestas.wiwibloggs.wiwibloggs_results_2018 ok\n",
      "concurso.datos_resultados_finales.datos_encuestas.wiwibloggs.wiwibloggs_results_2019 ok\n",
      "concurso.datos_resultados_finales.datos_encuestas.wiwibloggs.wiwibloggs_results_2021 ok\n",
      "concurso.datos_resultados_finales.datos_encuestas.wiwibloggs.wiwibloggs_results_2022 ok\n"
     ]
    }
   ],
   "source": [
    "concurso = DatosConcurso()\n",
    "\n",
    "\n",
    "#variables encuestas\n",
    "#euro july\n",
    "checkearVariablePanda(concurso.datos_encuestas.euro_july.eurojury_results_2016,'concurso.datos_resultados_finales.datos_encuestas.eurojury_results_2016')\n",
    "checkearVariablePanda(concurso.datos_encuestas.euro_july.eurojury_results_2017,'concurso.datos_resultados_finales.datos_encuestas.eurojury_results_2017')\n",
    "checkearVariablePanda(concurso.datos_encuestas.euro_july.eurojury_results_2018,'concurso.datos_resultados_finales.datos_encuestas.eurojury_results_2018')\n",
    "checkearVariablePanda(concurso.datos_encuestas.euro_july.eurojury_results_2019,'concurso.datos_resultados_finales.datos_encuestas.eurojury_results_2019')\n",
    "checkearVariablePanda(concurso.datos_encuestas.euro_july.eurojury_results_2021,'concurso.datos_resultados_finales.datos_encuestas.eurojury_results_2021')\n",
    "checkearVariablePanda(concurso.datos_encuestas.euro_july.eurojury_results_2022,'concurso.datos_resultados_finales.datos_encuestas.eurojury_results_2022')\n",
    "\n",
    "#eurovisionworld\n",
    "checkearVariablePanda(concurso.datos_encuestas.eurovision_world.eurovisionworld_results_2016,'concurso.datos_resultados_finales.datos_encuestas.eurovisionworld_results_2016')\n",
    "checkearVariablePanda(concurso.datos_encuestas.eurovision_world.eurovisionworld_results_2017,'concurso.datos_resultados_finales.datos_encuestas.eurovisionworld_results_2017')\n",
    "checkearVariablePanda(concurso.datos_encuestas.eurovision_world.eurovisionworld_results_2018,'concurso.datos_resultados_finales.datos_encuestas.eurovisionworld_results_2018')\n",
    "checkearVariablePanda(concurso.datos_encuestas.eurovision_world.eurovisionworld_results_2019,'concurso.datos_resultados_finales.datos_encuestas.eurovisionworld_results_2019')\n",
    "checkearVariablePanda(concurso.datos_encuestas.eurovision_world.eurovisionworld_results_2021,'concurso.datos_resultados_finales.datos_encuestas.eurovisionworld_results_2021')\n",
    "checkearVariablePanda(concurso.datos_encuestas.eurovision_world.eurovisionworld_results_2022,'concurso.datos_resultados_finales.datos_encuestas.eurovisionworld_results_2022')\n",
    "\n",
    "#my eurovision score\n",
    "checkearVariablePanda(concurso.datos_encuestas.my_eurovision_score.myeurovisionscoreboard_results_2016,'concurso.datos_resultados_finales.datos_encuestas.myeurovisionscoreboard_results_2016')\n",
    "checkearVariablePanda(concurso.datos_encuestas.my_eurovision_score.myeurovisionscoreboard_results_2017,'concurso.datos_resultados_finales.datos_encuestas.myeurovisionscoreboard_results_2017')\n",
    "checkearVariablePanda(concurso.datos_encuestas.my_eurovision_score.myeurovisionscoreboard_results_2018,'concurso.datos_resultados_finales.datos_encuestas.myeurovisionscoreboard_results_2018')\n",
    "checkearVariablePanda(concurso.datos_encuestas.my_eurovision_score.myeurovisionscoreboard_results_2019,'concurso.datos_resultados_finales.datos_encuestas.myeurovisionscoreboard_results_2019')\n",
    "checkearVariablePanda(concurso.datos_encuestas.my_eurovision_score.myeurovisionscoreboard_results_2021,'concurso.datos_resultados_finales.datos_encuestas.myeurovisionscoreboard_results_2021')\n",
    "checkearVariablePanda(concurso.datos_encuestas.my_eurovision_score.myeurovisionscoreboard_results_2022,'concurso.datos_resultados_finales.datos_encuestas.myeurovisionscoreboard_results_2022')\n",
    "\n",
    "#ogae\n",
    "checkearVariablePanda(concurso.datos_encuestas.ogae.ogae_results_2016,'concurso.datos_resultados_finales.datos_encuestas.ogae.ogae_results_2016')\n",
    "checkearVariablePanda(concurso.datos_encuestas.ogae.ogae_results_2017,'concurso.datos_resultados_finales.datos_encuestas.ogae.ogae_results_2017')\n",
    "checkearVariablePanda(concurso.datos_encuestas.ogae.ogae_results_2018,'concurso.datos_resultados_finales.datos_encuestas.ogae.ogae_results_2018')\n",
    "checkearVariablePanda(concurso.datos_encuestas.ogae.ogae_results_2019,'concurso.datos_resultados_finales.datos_encuestas.ogae.ogae_results_2019')\n",
    "checkearVariablePanda(concurso.datos_encuestas.ogae.ogae_results_2021,'concurso.datos_resultados_finales.datos_encuestas.ogae.ogae_results_2021')\n",
    "checkearVariablePanda(concurso.datos_encuestas.ogae.ogae_results_2022,'concurso.datos_resultados_finales.datos_encuestas.ogae.ogae_results_2022')\n",
    "\n",
    "#wiwibloggs\n",
    "checkearVariablePanda(concurso.datos_encuestas.wiwibloggs.wiwibloggs_results_2018,'concurso.datos_resultados_finales.datos_encuestas.wiwibloggs.wiwibloggs_results_2018')\n",
    "checkearVariablePanda(concurso.datos_encuestas.wiwibloggs.wiwibloggs_results_2019,'concurso.datos_resultados_finales.datos_encuestas.wiwibloggs.wiwibloggs_results_2019')\n",
    "checkearVariablePanda(concurso.datos_encuestas.wiwibloggs.wiwibloggs_results_2021,'concurso.datos_resultados_finales.datos_encuestas.wiwibloggs.wiwibloggs_results_2021')\n",
    "checkearVariablePanda(concurso.datos_encuestas.wiwibloggs.wiwibloggs_results_2022,'concurso.datos_resultados_finales.datos_encuestas.wiwibloggs.wiwibloggs_results_2022')"
   ]
  },
  {
   "cell_type": "code",
   "execution_count": 124,
   "metadata": {},
   "outputs": [
    {
     "name": "stdout",
     "output_type": "stream",
     "text": [
      "concurso.country_data ok\n",
      "concurso.contest_data ok\n",
      "concurso.song_data ok\n"
     ]
    }
   ],
   "source": [
    "\n",
    "#variables de la raiz\n",
    "checkearVariablePanda(concurso.country_data,'concurso.country_data')\n",
    "checkearVariablePanda(concurso.contest_data,'concurso.contest_data')\n",
    "checkearVariablePanda(concurso.song_data,'concurso.song_data')"
   ]
  },
  {
   "cell_type": "code",
   "execution_count": 125,
   "metadata": {},
   "outputs": [
    {
     "name": "stdout",
     "output_type": "stream",
     "text": [
      "concurso.datos_resultados_finales.datos_jurado.jury_results_2016 ok\n",
      "concurso.datos_resultados_finales.datos_jurado.jury_results_2017 ok\n",
      "concurso.datos_resultados_finales.datos_jurado.jury_results_2018 ok\n",
      "concurso.datos_resultados_finales.datos_jurado.jury_results_2019 ok\n",
      "concurso.datos_resultados_finales.datos_jurado.jury_results_2021 ok\n",
      "concurso.datos_resultados_finales.datos_jurado.jury_results_2022 ok\n",
      "concurso.datos_resultados_finales.datos_televotacion.2016_televote_results ok\n",
      "concurso.datos_resultados_finales.datos_televotacion.2017_televote_results ok\n",
      "concurso.datos_resultados_finales.datos_televotacion.2018_televote_results ok\n",
      "concurso.datos_resultados_finales.datos_televotacion.2019_televote_results ok\n",
      "concurso.datos_resultados_finales.datos_televotacion.2021_televote_results ok\n",
      "concurso.datos_resultados_finales.datos_televotacion.2022_televote_results ok\n"
     ]
    }
   ],
   "source": [
    "#variables resultados finales\n",
    "#jurado\n",
    "checkearVariablePanda(concurso.datos_resultados_finales.datos_jurado.jury_results_2016,'concurso.datos_resultados_finales.datos_jurado.jury_results_2016')\n",
    "checkearVariablePanda(concurso.datos_resultados_finales.datos_jurado.jury_results_2017,'concurso.datos_resultados_finales.datos_jurado.jury_results_2017')\n",
    "checkearVariablePanda(concurso.datos_resultados_finales.datos_jurado.jury_results_2018,'concurso.datos_resultados_finales.datos_jurado.jury_results_2018')\n",
    "checkearVariablePanda(concurso.datos_resultados_finales.datos_jurado.jury_results_2019,'concurso.datos_resultados_finales.datos_jurado.jury_results_2019')\n",
    "checkearVariablePanda(concurso.datos_resultados_finales.datos_jurado.jury_results_2021,'concurso.datos_resultados_finales.datos_jurado.jury_results_2021')\n",
    "checkearVariablePanda(concurso.datos_resultados_finales.datos_jurado.jury_results_2022,'concurso.datos_resultados_finales.datos_jurado.jury_results_2022')\n",
    "\n",
    "#televotacion\n",
    "checkearVariablePanda(concurso.datos_resultados_finales.datos_televotacion.televote_results_2016,'concurso.datos_resultados_finales.datos_televotacion.2016_televote_results')\n",
    "checkearVariablePanda(concurso.datos_resultados_finales.datos_televotacion.televote_results_2017,'concurso.datos_resultados_finales.datos_televotacion.2017_televote_results')\n",
    "checkearVariablePanda(concurso.datos_resultados_finales.datos_televotacion.televote_results_2018,'concurso.datos_resultados_finales.datos_televotacion.2018_televote_results')\n",
    "checkearVariablePanda(concurso.datos_resultados_finales.datos_televotacion.televote_results_2019,'concurso.datos_resultados_finales.datos_televotacion.2019_televote_results')\n",
    "checkearVariablePanda(concurso.datos_resultados_finales.datos_televotacion.televote_results_2021,'concurso.datos_resultados_finales.datos_televotacion.2021_televote_results')\n",
    "checkearVariablePanda(concurso.datos_resultados_finales.datos_televotacion.televote_results_2022,'concurso.datos_resultados_finales.datos_televotacion.2022_televote_results')"
   ]
  },
  {
   "cell_type": "markdown",
   "metadata": {},
   "source": [
    "# Manipulacion de CSVs"
   ]
  },
  {
   "cell_type": "markdown",
   "metadata": {},
   "source": [
    "Utilizando el dataset principal haremos plots simples"
   ]
  },
  {
   "cell_type": "code",
   "execution_count": 126,
   "metadata": {},
   "outputs": [
    {
     "data": {
      "text/html": [
       "<div>\n",
       "<style scoped>\n",
       "    .dataframe tbody tr th:only-of-type {\n",
       "        vertical-align: middle;\n",
       "    }\n",
       "\n",
       "    .dataframe tbody tr th {\n",
       "        vertical-align: top;\n",
       "    }\n",
       "\n",
       "    .dataframe thead th {\n",
       "        text-align: right;\n",
       "    }\n",
       "</style>\n",
       "<table border=\"1\" class=\"dataframe\">\n",
       "  <thead>\n",
       "    <tr style=\"text-align: right;\">\n",
       "      <th></th>\n",
       "      <th>year</th>\n",
       "      <th>semi_draw_position</th>\n",
       "      <th>final_draw_position</th>\n",
       "      <th>country</th>\n",
       "      <th>artist_name</th>\n",
       "      <th>song_name</th>\n",
       "      <th>language</th>\n",
       "      <th>style</th>\n",
       "      <th>direct_qualifier_10</th>\n",
       "      <th>main_singers</th>\n",
       "      <th>...</th>\n",
       "      <th>final_jury_votes</th>\n",
       "      <th>final_place</th>\n",
       "      <th>final_total_points</th>\n",
       "      <th>semi_place</th>\n",
       "      <th>semi_televote_points</th>\n",
       "      <th>semi_jury_points</th>\n",
       "      <th>semi_total_points</th>\n",
       "      <th>favourite_10</th>\n",
       "      <th>race</th>\n",
       "      <th>host_10</th>\n",
       "    </tr>\n",
       "  </thead>\n",
       "  <tbody>\n",
       "    <tr>\n",
       "      <th>0</th>\n",
       "      <td>2022</td>\n",
       "      <td>1</td>\n",
       "      <td>0</td>\n",
       "      <td>Albania</td>\n",
       "      <td>Ronela Hajati</td>\n",
       "      <td>Sekret</td>\n",
       "      <td>Albanian, English</td>\n",
       "      <td>Pop</td>\n",
       "      <td>-</td>\n",
       "      <td>1</td>\n",
       "      <td>...</td>\n",
       "      <td>0.0</td>\n",
       "      <td>0.0</td>\n",
       "      <td>0.0</td>\n",
       "      <td>12.0</td>\n",
       "      <td>46.0</td>\n",
       "      <td>12.0</td>\n",
       "      <td>58.0</td>\n",
       "      <td>0</td>\n",
       "      <td>white</td>\n",
       "      <td>0</td>\n",
       "    </tr>\n",
       "    <tr>\n",
       "      <th>1</th>\n",
       "      <td>2022</td>\n",
       "      <td>2</td>\n",
       "      <td>0</td>\n",
       "      <td>Latvia</td>\n",
       "      <td>Citi Zeni</td>\n",
       "      <td>Eat Your Salad</td>\n",
       "      <td>English</td>\n",
       "      <td>Pop</td>\n",
       "      <td>-</td>\n",
       "      <td>1</td>\n",
       "      <td>...</td>\n",
       "      <td>0.0</td>\n",
       "      <td>0.0</td>\n",
       "      <td>0.0</td>\n",
       "      <td>14.0</td>\n",
       "      <td>16.0</td>\n",
       "      <td>39.0</td>\n",
       "      <td>55.0</td>\n",
       "      <td>0</td>\n",
       "      <td>white</td>\n",
       "      <td>0</td>\n",
       "    </tr>\n",
       "    <tr>\n",
       "      <th>2</th>\n",
       "      <td>2022</td>\n",
       "      <td>3</td>\n",
       "      <td>14</td>\n",
       "      <td>Lithuania</td>\n",
       "      <td>Monika Liu</td>\n",
       "      <td>Sentimentai</td>\n",
       "      <td>Lithuanian</td>\n",
       "      <td>Ballad</td>\n",
       "      <td>0</td>\n",
       "      <td>1</td>\n",
       "      <td>...</td>\n",
       "      <td>10.0</td>\n",
       "      <td>14.0</td>\n",
       "      <td>128.0</td>\n",
       "      <td>7.0</td>\n",
       "      <td>103.0</td>\n",
       "      <td>56.0</td>\n",
       "      <td>159.0</td>\n",
       "      <td>0</td>\n",
       "      <td>white</td>\n",
       "      <td>0</td>\n",
       "    </tr>\n",
       "    <tr>\n",
       "      <th>3</th>\n",
       "      <td>2022</td>\n",
       "      <td>4</td>\n",
       "      <td>5</td>\n",
       "      <td>Switzerland</td>\n",
       "      <td>Marius Bear</td>\n",
       "      <td>Boys Do Cry</td>\n",
       "      <td>English</td>\n",
       "      <td>Ballad</td>\n",
       "      <td>0</td>\n",
       "      <td>1</td>\n",
       "      <td>...</td>\n",
       "      <td>21.0</td>\n",
       "      <td>17.0</td>\n",
       "      <td>78.0</td>\n",
       "      <td>9.0</td>\n",
       "      <td>11.0</td>\n",
       "      <td>107.0</td>\n",
       "      <td>118.0</td>\n",
       "      <td>0</td>\n",
       "      <td>white</td>\n",
       "      <td>0</td>\n",
       "    </tr>\n",
       "    <tr>\n",
       "      <th>4</th>\n",
       "      <td>2022</td>\n",
       "      <td>5</td>\n",
       "      <td>0</td>\n",
       "      <td>Slovenia</td>\n",
       "      <td>LPS</td>\n",
       "      <td>Disko</td>\n",
       "      <td>Slovene</td>\n",
       "      <td>Pop</td>\n",
       "      <td>-</td>\n",
       "      <td>1</td>\n",
       "      <td>...</td>\n",
       "      <td>0.0</td>\n",
       "      <td>0.0</td>\n",
       "      <td>0.0</td>\n",
       "      <td>17.0</td>\n",
       "      <td>8.0</td>\n",
       "      <td>7.0</td>\n",
       "      <td>15.0</td>\n",
       "      <td>0</td>\n",
       "      <td>white</td>\n",
       "      <td>0</td>\n",
       "    </tr>\n",
       "    <tr>\n",
       "      <th>...</th>\n",
       "      <td>...</td>\n",
       "      <td>...</td>\n",
       "      <td>...</td>\n",
       "      <td>...</td>\n",
       "      <td>...</td>\n",
       "      <td>...</td>\n",
       "      <td>...</td>\n",
       "      <td>...</td>\n",
       "      <td>...</td>\n",
       "      <td>...</td>\n",
       "      <td>...</td>\n",
       "      <td>...</td>\n",
       "      <td>...</td>\n",
       "      <td>...</td>\n",
       "      <td>...</td>\n",
       "      <td>...</td>\n",
       "      <td>...</td>\n",
       "      <td>...</td>\n",
       "      <td>...</td>\n",
       "      <td>...</td>\n",
       "      <td>...</td>\n",
       "    </tr>\n",
       "    <tr>\n",
       "      <th>523</th>\n",
       "      <td>2009</td>\n",
       "      <td>0</td>\n",
       "      <td>3</td>\n",
       "      <td>France</td>\n",
       "      <td>Patricia Kaas</td>\n",
       "      <td>Et s'il fallait le faire</td>\n",
       "      <td>French</td>\n",
       "      <td>Ballad</td>\n",
       "      <td>1</td>\n",
       "      <td>1</td>\n",
       "      <td>...</td>\n",
       "      <td>0.0</td>\n",
       "      <td>8.0</td>\n",
       "      <td>218.0</td>\n",
       "      <td>0.0</td>\n",
       "      <td>0.0</td>\n",
       "      <td>0.0</td>\n",
       "      <td>0.0</td>\n",
       "      <td>0</td>\n",
       "      <td>unknown</td>\n",
       "      <td>0</td>\n",
       "    </tr>\n",
       "    <tr>\n",
       "      <th>524</th>\n",
       "      <td>2009</td>\n",
       "      <td>0</td>\n",
       "      <td>10</td>\n",
       "      <td>Russia</td>\n",
       "      <td>Anastasiya Prikhodko</td>\n",
       "      <td>Mamo</td>\n",
       "      <td>Russian, Ukrainian</td>\n",
       "      <td>Ballad</td>\n",
       "      <td>1</td>\n",
       "      <td>1</td>\n",
       "      <td>...</td>\n",
       "      <td>0.0</td>\n",
       "      <td>11.0</td>\n",
       "      <td>185.0</td>\n",
       "      <td>0.0</td>\n",
       "      <td>0.0</td>\n",
       "      <td>0.0</td>\n",
       "      <td>0.0</td>\n",
       "      <td>0</td>\n",
       "      <td>unknown</td>\n",
       "      <td>1</td>\n",
       "    </tr>\n",
       "    <tr>\n",
       "      <th>525</th>\n",
       "      <td>2009</td>\n",
       "      <td>0</td>\n",
       "      <td>17</td>\n",
       "      <td>Germany</td>\n",
       "      <td>Alex Swings Oscar Sings!</td>\n",
       "      <td>Miss Kiss Kiss Bang</td>\n",
       "      <td>English</td>\n",
       "      <td>Pop</td>\n",
       "      <td>1</td>\n",
       "      <td>1</td>\n",
       "      <td>...</td>\n",
       "      <td>0.0</td>\n",
       "      <td>20.0</td>\n",
       "      <td>91.0</td>\n",
       "      <td>0.0</td>\n",
       "      <td>0.0</td>\n",
       "      <td>0.0</td>\n",
       "      <td>0.0</td>\n",
       "      <td>0</td>\n",
       "      <td>unknown</td>\n",
       "      <td>0</td>\n",
       "    </tr>\n",
       "    <tr>\n",
       "      <th>526</th>\n",
       "      <td>2009</td>\n",
       "      <td>0</td>\n",
       "      <td>23</td>\n",
       "      <td>United Kingdom</td>\n",
       "      <td>Jade Ewen</td>\n",
       "      <td>It's My Time</td>\n",
       "      <td>English</td>\n",
       "      <td>Ballad</td>\n",
       "      <td>1</td>\n",
       "      <td>1</td>\n",
       "      <td>...</td>\n",
       "      <td>0.0</td>\n",
       "      <td>5.0</td>\n",
       "      <td>328.0</td>\n",
       "      <td>0.0</td>\n",
       "      <td>0.0</td>\n",
       "      <td>0.0</td>\n",
       "      <td>0.0</td>\n",
       "      <td>0</td>\n",
       "      <td>unknown</td>\n",
       "      <td>0</td>\n",
       "    </tr>\n",
       "    <tr>\n",
       "      <th>527</th>\n",
       "      <td>2009</td>\n",
       "      <td>0</td>\n",
       "      <td>25</td>\n",
       "      <td>Spain</td>\n",
       "      <td>Soraya Arnelas</td>\n",
       "      <td>La noche es para mi</td>\n",
       "      <td>Spanish, English</td>\n",
       "      <td>Dance</td>\n",
       "      <td>1</td>\n",
       "      <td>1</td>\n",
       "      <td>...</td>\n",
       "      <td>0.0</td>\n",
       "      <td>24.0</td>\n",
       "      <td>47.0</td>\n",
       "      <td>0.0</td>\n",
       "      <td>0.0</td>\n",
       "      <td>0.0</td>\n",
       "      <td>0.0</td>\n",
       "      <td>0</td>\n",
       "      <td>unknown</td>\n",
       "      <td>0</td>\n",
       "    </tr>\n",
       "  </tbody>\n",
       "</table>\n",
       "<p>528 rows × 40 columns</p>\n",
       "</div>"
      ],
      "text/plain": [
       "     year  semi_draw_position  final_draw_position         country  \\\n",
       "0    2022                   1                    0         Albania   \n",
       "1    2022                   2                    0          Latvia   \n",
       "2    2022                   3                   14       Lithuania   \n",
       "3    2022                   4                    5     Switzerland   \n",
       "4    2022                   5                    0        Slovenia   \n",
       "..    ...                 ...                  ...             ...   \n",
       "523  2009                   0                    3          France   \n",
       "524  2009                   0                   10          Russia   \n",
       "525  2009                   0                   17         Germany   \n",
       "526  2009                   0                   23  United Kingdom   \n",
       "527  2009                   0                   25           Spain   \n",
       "\n",
       "                  artist_name                 song_name            language  \\\n",
       "0               Ronela Hajati                    Sekret   Albanian, English   \n",
       "1                   Citi Zeni            Eat Your Salad             English   \n",
       "2                  Monika Liu               Sentimentai          Lithuanian   \n",
       "3                 Marius Bear               Boys Do Cry             English   \n",
       "4                         LPS                     Disko             Slovene   \n",
       "..                        ...                       ...                 ...   \n",
       "523             Patricia Kaas  Et s'il fallait le faire              French   \n",
       "524      Anastasiya Prikhodko                      Mamo  Russian, Ukrainian   \n",
       "525  Alex Swings Oscar Sings!       Miss Kiss Kiss Bang             English   \n",
       "526                 Jade Ewen              It's My Time             English   \n",
       "527            Soraya Arnelas       La noche es para mi    Spanish, English   \n",
       "\n",
       "      style direct_qualifier_10  main_singers  ... final_jury_votes  \\\n",
       "0       Pop                   -             1  ...              0.0   \n",
       "1       Pop                   -             1  ...              0.0   \n",
       "2    Ballad                   0             1  ...             10.0   \n",
       "3    Ballad                   0             1  ...             21.0   \n",
       "4       Pop                   -             1  ...              0.0   \n",
       "..      ...                 ...           ...  ...              ...   \n",
       "523  Ballad                   1             1  ...              0.0   \n",
       "524  Ballad                   1             1  ...              0.0   \n",
       "525     Pop                   1             1  ...              0.0   \n",
       "526  Ballad                   1             1  ...              0.0   \n",
       "527   Dance                   1             1  ...              0.0   \n",
       "\n",
       "     final_place  final_total_points  semi_place  semi_televote_points  \\\n",
       "0            0.0                 0.0        12.0                  46.0   \n",
       "1            0.0                 0.0        14.0                  16.0   \n",
       "2           14.0               128.0         7.0                 103.0   \n",
       "3           17.0                78.0         9.0                  11.0   \n",
       "4            0.0                 0.0        17.0                   8.0   \n",
       "..           ...                 ...         ...                   ...   \n",
       "523          8.0               218.0         0.0                   0.0   \n",
       "524         11.0               185.0         0.0                   0.0   \n",
       "525         20.0                91.0         0.0                   0.0   \n",
       "526          5.0               328.0         0.0                   0.0   \n",
       "527         24.0                47.0         0.0                   0.0   \n",
       "\n",
       "    semi_jury_points  semi_total_points  favourite_10     race host_10  \n",
       "0               12.0               58.0             0    white       0  \n",
       "1               39.0               55.0             0    white       0  \n",
       "2               56.0              159.0             0    white       0  \n",
       "3              107.0              118.0             0    white       0  \n",
       "4                7.0               15.0             0    white       0  \n",
       "..               ...                ...           ...      ...     ...  \n",
       "523              0.0                0.0             0  unknown       0  \n",
       "524              0.0                0.0             0  unknown       1  \n",
       "525              0.0                0.0             0  unknown       0  \n",
       "526              0.0                0.0             0  unknown       0  \n",
       "527              0.0                0.0             0  unknown       0  \n",
       "\n",
       "[528 rows x 40 columns]"
      ]
     },
     "execution_count": 126,
     "metadata": {},
     "output_type": "execute_result"
    }
   ],
   "source": [
    "song_data = concurso.song_data\n",
    "song_data"
   ]
  },
  {
   "cell_type": "code",
   "execution_count": 127,
   "metadata": {},
   "outputs": [
    {
     "data": {
      "text/plain": [
       "year                       int64\n",
       "semi_draw_position         int32\n",
       "final_draw_position        int32\n",
       "country                   string\n",
       "artist_name               string\n",
       "song_name                 string\n",
       "language                  string\n",
       "style                     string\n",
       "direct_qualifier_10       object\n",
       "main_singers               int64\n",
       "key                       object\n",
       "BPM                        int32\n",
       "energy                     int32\n",
       "danceability               int32\n",
       "happiness                  int32\n",
       "loudness                  string\n",
       "acousticness               int32\n",
       "instrumentalness           int32\n",
       "liveness                   int32\n",
       "speechiness               string\n",
       "release_date              object\n",
       "key_change_10             object\n",
       "backing_dancers            int64\n",
       "backing_singers            int64\n",
       "backing_instruments        int64\n",
       "instrument_10              int64\n",
       "qualified                 object\n",
       "final_televote_points    float64\n",
       "final_jury_points        float64\n",
       "final_televote_votes     float64\n",
       "final_jury_votes         float64\n",
       "final_place              float64\n",
       "final_total_points       float64\n",
       "semi_place               float64\n",
       "semi_televote_points     float64\n",
       "semi_jury_points         float64\n",
       "semi_total_points        float64\n",
       "favourite_10               int64\n",
       "race                      string\n",
       "host_10                    int64\n",
       "dtype: object"
      ]
     },
     "execution_count": 127,
     "metadata": {},
     "output_type": "execute_result"
    }
   ],
   "source": [
    "song_data.dtypes"
   ]
  },
  {
   "cell_type": "markdown",
   "metadata": {},
   "source": [
    "## Pie Chart"
   ]
  },
  {
   "cell_type": "markdown",
   "metadata": {},
   "source": [
    "Dataset"
   ]
  },
  {
   "cell_type": "code",
   "execution_count": 128,
   "metadata": {},
   "outputs": [
    {
     "name": "stdout",
     "output_type": "stream",
     "text": [
      "*\n"
     ]
    }
   ],
   "source": [
    "print('*')"
   ]
  },
  {
   "cell_type": "code",
   "execution_count": 129,
   "metadata": {},
   "outputs": [
    {
     "data": {
      "text/html": [
       "<div>\n",
       "<style scoped>\n",
       "    .dataframe tbody tr th:only-of-type {\n",
       "        vertical-align: middle;\n",
       "    }\n",
       "\n",
       "    .dataframe tbody tr th {\n",
       "        vertical-align: top;\n",
       "    }\n",
       "\n",
       "    .dataframe thead th {\n",
       "        text-align: right;\n",
       "    }\n",
       "</style>\n",
       "<table border=\"1\" class=\"dataframe\">\n",
       "  <thead>\n",
       "    <tr style=\"text-align: right;\">\n",
       "      <th></th>\n",
       "      <th>year</th>\n",
       "      <th>semi_draw_position</th>\n",
       "      <th>final_draw_position</th>\n",
       "      <th>country</th>\n",
       "      <th>artist_name</th>\n",
       "      <th>song_name</th>\n",
       "      <th>language</th>\n",
       "      <th>style</th>\n",
       "      <th>direct_qualifier_10</th>\n",
       "      <th>main_singers</th>\n",
       "      <th>...</th>\n",
       "      <th>final_jury_votes</th>\n",
       "      <th>final_place</th>\n",
       "      <th>final_total_points</th>\n",
       "      <th>semi_place</th>\n",
       "      <th>semi_televote_points</th>\n",
       "      <th>semi_jury_points</th>\n",
       "      <th>semi_total_points</th>\n",
       "      <th>favourite_10</th>\n",
       "      <th>race</th>\n",
       "      <th>host_10</th>\n",
       "    </tr>\n",
       "  </thead>\n",
       "  <tbody>\n",
       "    <tr>\n",
       "      <th>5</th>\n",
       "      <td>2022</td>\n",
       "      <td>6</td>\n",
       "      <td>12</td>\n",
       "      <td>Ukraine</td>\n",
       "      <td>Kalush Orchestra</td>\n",
       "      <td>Stefania</td>\n",
       "      <td>Ukrainian</td>\n",
       "      <td>Traditional</td>\n",
       "      <td>0</td>\n",
       "      <td>1</td>\n",
       "      <td>...</td>\n",
       "      <td>26.0</td>\n",
       "      <td>1.0</td>\n",
       "      <td>631.0</td>\n",
       "      <td>1.0</td>\n",
       "      <td>202.0</td>\n",
       "      <td>135.0</td>\n",
       "      <td>337.0</td>\n",
       "      <td>1</td>\n",
       "      <td>white</td>\n",
       "      <td>0</td>\n",
       "    </tr>\n",
       "    <tr>\n",
       "      <th>38</th>\n",
       "      <td>2022</td>\n",
       "      <td>0</td>\n",
       "      <td>22</td>\n",
       "      <td>United Kingdom</td>\n",
       "      <td>Sam Ryder</td>\n",
       "      <td>Space Man</td>\n",
       "      <td>English</td>\n",
       "      <td>Pop</td>\n",
       "      <td>1</td>\n",
       "      <td>1</td>\n",
       "      <td>...</td>\n",
       "      <td>35.0</td>\n",
       "      <td>2.0</td>\n",
       "      <td>466.0</td>\n",
       "      <td>0.0</td>\n",
       "      <td>0.0</td>\n",
       "      <td>0.0</td>\n",
       "      <td>0.0</td>\n",
       "      <td>0</td>\n",
       "      <td>white</td>\n",
       "      <td>0</td>\n",
       "    </tr>\n",
       "    <tr>\n",
       "      <th>36</th>\n",
       "      <td>2022</td>\n",
       "      <td>0</td>\n",
       "      <td>10</td>\n",
       "      <td>Spain</td>\n",
       "      <td>Chanel</td>\n",
       "      <td>SloMo</td>\n",
       "      <td>Spanish, English</td>\n",
       "      <td>Pop</td>\n",
       "      <td>1</td>\n",
       "      <td>1</td>\n",
       "      <td>...</td>\n",
       "      <td>34.0</td>\n",
       "      <td>3.0</td>\n",
       "      <td>459.0</td>\n",
       "      <td>0.0</td>\n",
       "      <td>0.0</td>\n",
       "      <td>0.0</td>\n",
       "      <td>0.0</td>\n",
       "      <td>0</td>\n",
       "      <td>white</td>\n",
       "      <td>0</td>\n",
       "    </tr>\n",
       "    <tr>\n",
       "      <th>33</th>\n",
       "      <td>2022</td>\n",
       "      <td>17</td>\n",
       "      <td>20</td>\n",
       "      <td>Sweden</td>\n",
       "      <td>Cornelia Jakobs</td>\n",
       "      <td>Hold Me Closer</td>\n",
       "      <td>English</td>\n",
       "      <td>Ballad</td>\n",
       "      <td>0</td>\n",
       "      <td>1</td>\n",
       "      <td>...</td>\n",
       "      <td>33.0</td>\n",
       "      <td>4.0</td>\n",
       "      <td>438.0</td>\n",
       "      <td>1.0</td>\n",
       "      <td>174.0</td>\n",
       "      <td>222.0</td>\n",
       "      <td>396.0</td>\n",
       "      <td>0</td>\n",
       "      <td>unknown</td>\n",
       "      <td>0</td>\n",
       "    </tr>\n",
       "    <tr>\n",
       "      <th>19</th>\n",
       "      <td>2022</td>\n",
       "      <td>3</td>\n",
       "      <td>24</td>\n",
       "      <td>Serbia</td>\n",
       "      <td>Konstrakta</td>\n",
       "      <td>In corpore sano</td>\n",
       "      <td>Serbian, Latin</td>\n",
       "      <td>Traditional</td>\n",
       "      <td>0</td>\n",
       "      <td>1</td>\n",
       "      <td>...</td>\n",
       "      <td>15.0</td>\n",
       "      <td>5.0</td>\n",
       "      <td>312.0</td>\n",
       "      <td>3.0</td>\n",
       "      <td>174.0</td>\n",
       "      <td>63.0</td>\n",
       "      <td>237.0</td>\n",
       "      <td>0</td>\n",
       "      <td>white</td>\n",
       "      <td>0</td>\n",
       "    </tr>\n",
       "  </tbody>\n",
       "</table>\n",
       "<p>5 rows × 40 columns</p>\n",
       "</div>"
      ],
      "text/plain": [
       "    year  semi_draw_position  final_draw_position         country  \\\n",
       "5   2022                   6                   12         Ukraine   \n",
       "38  2022                   0                   22  United Kingdom   \n",
       "36  2022                   0                   10           Spain   \n",
       "33  2022                  17                   20          Sweden   \n",
       "19  2022                   3                   24          Serbia   \n",
       "\n",
       "         artist_name        song_name          language        style  \\\n",
       "5   Kalush Orchestra         Stefania         Ukrainian  Traditional   \n",
       "38         Sam Ryder        Space Man           English          Pop   \n",
       "36            Chanel            SloMo  Spanish, English          Pop   \n",
       "33   Cornelia Jakobs   Hold Me Closer           English       Ballad   \n",
       "19        Konstrakta  In corpore sano    Serbian, Latin  Traditional   \n",
       "\n",
       "   direct_qualifier_10  main_singers  ... final_jury_votes  final_place  \\\n",
       "5                    0             1  ...             26.0          1.0   \n",
       "38                   1             1  ...             35.0          2.0   \n",
       "36                   1             1  ...             34.0          3.0   \n",
       "33                   0             1  ...             33.0          4.0   \n",
       "19                   0             1  ...             15.0          5.0   \n",
       "\n",
       "    final_total_points  semi_place  semi_televote_points semi_jury_points  \\\n",
       "5                631.0         1.0                 202.0            135.0   \n",
       "38               466.0         0.0                   0.0              0.0   \n",
       "36               459.0         0.0                   0.0              0.0   \n",
       "33               438.0         1.0                 174.0            222.0   \n",
       "19               312.0         3.0                 174.0             63.0   \n",
       "\n",
       "    semi_total_points  favourite_10     race host_10  \n",
       "5               337.0             1    white       0  \n",
       "38                0.0             0    white       0  \n",
       "36                0.0             0    white       0  \n",
       "33              396.0             0  unknown       0  \n",
       "19              237.0             0    white       0  \n",
       "\n",
       "[5 rows x 40 columns]"
      ]
     },
     "execution_count": 129,
     "metadata": {},
     "output_type": "execute_result"
    }
   ],
   "source": [
    "song_data_2022 = song_data[(song_data.year == 2022) & (song_data.final_place > 0.0)]\n",
    "song_data_2022_top = song_data_2022.sort_values(by='final_place',ascending=True)\n",
    "song_data_2022_top.head()"
   ]
  },
  {
   "cell_type": "markdown",
   "metadata": {},
   "source": [
    "Plot"
   ]
  },
  {
   "cell_type": "code",
   "execution_count": 130,
   "metadata": {},
   "outputs": [
    {
     "data": {
      "application/vnd.plotly.v1+json": {
       "config": {
        "plotlyServerURL": "https://plot.ly"
       },
       "data": [
        {
         "domain": {
          "x": [
           0,
           1
          ],
          "y": [
           0,
           1
          ]
         },
         "hovertemplate": "country=%{label}<br>final_total_points=%{value}<extra></extra>",
         "labels": [
          "Ukraine",
          "United Kingdom",
          "Spain",
          "Sweden",
          "Serbia"
         ],
         "legendgroup": "",
         "name": "",
         "showlegend": true,
         "type": "pie",
         "values": [
          631,
          466,
          459,
          438,
          312
         ]
        }
       ],
       "layout": {
        "legend": {
         "tracegroupgap": 0
        },
        "template": {
         "data": {
          "bar": [
           {
            "error_x": {
             "color": "#2a3f5f"
            },
            "error_y": {
             "color": "#2a3f5f"
            },
            "marker": {
             "line": {
              "color": "#E5ECF6",
              "width": 0.5
             },
             "pattern": {
              "fillmode": "overlay",
              "size": 10,
              "solidity": 0.2
             }
            },
            "type": "bar"
           }
          ],
          "barpolar": [
           {
            "marker": {
             "line": {
              "color": "#E5ECF6",
              "width": 0.5
             },
             "pattern": {
              "fillmode": "overlay",
              "size": 10,
              "solidity": 0.2
             }
            },
            "type": "barpolar"
           }
          ],
          "carpet": [
           {
            "aaxis": {
             "endlinecolor": "#2a3f5f",
             "gridcolor": "white",
             "linecolor": "white",
             "minorgridcolor": "white",
             "startlinecolor": "#2a3f5f"
            },
            "baxis": {
             "endlinecolor": "#2a3f5f",
             "gridcolor": "white",
             "linecolor": "white",
             "minorgridcolor": "white",
             "startlinecolor": "#2a3f5f"
            },
            "type": "carpet"
           }
          ],
          "choropleth": [
           {
            "colorbar": {
             "outlinewidth": 0,
             "ticks": ""
            },
            "type": "choropleth"
           }
          ],
          "contour": [
           {
            "colorbar": {
             "outlinewidth": 0,
             "ticks": ""
            },
            "colorscale": [
             [
              0,
              "#0d0887"
             ],
             [
              0.1111111111111111,
              "#46039f"
             ],
             [
              0.2222222222222222,
              "#7201a8"
             ],
             [
              0.3333333333333333,
              "#9c179e"
             ],
             [
              0.4444444444444444,
              "#bd3786"
             ],
             [
              0.5555555555555556,
              "#d8576b"
             ],
             [
              0.6666666666666666,
              "#ed7953"
             ],
             [
              0.7777777777777778,
              "#fb9f3a"
             ],
             [
              0.8888888888888888,
              "#fdca26"
             ],
             [
              1,
              "#f0f921"
             ]
            ],
            "type": "contour"
           }
          ],
          "contourcarpet": [
           {
            "colorbar": {
             "outlinewidth": 0,
             "ticks": ""
            },
            "type": "contourcarpet"
           }
          ],
          "heatmap": [
           {
            "colorbar": {
             "outlinewidth": 0,
             "ticks": ""
            },
            "colorscale": [
             [
              0,
              "#0d0887"
             ],
             [
              0.1111111111111111,
              "#46039f"
             ],
             [
              0.2222222222222222,
              "#7201a8"
             ],
             [
              0.3333333333333333,
              "#9c179e"
             ],
             [
              0.4444444444444444,
              "#bd3786"
             ],
             [
              0.5555555555555556,
              "#d8576b"
             ],
             [
              0.6666666666666666,
              "#ed7953"
             ],
             [
              0.7777777777777778,
              "#fb9f3a"
             ],
             [
              0.8888888888888888,
              "#fdca26"
             ],
             [
              1,
              "#f0f921"
             ]
            ],
            "type": "heatmap"
           }
          ],
          "heatmapgl": [
           {
            "colorbar": {
             "outlinewidth": 0,
             "ticks": ""
            },
            "colorscale": [
             [
              0,
              "#0d0887"
             ],
             [
              0.1111111111111111,
              "#46039f"
             ],
             [
              0.2222222222222222,
              "#7201a8"
             ],
             [
              0.3333333333333333,
              "#9c179e"
             ],
             [
              0.4444444444444444,
              "#bd3786"
             ],
             [
              0.5555555555555556,
              "#d8576b"
             ],
             [
              0.6666666666666666,
              "#ed7953"
             ],
             [
              0.7777777777777778,
              "#fb9f3a"
             ],
             [
              0.8888888888888888,
              "#fdca26"
             ],
             [
              1,
              "#f0f921"
             ]
            ],
            "type": "heatmapgl"
           }
          ],
          "histogram": [
           {
            "marker": {
             "pattern": {
              "fillmode": "overlay",
              "size": 10,
              "solidity": 0.2
             }
            },
            "type": "histogram"
           }
          ],
          "histogram2d": [
           {
            "colorbar": {
             "outlinewidth": 0,
             "ticks": ""
            },
            "colorscale": [
             [
              0,
              "#0d0887"
             ],
             [
              0.1111111111111111,
              "#46039f"
             ],
             [
              0.2222222222222222,
              "#7201a8"
             ],
             [
              0.3333333333333333,
              "#9c179e"
             ],
             [
              0.4444444444444444,
              "#bd3786"
             ],
             [
              0.5555555555555556,
              "#d8576b"
             ],
             [
              0.6666666666666666,
              "#ed7953"
             ],
             [
              0.7777777777777778,
              "#fb9f3a"
             ],
             [
              0.8888888888888888,
              "#fdca26"
             ],
             [
              1,
              "#f0f921"
             ]
            ],
            "type": "histogram2d"
           }
          ],
          "histogram2dcontour": [
           {
            "colorbar": {
             "outlinewidth": 0,
             "ticks": ""
            },
            "colorscale": [
             [
              0,
              "#0d0887"
             ],
             [
              0.1111111111111111,
              "#46039f"
             ],
             [
              0.2222222222222222,
              "#7201a8"
             ],
             [
              0.3333333333333333,
              "#9c179e"
             ],
             [
              0.4444444444444444,
              "#bd3786"
             ],
             [
              0.5555555555555556,
              "#d8576b"
             ],
             [
              0.6666666666666666,
              "#ed7953"
             ],
             [
              0.7777777777777778,
              "#fb9f3a"
             ],
             [
              0.8888888888888888,
              "#fdca26"
             ],
             [
              1,
              "#f0f921"
             ]
            ],
            "type": "histogram2dcontour"
           }
          ],
          "mesh3d": [
           {
            "colorbar": {
             "outlinewidth": 0,
             "ticks": ""
            },
            "type": "mesh3d"
           }
          ],
          "parcoords": [
           {
            "line": {
             "colorbar": {
              "outlinewidth": 0,
              "ticks": ""
             }
            },
            "type": "parcoords"
           }
          ],
          "pie": [
           {
            "automargin": true,
            "type": "pie"
           }
          ],
          "scatter": [
           {
            "fillpattern": {
             "fillmode": "overlay",
             "size": 10,
             "solidity": 0.2
            },
            "type": "scatter"
           }
          ],
          "scatter3d": [
           {
            "line": {
             "colorbar": {
              "outlinewidth": 0,
              "ticks": ""
             }
            },
            "marker": {
             "colorbar": {
              "outlinewidth": 0,
              "ticks": ""
             }
            },
            "type": "scatter3d"
           }
          ],
          "scattercarpet": [
           {
            "marker": {
             "colorbar": {
              "outlinewidth": 0,
              "ticks": ""
             }
            },
            "type": "scattercarpet"
           }
          ],
          "scattergeo": [
           {
            "marker": {
             "colorbar": {
              "outlinewidth": 0,
              "ticks": ""
             }
            },
            "type": "scattergeo"
           }
          ],
          "scattergl": [
           {
            "marker": {
             "colorbar": {
              "outlinewidth": 0,
              "ticks": ""
             }
            },
            "type": "scattergl"
           }
          ],
          "scattermapbox": [
           {
            "marker": {
             "colorbar": {
              "outlinewidth": 0,
              "ticks": ""
             }
            },
            "type": "scattermapbox"
           }
          ],
          "scatterpolar": [
           {
            "marker": {
             "colorbar": {
              "outlinewidth": 0,
              "ticks": ""
             }
            },
            "type": "scatterpolar"
           }
          ],
          "scatterpolargl": [
           {
            "marker": {
             "colorbar": {
              "outlinewidth": 0,
              "ticks": ""
             }
            },
            "type": "scatterpolargl"
           }
          ],
          "scatterternary": [
           {
            "marker": {
             "colorbar": {
              "outlinewidth": 0,
              "ticks": ""
             }
            },
            "type": "scatterternary"
           }
          ],
          "surface": [
           {
            "colorbar": {
             "outlinewidth": 0,
             "ticks": ""
            },
            "colorscale": [
             [
              0,
              "#0d0887"
             ],
             [
              0.1111111111111111,
              "#46039f"
             ],
             [
              0.2222222222222222,
              "#7201a8"
             ],
             [
              0.3333333333333333,
              "#9c179e"
             ],
             [
              0.4444444444444444,
              "#bd3786"
             ],
             [
              0.5555555555555556,
              "#d8576b"
             ],
             [
              0.6666666666666666,
              "#ed7953"
             ],
             [
              0.7777777777777778,
              "#fb9f3a"
             ],
             [
              0.8888888888888888,
              "#fdca26"
             ],
             [
              1,
              "#f0f921"
             ]
            ],
            "type": "surface"
           }
          ],
          "table": [
           {
            "cells": {
             "fill": {
              "color": "#EBF0F8"
             },
             "line": {
              "color": "white"
             }
            },
            "header": {
             "fill": {
              "color": "#C8D4E3"
             },
             "line": {
              "color": "white"
             }
            },
            "type": "table"
           }
          ]
         },
         "layout": {
          "annotationdefaults": {
           "arrowcolor": "#2a3f5f",
           "arrowhead": 0,
           "arrowwidth": 1
          },
          "autotypenumbers": "strict",
          "coloraxis": {
           "colorbar": {
            "outlinewidth": 0,
            "ticks": ""
           }
          },
          "colorscale": {
           "diverging": [
            [
             0,
             "#8e0152"
            ],
            [
             0.1,
             "#c51b7d"
            ],
            [
             0.2,
             "#de77ae"
            ],
            [
             0.3,
             "#f1b6da"
            ],
            [
             0.4,
             "#fde0ef"
            ],
            [
             0.5,
             "#f7f7f7"
            ],
            [
             0.6,
             "#e6f5d0"
            ],
            [
             0.7,
             "#b8e186"
            ],
            [
             0.8,
             "#7fbc41"
            ],
            [
             0.9,
             "#4d9221"
            ],
            [
             1,
             "#276419"
            ]
           ],
           "sequential": [
            [
             0,
             "#0d0887"
            ],
            [
             0.1111111111111111,
             "#46039f"
            ],
            [
             0.2222222222222222,
             "#7201a8"
            ],
            [
             0.3333333333333333,
             "#9c179e"
            ],
            [
             0.4444444444444444,
             "#bd3786"
            ],
            [
             0.5555555555555556,
             "#d8576b"
            ],
            [
             0.6666666666666666,
             "#ed7953"
            ],
            [
             0.7777777777777778,
             "#fb9f3a"
            ],
            [
             0.8888888888888888,
             "#fdca26"
            ],
            [
             1,
             "#f0f921"
            ]
           ],
           "sequentialminus": [
            [
             0,
             "#0d0887"
            ],
            [
             0.1111111111111111,
             "#46039f"
            ],
            [
             0.2222222222222222,
             "#7201a8"
            ],
            [
             0.3333333333333333,
             "#9c179e"
            ],
            [
             0.4444444444444444,
             "#bd3786"
            ],
            [
             0.5555555555555556,
             "#d8576b"
            ],
            [
             0.6666666666666666,
             "#ed7953"
            ],
            [
             0.7777777777777778,
             "#fb9f3a"
            ],
            [
             0.8888888888888888,
             "#fdca26"
            ],
            [
             1,
             "#f0f921"
            ]
           ]
          },
          "colorway": [
           "#636efa",
           "#EF553B",
           "#00cc96",
           "#ab63fa",
           "#FFA15A",
           "#19d3f3",
           "#FF6692",
           "#B6E880",
           "#FF97FF",
           "#FECB52"
          ],
          "font": {
           "color": "#2a3f5f"
          },
          "geo": {
           "bgcolor": "white",
           "lakecolor": "white",
           "landcolor": "#E5ECF6",
           "showlakes": true,
           "showland": true,
           "subunitcolor": "white"
          },
          "hoverlabel": {
           "align": "left"
          },
          "hovermode": "closest",
          "mapbox": {
           "style": "light"
          },
          "paper_bgcolor": "white",
          "plot_bgcolor": "#E5ECF6",
          "polar": {
           "angularaxis": {
            "gridcolor": "white",
            "linecolor": "white",
            "ticks": ""
           },
           "bgcolor": "#E5ECF6",
           "radialaxis": {
            "gridcolor": "white",
            "linecolor": "white",
            "ticks": ""
           }
          },
          "scene": {
           "xaxis": {
            "backgroundcolor": "#E5ECF6",
            "gridcolor": "white",
            "gridwidth": 2,
            "linecolor": "white",
            "showbackground": true,
            "ticks": "",
            "zerolinecolor": "white"
           },
           "yaxis": {
            "backgroundcolor": "#E5ECF6",
            "gridcolor": "white",
            "gridwidth": 2,
            "linecolor": "white",
            "showbackground": true,
            "ticks": "",
            "zerolinecolor": "white"
           },
           "zaxis": {
            "backgroundcolor": "#E5ECF6",
            "gridcolor": "white",
            "gridwidth": 2,
            "linecolor": "white",
            "showbackground": true,
            "ticks": "",
            "zerolinecolor": "white"
           }
          },
          "shapedefaults": {
           "line": {
            "color": "#2a3f5f"
           }
          },
          "ternary": {
           "aaxis": {
            "gridcolor": "white",
            "linecolor": "white",
            "ticks": ""
           },
           "baxis": {
            "gridcolor": "white",
            "linecolor": "white",
            "ticks": ""
           },
           "bgcolor": "#E5ECF6",
           "caxis": {
            "gridcolor": "white",
            "linecolor": "white",
            "ticks": ""
           }
          },
          "title": {
           "x": 0.05
          },
          "xaxis": {
           "automargin": true,
           "gridcolor": "white",
           "linecolor": "white",
           "ticks": "",
           "title": {
            "standoff": 15
           },
           "zerolinecolor": "white",
           "zerolinewidth": 2
          },
          "yaxis": {
           "automargin": true,
           "gridcolor": "white",
           "linecolor": "white",
           "ticks": "",
           "title": {
            "standoff": 15
           },
           "zerolinecolor": "white",
           "zerolinewidth": 2
          }
         }
        },
        "title": {
         "text": "Paises de los artistas con mas votos el año 2022"
        }
       }
      }
     },
     "metadata": {},
     "output_type": "display_data"
    }
   ],
   "source": [
    "fig = px.pie(song_data_2022_top.head(), values='final_total_points', names='country', title='Paises de los artistas con mas votos el año 2022')\n",
    "fig.show()"
   ]
  },
  {
   "cell_type": "markdown",
   "metadata": {},
   "source": [
    "## Bar Chart"
   ]
  },
  {
   "cell_type": "markdown",
   "metadata": {},
   "source": [
    "Dataset"
   ]
  },
  {
   "cell_type": "code",
   "execution_count": 131,
   "metadata": {},
   "outputs": [
    {
     "data": {
      "text/html": [
       "<div>\n",
       "<style scoped>\n",
       "    .dataframe tbody tr th:only-of-type {\n",
       "        vertical-align: middle;\n",
       "    }\n",
       "\n",
       "    .dataframe tbody tr th {\n",
       "        vertical-align: top;\n",
       "    }\n",
       "\n",
       "    .dataframe thead th {\n",
       "        text-align: right;\n",
       "    }\n",
       "</style>\n",
       "<table border=\"1\" class=\"dataframe\">\n",
       "  <thead>\n",
       "    <tr style=\"text-align: right;\">\n",
       "      <th></th>\n",
       "      <th>year</th>\n",
       "      <th>sum_final_televote_points</th>\n",
       "      <th>sum_final_jury_points</th>\n",
       "      <th>sum_final_total_points</th>\n",
       "    </tr>\n",
       "  </thead>\n",
       "  <tbody>\n",
       "    <tr>\n",
       "      <th>0</th>\n",
       "      <td>2009</td>\n",
       "      <td>2436.0</td>\n",
       "      <td>2436.0</td>\n",
       "      <td>4872.0</td>\n",
       "    </tr>\n",
       "    <tr>\n",
       "      <th>1</th>\n",
       "      <td>2010</td>\n",
       "      <td>2220.0</td>\n",
       "      <td>2179.0</td>\n",
       "      <td>4399.0</td>\n",
       "    </tr>\n",
       "    <tr>\n",
       "      <th>2</th>\n",
       "      <td>2011</td>\n",
       "      <td>2343.0</td>\n",
       "      <td>2404.0</td>\n",
       "      <td>4747.0</td>\n",
       "    </tr>\n",
       "    <tr>\n",
       "      <th>3</th>\n",
       "      <td>2012</td>\n",
       "      <td>2300.0</td>\n",
       "      <td>2296.0</td>\n",
       "      <td>4596.0</td>\n",
       "    </tr>\n",
       "    <tr>\n",
       "      <th>4</th>\n",
       "      <td>2013</td>\n",
       "      <td>0.0</td>\n",
       "      <td>0.0</td>\n",
       "      <td>0.0</td>\n",
       "    </tr>\n",
       "    <tr>\n",
       "      <th>5</th>\n",
       "      <td>2014</td>\n",
       "      <td>1888.0</td>\n",
       "      <td>1810.0</td>\n",
       "      <td>3698.0</td>\n",
       "    </tr>\n",
       "    <tr>\n",
       "      <th>6</th>\n",
       "      <td>2015</td>\n",
       "      <td>1980.0</td>\n",
       "      <td>2138.0</td>\n",
       "      <td>4118.0</td>\n",
       "    </tr>\n",
       "    <tr>\n",
       "      <th>7</th>\n",
       "      <td>2016</td>\n",
       "      <td>2436.0</td>\n",
       "      <td>2436.0</td>\n",
       "      <td>4872.0</td>\n",
       "    </tr>\n",
       "    <tr>\n",
       "      <th>8</th>\n",
       "      <td>2017</td>\n",
       "      <td>2436.0</td>\n",
       "      <td>2436.0</td>\n",
       "      <td>4872.0</td>\n",
       "    </tr>\n",
       "    <tr>\n",
       "      <th>9</th>\n",
       "      <td>2018</td>\n",
       "      <td>2494.0</td>\n",
       "      <td>2494.0</td>\n",
       "      <td>4988.0</td>\n",
       "    </tr>\n",
       "    <tr>\n",
       "      <th>10</th>\n",
       "      <td>2019</td>\n",
       "      <td>2378.0</td>\n",
       "      <td>2378.0</td>\n",
       "      <td>4756.0</td>\n",
       "    </tr>\n",
       "    <tr>\n",
       "      <th>11</th>\n",
       "      <td>2021</td>\n",
       "      <td>2262.0</td>\n",
       "      <td>2262.0</td>\n",
       "      <td>4108.0</td>\n",
       "    </tr>\n",
       "    <tr>\n",
       "      <th>12</th>\n",
       "      <td>2022</td>\n",
       "      <td>2320.0</td>\n",
       "      <td>2320.0</td>\n",
       "      <td>4640.0</td>\n",
       "    </tr>\n",
       "  </tbody>\n",
       "</table>\n",
       "</div>"
      ],
      "text/plain": [
       "    year  sum_final_televote_points  sum_final_jury_points  \\\n",
       "0   2009                     2436.0                 2436.0   \n",
       "1   2010                     2220.0                 2179.0   \n",
       "2   2011                     2343.0                 2404.0   \n",
       "3   2012                     2300.0                 2296.0   \n",
       "4   2013                        0.0                    0.0   \n",
       "5   2014                     1888.0                 1810.0   \n",
       "6   2015                     1980.0                 2138.0   \n",
       "7   2016                     2436.0                 2436.0   \n",
       "8   2017                     2436.0                 2436.0   \n",
       "9   2018                     2494.0                 2494.0   \n",
       "10  2019                     2378.0                 2378.0   \n",
       "11  2021                     2262.0                 2262.0   \n",
       "12  2022                     2320.0                 2320.0   \n",
       "\n",
       "    sum_final_total_points  \n",
       "0                   4872.0  \n",
       "1                   4399.0  \n",
       "2                   4747.0  \n",
       "3                   4596.0  \n",
       "4                      0.0  \n",
       "5                   3698.0  \n",
       "6                   4118.0  \n",
       "7                   4872.0  \n",
       "8                   4872.0  \n",
       "9                   4988.0  \n",
       "10                  4756.0  \n",
       "11                  4108.0  \n",
       "12                  4640.0  "
      ]
     },
     "execution_count": 131,
     "metadata": {},
     "output_type": "execute_result"
    }
   ],
   "source": [
    "song_data_agrupado_1 = song_data.groupby(['year']).agg(\n",
    "     sum_final_televote_points = ('final_televote_points','sum'),\n",
    "     sum_final_jury_points = ('final_jury_points','sum'),\n",
    "     sum_final_total_points = ('final_total_points','sum'),\n",
    "     ).reset_index()\n",
    "\n",
    "song_data_agrupado_1"
   ]
  },
  {
   "cell_type": "markdown",
   "metadata": {},
   "source": [
    "Plot"
   ]
  },
  {
   "cell_type": "code",
   "execution_count": 132,
   "metadata": {},
   "outputs": [
    {
     "data": {
      "application/vnd.plotly.v1+json": {
       "config": {
        "plotlyServerURL": "https://plot.ly"
       },
       "data": [
        {
         "alignmentgroup": "True",
         "hovertemplate": "variable=sum_final_televote_points<br>year=%{x}<br>value=%{y}<extra></extra>",
         "legendgroup": "sum_final_televote_points",
         "marker": {
          "color": "#636efa",
          "pattern": {
           "shape": ""
          }
         },
         "name": "sum_final_televote_points",
         "offsetgroup": "sum_final_televote_points",
         "orientation": "v",
         "showlegend": true,
         "textposition": "auto",
         "type": "bar",
         "x": [
          2009,
          2010,
          2011,
          2012,
          2013,
          2014,
          2015,
          2016,
          2017,
          2018,
          2019,
          2021,
          2022
         ],
         "xaxis": "x",
         "y": [
          2436,
          2220,
          2343,
          2300,
          0,
          1888,
          1980,
          2436,
          2436,
          2494,
          2378,
          2262,
          2320
         ],
         "yaxis": "y"
        },
        {
         "alignmentgroup": "True",
         "hovertemplate": "variable=sum_final_jury_points<br>year=%{x}<br>value=%{y}<extra></extra>",
         "legendgroup": "sum_final_jury_points",
         "marker": {
          "color": "#EF553B",
          "pattern": {
           "shape": ""
          }
         },
         "name": "sum_final_jury_points",
         "offsetgroup": "sum_final_jury_points",
         "orientation": "v",
         "showlegend": true,
         "textposition": "auto",
         "type": "bar",
         "x": [
          2009,
          2010,
          2011,
          2012,
          2013,
          2014,
          2015,
          2016,
          2017,
          2018,
          2019,
          2021,
          2022
         ],
         "xaxis": "x",
         "y": [
          2436,
          2179,
          2404,
          2296,
          0,
          1810,
          2138,
          2436,
          2436,
          2494,
          2378,
          2262,
          2320
         ],
         "yaxis": "y"
        }
       ],
       "layout": {
        "barmode": "relative",
        "legend": {
         "title": {
          "text": "variable"
         },
         "tracegroupgap": 0
        },
        "template": {
         "data": {
          "bar": [
           {
            "error_x": {
             "color": "#2a3f5f"
            },
            "error_y": {
             "color": "#2a3f5f"
            },
            "marker": {
             "line": {
              "color": "#E5ECF6",
              "width": 0.5
             },
             "pattern": {
              "fillmode": "overlay",
              "size": 10,
              "solidity": 0.2
             }
            },
            "type": "bar"
           }
          ],
          "barpolar": [
           {
            "marker": {
             "line": {
              "color": "#E5ECF6",
              "width": 0.5
             },
             "pattern": {
              "fillmode": "overlay",
              "size": 10,
              "solidity": 0.2
             }
            },
            "type": "barpolar"
           }
          ],
          "carpet": [
           {
            "aaxis": {
             "endlinecolor": "#2a3f5f",
             "gridcolor": "white",
             "linecolor": "white",
             "minorgridcolor": "white",
             "startlinecolor": "#2a3f5f"
            },
            "baxis": {
             "endlinecolor": "#2a3f5f",
             "gridcolor": "white",
             "linecolor": "white",
             "minorgridcolor": "white",
             "startlinecolor": "#2a3f5f"
            },
            "type": "carpet"
           }
          ],
          "choropleth": [
           {
            "colorbar": {
             "outlinewidth": 0,
             "ticks": ""
            },
            "type": "choropleth"
           }
          ],
          "contour": [
           {
            "colorbar": {
             "outlinewidth": 0,
             "ticks": ""
            },
            "colorscale": [
             [
              0,
              "#0d0887"
             ],
             [
              0.1111111111111111,
              "#46039f"
             ],
             [
              0.2222222222222222,
              "#7201a8"
             ],
             [
              0.3333333333333333,
              "#9c179e"
             ],
             [
              0.4444444444444444,
              "#bd3786"
             ],
             [
              0.5555555555555556,
              "#d8576b"
             ],
             [
              0.6666666666666666,
              "#ed7953"
             ],
             [
              0.7777777777777778,
              "#fb9f3a"
             ],
             [
              0.8888888888888888,
              "#fdca26"
             ],
             [
              1,
              "#f0f921"
             ]
            ],
            "type": "contour"
           }
          ],
          "contourcarpet": [
           {
            "colorbar": {
             "outlinewidth": 0,
             "ticks": ""
            },
            "type": "contourcarpet"
           }
          ],
          "heatmap": [
           {
            "colorbar": {
             "outlinewidth": 0,
             "ticks": ""
            },
            "colorscale": [
             [
              0,
              "#0d0887"
             ],
             [
              0.1111111111111111,
              "#46039f"
             ],
             [
              0.2222222222222222,
              "#7201a8"
             ],
             [
              0.3333333333333333,
              "#9c179e"
             ],
             [
              0.4444444444444444,
              "#bd3786"
             ],
             [
              0.5555555555555556,
              "#d8576b"
             ],
             [
              0.6666666666666666,
              "#ed7953"
             ],
             [
              0.7777777777777778,
              "#fb9f3a"
             ],
             [
              0.8888888888888888,
              "#fdca26"
             ],
             [
              1,
              "#f0f921"
             ]
            ],
            "type": "heatmap"
           }
          ],
          "heatmapgl": [
           {
            "colorbar": {
             "outlinewidth": 0,
             "ticks": ""
            },
            "colorscale": [
             [
              0,
              "#0d0887"
             ],
             [
              0.1111111111111111,
              "#46039f"
             ],
             [
              0.2222222222222222,
              "#7201a8"
             ],
             [
              0.3333333333333333,
              "#9c179e"
             ],
             [
              0.4444444444444444,
              "#bd3786"
             ],
             [
              0.5555555555555556,
              "#d8576b"
             ],
             [
              0.6666666666666666,
              "#ed7953"
             ],
             [
              0.7777777777777778,
              "#fb9f3a"
             ],
             [
              0.8888888888888888,
              "#fdca26"
             ],
             [
              1,
              "#f0f921"
             ]
            ],
            "type": "heatmapgl"
           }
          ],
          "histogram": [
           {
            "marker": {
             "pattern": {
              "fillmode": "overlay",
              "size": 10,
              "solidity": 0.2
             }
            },
            "type": "histogram"
           }
          ],
          "histogram2d": [
           {
            "colorbar": {
             "outlinewidth": 0,
             "ticks": ""
            },
            "colorscale": [
             [
              0,
              "#0d0887"
             ],
             [
              0.1111111111111111,
              "#46039f"
             ],
             [
              0.2222222222222222,
              "#7201a8"
             ],
             [
              0.3333333333333333,
              "#9c179e"
             ],
             [
              0.4444444444444444,
              "#bd3786"
             ],
             [
              0.5555555555555556,
              "#d8576b"
             ],
             [
              0.6666666666666666,
              "#ed7953"
             ],
             [
              0.7777777777777778,
              "#fb9f3a"
             ],
             [
              0.8888888888888888,
              "#fdca26"
             ],
             [
              1,
              "#f0f921"
             ]
            ],
            "type": "histogram2d"
           }
          ],
          "histogram2dcontour": [
           {
            "colorbar": {
             "outlinewidth": 0,
             "ticks": ""
            },
            "colorscale": [
             [
              0,
              "#0d0887"
             ],
             [
              0.1111111111111111,
              "#46039f"
             ],
             [
              0.2222222222222222,
              "#7201a8"
             ],
             [
              0.3333333333333333,
              "#9c179e"
             ],
             [
              0.4444444444444444,
              "#bd3786"
             ],
             [
              0.5555555555555556,
              "#d8576b"
             ],
             [
              0.6666666666666666,
              "#ed7953"
             ],
             [
              0.7777777777777778,
              "#fb9f3a"
             ],
             [
              0.8888888888888888,
              "#fdca26"
             ],
             [
              1,
              "#f0f921"
             ]
            ],
            "type": "histogram2dcontour"
           }
          ],
          "mesh3d": [
           {
            "colorbar": {
             "outlinewidth": 0,
             "ticks": ""
            },
            "type": "mesh3d"
           }
          ],
          "parcoords": [
           {
            "line": {
             "colorbar": {
              "outlinewidth": 0,
              "ticks": ""
             }
            },
            "type": "parcoords"
           }
          ],
          "pie": [
           {
            "automargin": true,
            "type": "pie"
           }
          ],
          "scatter": [
           {
            "fillpattern": {
             "fillmode": "overlay",
             "size": 10,
             "solidity": 0.2
            },
            "type": "scatter"
           }
          ],
          "scatter3d": [
           {
            "line": {
             "colorbar": {
              "outlinewidth": 0,
              "ticks": ""
             }
            },
            "marker": {
             "colorbar": {
              "outlinewidth": 0,
              "ticks": ""
             }
            },
            "type": "scatter3d"
           }
          ],
          "scattercarpet": [
           {
            "marker": {
             "colorbar": {
              "outlinewidth": 0,
              "ticks": ""
             }
            },
            "type": "scattercarpet"
           }
          ],
          "scattergeo": [
           {
            "marker": {
             "colorbar": {
              "outlinewidth": 0,
              "ticks": ""
             }
            },
            "type": "scattergeo"
           }
          ],
          "scattergl": [
           {
            "marker": {
             "colorbar": {
              "outlinewidth": 0,
              "ticks": ""
             }
            },
            "type": "scattergl"
           }
          ],
          "scattermapbox": [
           {
            "marker": {
             "colorbar": {
              "outlinewidth": 0,
              "ticks": ""
             }
            },
            "type": "scattermapbox"
           }
          ],
          "scatterpolar": [
           {
            "marker": {
             "colorbar": {
              "outlinewidth": 0,
              "ticks": ""
             }
            },
            "type": "scatterpolar"
           }
          ],
          "scatterpolargl": [
           {
            "marker": {
             "colorbar": {
              "outlinewidth": 0,
              "ticks": ""
             }
            },
            "type": "scatterpolargl"
           }
          ],
          "scatterternary": [
           {
            "marker": {
             "colorbar": {
              "outlinewidth": 0,
              "ticks": ""
             }
            },
            "type": "scatterternary"
           }
          ],
          "surface": [
           {
            "colorbar": {
             "outlinewidth": 0,
             "ticks": ""
            },
            "colorscale": [
             [
              0,
              "#0d0887"
             ],
             [
              0.1111111111111111,
              "#46039f"
             ],
             [
              0.2222222222222222,
              "#7201a8"
             ],
             [
              0.3333333333333333,
              "#9c179e"
             ],
             [
              0.4444444444444444,
              "#bd3786"
             ],
             [
              0.5555555555555556,
              "#d8576b"
             ],
             [
              0.6666666666666666,
              "#ed7953"
             ],
             [
              0.7777777777777778,
              "#fb9f3a"
             ],
             [
              0.8888888888888888,
              "#fdca26"
             ],
             [
              1,
              "#f0f921"
             ]
            ],
            "type": "surface"
           }
          ],
          "table": [
           {
            "cells": {
             "fill": {
              "color": "#EBF0F8"
             },
             "line": {
              "color": "white"
             }
            },
            "header": {
             "fill": {
              "color": "#C8D4E3"
             },
             "line": {
              "color": "white"
             }
            },
            "type": "table"
           }
          ]
         },
         "layout": {
          "annotationdefaults": {
           "arrowcolor": "#2a3f5f",
           "arrowhead": 0,
           "arrowwidth": 1
          },
          "autotypenumbers": "strict",
          "coloraxis": {
           "colorbar": {
            "outlinewidth": 0,
            "ticks": ""
           }
          },
          "colorscale": {
           "diverging": [
            [
             0,
             "#8e0152"
            ],
            [
             0.1,
             "#c51b7d"
            ],
            [
             0.2,
             "#de77ae"
            ],
            [
             0.3,
             "#f1b6da"
            ],
            [
             0.4,
             "#fde0ef"
            ],
            [
             0.5,
             "#f7f7f7"
            ],
            [
             0.6,
             "#e6f5d0"
            ],
            [
             0.7,
             "#b8e186"
            ],
            [
             0.8,
             "#7fbc41"
            ],
            [
             0.9,
             "#4d9221"
            ],
            [
             1,
             "#276419"
            ]
           ],
           "sequential": [
            [
             0,
             "#0d0887"
            ],
            [
             0.1111111111111111,
             "#46039f"
            ],
            [
             0.2222222222222222,
             "#7201a8"
            ],
            [
             0.3333333333333333,
             "#9c179e"
            ],
            [
             0.4444444444444444,
             "#bd3786"
            ],
            [
             0.5555555555555556,
             "#d8576b"
            ],
            [
             0.6666666666666666,
             "#ed7953"
            ],
            [
             0.7777777777777778,
             "#fb9f3a"
            ],
            [
             0.8888888888888888,
             "#fdca26"
            ],
            [
             1,
             "#f0f921"
            ]
           ],
           "sequentialminus": [
            [
             0,
             "#0d0887"
            ],
            [
             0.1111111111111111,
             "#46039f"
            ],
            [
             0.2222222222222222,
             "#7201a8"
            ],
            [
             0.3333333333333333,
             "#9c179e"
            ],
            [
             0.4444444444444444,
             "#bd3786"
            ],
            [
             0.5555555555555556,
             "#d8576b"
            ],
            [
             0.6666666666666666,
             "#ed7953"
            ],
            [
             0.7777777777777778,
             "#fb9f3a"
            ],
            [
             0.8888888888888888,
             "#fdca26"
            ],
            [
             1,
             "#f0f921"
            ]
           ]
          },
          "colorway": [
           "#636efa",
           "#EF553B",
           "#00cc96",
           "#ab63fa",
           "#FFA15A",
           "#19d3f3",
           "#FF6692",
           "#B6E880",
           "#FF97FF",
           "#FECB52"
          ],
          "font": {
           "color": "#2a3f5f"
          },
          "geo": {
           "bgcolor": "white",
           "lakecolor": "white",
           "landcolor": "#E5ECF6",
           "showlakes": true,
           "showland": true,
           "subunitcolor": "white"
          },
          "hoverlabel": {
           "align": "left"
          },
          "hovermode": "closest",
          "mapbox": {
           "style": "light"
          },
          "paper_bgcolor": "white",
          "plot_bgcolor": "#E5ECF6",
          "polar": {
           "angularaxis": {
            "gridcolor": "white",
            "linecolor": "white",
            "ticks": ""
           },
           "bgcolor": "#E5ECF6",
           "radialaxis": {
            "gridcolor": "white",
            "linecolor": "white",
            "ticks": ""
           }
          },
          "scene": {
           "xaxis": {
            "backgroundcolor": "#E5ECF6",
            "gridcolor": "white",
            "gridwidth": 2,
            "linecolor": "white",
            "showbackground": true,
            "ticks": "",
            "zerolinecolor": "white"
           },
           "yaxis": {
            "backgroundcolor": "#E5ECF6",
            "gridcolor": "white",
            "gridwidth": 2,
            "linecolor": "white",
            "showbackground": true,
            "ticks": "",
            "zerolinecolor": "white"
           },
           "zaxis": {
            "backgroundcolor": "#E5ECF6",
            "gridcolor": "white",
            "gridwidth": 2,
            "linecolor": "white",
            "showbackground": true,
            "ticks": "",
            "zerolinecolor": "white"
           }
          },
          "shapedefaults": {
           "line": {
            "color": "#2a3f5f"
           }
          },
          "ternary": {
           "aaxis": {
            "gridcolor": "white",
            "linecolor": "white",
            "ticks": ""
           },
           "baxis": {
            "gridcolor": "white",
            "linecolor": "white",
            "ticks": ""
           },
           "bgcolor": "#E5ECF6",
           "caxis": {
            "gridcolor": "white",
            "linecolor": "white",
            "ticks": ""
           }
          },
          "title": {
           "x": 0.05
          },
          "xaxis": {
           "automargin": true,
           "gridcolor": "white",
           "linecolor": "white",
           "ticks": "",
           "title": {
            "standoff": 15
           },
           "zerolinecolor": "white",
           "zerolinewidth": 2
          },
          "yaxis": {
           "automargin": true,
           "gridcolor": "white",
           "linecolor": "white",
           "ticks": "",
           "title": {
            "standoff": 15
           },
           "zerolinecolor": "white",
           "zerolinewidth": 2
          }
         }
        },
        "title": {
         "text": "Puntos por año"
        },
        "xaxis": {
         "anchor": "y",
         "domain": [
          0,
          1
         ],
         "title": {
          "text": "year"
         }
        },
        "yaxis": {
         "anchor": "x",
         "domain": [
          0,
          1
         ],
         "title": {
          "text": "value"
         }
        }
       }
      }
     },
     "metadata": {},
     "output_type": "display_data"
    }
   ],
   "source": [
    "fig = px.bar(song_data_agrupado_1, x=\"year\", y=[\"sum_final_televote_points\", \"sum_final_jury_points\"], title=\"Puntos por año\")\n",
    "fig.show()"
   ]
  },
  {
   "cell_type": "code",
   "execution_count": 133,
   "metadata": {},
   "outputs": [
    {
     "name": "stdout",
     "output_type": "stream",
     "text": [
      "concurso.datos_resultados_finales.datos_encuestas.eurojury_results_2016 ok\n",
      "concurso.datos_resultados_finales.datos_encuestas.eurojury_results_2017 ok\n",
      "concurso.datos_resultados_finales.datos_encuestas.eurojury_results_2018 ok\n",
      "concurso.datos_resultados_finales.datos_encuestas.eurojury_results_2019 ok\n",
      "concurso.datos_resultados_finales.datos_encuestas.eurojury_results_2021 ok\n",
      "concurso.datos_resultados_finales.datos_encuestas.eurojury_results_2022 ok\n",
      "concurso.datos_resultados_finales.datos_encuestas.eurovisionworld_results_2016 ok\n",
      "concurso.datos_resultados_finales.datos_encuestas.eurovisionworld_results_2017 ok\n",
      "concurso.datos_resultados_finales.datos_encuestas.eurovisionworld_results_2018 ok\n",
      "concurso.datos_resultados_finales.datos_encuestas.eurovisionworld_results_2019 ok\n",
      "concurso.datos_resultados_finales.datos_encuestas.eurovisionworld_results_2021 ok\n",
      "concurso.datos_resultados_finales.datos_encuestas.eurovisionworld_results_2022 ok\n",
      "concurso.datos_resultados_finales.datos_encuestas.myeurovisionscoreboard_results_2016 ok\n",
      "concurso.datos_resultados_finales.datos_encuestas.myeurovisionscoreboard_results_2017 ok\n",
      "concurso.datos_resultados_finales.datos_encuestas.myeurovisionscoreboard_results_2018 ok\n",
      "concurso.datos_resultados_finales.datos_encuestas.myeurovisionscoreboard_results_2019 ok\n",
      "concurso.datos_resultados_finales.datos_encuestas.myeurovisionscoreboard_results_2021 ok\n",
      "concurso.datos_resultados_finales.datos_encuestas.myeurovisionscoreboard_results_2022 ok\n",
      "concurso.datos_resultados_finales.datos_encuestas.ogae.ogae_results_2016 ok\n",
      "concurso.datos_resultados_finales.datos_encuestas.ogae.ogae_results_2017 ok\n",
      "concurso.datos_resultados_finales.datos_encuestas.ogae.ogae_results_2018 ok\n",
      "concurso.datos_resultados_finales.datos_encuestas.ogae.ogae_results_2019 ok\n",
      "concurso.datos_resultados_finales.datos_encuestas.ogae.ogae_results_2021 ok\n",
      "concurso.datos_resultados_finales.datos_encuestas.ogae.ogae_results_2022 ok\n",
      "concurso.datos_resultados_finales.datos_encuestas.wiwibloggs.wiwibloggs_results_2018 ok\n",
      "concurso.datos_resultados_finales.datos_encuestas.wiwibloggs.wiwibloggs_results_2019 ok\n",
      "concurso.datos_resultados_finales.datos_encuestas.wiwibloggs.wiwibloggs_results_2021 ok\n",
      "concurso.datos_resultados_finales.datos_encuestas.wiwibloggs.wiwibloggs_results_2022 ok\n"
     ]
    }
   ],
   "source": [
    "\n",
    "#variables encuestas\n",
    "#euro july\n",
    "checkearVariablePanda(concurso.datos_encuestas.euro_july.eurojury_results_2016,'concurso.datos_resultados_finales.datos_encuestas.eurojury_results_2016')\n",
    "checkearVariablePanda(concurso.datos_encuestas.euro_july.eurojury_results_2017,'concurso.datos_resultados_finales.datos_encuestas.eurojury_results_2017')\n",
    "checkearVariablePanda(concurso.datos_encuestas.euro_july.eurojury_results_2018,'concurso.datos_resultados_finales.datos_encuestas.eurojury_results_2018')\n",
    "checkearVariablePanda(concurso.datos_encuestas.euro_july.eurojury_results_2019,'concurso.datos_resultados_finales.datos_encuestas.eurojury_results_2019')\n",
    "checkearVariablePanda(concurso.datos_encuestas.euro_july.eurojury_results_2021,'concurso.datos_resultados_finales.datos_encuestas.eurojury_results_2021')\n",
    "checkearVariablePanda(concurso.datos_encuestas.euro_july.eurojury_results_2022,'concurso.datos_resultados_finales.datos_encuestas.eurojury_results_2022')\n",
    "\n",
    "#eurovisionworld\n",
    "checkearVariablePanda(concurso.datos_encuestas.eurovision_world.eurovisionworld_results_2016,'concurso.datos_resultados_finales.datos_encuestas.eurovisionworld_results_2016')\n",
    "checkearVariablePanda(concurso.datos_encuestas.eurovision_world.eurovisionworld_results_2017,'concurso.datos_resultados_finales.datos_encuestas.eurovisionworld_results_2017')\n",
    "checkearVariablePanda(concurso.datos_encuestas.eurovision_world.eurovisionworld_results_2018,'concurso.datos_resultados_finales.datos_encuestas.eurovisionworld_results_2018')\n",
    "checkearVariablePanda(concurso.datos_encuestas.eurovision_world.eurovisionworld_results_2019,'concurso.datos_resultados_finales.datos_encuestas.eurovisionworld_results_2019')\n",
    "checkearVariablePanda(concurso.datos_encuestas.eurovision_world.eurovisionworld_results_2021,'concurso.datos_resultados_finales.datos_encuestas.eurovisionworld_results_2021')\n",
    "checkearVariablePanda(concurso.datos_encuestas.eurovision_world.eurovisionworld_results_2022,'concurso.datos_resultados_finales.datos_encuestas.eurovisionworld_results_2022')\n",
    "\n",
    "#my eurovision score\n",
    "checkearVariablePanda(concurso.datos_encuestas.my_eurovision_score.myeurovisionscoreboard_results_2016,'concurso.datos_resultados_finales.datos_encuestas.myeurovisionscoreboard_results_2016')\n",
    "checkearVariablePanda(concurso.datos_encuestas.my_eurovision_score.myeurovisionscoreboard_results_2017,'concurso.datos_resultados_finales.datos_encuestas.myeurovisionscoreboard_results_2017')\n",
    "checkearVariablePanda(concurso.datos_encuestas.my_eurovision_score.myeurovisionscoreboard_results_2018,'concurso.datos_resultados_finales.datos_encuestas.myeurovisionscoreboard_results_2018')\n",
    "checkearVariablePanda(concurso.datos_encuestas.my_eurovision_score.myeurovisionscoreboard_results_2019,'concurso.datos_resultados_finales.datos_encuestas.myeurovisionscoreboard_results_2019')\n",
    "checkearVariablePanda(concurso.datos_encuestas.my_eurovision_score.myeurovisionscoreboard_results_2021,'concurso.datos_resultados_finales.datos_encuestas.myeurovisionscoreboard_results_2021')\n",
    "checkearVariablePanda(concurso.datos_encuestas.my_eurovision_score.myeurovisionscoreboard_results_2022,'concurso.datos_resultados_finales.datos_encuestas.myeurovisionscoreboard_results_2022')\n",
    "\n",
    "#ogae\n",
    "checkearVariablePanda(concurso.datos_encuestas.ogae.ogae_results_2016,'concurso.datos_resultados_finales.datos_encuestas.ogae.ogae_results_2016')\n",
    "checkearVariablePanda(concurso.datos_encuestas.ogae.ogae_results_2017,'concurso.datos_resultados_finales.datos_encuestas.ogae.ogae_results_2017')\n",
    "checkearVariablePanda(concurso.datos_encuestas.ogae.ogae_results_2018,'concurso.datos_resultados_finales.datos_encuestas.ogae.ogae_results_2018')\n",
    "checkearVariablePanda(concurso.datos_encuestas.ogae.ogae_results_2019,'concurso.datos_resultados_finales.datos_encuestas.ogae.ogae_results_2019')\n",
    "checkearVariablePanda(concurso.datos_encuestas.ogae.ogae_results_2021,'concurso.datos_resultados_finales.datos_encuestas.ogae.ogae_results_2021')\n",
    "checkearVariablePanda(concurso.datos_encuestas.ogae.ogae_results_2022,'concurso.datos_resultados_finales.datos_encuestas.ogae.ogae_results_2022')\n",
    "\n",
    "#wiwibloggs\n",
    "checkearVariablePanda(concurso.datos_encuestas.wiwibloggs.wiwibloggs_results_2018,'concurso.datos_resultados_finales.datos_encuestas.wiwibloggs.wiwibloggs_results_2018')\n",
    "checkearVariablePanda(concurso.datos_encuestas.wiwibloggs.wiwibloggs_results_2019,'concurso.datos_resultados_finales.datos_encuestas.wiwibloggs.wiwibloggs_results_2019')\n",
    "checkearVariablePanda(concurso.datos_encuestas.wiwibloggs.wiwibloggs_results_2021,'concurso.datos_resultados_finales.datos_encuestas.wiwibloggs.wiwibloggs_results_2021')\n",
    "checkearVariablePanda(concurso.datos_encuestas.wiwibloggs.wiwibloggs_results_2022,'concurso.datos_resultados_finales.datos_encuestas.wiwibloggs.wiwibloggs_results_2022')"
   ]
  },
  {
   "cell_type": "code",
   "execution_count": 134,
   "metadata": {},
   "outputs": [],
   "source": [
    "### Series de tiempo\n",
    "\n",
    "concurso_2016 = concurso.datos_encuestas.euro_july.eurojury_results_2016\n",
    "concurso_2017 = concurso.datos_encuestas.euro_july.eurojury_results_2017\n",
    "concurso_2018 = concurso.datos_encuestas.euro_july.eurojury_results_2018\n",
    "concurso_2019 = concurso.datos_encuestas.euro_july.eurojury_results_2019\n",
    "concurso_2021 = concurso.datos_encuestas.euro_july.eurojury_results_2021\n",
    "concurso_2022 = concurso.datos_encuestas.euro_july.eurojury_results_2022\n",
    "\n",
    "años = [2016, 2017, 2018, 2019, 2021, 2022]\n",
    "euro_july = pd.DataFrame()\n",
    "for an in años:\n",
    "    data1 =  locals()['concurso_'+str(an)]\n",
    "    data1['año'] = an\n",
    "    euro_july = pd.concat([data1, euro_july])"
   ]
  },
  {
   "cell_type": "code",
   "execution_count": 135,
   "metadata": {},
   "outputs": [],
   "source": [
    "\n",
    "concurso_2016 = concurso.datos_encuestas.eurovision_world.eurovisionworld_results_2016\n",
    "concurso_2017 = concurso.datos_encuestas.eurovision_world.eurovisionworld_results_2017\n",
    "concurso_2018 = concurso.datos_encuestas.eurovision_world.eurovisionworld_results_2018\n",
    "concurso_2019 = concurso.datos_encuestas.eurovision_world.eurovisionworld_results_2019\n",
    "concurso_2021 = concurso.datos_encuestas.eurovision_world.eurovisionworld_results_2021\n",
    "concurso_2022 = concurso.datos_encuestas.eurovision_world.eurovisionworld_results_2022\n",
    "\n",
    "años = [2016, 2017, 2018, 2019, 2021, 2022]\n",
    "eurovisionworld = pd.DataFrame()\n",
    "for an in años:\n",
    "    data1 =  locals()['concurso_'+str(an)]\n",
    "    data1['año'] = an\n",
    "    eurovisionworld = pd.concat([data1, eurovisionworld])"
   ]
  },
  {
   "cell_type": "code",
   "execution_count": 136,
   "metadata": {},
   "outputs": [],
   "source": [
    "concurso_2016 = concurso.datos_encuestas.my_eurovision_score.myeurovisionscoreboard_results_2016\n",
    "concurso_2017 = concurso.datos_encuestas.my_eurovision_score.myeurovisionscoreboard_results_2017\n",
    "concurso_2018 = concurso.datos_encuestas.my_eurovision_score.myeurovisionscoreboard_results_2018\n",
    "concurso_2019 = concurso.datos_encuestas.my_eurovision_score.myeurovisionscoreboard_results_2019\n",
    "concurso_2021 = concurso.datos_encuestas.my_eurovision_score.myeurovisionscoreboard_results_2021\n",
    "concurso_2022 = concurso.datos_encuestas.my_eurovision_score.myeurovisionscoreboard_results_2022\n",
    "\n",
    "años = [2016, 2017, 2018, 2019, 2021, 2022]\n",
    "myeurovisionscoreboard = pd.DataFrame()\n",
    "for an in años:\n",
    "    data1 =  locals()['concurso_'+str(an)]\n",
    "    data1['año'] = an\n",
    "    myeurovisionscoreboard = pd.concat([data1, myeurovisionscoreboard])"
   ]
  },
  {
   "cell_type": "code",
   "execution_count": 137,
   "metadata": {},
   "outputs": [],
   "source": [
    "concurso_2016 = concurso.datos_encuestas.ogae.ogae_results_2016\n",
    "concurso_2017 = concurso.datos_encuestas.ogae.ogae_results_2017\n",
    "concurso_2018 = concurso.datos_encuestas.ogae.ogae_results_2018\n",
    "concurso_2019 = concurso.datos_encuestas.ogae.ogae_results_2019\n",
    "concurso_2021 = concurso.datos_encuestas.ogae.ogae_results_2021\n",
    "concurso_2022 = concurso.datos_encuestas.ogae.ogae_results_2022\n",
    "años = [2016, 2017, 2018, 2019, 2021, 2022]\n",
    "ogae = pd.DataFrame()\n",
    "for an in años:\n",
    "    data1 =  locals()['concurso_'+str(an)]\n",
    "    data1['año'] = an\n",
    "    ogae = pd.concat([data1, ogae])"
   ]
  },
  {
   "cell_type": "code",
   "execution_count": 138,
   "metadata": {},
   "outputs": [],
   "source": [
    "concurso_2018 = concurso.datos_encuestas.wiwibloggs.wiwibloggs_results_2018\n",
    "concurso_2019 = concurso.datos_encuestas.wiwibloggs.wiwibloggs_results_2019\n",
    "concurso_2021 = concurso.datos_encuestas.wiwibloggs.wiwibloggs_results_2021\n",
    "concurso_2022 = concurso.datos_encuestas.wiwibloggs.wiwibloggs_results_2022\n",
    "años = [2018, 2019, 2021, 2022]\n",
    "wiwibloggs = pd.DataFrame()\n",
    "for an in años:\n",
    "    data1 =  locals()['concurso_'+str(an)]\n",
    "    data1['año'] = an\n",
    "    wiwibloggs = pd.concat([data1, wiwibloggs])"
   ]
  },
  {
   "cell_type": "code",
   "execution_count": 139,
   "metadata": {},
   "outputs": [],
   "source": [
    "country = concurso.country_data"
   ]
  },
  {
   "cell_type": "code",
   "execution_count": 140,
   "metadata": {},
   "outputs": [],
   "source": [
    "data = pd.merge(eurovisionworld.rename(columns= {'Contestant':'country'}),country, how = 'left', on = ['country'])"
   ]
  },
  {
   "cell_type": "markdown",
   "metadata": {},
   "source": [
    "###"
   ]
  },
  {
   "attachments": {},
   "cell_type": "markdown",
   "metadata": {},
   "source": [
    "## Series de tiempo"
   ]
  },
  {
   "cell_type": "code",
   "execution_count": 152,
   "metadata": {},
   "outputs": [
    {
     "name": "stdout",
     "output_type": "stream",
     "text": [
      "Requirement already satisfied: matplotlib in c:\\users\\paofr\\anaconda3\\envs\\environment\\lib\\site-packages (3.7.1)\n",
      "Requirement already satisfied: numpy>=1.20 in c:\\users\\paofr\\anaconda3\\envs\\environment\\lib\\site-packages (from matplotlib) (1.22.3)\n",
      "Requirement already satisfied: pillow>=6.2.0 in c:\\users\\paofr\\anaconda3\\envs\\environment\\lib\\site-packages (from matplotlib) (9.5.0)\n",
      "Requirement already satisfied: contourpy>=1.0.1 in c:\\users\\paofr\\anaconda3\\envs\\environment\\lib\\site-packages (from matplotlib) (1.0.7)\n",
      "Requirement already satisfied: cycler>=0.10 in c:\\users\\paofr\\anaconda3\\envs\\environment\\lib\\site-packages (from matplotlib) (0.11.0)\n",
      "Requirement already satisfied: python-dateutil>=2.7 in c:\\users\\paofr\\anaconda3\\envs\\environment\\lib\\site-packages (from matplotlib) (2.8.2)\n",
      "Requirement already satisfied: kiwisolver>=1.0.1 in c:\\users\\paofr\\anaconda3\\envs\\environment\\lib\\site-packages (from matplotlib) (1.4.4)\n",
      "Requirement already satisfied: packaging>=20.0 in c:\\users\\paofr\\anaconda3\\envs\\environment\\lib\\site-packages (from matplotlib) (23.0)\n",
      "Requirement already satisfied: fonttools>=4.22.0 in c:\\users\\paofr\\anaconda3\\envs\\environment\\lib\\site-packages (from matplotlib) (4.39.3)\n",
      "Requirement already satisfied: pyparsing>=2.3.1 in c:\\users\\paofr\\anaconda3\\envs\\environment\\lib\\site-packages (from matplotlib) (3.0.9)\n",
      "Requirement already satisfied: six>=1.5 in c:\\users\\paofr\\anaconda3\\envs\\environment\\lib\\site-packages (from python-dateutil>=2.7->matplotlib) (1.16.0)\n",
      "Requirement already satisfied: seaborn in c:\\users\\paofr\\anaconda3\\envs\\environment\\lib\\site-packages (0.12.2)\n",
      "Requirement already satisfied: matplotlib!=3.6.1,>=3.1 in c:\\users\\paofr\\anaconda3\\envs\\environment\\lib\\site-packages (from seaborn) (3.7.1)\n",
      "Requirement already satisfied: numpy!=1.24.0,>=1.17 in c:\\users\\paofr\\anaconda3\\envs\\environment\\lib\\site-packages (from seaborn) (1.22.3)\n",
      "Requirement already satisfied: pandas>=0.25 in c:\\users\\paofr\\anaconda3\\envs\\environment\\lib\\site-packages (from seaborn) (1.5.3)\n",
      "Requirement already satisfied: python-dateutil>=2.7 in c:\\users\\paofr\\anaconda3\\envs\\environment\\lib\\site-packages (from matplotlib!=3.6.1,>=3.1->seaborn) (2.8.2)\n",
      "Requirement already satisfied: packaging>=20.0 in c:\\users\\paofr\\anaconda3\\envs\\environment\\lib\\site-packages (from matplotlib!=3.6.1,>=3.1->seaborn) (23.0)\n",
      "Requirement already satisfied: kiwisolver>=1.0.1 in c:\\users\\paofr\\anaconda3\\envs\\environment\\lib\\site-packages (from matplotlib!=3.6.1,>=3.1->seaborn) (1.4.4)\n",
      "Requirement already satisfied: pillow>=6.2.0 in c:\\users\\paofr\\anaconda3\\envs\\environment\\lib\\site-packages (from matplotlib!=3.6.1,>=3.1->seaborn) (9.5.0)\n",
      "Requirement already satisfied: fonttools>=4.22.0 in c:\\users\\paofr\\anaconda3\\envs\\environment\\lib\\site-packages (from matplotlib!=3.6.1,>=3.1->seaborn) (4.39.3)\n",
      "Requirement already satisfied: contourpy>=1.0.1 in c:\\users\\paofr\\anaconda3\\envs\\environment\\lib\\site-packages (from matplotlib!=3.6.1,>=3.1->seaborn) (1.0.7)\n",
      "Requirement already satisfied: cycler>=0.10 in c:\\users\\paofr\\anaconda3\\envs\\environment\\lib\\site-packages (from matplotlib!=3.6.1,>=3.1->seaborn) (0.11.0)\n",
      "Requirement already satisfied: pyparsing>=2.3.1 in c:\\users\\paofr\\anaconda3\\envs\\environment\\lib\\site-packages (from matplotlib!=3.6.1,>=3.1->seaborn) (3.0.9)\n",
      "Requirement already satisfied: pytz>=2020.1 in c:\\users\\paofr\\anaconda3\\envs\\environment\\lib\\site-packages (from pandas>=0.25->seaborn) (2023.3)\n",
      "Requirement already satisfied: six>=1.5 in c:\\users\\paofr\\anaconda3\\envs\\environment\\lib\\site-packages (from python-dateutil>=2.7->matplotlib!=3.6.1,>=3.1->seaborn) (1.16.0)\n",
      "Requirement already satisfied: numpy in c:\\users\\paofr\\anaconda3\\envs\\environment\\lib\\site-packages (1.22.3)\n"
     ]
    }
   ],
   "source": [
    "! pip install matplotlib\n",
    "! pip install seaborn\n",
    "! pip install numpy"
   ]
  },
  {
   "cell_type": "code",
   "execution_count": 153,
   "metadata": {},
   "outputs": [],
   "source": [
    "import matplotlib.pyplot as plt\n",
    "import seaborn as sns\n",
    "import numpy as np"
   ]
  },
  {
   "cell_type": "code",
   "execution_count": 143,
   "metadata": {},
   "outputs": [
    {
     "name": "stderr",
     "output_type": "stream",
     "text": [
      "C:\\Users\\paofr\\AppData\\Local\\Temp\\ipykernel_22228\\2786762281.py:1: FutureWarning:\n",
      "\n",
      "The default value of numeric_only in DataFrameGroupBy.sum is deprecated. In a future version, numeric_only will default to False. Either specify numeric_only or select only columns which should be valid for the function.\n",
      "\n"
     ]
    },
    {
     "data": {
      "text/plain": [
       "Text(0.5, 0, 'Año')"
      ]
     },
     "execution_count": 143,
     "metadata": {},
     "output_type": "execute_result"
    },
    {
     "data": {
      "image/png": "[encoded data removed]",
      "text/plain": [
       "<Figure size 1500x600 with 1 Axes>"
      ]
     },
     "metadata": {},
     "output_type": "display_data"
    }
   ],
   "source": [
    "paises_top_5 = data.groupby(['country']).sum().sort_values(by='Votes')[-5:].index\n",
    "pd.pivot_table(data.drop(['region'], axis=1), index = 'country', columns = 'año', values = 'Votes').loc[paises_top_5].T.plot(kind = 'line', figsize = (15, 6))\n",
    "plt.title('Series de tiempo evolutiva del TOP 5 de Paises con mayor cantidad de votos')\n",
    "plt.ylabel('Cantidad de Votos')\n",
    "plt.xlabel('Año')"
   ]
  },
  {
   "cell_type": "code",
   "execution_count": 144,
   "metadata": {},
   "outputs": [
    {
     "name": "stdout",
     "output_type": "stream",
     "text": [
      "Requirement already satisfied: wordcloud in c:\\users\\paofr\\anaconda3\\envs\\environment\\lib\\site-packages (1.8.2.2)\n",
      "Requirement already satisfied: pillow in c:\\users\\paofr\\anaconda3\\envs\\environment\\lib\\site-packages (from wordcloud) (9.5.0)\n",
      "Requirement already satisfied: numpy>=1.6.1 in c:\\users\\paofr\\anaconda3\\envs\\environment\\lib\\site-packages (from wordcloud) (1.22.3)\n",
      "Requirement already satisfied: matplotlib in c:\\users\\paofr\\anaconda3\\envs\\environment\\lib\\site-packages (from wordcloud) (3.7.1)\n",
      "Requirement already satisfied: kiwisolver>=1.0.1 in c:\\users\\paofr\\anaconda3\\envs\\environment\\lib\\site-packages (from matplotlib->wordcloud) (1.4.4)\n",
      "Requirement already satisfied: packaging>=20.0 in c:\\users\\paofr\\anaconda3\\envs\\environment\\lib\\site-packages (from matplotlib->wordcloud) (23.0)\n",
      "Requirement already satisfied: pyparsing>=2.3.1 in c:\\users\\paofr\\anaconda3\\envs\\environment\\lib\\site-packages (from matplotlib->wordcloud) (3.0.9)\n",
      "Requirement already satisfied: python-dateutil>=2.7 in c:\\users\\paofr\\anaconda3\\envs\\environment\\lib\\site-packages (from matplotlib->wordcloud) (2.8.2)\n",
      "Requirement already satisfied: cycler>=0.10 in c:\\users\\paofr\\anaconda3\\envs\\environment\\lib\\site-packages (from matplotlib->wordcloud) (0.11.0)\n",
      "Requirement already satisfied: fonttools>=4.22.0 in c:\\users\\paofr\\anaconda3\\envs\\environment\\lib\\site-packages (from matplotlib->wordcloud) (4.39.3)\n",
      "Requirement already satisfied: contourpy>=1.0.1 in c:\\users\\paofr\\anaconda3\\envs\\environment\\lib\\site-packages (from matplotlib->wordcloud) (1.0.7)\n",
      "Requirement already satisfied: six>=1.5 in c:\\users\\paofr\\anaconda3\\envs\\environment\\lib\\site-packages (from python-dateutil>=2.7->matplotlib->wordcloud) (1.16.0)\n"
     ]
    }
   ],
   "source": [
    "! pip install wordcloud"
   ]
  },
  {
   "cell_type": "code",
   "execution_count": 147,
   "metadata": {},
   "outputs": [],
   "source": [
    "## Nubes de palabras"
   ]
  },
  {
   "cell_type": "code",
   "execution_count": 145,
   "metadata": {},
   "outputs": [
    {
     "name": "stdout",
     "output_type": "stream",
     "text": [
      "Wordcloud is installed and imported!\n"
     ]
    },
    {
     "data": {
      "image/png": "[encoded data removed]",
      "text/plain": [
       "<Figure size 640x480 with 1 Axes>"
      ]
     },
     "metadata": {},
     "output_type": "display_data"
    }
   ],
   "source": [
    "from wordcloud import WordCloud, STOPWORDS\n",
    "print ('Wordcloud is installed and imported!')\n",
    "stopwords = set(STOPWORDS)\n",
    "nube = WordCloud(\n",
    "    background_color='white',\n",
    "    max_words=2000,\n",
    "    stopwords=stopwords\n",
    ")\n",
    "\n",
    "\n",
    "country_text = ' '.join(song_data['country'].astype(str).tolist())\n",
    "nube.generate(country_text)\n",
    "\n",
    "plt.imshow(nube, interpolation='bilinear')\n",
    "plt.axis('off')\n",
    "plt.show()"
   ]
  },
  {
   "cell_type": "code",
   "execution_count": 146,
   "metadata": {},
   "outputs": [
    {
     "data": {
      "image/png": "[encoded data removed]",
      "text/plain": [
       "<Figure size 640x480 with 1 Axes>"
      ]
     },
     "metadata": {},
     "output_type": "display_data"
    }
   ],
   "source": [
    "stopwords = set(STOPWORDS)\n",
    "\n",
    "country_text = ' '.join(song_data['style'].astype(str).tolist())\n",
    "nube.generate(country_text)\n",
    "\n",
    "plt.imshow(nube, interpolation='bilinear')\n",
    "plt.axis('off')\n",
    "plt.show()"
   ]
  },
  {
   "attachments": {},
   "cell_type": "markdown",
   "metadata": {},
   "source": [
    "## Waffle Chart"
   ]
  },
  {
   "cell_type": "code",
   "execution_count": 155,
   "metadata": {},
   "outputs": [
    {
     "name": "stdout",
     "output_type": "stream",
     "text": [
      "Ballad: 0.26325757575757575\n",
      "Dance: 0.10416666666666667\n",
      "Opera: 0.005681818181818182\n",
      "Pop: 0.4772727272727273\n",
      "Rock: 0.07765151515151515\n",
      "Traditional: 0.07196969696969698\n",
      "Número total de celdas:  400\n",
      "Ballad: 105\n",
      "Dance: 42\n",
      "Opera: 2\n",
      "Pop: 191\n",
      "Rock: 31\n",
      "Traditional: 29\n",
      "Waffle chart populated!\n"
     ]
    },
    {
     "name": "stderr",
     "output_type": "stream",
     "text": [
      "C:\\Users\\paofr\\AppData\\Local\\Temp\\ipykernel_22228\\1071521108.py:2: FutureWarning:\n",
      "\n",
      "The default value of numeric_only in DataFrameGroupBy.sum is deprecated. In a future version, numeric_only will default to False. Either specify numeric_only or select only columns which should be valid for the function.\n",
      "\n"
     ]
    },
    {
     "data": {
      "text/plain": [
       "([], [])"
      ]
     },
     "execution_count": 155,
     "metadata": {},
     "output_type": "execute_result"
    },
    {
     "data": {
      "text/plain": [
       "<Figure size 640x480 with 0 Axes>"
      ]
     },
     "metadata": {},
     "output_type": "display_data"
    },
    {
     "data": {
      "image/png": "[encoded data removed]",
      "text/plain": [
       "<Figure size 1600x400 with 2 Axes>"
      ]
     },
     "metadata": {},
     "output_type": "display_data"
    },
    {
     "data": {
      "text/plain": [
       "<Figure size 640x480 with 0 Axes>"
      ]
     },
     "metadata": {},
     "output_type": "display_data"
    },
    {
     "data": {
      "image/png": "[encoded data removed]",
      "text/plain": [
       "<Figure size 1600x400 with 1 Axes>"
      ]
     },
     "metadata": {},
     "output_type": "display_data"
    }
   ],
   "source": [
    "song_data['unos']=1\n",
    "df_pcb = song_data.groupby(['style']).sum()['unos'].to_frame()\n",
    "df_pcb.columns = ['Total']\n",
    "\n",
    "total_values = sum(df_pcb['Total'])\n",
    "category_proportions = [(float(value) / total_values) for value in df_pcb['Total']]\n",
    "\n",
    "# imprimir proporciones\n",
    "for i, proportion in enumerate(category_proportions):\n",
    "    print (df_pcb.index.values[i] + ': ' + str(proportion))\n",
    "\n",
    "width = 40 # ancho del of chart\n",
    "height = 10 # altura del chart\n",
    "\n",
    "total_num_tiles = width * height # número total de celdas\n",
    "\n",
    "print ('Número total de celdas: ', total_num_tiles)\n",
    "\n",
    "# calcula la cantidad de celdas por categoría\n",
    "tiles_per_category = [round(proportion * total_num_tiles) for proportion in category_proportions]\n",
    "\n",
    "# imprime número de celdas por categoría\n",
    "for i, tiles in enumerate(tiles_per_category):\n",
    "    print (df_pcb.index.values[i] + ': ' + str(tiles))\n",
    "\n",
    "\n",
    "waffle_chart = np.zeros((height, width))\n",
    "\n",
    "# índices que recorren la estructura\n",
    "category_index = 0\n",
    "tile_index = 0\n",
    "\n",
    "# poblar el waffle chart\n",
    "for col in range(width):\n",
    "    for row in range(height):\n",
    "        tile_index += 1\n",
    "\n",
    "        # si el número de celdas para la categoría actual es igual a las celdas asignadas...\n",
    "        if tile_index > sum(tiles_per_category[0:category_index]):\n",
    "            # ...se continúa con la siguiente categoría\n",
    "            category_index += 1       \n",
    "            \n",
    "        # Se asigna el valor de la categoría actual a las coordenadas row,col\n",
    "        waffle_chart[row, col] = category_index\n",
    "        \n",
    "print ('Waffle chart populated!')\n",
    "\n",
    "fig = plt.figure()\n",
    "\n",
    "# matwhow para desplegar el waffle chart\n",
    "colormap = plt.cm.coolwarm\n",
    "plt.matshow(waffle_chart, cmap=colormap)\n",
    "plt.colorbar()\n",
    "\n",
    "fig = plt.figure()\n",
    "\n",
    "colormap = plt.cm.coolwarm\n",
    "plt.matshow(waffle_chart, cmap=colormap)\n",
    "\n",
    "\n",
    "# se obtienen los ejes de la gráfica\n",
    "ax = plt.gca()\n",
    "\n",
    "# se setean los ticks menores de cada eje\n",
    "ax.set_xticks(np.arange(-.5, (width), 1), minor=True)\n",
    "ax.set_yticks(np.arange(-.5, (height), 1), minor=True)\n",
    "    \n",
    "# se añaden líneas de grilla de acuerdo a los ticks menores\n",
    "ax.grid(which='minor', color='w', linestyle='-', linewidth=2)\n",
    "\n",
    "plt.xticks([])\n",
    "plt.yticks([])"
   ]
  },
  {
   "cell_type": "code",
   "execution_count": 157,
   "metadata": {},
   "outputs": [],
   "source": [
    "import matplotlib as mpl\n",
    "import matplotlib.pyplot as plt\n",
    "import matplotlib.patches as mpatches "
   ]
  },
  {
   "cell_type": "code",
   "execution_count": 158,
   "metadata": {},
   "outputs": [
    {
     "data": {
      "text/plain": [
       "Text(0.5, 1.0, 'Cantidad de Canciones por genero de musica')"
      ]
     },
     "execution_count": 158,
     "metadata": {},
     "output_type": "execute_result"
    },
    {
     "data": {
      "text/plain": [
       "<Figure size 640x480 with 0 Axes>"
      ]
     },
     "metadata": {},
     "output_type": "display_data"
    },
    {
     "data": {
      "image/png": "[encoded data removed]",
      "text/plain": [
       "<Figure size 1600x400 with 2 Axes>"
      ]
     },
     "metadata": {},
     "output_type": "display_data"
    }
   ],
   "source": [
    "fig = plt.figure()\n",
    "\n",
    "colormap = plt.cm.coolwarm\n",
    "plt.matshow(waffle_chart, cmap=colormap)\n",
    "plt.colorbar()\n",
    "\n",
    "ax = plt.gca()\n",
    "\n",
    "ax.set_xticks(np.arange(-.5, (width), 1), minor=True)\n",
    "ax.set_yticks(np.arange(-.5, (height), 1), minor=True)\n",
    "    \n",
    "ax.grid(which='minor', color='w', linestyle='-', linewidth=2)\n",
    "\n",
    "plt.xticks([])\n",
    "plt.yticks([])\n",
    "    \n",
    "# se crea leyenda\n",
    "legend_handles = []\n",
    "for i, category in enumerate(df_pcb.index.values):\n",
    "    label_str = category + ' (' + str(df_pcb['Total'][i]) + ')'\n",
    "    color_val = colormap(float(i)/(df_pcb.shape[0]-1))\n",
    "    legend_handles.append(mpatches.Patch(color=color_val, label=label_str))\n",
    "\n",
    "# se añade leyenda\n",
    "plt.legend(handles=legend_handles,\n",
    "           loc='lower center', \n",
    "           ncol=len(df_pcb.index.values),\n",
    "           bbox_to_anchor=(0., -0.2, 0.95, .1)\n",
    "          )\n",
    "\n",
    "plt.title('Cantidad de Canciones por genero de musica')"
   ]
  }
 ],
 "metadata": {
  "kernelspec": {
   "display_name": "Python 3",
   "language": "python",
   "name": "python3"
  },
  "language_info": {
   "codemirror_mode": {
    "name": "ipython",
    "version": 3
   },
   "file_extension": ".py",
   "mimetype": "text/x-python",
   "name": "python",
   "nbconvert_exporter": "python",
   "pygments_lexer": "ipython3",
   "version": "3.10.10"
  }
 },
 "nbformat": 4,
 "nbformat_minor": 2
}
