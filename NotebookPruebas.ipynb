{
 "cells": [
  {
   "cell_type": "markdown",
   "metadata": {},
   "source": [
    "# Lectura de CSVs"
   ]
  },
  {
   "cell_type": "markdown",
   "metadata": {},
   "source": [
    "librerias"
   ]
  },
  {
   "cell_type": "code",
   "execution_count": 176,
   "metadata": {},
   "outputs": [],
   "source": [
    "from fuentes import DatosConcurso\n",
    "import pandas as pd\n",
    "import plotly.express as px\n",
    "\n"
   ]
  },
  {
   "cell_type": "markdown",
   "metadata": {},
   "source": [
    "metodo para verificar que los dataframes funcionan correctamene"
   ]
  },
  {
   "cell_type": "code",
   "execution_count": 177,
   "metadata": {},
   "outputs": [],
   "source": [
    "\n",
    "def checkearVariablePanda(df_var,df_varname):\n",
    "    if isinstance(df_var, pd.DataFrame):\n",
    "        print('{0} ok'.format(df_varname))\n",
    "    else:\n",
    "        print('{0} fallido'.format(df_varname))"
   ]
  },
  {
   "cell_type": "code",
   "execution_count": 178,
   "metadata": {},
   "outputs": [
    {
     "name": "stdout",
     "output_type": "stream",
     "text": [
      "concurso.datos_resultados_finales.datos_encuestas.eurojury_results_2016 ok\n",
      "concurso.datos_resultados_finales.datos_encuestas.eurojury_results_2017 ok\n",
      "concurso.datos_resultados_finales.datos_encuestas.eurojury_results_2018 ok\n",
      "concurso.datos_resultados_finales.datos_encuestas.eurojury_results_2019 ok\n",
      "concurso.datos_resultados_finales.datos_encuestas.eurojury_results_2021 ok\n",
      "concurso.datos_resultados_finales.datos_encuestas.eurojury_results_2022 ok\n",
      "concurso.datos_resultados_finales.datos_encuestas.eurovisionworld_results_2016 ok\n",
      "concurso.datos_resultados_finales.datos_encuestas.eurovisionworld_results_2017 ok\n",
      "concurso.datos_resultados_finales.datos_encuestas.eurovisionworld_results_2018 ok\n",
      "concurso.datos_resultados_finales.datos_encuestas.eurovisionworld_results_2019 ok\n",
      "concurso.datos_resultados_finales.datos_encuestas.eurovisionworld_results_2021 ok\n",
      "concurso.datos_resultados_finales.datos_encuestas.eurovisionworld_results_2022 ok\n",
      "concurso.datos_resultados_finales.datos_encuestas.myeurovisionscoreboard_results_2016 ok\n",
      "concurso.datos_resultados_finales.datos_encuestas.myeurovisionscoreboard_results_2017 ok\n",
      "concurso.datos_resultados_finales.datos_encuestas.myeurovisionscoreboard_results_2018 ok\n",
      "concurso.datos_resultados_finales.datos_encuestas.myeurovisionscoreboard_results_2019 ok\n",
      "concurso.datos_resultados_finales.datos_encuestas.myeurovisionscoreboard_results_2021 ok\n",
      "concurso.datos_resultados_finales.datos_encuestas.myeurovisionscoreboard_results_2022 ok\n",
      "concurso.datos_resultados_finales.datos_encuestas.ogae.ogae_results_2016 ok\n",
      "concurso.datos_resultados_finales.datos_encuestas.ogae.ogae_results_2017 ok\n",
      "concurso.datos_resultados_finales.datos_encuestas.ogae.ogae_results_2018 ok\n",
      "concurso.datos_resultados_finales.datos_encuestas.ogae.ogae_results_2019 ok\n",
      "concurso.datos_resultados_finales.datos_encuestas.ogae.ogae_results_2021 ok\n",
      "concurso.datos_resultados_finales.datos_encuestas.ogae.ogae_results_2022 ok\n",
      "concurso.datos_resultados_finales.datos_encuestas.wiwibloggs.wiwibloggs_results_2018 ok\n",
      "concurso.datos_resultados_finales.datos_encuestas.wiwibloggs.wiwibloggs_results_2019 ok\n",
      "concurso.datos_resultados_finales.datos_encuestas.wiwibloggs.wiwibloggs_results_2021 ok\n",
      "concurso.datos_resultados_finales.datos_encuestas.wiwibloggs.wiwibloggs_results_2022 ok\n"
     ]
    }
   ],
   "source": [
    "concurso = DatosConcurso()\n",
    "\n",
    "\n",
    "#variables encuestas\n",
    "#euro july\n",
    "checkearVariablePanda(concurso.datos_encuestas.euro_july.eurojury_results_2016,'concurso.datos_resultados_finales.datos_encuestas.eurojury_results_2016')\n",
    "checkearVariablePanda(concurso.datos_encuestas.euro_july.eurojury_results_2017,'concurso.datos_resultados_finales.datos_encuestas.eurojury_results_2017')\n",
    "checkearVariablePanda(concurso.datos_encuestas.euro_july.eurojury_results_2018,'concurso.datos_resultados_finales.datos_encuestas.eurojury_results_2018')\n",
    "checkearVariablePanda(concurso.datos_encuestas.euro_july.eurojury_results_2019,'concurso.datos_resultados_finales.datos_encuestas.eurojury_results_2019')\n",
    "checkearVariablePanda(concurso.datos_encuestas.euro_july.eurojury_results_2021,'concurso.datos_resultados_finales.datos_encuestas.eurojury_results_2021')\n",
    "checkearVariablePanda(concurso.datos_encuestas.euro_july.eurojury_results_2022,'concurso.datos_resultados_finales.datos_encuestas.eurojury_results_2022')\n",
    "\n",
    "#eurovisionworld\n",
    "checkearVariablePanda(concurso.datos_encuestas.eurovision_world.eurovisionworld_results_2016,'concurso.datos_resultados_finales.datos_encuestas.eurovisionworld_results_2016')\n",
    "checkearVariablePanda(concurso.datos_encuestas.eurovision_world.eurovisionworld_results_2017,'concurso.datos_resultados_finales.datos_encuestas.eurovisionworld_results_2017')\n",
    "checkearVariablePanda(concurso.datos_encuestas.eurovision_world.eurovisionworld_results_2018,'concurso.datos_resultados_finales.datos_encuestas.eurovisionworld_results_2018')\n",
    "checkearVariablePanda(concurso.datos_encuestas.eurovision_world.eurovisionworld_results_2019,'concurso.datos_resultados_finales.datos_encuestas.eurovisionworld_results_2019')\n",
    "checkearVariablePanda(concurso.datos_encuestas.eurovision_world.eurovisionworld_results_2021,'concurso.datos_resultados_finales.datos_encuestas.eurovisionworld_results_2021')\n",
    "checkearVariablePanda(concurso.datos_encuestas.eurovision_world.eurovisionworld_results_2022,'concurso.datos_resultados_finales.datos_encuestas.eurovisionworld_results_2022')\n",
    "\n",
    "#my eurovision score\n",
    "checkearVariablePanda(concurso.datos_encuestas.my_eurovision_score.myeurovisionscoreboard_results_2016,'concurso.datos_resultados_finales.datos_encuestas.myeurovisionscoreboard_results_2016')\n",
    "checkearVariablePanda(concurso.datos_encuestas.my_eurovision_score.myeurovisionscoreboard_results_2017,'concurso.datos_resultados_finales.datos_encuestas.myeurovisionscoreboard_results_2017')\n",
    "checkearVariablePanda(concurso.datos_encuestas.my_eurovision_score.myeurovisionscoreboard_results_2018,'concurso.datos_resultados_finales.datos_encuestas.myeurovisionscoreboard_results_2018')\n",
    "checkearVariablePanda(concurso.datos_encuestas.my_eurovision_score.myeurovisionscoreboard_results_2019,'concurso.datos_resultados_finales.datos_encuestas.myeurovisionscoreboard_results_2019')\n",
    "checkearVariablePanda(concurso.datos_encuestas.my_eurovision_score.myeurovisionscoreboard_results_2021,'concurso.datos_resultados_finales.datos_encuestas.myeurovisionscoreboard_results_2021')\n",
    "checkearVariablePanda(concurso.datos_encuestas.my_eurovision_score.myeurovisionscoreboard_results_2022,'concurso.datos_resultados_finales.datos_encuestas.myeurovisionscoreboard_results_2022')\n",
    "\n",
    "#ogae\n",
    "checkearVariablePanda(concurso.datos_encuestas.ogae.ogae_results_2016,'concurso.datos_resultados_finales.datos_encuestas.ogae.ogae_results_2016')\n",
    "checkearVariablePanda(concurso.datos_encuestas.ogae.ogae_results_2017,'concurso.datos_resultados_finales.datos_encuestas.ogae.ogae_results_2017')\n",
    "checkearVariablePanda(concurso.datos_encuestas.ogae.ogae_results_2018,'concurso.datos_resultados_finales.datos_encuestas.ogae.ogae_results_2018')\n",
    "checkearVariablePanda(concurso.datos_encuestas.ogae.ogae_results_2019,'concurso.datos_resultados_finales.datos_encuestas.ogae.ogae_results_2019')\n",
    "checkearVariablePanda(concurso.datos_encuestas.ogae.ogae_results_2021,'concurso.datos_resultados_finales.datos_encuestas.ogae.ogae_results_2021')\n",
    "checkearVariablePanda(concurso.datos_encuestas.ogae.ogae_results_2022,'concurso.datos_resultados_finales.datos_encuestas.ogae.ogae_results_2022')\n",
    "\n",
    "#wiwibloggs\n",
    "checkearVariablePanda(concurso.datos_encuestas.wiwibloggs.wiwibloggs_results_2018,'concurso.datos_resultados_finales.datos_encuestas.wiwibloggs.wiwibloggs_results_2018')\n",
    "checkearVariablePanda(concurso.datos_encuestas.wiwibloggs.wiwibloggs_results_2019,'concurso.datos_resultados_finales.datos_encuestas.wiwibloggs.wiwibloggs_results_2019')\n",
    "checkearVariablePanda(concurso.datos_encuestas.wiwibloggs.wiwibloggs_results_2021,'concurso.datos_resultados_finales.datos_encuestas.wiwibloggs.wiwibloggs_results_2021')\n",
    "checkearVariablePanda(concurso.datos_encuestas.wiwibloggs.wiwibloggs_results_2022,'concurso.datos_resultados_finales.datos_encuestas.wiwibloggs.wiwibloggs_results_2022')"
   ]
  },
  {
   "cell_type": "code",
   "execution_count": 179,
   "metadata": {},
   "outputs": [
    {
     "name": "stdout",
     "output_type": "stream",
     "text": [
      "concurso.country_data ok\n",
      "concurso.contest_data ok\n",
      "concurso.song_data ok\n"
     ]
    }
   ],
   "source": [
    "\n",
    "#variables de la raiz\n",
    "checkearVariablePanda(concurso.country_data,'concurso.country_data')\n",
    "checkearVariablePanda(concurso.contest_data,'concurso.contest_data')\n",
    "checkearVariablePanda(concurso.song_data,'concurso.song_data')"
   ]
  },
  {
   "cell_type": "code",
   "execution_count": 180,
   "metadata": {},
   "outputs": [
    {
     "name": "stdout",
     "output_type": "stream",
     "text": [
      "concurso.datos_resultados_finales.datos_jurado.jury_results_2016 ok\n",
      "concurso.datos_resultados_finales.datos_jurado.jury_results_2017 ok\n",
      "concurso.datos_resultados_finales.datos_jurado.jury_results_2018 ok\n",
      "concurso.datos_resultados_finales.datos_jurado.jury_results_2019 ok\n",
      "concurso.datos_resultados_finales.datos_jurado.jury_results_2021 ok\n",
      "concurso.datos_resultados_finales.datos_jurado.jury_results_2022 ok\n",
      "concurso.datos_resultados_finales.datos_televotacion.2016_televote_results ok\n",
      "concurso.datos_resultados_finales.datos_televotacion.2017_televote_results ok\n",
      "concurso.datos_resultados_finales.datos_televotacion.2018_televote_results ok\n",
      "concurso.datos_resultados_finales.datos_televotacion.2019_televote_results ok\n",
      "concurso.datos_resultados_finales.datos_televotacion.2021_televote_results ok\n",
      "concurso.datos_resultados_finales.datos_televotacion.2022_televote_results ok\n"
     ]
    }
   ],
   "source": [
    "#variables resultados finales\n",
    "#jurado\n",
    "checkearVariablePanda(concurso.datos_resultados_finales.datos_jurado.jury_results_2016,'concurso.datos_resultados_finales.datos_jurado.jury_results_2016')\n",
    "checkearVariablePanda(concurso.datos_resultados_finales.datos_jurado.jury_results_2017,'concurso.datos_resultados_finales.datos_jurado.jury_results_2017')\n",
    "checkearVariablePanda(concurso.datos_resultados_finales.datos_jurado.jury_results_2018,'concurso.datos_resultados_finales.datos_jurado.jury_results_2018')\n",
    "checkearVariablePanda(concurso.datos_resultados_finales.datos_jurado.jury_results_2019,'concurso.datos_resultados_finales.datos_jurado.jury_results_2019')\n",
    "checkearVariablePanda(concurso.datos_resultados_finales.datos_jurado.jury_results_2021,'concurso.datos_resultados_finales.datos_jurado.jury_results_2021')\n",
    "checkearVariablePanda(concurso.datos_resultados_finales.datos_jurado.jury_results_2022,'concurso.datos_resultados_finales.datos_jurado.jury_results_2022')\n",
    "\n",
    "#televotacion\n",
    "checkearVariablePanda(concurso.datos_resultados_finales.datos_televotacion.televote_results_2016,'concurso.datos_resultados_finales.datos_televotacion.2016_televote_results')\n",
    "checkearVariablePanda(concurso.datos_resultados_finales.datos_televotacion.televote_results_2017,'concurso.datos_resultados_finales.datos_televotacion.2017_televote_results')\n",
    "checkearVariablePanda(concurso.datos_resultados_finales.datos_televotacion.televote_results_2018,'concurso.datos_resultados_finales.datos_televotacion.2018_televote_results')\n",
    "checkearVariablePanda(concurso.datos_resultados_finales.datos_televotacion.televote_results_2019,'concurso.datos_resultados_finales.datos_televotacion.2019_televote_results')\n",
    "checkearVariablePanda(concurso.datos_resultados_finales.datos_televotacion.televote_results_2021,'concurso.datos_resultados_finales.datos_televotacion.2021_televote_results')\n",
    "checkearVariablePanda(concurso.datos_resultados_finales.datos_televotacion.televote_results_2022,'concurso.datos_resultados_finales.datos_televotacion.2022_televote_results')"
   ]
  },
  {
   "cell_type": "markdown",
   "metadata": {},
   "source": [
    "# Manipulacion de CSVs"
   ]
  },
  {
   "cell_type": "markdown",
   "metadata": {},
   "source": [
    "Utilizando el dataset principal haremos plots simples"
   ]
  },
  {
   "cell_type": "code",
   "execution_count": 181,
   "metadata": {},
   "outputs": [
    {
     "data": {
      "text/html": [
       "<div>\n",
       "<style scoped>\n",
       "    .dataframe tbody tr th:only-of-type {\n",
       "        vertical-align: middle;\n",
       "    }\n",
       "\n",
       "    .dataframe tbody tr th {\n",
       "        vertical-align: top;\n",
       "    }\n",
       "\n",
       "    .dataframe thead th {\n",
       "        text-align: right;\n",
       "    }\n",
       "</style>\n",
       "<table border=\"1\" class=\"dataframe\">\n",
       "  <thead>\n",
       "    <tr style=\"text-align: right;\">\n",
       "      <th></th>\n",
       "      <th>year</th>\n",
       "      <th>semi_draw_position</th>\n",
       "      <th>final_draw_position</th>\n",
       "      <th>country</th>\n",
       "      <th>artist_name</th>\n",
       "      <th>song_name</th>\n",
       "      <th>language</th>\n",
       "      <th>style</th>\n",
       "      <th>direct_qualifier_10</th>\n",
       "      <th>main_singers</th>\n",
       "      <th>...</th>\n",
       "      <th>final_jury_votes</th>\n",
       "      <th>final_place</th>\n",
       "      <th>final_total_points</th>\n",
       "      <th>semi_place</th>\n",
       "      <th>semi_televote_points</th>\n",
       "      <th>semi_jury_points</th>\n",
       "      <th>semi_total_points</th>\n",
       "      <th>favourite_10</th>\n",
       "      <th>race</th>\n",
       "      <th>host_10</th>\n",
       "    </tr>\n",
       "  </thead>\n",
       "  <tbody>\n",
       "    <tr>\n",
       "      <th>0</th>\n",
       "      <td>2022</td>\n",
       "      <td>1</td>\n",
       "      <td>0</td>\n",
       "      <td>Albania</td>\n",
       "      <td>Ronela Hajati</td>\n",
       "      <td>Sekret</td>\n",
       "      <td>Albanian, English</td>\n",
       "      <td>Pop</td>\n",
       "      <td>-</td>\n",
       "      <td>1</td>\n",
       "      <td>...</td>\n",
       "      <td>0.0</td>\n",
       "      <td>0.0</td>\n",
       "      <td>0.0</td>\n",
       "      <td>12.0</td>\n",
       "      <td>46.0</td>\n",
       "      <td>12.0</td>\n",
       "      <td>58.0</td>\n",
       "      <td>0</td>\n",
       "      <td>white</td>\n",
       "      <td>0</td>\n",
       "    </tr>\n",
       "    <tr>\n",
       "      <th>1</th>\n",
       "      <td>2022</td>\n",
       "      <td>2</td>\n",
       "      <td>0</td>\n",
       "      <td>Latvia</td>\n",
       "      <td>Citi Zeni</td>\n",
       "      <td>Eat Your Salad</td>\n",
       "      <td>English</td>\n",
       "      <td>Pop</td>\n",
       "      <td>-</td>\n",
       "      <td>1</td>\n",
       "      <td>...</td>\n",
       "      <td>0.0</td>\n",
       "      <td>0.0</td>\n",
       "      <td>0.0</td>\n",
       "      <td>14.0</td>\n",
       "      <td>16.0</td>\n",
       "      <td>39.0</td>\n",
       "      <td>55.0</td>\n",
       "      <td>0</td>\n",
       "      <td>white</td>\n",
       "      <td>0</td>\n",
       "    </tr>\n",
       "    <tr>\n",
       "      <th>2</th>\n",
       "      <td>2022</td>\n",
       "      <td>3</td>\n",
       "      <td>14</td>\n",
       "      <td>Lithuania</td>\n",
       "      <td>Monika Liu</td>\n",
       "      <td>Sentimentai</td>\n",
       "      <td>Lithuanian</td>\n",
       "      <td>Ballad</td>\n",
       "      <td>0</td>\n",
       "      <td>1</td>\n",
       "      <td>...</td>\n",
       "      <td>10.0</td>\n",
       "      <td>14.0</td>\n",
       "      <td>128.0</td>\n",
       "      <td>7.0</td>\n",
       "      <td>103.0</td>\n",
       "      <td>56.0</td>\n",
       "      <td>159.0</td>\n",
       "      <td>0</td>\n",
       "      <td>white</td>\n",
       "      <td>0</td>\n",
       "    </tr>\n",
       "    <tr>\n",
       "      <th>3</th>\n",
       "      <td>2022</td>\n",
       "      <td>4</td>\n",
       "      <td>5</td>\n",
       "      <td>Switzerland</td>\n",
       "      <td>Marius Bear</td>\n",
       "      <td>Boys Do Cry</td>\n",
       "      <td>English</td>\n",
       "      <td>Ballad</td>\n",
       "      <td>0</td>\n",
       "      <td>1</td>\n",
       "      <td>...</td>\n",
       "      <td>21.0</td>\n",
       "      <td>17.0</td>\n",
       "      <td>78.0</td>\n",
       "      <td>9.0</td>\n",
       "      <td>11.0</td>\n",
       "      <td>107.0</td>\n",
       "      <td>118.0</td>\n",
       "      <td>0</td>\n",
       "      <td>white</td>\n",
       "      <td>0</td>\n",
       "    </tr>\n",
       "    <tr>\n",
       "      <th>4</th>\n",
       "      <td>2022</td>\n",
       "      <td>5</td>\n",
       "      <td>0</td>\n",
       "      <td>Slovenia</td>\n",
       "      <td>LPS</td>\n",
       "      <td>Disko</td>\n",
       "      <td>Slovene</td>\n",
       "      <td>Pop</td>\n",
       "      <td>-</td>\n",
       "      <td>1</td>\n",
       "      <td>...</td>\n",
       "      <td>0.0</td>\n",
       "      <td>0.0</td>\n",
       "      <td>0.0</td>\n",
       "      <td>17.0</td>\n",
       "      <td>8.0</td>\n",
       "      <td>7.0</td>\n",
       "      <td>15.0</td>\n",
       "      <td>0</td>\n",
       "      <td>white</td>\n",
       "      <td>0</td>\n",
       "    </tr>\n",
       "    <tr>\n",
       "      <th>...</th>\n",
       "      <td>...</td>\n",
       "      <td>...</td>\n",
       "      <td>...</td>\n",
       "      <td>...</td>\n",
       "      <td>...</td>\n",
       "      <td>...</td>\n",
       "      <td>...</td>\n",
       "      <td>...</td>\n",
       "      <td>...</td>\n",
       "      <td>...</td>\n",
       "      <td>...</td>\n",
       "      <td>...</td>\n",
       "      <td>...</td>\n",
       "      <td>...</td>\n",
       "      <td>...</td>\n",
       "      <td>...</td>\n",
       "      <td>...</td>\n",
       "      <td>...</td>\n",
       "      <td>...</td>\n",
       "      <td>...</td>\n",
       "      <td>...</td>\n",
       "    </tr>\n",
       "    <tr>\n",
       "      <th>523</th>\n",
       "      <td>2009</td>\n",
       "      <td>0</td>\n",
       "      <td>3</td>\n",
       "      <td>France</td>\n",
       "      <td>Patricia Kaas</td>\n",
       "      <td>Et s'il fallait le faire</td>\n",
       "      <td>French</td>\n",
       "      <td>Ballad</td>\n",
       "      <td>1</td>\n",
       "      <td>1</td>\n",
       "      <td>...</td>\n",
       "      <td>0.0</td>\n",
       "      <td>8.0</td>\n",
       "      <td>218.0</td>\n",
       "      <td>0.0</td>\n",
       "      <td>0.0</td>\n",
       "      <td>0.0</td>\n",
       "      <td>0.0</td>\n",
       "      <td>0</td>\n",
       "      <td>unknown</td>\n",
       "      <td>0</td>\n",
       "    </tr>\n",
       "    <tr>\n",
       "      <th>524</th>\n",
       "      <td>2009</td>\n",
       "      <td>0</td>\n",
       "      <td>10</td>\n",
       "      <td>Russia</td>\n",
       "      <td>Anastasiya Prikhodko</td>\n",
       "      <td>Mamo</td>\n",
       "      <td>Russian, Ukrainian</td>\n",
       "      <td>Ballad</td>\n",
       "      <td>1</td>\n",
       "      <td>1</td>\n",
       "      <td>...</td>\n",
       "      <td>0.0</td>\n",
       "      <td>11.0</td>\n",
       "      <td>185.0</td>\n",
       "      <td>0.0</td>\n",
       "      <td>0.0</td>\n",
       "      <td>0.0</td>\n",
       "      <td>0.0</td>\n",
       "      <td>0</td>\n",
       "      <td>unknown</td>\n",
       "      <td>1</td>\n",
       "    </tr>\n",
       "    <tr>\n",
       "      <th>525</th>\n",
       "      <td>2009</td>\n",
       "      <td>0</td>\n",
       "      <td>17</td>\n",
       "      <td>Germany</td>\n",
       "      <td>Alex Swings Oscar Sings!</td>\n",
       "      <td>Miss Kiss Kiss Bang</td>\n",
       "      <td>English</td>\n",
       "      <td>Pop</td>\n",
       "      <td>1</td>\n",
       "      <td>1</td>\n",
       "      <td>...</td>\n",
       "      <td>0.0</td>\n",
       "      <td>20.0</td>\n",
       "      <td>91.0</td>\n",
       "      <td>0.0</td>\n",
       "      <td>0.0</td>\n",
       "      <td>0.0</td>\n",
       "      <td>0.0</td>\n",
       "      <td>0</td>\n",
       "      <td>unknown</td>\n",
       "      <td>0</td>\n",
       "    </tr>\n",
       "    <tr>\n",
       "      <th>526</th>\n",
       "      <td>2009</td>\n",
       "      <td>0</td>\n",
       "      <td>23</td>\n",
       "      <td>United Kingdom</td>\n",
       "      <td>Jade Ewen</td>\n",
       "      <td>It's My Time</td>\n",
       "      <td>English</td>\n",
       "      <td>Ballad</td>\n",
       "      <td>1</td>\n",
       "      <td>1</td>\n",
       "      <td>...</td>\n",
       "      <td>0.0</td>\n",
       "      <td>5.0</td>\n",
       "      <td>328.0</td>\n",
       "      <td>0.0</td>\n",
       "      <td>0.0</td>\n",
       "      <td>0.0</td>\n",
       "      <td>0.0</td>\n",
       "      <td>0</td>\n",
       "      <td>unknown</td>\n",
       "      <td>0</td>\n",
       "    </tr>\n",
       "    <tr>\n",
       "      <th>527</th>\n",
       "      <td>2009</td>\n",
       "      <td>0</td>\n",
       "      <td>25</td>\n",
       "      <td>Spain</td>\n",
       "      <td>Soraya Arnelas</td>\n",
       "      <td>La noche es para mi</td>\n",
       "      <td>Spanish, English</td>\n",
       "      <td>Dance</td>\n",
       "      <td>1</td>\n",
       "      <td>1</td>\n",
       "      <td>...</td>\n",
       "      <td>0.0</td>\n",
       "      <td>24.0</td>\n",
       "      <td>47.0</td>\n",
       "      <td>0.0</td>\n",
       "      <td>0.0</td>\n",
       "      <td>0.0</td>\n",
       "      <td>0.0</td>\n",
       "      <td>0</td>\n",
       "      <td>unknown</td>\n",
       "      <td>0</td>\n",
       "    </tr>\n",
       "  </tbody>\n",
       "</table>\n",
       "<p>528 rows × 40 columns</p>\n",
       "</div>"
      ],
      "text/plain": [
       "     year  semi_draw_position  final_draw_position         country  \\\n",
       "0    2022                   1                    0         Albania   \n",
       "1    2022                   2                    0          Latvia   \n",
       "2    2022                   3                   14       Lithuania   \n",
       "3    2022                   4                    5     Switzerland   \n",
       "4    2022                   5                    0        Slovenia   \n",
       "..    ...                 ...                  ...             ...   \n",
       "523  2009                   0                    3          France   \n",
       "524  2009                   0                   10          Russia   \n",
       "525  2009                   0                   17         Germany   \n",
       "526  2009                   0                   23  United Kingdom   \n",
       "527  2009                   0                   25           Spain   \n",
       "\n",
       "                  artist_name                 song_name            language  \\\n",
       "0               Ronela Hajati                    Sekret   Albanian, English   \n",
       "1                   Citi Zeni            Eat Your Salad             English   \n",
       "2                  Monika Liu               Sentimentai          Lithuanian   \n",
       "3                 Marius Bear               Boys Do Cry             English   \n",
       "4                         LPS                     Disko             Slovene   \n",
       "..                        ...                       ...                 ...   \n",
       "523             Patricia Kaas  Et s'il fallait le faire              French   \n",
       "524      Anastasiya Prikhodko                      Mamo  Russian, Ukrainian   \n",
       "525  Alex Swings Oscar Sings!       Miss Kiss Kiss Bang             English   \n",
       "526                 Jade Ewen              It's My Time             English   \n",
       "527            Soraya Arnelas       La noche es para mi    Spanish, English   \n",
       "\n",
       "      style direct_qualifier_10  main_singers  ... final_jury_votes  \\\n",
       "0       Pop                   -             1  ...              0.0   \n",
       "1       Pop                   -             1  ...              0.0   \n",
       "2    Ballad                   0             1  ...             10.0   \n",
       "3    Ballad                   0             1  ...             21.0   \n",
       "4       Pop                   -             1  ...              0.0   \n",
       "..      ...                 ...           ...  ...              ...   \n",
       "523  Ballad                   1             1  ...              0.0   \n",
       "524  Ballad                   1             1  ...              0.0   \n",
       "525     Pop                   1             1  ...              0.0   \n",
       "526  Ballad                   1             1  ...              0.0   \n",
       "527   Dance                   1             1  ...              0.0   \n",
       "\n",
       "     final_place  final_total_points  semi_place  semi_televote_points  \\\n",
       "0            0.0                 0.0        12.0                  46.0   \n",
       "1            0.0                 0.0        14.0                  16.0   \n",
       "2           14.0               128.0         7.0                 103.0   \n",
       "3           17.0                78.0         9.0                  11.0   \n",
       "4            0.0                 0.0        17.0                   8.0   \n",
       "..           ...                 ...         ...                   ...   \n",
       "523          8.0               218.0         0.0                   0.0   \n",
       "524         11.0               185.0         0.0                   0.0   \n",
       "525         20.0                91.0         0.0                   0.0   \n",
       "526          5.0               328.0         0.0                   0.0   \n",
       "527         24.0                47.0         0.0                   0.0   \n",
       "\n",
       "    semi_jury_points  semi_total_points  favourite_10     race host_10  \n",
       "0               12.0               58.0             0    white       0  \n",
       "1               39.0               55.0             0    white       0  \n",
       "2               56.0              159.0             0    white       0  \n",
       "3              107.0              118.0             0    white       0  \n",
       "4                7.0               15.0             0    white       0  \n",
       "..               ...                ...           ...      ...     ...  \n",
       "523              0.0                0.0             0  unknown       0  \n",
       "524              0.0                0.0             0  unknown       1  \n",
       "525              0.0                0.0             0  unknown       0  \n",
       "526              0.0                0.0             0  unknown       0  \n",
       "527              0.0                0.0             0  unknown       0  \n",
       "\n",
       "[528 rows x 40 columns]"
      ]
     },
     "execution_count": 181,
     "metadata": {},
     "output_type": "execute_result"
    }
   ],
   "source": [
    "song_data = concurso.song_data\n",
    "song_data"
   ]
  },
  {
   "cell_type": "code",
   "execution_count": 182,
   "metadata": {},
   "outputs": [
    {
     "data": {
      "text/plain": [
       "year                       int64\n",
       "semi_draw_position         int32\n",
       "final_draw_position        int32\n",
       "country                   string\n",
       "artist_name               string\n",
       "song_name                 string\n",
       "language                  string\n",
       "style                     string\n",
       "direct_qualifier_10       object\n",
       "main_singers               int64\n",
       "key                       object\n",
       "BPM                        int32\n",
       "energy                     int32\n",
       "danceability               int32\n",
       "happiness                  int32\n",
       "loudness                  string\n",
       "acousticness               int32\n",
       "instrumentalness           int32\n",
       "liveness                   int32\n",
       "speechiness               string\n",
       "release_date              object\n",
       "key_change_10             object\n",
       "backing_dancers            int64\n",
       "backing_singers            int64\n",
       "backing_instruments        int64\n",
       "instrument_10              int64\n",
       "qualified                 object\n",
       "final_televote_points    float64\n",
       "final_jury_points        float64\n",
       "final_televote_votes     float64\n",
       "final_jury_votes         float64\n",
       "final_place              float64\n",
       "final_total_points       float64\n",
       "semi_place               float64\n",
       "semi_televote_points     float64\n",
       "semi_jury_points         float64\n",
       "semi_total_points        float64\n",
       "favourite_10               int64\n",
       "race                      string\n",
       "host_10                    int64\n",
       "dtype: object"
      ]
     },
     "execution_count": 182,
     "metadata": {},
     "output_type": "execute_result"
    }
   ],
   "source": [
    "song_data.dtypes"
   ]
  },
  {
   "cell_type": "markdown",
   "metadata": {},
   "source": [
    "## Pie Chart"
   ]
  },
  {
   "cell_type": "markdown",
   "metadata": {},
   "source": [
    "Dataset"
   ]
  },
  {
   "cell_type": "code",
   "execution_count": 183,
   "metadata": {},
   "outputs": [
    {
     "name": "stdout",
     "output_type": "stream",
     "text": [
      "*\n"
     ]
    }
   ],
   "source": [
    "print('*')"
   ]
  },
  {
   "cell_type": "code",
   "execution_count": 184,
   "metadata": {},
   "outputs": [
    {
     "data": {
      "text/html": [
       "<div>\n",
       "<style scoped>\n",
       "    .dataframe tbody tr th:only-of-type {\n",
       "        vertical-align: middle;\n",
       "    }\n",
       "\n",
       "    .dataframe tbody tr th {\n",
       "        vertical-align: top;\n",
       "    }\n",
       "\n",
       "    .dataframe thead th {\n",
       "        text-align: right;\n",
       "    }\n",
       "</style>\n",
       "<table border=\"1\" class=\"dataframe\">\n",
       "  <thead>\n",
       "    <tr style=\"text-align: right;\">\n",
       "      <th></th>\n",
       "      <th>year</th>\n",
       "      <th>semi_draw_position</th>\n",
       "      <th>final_draw_position</th>\n",
       "      <th>country</th>\n",
       "      <th>artist_name</th>\n",
       "      <th>song_name</th>\n",
       "      <th>language</th>\n",
       "      <th>style</th>\n",
       "      <th>direct_qualifier_10</th>\n",
       "      <th>main_singers</th>\n",
       "      <th>...</th>\n",
       "      <th>final_jury_votes</th>\n",
       "      <th>final_place</th>\n",
       "      <th>final_total_points</th>\n",
       "      <th>semi_place</th>\n",
       "      <th>semi_televote_points</th>\n",
       "      <th>semi_jury_points</th>\n",
       "      <th>semi_total_points</th>\n",
       "      <th>favourite_10</th>\n",
       "      <th>race</th>\n",
       "      <th>host_10</th>\n",
       "    </tr>\n",
       "  </thead>\n",
       "  <tbody>\n",
       "    <tr>\n",
       "      <th>5</th>\n",
       "      <td>2022</td>\n",
       "      <td>6</td>\n",
       "      <td>12</td>\n",
       "      <td>Ukraine</td>\n",
       "      <td>Kalush Orchestra</td>\n",
       "      <td>Stefania</td>\n",
       "      <td>Ukrainian</td>\n",
       "      <td>Traditional</td>\n",
       "      <td>0</td>\n",
       "      <td>1</td>\n",
       "      <td>...</td>\n",
       "      <td>26.0</td>\n",
       "      <td>1.0</td>\n",
       "      <td>631.0</td>\n",
       "      <td>1.0</td>\n",
       "      <td>202.0</td>\n",
       "      <td>135.0</td>\n",
       "      <td>337.0</td>\n",
       "      <td>1</td>\n",
       "      <td>white</td>\n",
       "      <td>0</td>\n",
       "    </tr>\n",
       "    <tr>\n",
       "      <th>38</th>\n",
       "      <td>2022</td>\n",
       "      <td>0</td>\n",
       "      <td>22</td>\n",
       "      <td>United Kingdom</td>\n",
       "      <td>Sam Ryder</td>\n",
       "      <td>Space Man</td>\n",
       "      <td>English</td>\n",
       "      <td>Pop</td>\n",
       "      <td>1</td>\n",
       "      <td>1</td>\n",
       "      <td>...</td>\n",
       "      <td>35.0</td>\n",
       "      <td>2.0</td>\n",
       "      <td>466.0</td>\n",
       "      <td>0.0</td>\n",
       "      <td>0.0</td>\n",
       "      <td>0.0</td>\n",
       "      <td>0.0</td>\n",
       "      <td>0</td>\n",
       "      <td>white</td>\n",
       "      <td>0</td>\n",
       "    </tr>\n",
       "    <tr>\n",
       "      <th>36</th>\n",
       "      <td>2022</td>\n",
       "      <td>0</td>\n",
       "      <td>10</td>\n",
       "      <td>Spain</td>\n",
       "      <td>Chanel</td>\n",
       "      <td>SloMo</td>\n",
       "      <td>Spanish, English</td>\n",
       "      <td>Pop</td>\n",
       "      <td>1</td>\n",
       "      <td>1</td>\n",
       "      <td>...</td>\n",
       "      <td>34.0</td>\n",
       "      <td>3.0</td>\n",
       "      <td>459.0</td>\n",
       "      <td>0.0</td>\n",
       "      <td>0.0</td>\n",
       "      <td>0.0</td>\n",
       "      <td>0.0</td>\n",
       "      <td>0</td>\n",
       "      <td>white</td>\n",
       "      <td>0</td>\n",
       "    </tr>\n",
       "    <tr>\n",
       "      <th>33</th>\n",
       "      <td>2022</td>\n",
       "      <td>17</td>\n",
       "      <td>20</td>\n",
       "      <td>Sweden</td>\n",
       "      <td>Cornelia Jakobs</td>\n",
       "      <td>Hold Me Closer</td>\n",
       "      <td>English</td>\n",
       "      <td>Ballad</td>\n",
       "      <td>0</td>\n",
       "      <td>1</td>\n",
       "      <td>...</td>\n",
       "      <td>33.0</td>\n",
       "      <td>4.0</td>\n",
       "      <td>438.0</td>\n",
       "      <td>1.0</td>\n",
       "      <td>174.0</td>\n",
       "      <td>222.0</td>\n",
       "      <td>396.0</td>\n",
       "      <td>0</td>\n",
       "      <td>unknown</td>\n",
       "      <td>0</td>\n",
       "    </tr>\n",
       "    <tr>\n",
       "      <th>19</th>\n",
       "      <td>2022</td>\n",
       "      <td>3</td>\n",
       "      <td>24</td>\n",
       "      <td>Serbia</td>\n",
       "      <td>Konstrakta</td>\n",
       "      <td>In corpore sano</td>\n",
       "      <td>Serbian, Latin</td>\n",
       "      <td>Traditional</td>\n",
       "      <td>0</td>\n",
       "      <td>1</td>\n",
       "      <td>...</td>\n",
       "      <td>15.0</td>\n",
       "      <td>5.0</td>\n",
       "      <td>312.0</td>\n",
       "      <td>3.0</td>\n",
       "      <td>174.0</td>\n",
       "      <td>63.0</td>\n",
       "      <td>237.0</td>\n",
       "      <td>0</td>\n",
       "      <td>white</td>\n",
       "      <td>0</td>\n",
       "    </tr>\n",
       "  </tbody>\n",
       "</table>\n",
       "<p>5 rows × 40 columns</p>\n",
       "</div>"
      ],
      "text/plain": [
       "    year  semi_draw_position  final_draw_position         country  \\\n",
       "5   2022                   6                   12         Ukraine   \n",
       "38  2022                   0                   22  United Kingdom   \n",
       "36  2022                   0                   10           Spain   \n",
       "33  2022                  17                   20          Sweden   \n",
       "19  2022                   3                   24          Serbia   \n",
       "\n",
       "         artist_name        song_name          language        style  \\\n",
       "5   Kalush Orchestra         Stefania         Ukrainian  Traditional   \n",
       "38         Sam Ryder        Space Man           English          Pop   \n",
       "36            Chanel            SloMo  Spanish, English          Pop   \n",
       "33   Cornelia Jakobs   Hold Me Closer           English       Ballad   \n",
       "19        Konstrakta  In corpore sano    Serbian, Latin  Traditional   \n",
       "\n",
       "   direct_qualifier_10  main_singers  ... final_jury_votes  final_place  \\\n",
       "5                    0             1  ...             26.0          1.0   \n",
       "38                   1             1  ...             35.0          2.0   \n",
       "36                   1             1  ...             34.0          3.0   \n",
       "33                   0             1  ...             33.0          4.0   \n",
       "19                   0             1  ...             15.0          5.0   \n",
       "\n",
       "    final_total_points  semi_place  semi_televote_points semi_jury_points  \\\n",
       "5                631.0         1.0                 202.0            135.0   \n",
       "38               466.0         0.0                   0.0              0.0   \n",
       "36               459.0         0.0                   0.0              0.0   \n",
       "33               438.0         1.0                 174.0            222.0   \n",
       "19               312.0         3.0                 174.0             63.0   \n",
       "\n",
       "    semi_total_points  favourite_10     race host_10  \n",
       "5               337.0             1    white       0  \n",
       "38                0.0             0    white       0  \n",
       "36                0.0             0    white       0  \n",
       "33              396.0             0  unknown       0  \n",
       "19              237.0             0    white       0  \n",
       "\n",
       "[5 rows x 40 columns]"
      ]
     },
     "execution_count": 184,
     "metadata": {},
     "output_type": "execute_result"
    }
   ],
   "source": [
    "song_data_2022 = song_data[(song_data.year == 2022) & (song_data.final_place > 0.0)]\n",
    "song_data_2022_top = song_data_2022.sort_values(by='final_place',ascending=True)\n",
    "song_data_2022_top.head()"
   ]
  },
  {
   "cell_type": "markdown",
   "metadata": {},
   "source": [
    "Plot"
   ]
  },
  {
   "cell_type": "code",
   "execution_count": 185,
   "metadata": {},
   "outputs": [
    {
     "data": {
      "application/vnd.plotly.v1+json": {
       "config": {
        "plotlyServerURL": "https://plot.ly"
       },
       "data": [
        {
         "domain": {
          "x": [
           0,
           1
          ],
          "y": [
           0,
           1
          ]
         },
         "hovertemplate": "country=%{label}<br>final_total_points=%{value}<extra></extra>",
         "labels": [
          "Ukraine",
          "United Kingdom",
          "Spain",
          "Sweden",
          "Serbia"
         ],
         "legendgroup": "",
         "name": "",
         "showlegend": true,
         "type": "pie",
         "values": [
          631,
          466,
          459,
          438,
          312
         ]
        }
       ],
       "layout": {
        "legend": {
         "tracegroupgap": 0
        },
        "template": {
         "data": {
          "bar": [
           {
            "error_x": {
             "color": "#2a3f5f"
            },
            "error_y": {
             "color": "#2a3f5f"
            },
            "marker": {
             "line": {
              "color": "#E5ECF6",
              "width": 0.5
             },
             "pattern": {
              "fillmode": "overlay",
              "size": 10,
              "solidity": 0.2
             }
            },
            "type": "bar"
           }
          ],
          "barpolar": [
           {
            "marker": {
             "line": {
              "color": "#E5ECF6",
              "width": 0.5
             },
             "pattern": {
              "fillmode": "overlay",
              "size": 10,
              "solidity": 0.2
             }
            },
            "type": "barpolar"
           }
          ],
          "carpet": [
           {
            "aaxis": {
             "endlinecolor": "#2a3f5f",
             "gridcolor": "white",
             "linecolor": "white",
             "minorgridcolor": "white",
             "startlinecolor": "#2a3f5f"
            },
            "baxis": {
             "endlinecolor": "#2a3f5f",
             "gridcolor": "white",
             "linecolor": "white",
             "minorgridcolor": "white",
             "startlinecolor": "#2a3f5f"
            },
            "type": "carpet"
           }
          ],
          "choropleth": [
           {
            "colorbar": {
             "outlinewidth": 0,
             "ticks": ""
            },
            "type": "choropleth"
           }
          ],
          "contour": [
           {
            "colorbar": {
             "outlinewidth": 0,
             "ticks": ""
            },
            "colorscale": [
             [
              0,
              "#0d0887"
             ],
             [
              0.1111111111111111,
              "#46039f"
             ],
             [
              0.2222222222222222,
              "#7201a8"
             ],
             [
              0.3333333333333333,
              "#9c179e"
             ],
             [
              0.4444444444444444,
              "#bd3786"
             ],
             [
              0.5555555555555556,
              "#d8576b"
             ],
             [
              0.6666666666666666,
              "#ed7953"
             ],
             [
              0.7777777777777778,
              "#fb9f3a"
             ],
             [
              0.8888888888888888,
              "#fdca26"
             ],
             [
              1,
              "#f0f921"
             ]
            ],
            "type": "contour"
           }
          ],
          "contourcarpet": [
           {
            "colorbar": {
             "outlinewidth": 0,
             "ticks": ""
            },
            "type": "contourcarpet"
           }
          ],
          "heatmap": [
           {
            "colorbar": {
             "outlinewidth": 0,
             "ticks": ""
            },
            "colorscale": [
             [
              0,
              "#0d0887"
             ],
             [
              0.1111111111111111,
              "#46039f"
             ],
             [
              0.2222222222222222,
              "#7201a8"
             ],
             [
              0.3333333333333333,
              "#9c179e"
             ],
             [
              0.4444444444444444,
              "#bd3786"
             ],
             [
              0.5555555555555556,
              "#d8576b"
             ],
             [
              0.6666666666666666,
              "#ed7953"
             ],
             [
              0.7777777777777778,
              "#fb9f3a"
             ],
             [
              0.8888888888888888,
              "#fdca26"
             ],
             [
              1,
              "#f0f921"
             ]
            ],
            "type": "heatmap"
           }
          ],
          "heatmapgl": [
           {
            "colorbar": {
             "outlinewidth": 0,
             "ticks": ""
            },
            "colorscale": [
             [
              0,
              "#0d0887"
             ],
             [
              0.1111111111111111,
              "#46039f"
             ],
             [
              0.2222222222222222,
              "#7201a8"
             ],
             [
              0.3333333333333333,
              "#9c179e"
             ],
             [
              0.4444444444444444,
              "#bd3786"
             ],
             [
              0.5555555555555556,
              "#d8576b"
             ],
             [
              0.6666666666666666,
              "#ed7953"
             ],
             [
              0.7777777777777778,
              "#fb9f3a"
             ],
             [
              0.8888888888888888,
              "#fdca26"
             ],
             [
              1,
              "#f0f921"
             ]
            ],
            "type": "heatmapgl"
           }
          ],
          "histogram": [
           {
            "marker": {
             "pattern": {
              "fillmode": "overlay",
              "size": 10,
              "solidity": 0.2
             }
            },
            "type": "histogram"
           }
          ],
          "histogram2d": [
           {
            "colorbar": {
             "outlinewidth": 0,
             "ticks": ""
            },
            "colorscale": [
             [
              0,
              "#0d0887"
             ],
             [
              0.1111111111111111,
              "#46039f"
             ],
             [
              0.2222222222222222,
              "#7201a8"
             ],
             [
              0.3333333333333333,
              "#9c179e"
             ],
             [
              0.4444444444444444,
              "#bd3786"
             ],
             [
              0.5555555555555556,
              "#d8576b"
             ],
             [
              0.6666666666666666,
              "#ed7953"
             ],
             [
              0.7777777777777778,
              "#fb9f3a"
             ],
             [
              0.8888888888888888,
              "#fdca26"
             ],
             [
              1,
              "#f0f921"
             ]
            ],
            "type": "histogram2d"
           }
          ],
          "histogram2dcontour": [
           {
            "colorbar": {
             "outlinewidth": 0,
             "ticks": ""
            },
            "colorscale": [
             [
              0,
              "#0d0887"
             ],
             [
              0.1111111111111111,
              "#46039f"
             ],
             [
              0.2222222222222222,
              "#7201a8"
             ],
             [
              0.3333333333333333,
              "#9c179e"
             ],
             [
              0.4444444444444444,
              "#bd3786"
             ],
             [
              0.5555555555555556,
              "#d8576b"
             ],
             [
              0.6666666666666666,
              "#ed7953"
             ],
             [
              0.7777777777777778,
              "#fb9f3a"
             ],
             [
              0.8888888888888888,
              "#fdca26"
             ],
             [
              1,
              "#f0f921"
             ]
            ],
            "type": "histogram2dcontour"
           }
          ],
          "mesh3d": [
           {
            "colorbar": {
             "outlinewidth": 0,
             "ticks": ""
            },
            "type": "mesh3d"
           }
          ],
          "parcoords": [
           {
            "line": {
             "colorbar": {
              "outlinewidth": 0,
              "ticks": ""
             }
            },
            "type": "parcoords"
           }
          ],
          "pie": [
           {
            "automargin": true,
            "type": "pie"
           }
          ],
          "scatter": [
           {
            "fillpattern": {
             "fillmode": "overlay",
             "size": 10,
             "solidity": 0.2
            },
            "type": "scatter"
           }
          ],
          "scatter3d": [
           {
            "line": {
             "colorbar": {
              "outlinewidth": 0,
              "ticks": ""
             }
            },
            "marker": {
             "colorbar": {
              "outlinewidth": 0,
              "ticks": ""
             }
            },
            "type": "scatter3d"
           }
          ],
          "scattercarpet": [
           {
            "marker": {
             "colorbar": {
              "outlinewidth": 0,
              "ticks": ""
             }
            },
            "type": "scattercarpet"
           }
          ],
          "scattergeo": [
           {
            "marker": {
             "colorbar": {
              "outlinewidth": 0,
              "ticks": ""
             }
            },
            "type": "scattergeo"
           }
          ],
          "scattergl": [
           {
            "marker": {
             "colorbar": {
              "outlinewidth": 0,
              "ticks": ""
             }
            },
            "type": "scattergl"
           }
          ],
          "scattermapbox": [
           {
            "marker": {
             "colorbar": {
              "outlinewidth": 0,
              "ticks": ""
             }
            },
            "type": "scattermapbox"
           }
          ],
          "scatterpolar": [
           {
            "marker": {
             "colorbar": {
              "outlinewidth": 0,
              "ticks": ""
             }
            },
            "type": "scatterpolar"
           }
          ],
          "scatterpolargl": [
           {
            "marker": {
             "colorbar": {
              "outlinewidth": 0,
              "ticks": ""
             }
            },
            "type": "scatterpolargl"
           }
          ],
          "scatterternary": [
           {
            "marker": {
             "colorbar": {
              "outlinewidth": 0,
              "ticks": ""
             }
            },
            "type": "scatterternary"
           }
          ],
          "surface": [
           {
            "colorbar": {
             "outlinewidth": 0,
             "ticks": ""
            },
            "colorscale": [
             [
              0,
              "#0d0887"
             ],
             [
              0.1111111111111111,
              "#46039f"
             ],
             [
              0.2222222222222222,
              "#7201a8"
             ],
             [
              0.3333333333333333,
              "#9c179e"
             ],
             [
              0.4444444444444444,
              "#bd3786"
             ],
             [
              0.5555555555555556,
              "#d8576b"
             ],
             [
              0.6666666666666666,
              "#ed7953"
             ],
             [
              0.7777777777777778,
              "#fb9f3a"
             ],
             [
              0.8888888888888888,
              "#fdca26"
             ],
             [
              1,
              "#f0f921"
             ]
            ],
            "type": "surface"
           }
          ],
          "table": [
           {
            "cells": {
             "fill": {
              "color": "#EBF0F8"
             },
             "line": {
              "color": "white"
             }
            },
            "header": {
             "fill": {
              "color": "#C8D4E3"
             },
             "line": {
              "color": "white"
             }
            },
            "type": "table"
           }
          ]
         },
         "layout": {
          "annotationdefaults": {
           "arrowcolor": "#2a3f5f",
           "arrowhead": 0,
           "arrowwidth": 1
          },
          "autotypenumbers": "strict",
          "coloraxis": {
           "colorbar": {
            "outlinewidth": 0,
            "ticks": ""
           }
          },
          "colorscale": {
           "diverging": [
            [
             0,
             "#8e0152"
            ],
            [
             0.1,
             "#c51b7d"
            ],
            [
             0.2,
             "#de77ae"
            ],
            [
             0.3,
             "#f1b6da"
            ],
            [
             0.4,
             "#fde0ef"
            ],
            [
             0.5,
             "#f7f7f7"
            ],
            [
             0.6,
             "#e6f5d0"
            ],
            [
             0.7,
             "#b8e186"
            ],
            [
             0.8,
             "#7fbc41"
            ],
            [
             0.9,
             "#4d9221"
            ],
            [
             1,
             "#276419"
            ]
           ],
           "sequential": [
            [
             0,
             "#0d0887"
            ],
            [
             0.1111111111111111,
             "#46039f"
            ],
            [
             0.2222222222222222,
             "#7201a8"
            ],
            [
             0.3333333333333333,
             "#9c179e"
            ],
            [
             0.4444444444444444,
             "#bd3786"
            ],
            [
             0.5555555555555556,
             "#d8576b"
            ],
            [
             0.6666666666666666,
             "#ed7953"
            ],
            [
             0.7777777777777778,
             "#fb9f3a"
            ],
            [
             0.8888888888888888,
             "#fdca26"
            ],
            [
             1,
             "#f0f921"
            ]
           ],
           "sequentialminus": [
            [
             0,
             "#0d0887"
            ],
            [
             0.1111111111111111,
             "#46039f"
            ],
            [
             0.2222222222222222,
             "#7201a8"
            ],
            [
             0.3333333333333333,
             "#9c179e"
            ],
            [
             0.4444444444444444,
             "#bd3786"
            ],
            [
             0.5555555555555556,
             "#d8576b"
            ],
            [
             0.6666666666666666,
             "#ed7953"
            ],
            [
             0.7777777777777778,
             "#fb9f3a"
            ],
            [
             0.8888888888888888,
             "#fdca26"
            ],
            [
             1,
             "#f0f921"
            ]
           ]
          },
          "colorway": [
           "#636efa",
           "#EF553B",
           "#00cc96",
           "#ab63fa",
           "#FFA15A",
           "#19d3f3",
           "#FF6692",
           "#B6E880",
           "#FF97FF",
           "#FECB52"
          ],
          "font": {
           "color": "#2a3f5f"
          },
          "geo": {
           "bgcolor": "white",
           "lakecolor": "white",
           "landcolor": "#E5ECF6",
           "showlakes": true,
           "showland": true,
           "subunitcolor": "white"
          },
          "hoverlabel": {
           "align": "left"
          },
          "hovermode": "closest",
          "mapbox": {
           "style": "light"
          },
          "paper_bgcolor": "white",
          "plot_bgcolor": "#E5ECF6",
          "polar": {
           "angularaxis": {
            "gridcolor": "white",
            "linecolor": "white",
            "ticks": ""
           },
           "bgcolor": "#E5ECF6",
           "radialaxis": {
            "gridcolor": "white",
            "linecolor": "white",
            "ticks": ""
           }
          },
          "scene": {
           "xaxis": {
            "backgroundcolor": "#E5ECF6",
            "gridcolor": "white",
            "gridwidth": 2,
            "linecolor": "white",
            "showbackground": true,
            "ticks": "",
            "zerolinecolor": "white"
           },
           "yaxis": {
            "backgroundcolor": "#E5ECF6",
            "gridcolor": "white",
            "gridwidth": 2,
            "linecolor": "white",
            "showbackground": true,
            "ticks": "",
            "zerolinecolor": "white"
           },
           "zaxis": {
            "backgroundcolor": "#E5ECF6",
            "gridcolor": "white",
            "gridwidth": 2,
            "linecolor": "white",
            "showbackground": true,
            "ticks": "",
            "zerolinecolor": "white"
           }
          },
          "shapedefaults": {
           "line": {
            "color": "#2a3f5f"
           }
          },
          "ternary": {
           "aaxis": {
            "gridcolor": "white",
            "linecolor": "white",
            "ticks": ""
           },
           "baxis": {
            "gridcolor": "white",
            "linecolor": "white",
            "ticks": ""
           },
           "bgcolor": "#E5ECF6",
           "caxis": {
            "gridcolor": "white",
            "linecolor": "white",
            "ticks": ""
           }
          },
          "title": {
           "x": 0.05
          },
          "xaxis": {
           "automargin": true,
           "gridcolor": "white",
           "linecolor": "white",
           "ticks": "",
           "title": {
            "standoff": 15
           },
           "zerolinecolor": "white",
           "zerolinewidth": 2
          },
          "yaxis": {
           "automargin": true,
           "gridcolor": "white",
           "linecolor": "white",
           "ticks": "",
           "title": {
            "standoff": 15
           },
           "zerolinecolor": "white",
           "zerolinewidth": 2
          }
         }
        },
        "title": {
         "text": "Paises de los artistas con mas votos el año 2022"
        }
       }
      }
     },
     "metadata": {},
     "output_type": "display_data"
    }
   ],
   "source": [
    "fig = px.pie(song_data_2022_top.head(), values='final_total_points', names='country', title='Paises de los artistas con mas votos el año 2022')\n",
    "fig.show()"
   ]
  },
  {
   "cell_type": "markdown",
   "metadata": {},
   "source": [
    "## Bar Chart"
   ]
  },
  {
   "cell_type": "markdown",
   "metadata": {},
   "source": [
    "Dataset"
   ]
  },
  {
   "cell_type": "code",
   "execution_count": 186,
   "metadata": {},
   "outputs": [
    {
     "data": {
      "text/html": [
       "<div>\n",
       "<style scoped>\n",
       "    .dataframe tbody tr th:only-of-type {\n",
       "        vertical-align: middle;\n",
       "    }\n",
       "\n",
       "    .dataframe tbody tr th {\n",
       "        vertical-align: top;\n",
       "    }\n",
       "\n",
       "    .dataframe thead th {\n",
       "        text-align: right;\n",
       "    }\n",
       "</style>\n",
       "<table border=\"1\" class=\"dataframe\">\n",
       "  <thead>\n",
       "    <tr style=\"text-align: right;\">\n",
       "      <th></th>\n",
       "      <th>year</th>\n",
       "      <th>sum_final_televote_points</th>\n",
       "      <th>sum_final_jury_points</th>\n",
       "      <th>sum_final_total_points</th>\n",
       "    </tr>\n",
       "  </thead>\n",
       "  <tbody>\n",
       "    <tr>\n",
       "      <th>0</th>\n",
       "      <td>2009</td>\n",
       "      <td>2436.0</td>\n",
       "      <td>2436.0</td>\n",
       "      <td>4872.0</td>\n",
       "    </tr>\n",
       "    <tr>\n",
       "      <th>1</th>\n",
       "      <td>2010</td>\n",
       "      <td>2220.0</td>\n",
       "      <td>2179.0</td>\n",
       "      <td>4399.0</td>\n",
       "    </tr>\n",
       "    <tr>\n",
       "      <th>2</th>\n",
       "      <td>2011</td>\n",
       "      <td>2343.0</td>\n",
       "      <td>2404.0</td>\n",
       "      <td>4747.0</td>\n",
       "    </tr>\n",
       "    <tr>\n",
       "      <th>3</th>\n",
       "      <td>2012</td>\n",
       "      <td>2300.0</td>\n",
       "      <td>2296.0</td>\n",
       "      <td>4596.0</td>\n",
       "    </tr>\n",
       "    <tr>\n",
       "      <th>4</th>\n",
       "      <td>2013</td>\n",
       "      <td>0.0</td>\n",
       "      <td>0.0</td>\n",
       "      <td>0.0</td>\n",
       "    </tr>\n",
       "    <tr>\n",
       "      <th>5</th>\n",
       "      <td>2014</td>\n",
       "      <td>1888.0</td>\n",
       "      <td>1810.0</td>\n",
       "      <td>3698.0</td>\n",
       "    </tr>\n",
       "    <tr>\n",
       "      <th>6</th>\n",
       "      <td>2015</td>\n",
       "      <td>1980.0</td>\n",
       "      <td>2138.0</td>\n",
       "      <td>4118.0</td>\n",
       "    </tr>\n",
       "    <tr>\n",
       "      <th>7</th>\n",
       "      <td>2016</td>\n",
       "      <td>2436.0</td>\n",
       "      <td>2436.0</td>\n",
       "      <td>4872.0</td>\n",
       "    </tr>\n",
       "    <tr>\n",
       "      <th>8</th>\n",
       "      <td>2017</td>\n",
       "      <td>2436.0</td>\n",
       "      <td>2436.0</td>\n",
       "      <td>4872.0</td>\n",
       "    </tr>\n",
       "    <tr>\n",
       "      <th>9</th>\n",
       "      <td>2018</td>\n",
       "      <td>2494.0</td>\n",
       "      <td>2494.0</td>\n",
       "      <td>4988.0</td>\n",
       "    </tr>\n",
       "    <tr>\n",
       "      <th>10</th>\n",
       "      <td>2019</td>\n",
       "      <td>2378.0</td>\n",
       "      <td>2378.0</td>\n",
       "      <td>4756.0</td>\n",
       "    </tr>\n",
       "    <tr>\n",
       "      <th>11</th>\n",
       "      <td>2021</td>\n",
       "      <td>2262.0</td>\n",
       "      <td>2262.0</td>\n",
       "      <td>4108.0</td>\n",
       "    </tr>\n",
       "    <tr>\n",
       "      <th>12</th>\n",
       "      <td>2022</td>\n",
       "      <td>2320.0</td>\n",
       "      <td>2320.0</td>\n",
       "      <td>4640.0</td>\n",
       "    </tr>\n",
       "  </tbody>\n",
       "</table>\n",
       "</div>"
      ],
      "text/plain": [
       "    year  sum_final_televote_points  sum_final_jury_points  \\\n",
       "0   2009                     2436.0                 2436.0   \n",
       "1   2010                     2220.0                 2179.0   \n",
       "2   2011                     2343.0                 2404.0   \n",
       "3   2012                     2300.0                 2296.0   \n",
       "4   2013                        0.0                    0.0   \n",
       "5   2014                     1888.0                 1810.0   \n",
       "6   2015                     1980.0                 2138.0   \n",
       "7   2016                     2436.0                 2436.0   \n",
       "8   2017                     2436.0                 2436.0   \n",
       "9   2018                     2494.0                 2494.0   \n",
       "10  2019                     2378.0                 2378.0   \n",
       "11  2021                     2262.0                 2262.0   \n",
       "12  2022                     2320.0                 2320.0   \n",
       "\n",
       "    sum_final_total_points  \n",
       "0                   4872.0  \n",
       "1                   4399.0  \n",
       "2                   4747.0  \n",
       "3                   4596.0  \n",
       "4                      0.0  \n",
       "5                   3698.0  \n",
       "6                   4118.0  \n",
       "7                   4872.0  \n",
       "8                   4872.0  \n",
       "9                   4988.0  \n",
       "10                  4756.0  \n",
       "11                  4108.0  \n",
       "12                  4640.0  "
      ]
     },
     "execution_count": 186,
     "metadata": {},
     "output_type": "execute_result"
    }
   ],
   "source": [
    "song_data_agrupado_1 = song_data.groupby(['year']).agg(\n",
    "     sum_final_televote_points = ('final_televote_points','sum'),\n",
    "     sum_final_jury_points = ('final_jury_points','sum'),\n",
    "     sum_final_total_points = ('final_total_points','sum'),\n",
    "     ).reset_index()\n",
    "\n",
    "song_data_agrupado_1"
   ]
  },
  {
   "cell_type": "markdown",
   "metadata": {},
   "source": [
    "Plot"
   ]
  },
  {
   "cell_type": "code",
   "execution_count": 187,
   "metadata": {},
   "outputs": [
    {
     "data": {
      "application/vnd.plotly.v1+json": {
       "config": {
        "plotlyServerURL": "https://plot.ly"
       },
       "data": [
        {
         "alignmentgroup": "True",
         "hovertemplate": "variable=sum_final_televote_points<br>year=%{x}<br>value=%{y}<extra></extra>",
         "legendgroup": "sum_final_televote_points",
         "marker": {
          "color": "#636efa",
          "pattern": {
           "shape": ""
          }
         },
         "name": "sum_final_televote_points",
         "offsetgroup": "sum_final_televote_points",
         "orientation": "v",
         "showlegend": true,
         "textposition": "auto",
         "type": "bar",
         "x": [
          2009,
          2010,
          2011,
          2012,
          2013,
          2014,
          2015,
          2016,
          2017,
          2018,
          2019,
          2021,
          2022
         ],
         "xaxis": "x",
         "y": [
          2436,
          2220,
          2343,
          2300,
          0,
          1888,
          1980,
          2436,
          2436,
          2494,
          2378,
          2262,
          2320
         ],
         "yaxis": "y"
        },
        {
         "alignmentgroup": "True",
         "hovertemplate": "variable=sum_final_jury_points<br>year=%{x}<br>value=%{y}<extra></extra>",
         "legendgroup": "sum_final_jury_points",
         "marker": {
          "color": "#EF553B",
          "pattern": {
           "shape": ""
          }
         },
         "name": "sum_final_jury_points",
         "offsetgroup": "sum_final_jury_points",
         "orientation": "v",
         "showlegend": true,
         "textposition": "auto",
         "type": "bar",
         "x": [
          2009,
          2010,
          2011,
          2012,
          2013,
          2014,
          2015,
          2016,
          2017,
          2018,
          2019,
          2021,
          2022
         ],
         "xaxis": "x",
         "y": [
          2436,
          2179,
          2404,
          2296,
          0,
          1810,
          2138,
          2436,
          2436,
          2494,
          2378,
          2262,
          2320
         ],
         "yaxis": "y"
        }
       ],
       "layout": {
        "barmode": "relative",
        "legend": {
         "title": {
          "text": "variable"
         },
         "tracegroupgap": 0
        },
        "template": {
         "data": {
          "bar": [
           {
            "error_x": {
             "color": "#2a3f5f"
            },
            "error_y": {
             "color": "#2a3f5f"
            },
            "marker": {
             "line": {
              "color": "#E5ECF6",
              "width": 0.5
             },
             "pattern": {
              "fillmode": "overlay",
              "size": 10,
              "solidity": 0.2
             }
            },
            "type": "bar"
           }
          ],
          "barpolar": [
           {
            "marker": {
             "line": {
              "color": "#E5ECF6",
              "width": 0.5
             },
             "pattern": {
              "fillmode": "overlay",
              "size": 10,
              "solidity": 0.2
             }
            },
            "type": "barpolar"
           }
          ],
          "carpet": [
           {
            "aaxis": {
             "endlinecolor": "#2a3f5f",
             "gridcolor": "white",
             "linecolor": "white",
             "minorgridcolor": "white",
             "startlinecolor": "#2a3f5f"
            },
            "baxis": {
             "endlinecolor": "#2a3f5f",
             "gridcolor": "white",
             "linecolor": "white",
             "minorgridcolor": "white",
             "startlinecolor": "#2a3f5f"
            },
            "type": "carpet"
           }
          ],
          "choropleth": [
           {
            "colorbar": {
             "outlinewidth": 0,
             "ticks": ""
            },
            "type": "choropleth"
           }
          ],
          "contour": [
           {
            "colorbar": {
             "outlinewidth": 0,
             "ticks": ""
            },
            "colorscale": [
             [
              0,
              "#0d0887"
             ],
             [
              0.1111111111111111,
              "#46039f"
             ],
             [
              0.2222222222222222,
              "#7201a8"
             ],
             [
              0.3333333333333333,
              "#9c179e"
             ],
             [
              0.4444444444444444,
              "#bd3786"
             ],
             [
              0.5555555555555556,
              "#d8576b"
             ],
             [
              0.6666666666666666,
              "#ed7953"
             ],
             [
              0.7777777777777778,
              "#fb9f3a"
             ],
             [
              0.8888888888888888,
              "#fdca26"
             ],
             [
              1,
              "#f0f921"
             ]
            ],
            "type": "contour"
           }
          ],
          "contourcarpet": [
           {
            "colorbar": {
             "outlinewidth": 0,
             "ticks": ""
            },
            "type": "contourcarpet"
           }
          ],
          "heatmap": [
           {
            "colorbar": {
             "outlinewidth": 0,
             "ticks": ""
            },
            "colorscale": [
             [
              0,
              "#0d0887"
             ],
             [
              0.1111111111111111,
              "#46039f"
             ],
             [
              0.2222222222222222,
              "#7201a8"
             ],
             [
              0.3333333333333333,
              "#9c179e"
             ],
             [
              0.4444444444444444,
              "#bd3786"
             ],
             [
              0.5555555555555556,
              "#d8576b"
             ],
             [
              0.6666666666666666,
              "#ed7953"
             ],
             [
              0.7777777777777778,
              "#fb9f3a"
             ],
             [
              0.8888888888888888,
              "#fdca26"
             ],
             [
              1,
              "#f0f921"
             ]
            ],
            "type": "heatmap"
           }
          ],
          "heatmapgl": [
           {
            "colorbar": {
             "outlinewidth": 0,
             "ticks": ""
            },
            "colorscale": [
             [
              0,
              "#0d0887"
             ],
             [
              0.1111111111111111,
              "#46039f"
             ],
             [
              0.2222222222222222,
              "#7201a8"
             ],
             [
              0.3333333333333333,
              "#9c179e"
             ],
             [
              0.4444444444444444,
              "#bd3786"
             ],
             [
              0.5555555555555556,
              "#d8576b"
             ],
             [
              0.6666666666666666,
              "#ed7953"
             ],
             [
              0.7777777777777778,
              "#fb9f3a"
             ],
             [
              0.8888888888888888,
              "#fdca26"
             ],
             [
              1,
              "#f0f921"
             ]
            ],
            "type": "heatmapgl"
           }
          ],
          "histogram": [
           {
            "marker": {
             "pattern": {
              "fillmode": "overlay",
              "size": 10,
              "solidity": 0.2
             }
            },
            "type": "histogram"
           }
          ],
          "histogram2d": [
           {
            "colorbar": {
             "outlinewidth": 0,
             "ticks": ""
            },
            "colorscale": [
             [
              0,
              "#0d0887"
             ],
             [
              0.1111111111111111,
              "#46039f"
             ],
             [
              0.2222222222222222,
              "#7201a8"
             ],
             [
              0.3333333333333333,
              "#9c179e"
             ],
             [
              0.4444444444444444,
              "#bd3786"
             ],
             [
              0.5555555555555556,
              "#d8576b"
             ],
             [
              0.6666666666666666,
              "#ed7953"
             ],
             [
              0.7777777777777778,
              "#fb9f3a"
             ],
             [
              0.8888888888888888,
              "#fdca26"
             ],
             [
              1,
              "#f0f921"
             ]
            ],
            "type": "histogram2d"
           }
          ],
          "histogram2dcontour": [
           {
            "colorbar": {
             "outlinewidth": 0,
             "ticks": ""
            },
            "colorscale": [
             [
              0,
              "#0d0887"
             ],
             [
              0.1111111111111111,
              "#46039f"
             ],
             [
              0.2222222222222222,
              "#7201a8"
             ],
             [
              0.3333333333333333,
              "#9c179e"
             ],
             [
              0.4444444444444444,
              "#bd3786"
             ],
             [
              0.5555555555555556,
              "#d8576b"
             ],
             [
              0.6666666666666666,
              "#ed7953"
             ],
             [
              0.7777777777777778,
              "#fb9f3a"
             ],
             [
              0.8888888888888888,
              "#fdca26"
             ],
             [
              1,
              "#f0f921"
             ]
            ],
            "type": "histogram2dcontour"
           }
          ],
          "mesh3d": [
           {
            "colorbar": {
             "outlinewidth": 0,
             "ticks": ""
            },
            "type": "mesh3d"
           }
          ],
          "parcoords": [
           {
            "line": {
             "colorbar": {
              "outlinewidth": 0,
              "ticks": ""
             }
            },
            "type": "parcoords"
           }
          ],
          "pie": [
           {
            "automargin": true,
            "type": "pie"
           }
          ],
          "scatter": [
           {
            "fillpattern": {
             "fillmode": "overlay",
             "size": 10,
             "solidity": 0.2
            },
            "type": "scatter"
           }
          ],
          "scatter3d": [
           {
            "line": {
             "colorbar": {
              "outlinewidth": 0,
              "ticks": ""
             }
            },
            "marker": {
             "colorbar": {
              "outlinewidth": 0,
              "ticks": ""
             }
            },
            "type": "scatter3d"
           }
          ],
          "scattercarpet": [
           {
            "marker": {
             "colorbar": {
              "outlinewidth": 0,
              "ticks": ""
             }
            },
            "type": "scattercarpet"
           }
          ],
          "scattergeo": [
           {
            "marker": {
             "colorbar": {
              "outlinewidth": 0,
              "ticks": ""
             }
            },
            "type": "scattergeo"
           }
          ],
          "scattergl": [
           {
            "marker": {
             "colorbar": {
              "outlinewidth": 0,
              "ticks": ""
             }
            },
            "type": "scattergl"
           }
          ],
          "scattermapbox": [
           {
            "marker": {
             "colorbar": {
              "outlinewidth": 0,
              "ticks": ""
             }
            },
            "type": "scattermapbox"
           }
          ],
          "scatterpolar": [
           {
            "marker": {
             "colorbar": {
              "outlinewidth": 0,
              "ticks": ""
             }
            },
            "type": "scatterpolar"
           }
          ],
          "scatterpolargl": [
           {
            "marker": {
             "colorbar": {
              "outlinewidth": 0,
              "ticks": ""
             }
            },
            "type": "scatterpolargl"
           }
          ],
          "scatterternary": [
           {
            "marker": {
             "colorbar": {
              "outlinewidth": 0,
              "ticks": ""
             }
            },
            "type": "scatterternary"
           }
          ],
          "surface": [
           {
            "colorbar": {
             "outlinewidth": 0,
             "ticks": ""
            },
            "colorscale": [
             [
              0,
              "#0d0887"
             ],
             [
              0.1111111111111111,
              "#46039f"
             ],
             [
              0.2222222222222222,
              "#7201a8"
             ],
             [
              0.3333333333333333,
              "#9c179e"
             ],
             [
              0.4444444444444444,
              "#bd3786"
             ],
             [
              0.5555555555555556,
              "#d8576b"
             ],
             [
              0.6666666666666666,
              "#ed7953"
             ],
             [
              0.7777777777777778,
              "#fb9f3a"
             ],
             [
              0.8888888888888888,
              "#fdca26"
             ],
             [
              1,
              "#f0f921"
             ]
            ],
            "type": "surface"
           }
          ],
          "table": [
           {
            "cells": {
             "fill": {
              "color": "#EBF0F8"
             },
             "line": {
              "color": "white"
             }
            },
            "header": {
             "fill": {
              "color": "#C8D4E3"
             },
             "line": {
              "color": "white"
             }
            },
            "type": "table"
           }
          ]
         },
         "layout": {
          "annotationdefaults": {
           "arrowcolor": "#2a3f5f",
           "arrowhead": 0,
           "arrowwidth": 1
          },
          "autotypenumbers": "strict",
          "coloraxis": {
           "colorbar": {
            "outlinewidth": 0,
            "ticks": ""
           }
          },
          "colorscale": {
           "diverging": [
            [
             0,
             "#8e0152"
            ],
            [
             0.1,
             "#c51b7d"
            ],
            [
             0.2,
             "#de77ae"
            ],
            [
             0.3,
             "#f1b6da"
            ],
            [
             0.4,
             "#fde0ef"
            ],
            [
             0.5,
             "#f7f7f7"
            ],
            [
             0.6,
             "#e6f5d0"
            ],
            [
             0.7,
             "#b8e186"
            ],
            [
             0.8,
             "#7fbc41"
            ],
            [
             0.9,
             "#4d9221"
            ],
            [
             1,
             "#276419"
            ]
           ],
           "sequential": [
            [
             0,
             "#0d0887"
            ],
            [
             0.1111111111111111,
             "#46039f"
            ],
            [
             0.2222222222222222,
             "#7201a8"
            ],
            [
             0.3333333333333333,
             "#9c179e"
            ],
            [
             0.4444444444444444,
             "#bd3786"
            ],
            [
             0.5555555555555556,
             "#d8576b"
            ],
            [
             0.6666666666666666,
             "#ed7953"
            ],
            [
             0.7777777777777778,
             "#fb9f3a"
            ],
            [
             0.8888888888888888,
             "#fdca26"
            ],
            [
             1,
             "#f0f921"
            ]
           ],
           "sequentialminus": [
            [
             0,
             "#0d0887"
            ],
            [
             0.1111111111111111,
             "#46039f"
            ],
            [
             0.2222222222222222,
             "#7201a8"
            ],
            [
             0.3333333333333333,
             "#9c179e"
            ],
            [
             0.4444444444444444,
             "#bd3786"
            ],
            [
             0.5555555555555556,
             "#d8576b"
            ],
            [
             0.6666666666666666,
             "#ed7953"
            ],
            [
             0.7777777777777778,
             "#fb9f3a"
            ],
            [
             0.8888888888888888,
             "#fdca26"
            ],
            [
             1,
             "#f0f921"
            ]
           ]
          },
          "colorway": [
           "#636efa",
           "#EF553B",
           "#00cc96",
           "#ab63fa",
           "#FFA15A",
           "#19d3f3",
           "#FF6692",
           "#B6E880",
           "#FF97FF",
           "#FECB52"
          ],
          "font": {
           "color": "#2a3f5f"
          },
          "geo": {
           "bgcolor": "white",
           "lakecolor": "white",
           "landcolor": "#E5ECF6",
           "showlakes": true,
           "showland": true,
           "subunitcolor": "white"
          },
          "hoverlabel": {
           "align": "left"
          },
          "hovermode": "closest",
          "mapbox": {
           "style": "light"
          },
          "paper_bgcolor": "white",
          "plot_bgcolor": "#E5ECF6",
          "polar": {
           "angularaxis": {
            "gridcolor": "white",
            "linecolor": "white",
            "ticks": ""
           },
           "bgcolor": "#E5ECF6",
           "radialaxis": {
            "gridcolor": "white",
            "linecolor": "white",
            "ticks": ""
           }
          },
          "scene": {
           "xaxis": {
            "backgroundcolor": "#E5ECF6",
            "gridcolor": "white",
            "gridwidth": 2,
            "linecolor": "white",
            "showbackground": true,
            "ticks": "",
            "zerolinecolor": "white"
           },
           "yaxis": {
            "backgroundcolor": "#E5ECF6",
            "gridcolor": "white",
            "gridwidth": 2,
            "linecolor": "white",
            "showbackground": true,
            "ticks": "",
            "zerolinecolor": "white"
           },
           "zaxis": {
            "backgroundcolor": "#E5ECF6",
            "gridcolor": "white",
            "gridwidth": 2,
            "linecolor": "white",
            "showbackground": true,
            "ticks": "",
            "zerolinecolor": "white"
           }
          },
          "shapedefaults": {
           "line": {
            "color": "#2a3f5f"
           }
          },
          "ternary": {
           "aaxis": {
            "gridcolor": "white",
            "linecolor": "white",
            "ticks": ""
           },
           "baxis": {
            "gridcolor": "white",
            "linecolor": "white",
            "ticks": ""
           },
           "bgcolor": "#E5ECF6",
           "caxis": {
            "gridcolor": "white",
            "linecolor": "white",
            "ticks": ""
           }
          },
          "title": {
           "x": 0.05
          },
          "xaxis": {
           "automargin": true,
           "gridcolor": "white",
           "linecolor": "white",
           "ticks": "",
           "title": {
            "standoff": 15
           },
           "zerolinecolor": "white",
           "zerolinewidth": 2
          },
          "yaxis": {
           "automargin": true,
           "gridcolor": "white",
           "linecolor": "white",
           "ticks": "",
           "title": {
            "standoff": 15
           },
           "zerolinecolor": "white",
           "zerolinewidth": 2
          }
         }
        },
        "title": {
         "text": "Puntos por año"
        },
        "xaxis": {
         "anchor": "y",
         "domain": [
          0,
          1
         ],
         "title": {
          "text": "year"
         }
        },
        "yaxis": {
         "anchor": "x",
         "domain": [
          0,
          1
         ],
         "title": {
          "text": "value"
         }
        }
       }
      }
     },
     "metadata": {},
     "output_type": "display_data"
    }
   ],
   "source": [
    "fig = px.bar(song_data_agrupado_1, x=\"year\", y=[\"sum_final_televote_points\", \"sum_final_jury_points\"], title=\"Puntos por año\")\n",
    "fig.show()"
   ]
  },
  {
   "cell_type": "code",
   "execution_count": 188,
   "metadata": {},
   "outputs": [
    {
     "name": "stdout",
     "output_type": "stream",
     "text": [
      "concurso.datos_resultados_finales.datos_encuestas.eurojury_results_2016 ok\n",
      "concurso.datos_resultados_finales.datos_encuestas.eurojury_results_2017 ok\n",
      "concurso.datos_resultados_finales.datos_encuestas.eurojury_results_2018 ok\n",
      "concurso.datos_resultados_finales.datos_encuestas.eurojury_results_2019 ok\n",
      "concurso.datos_resultados_finales.datos_encuestas.eurojury_results_2021 ok\n",
      "concurso.datos_resultados_finales.datos_encuestas.eurojury_results_2022 ok\n",
      "concurso.datos_resultados_finales.datos_encuestas.eurovisionworld_results_2016 ok\n",
      "concurso.datos_resultados_finales.datos_encuestas.eurovisionworld_results_2017 ok\n",
      "concurso.datos_resultados_finales.datos_encuestas.eurovisionworld_results_2018 ok\n",
      "concurso.datos_resultados_finales.datos_encuestas.eurovisionworld_results_2019 ok\n",
      "concurso.datos_resultados_finales.datos_encuestas.eurovisionworld_results_2021 ok\n",
      "concurso.datos_resultados_finales.datos_encuestas.eurovisionworld_results_2022 ok\n",
      "concurso.datos_resultados_finales.datos_encuestas.myeurovisionscoreboard_results_2016 ok\n",
      "concurso.datos_resultados_finales.datos_encuestas.myeurovisionscoreboard_results_2017 ok\n",
      "concurso.datos_resultados_finales.datos_encuestas.myeurovisionscoreboard_results_2018 ok\n",
      "concurso.datos_resultados_finales.datos_encuestas.myeurovisionscoreboard_results_2019 ok\n",
      "concurso.datos_resultados_finales.datos_encuestas.myeurovisionscoreboard_results_2021 ok\n",
      "concurso.datos_resultados_finales.datos_encuestas.myeurovisionscoreboard_results_2022 ok\n",
      "concurso.datos_resultados_finales.datos_encuestas.ogae.ogae_results_2016 ok\n",
      "concurso.datos_resultados_finales.datos_encuestas.ogae.ogae_results_2017 ok\n",
      "concurso.datos_resultados_finales.datos_encuestas.ogae.ogae_results_2018 ok\n",
      "concurso.datos_resultados_finales.datos_encuestas.ogae.ogae_results_2019 ok\n",
      "concurso.datos_resultados_finales.datos_encuestas.ogae.ogae_results_2021 ok\n",
      "concurso.datos_resultados_finales.datos_encuestas.ogae.ogae_results_2022 ok\n",
      "concurso.datos_resultados_finales.datos_encuestas.wiwibloggs.wiwibloggs_results_2018 ok\n",
      "concurso.datos_resultados_finales.datos_encuestas.wiwibloggs.wiwibloggs_results_2019 ok\n",
      "concurso.datos_resultados_finales.datos_encuestas.wiwibloggs.wiwibloggs_results_2021 ok\n",
      "concurso.datos_resultados_finales.datos_encuestas.wiwibloggs.wiwibloggs_results_2022 ok\n"
     ]
    }
   ],
   "source": [
    "\n",
    "#variables encuestas\n",
    "#euro july\n",
    "checkearVariablePanda(concurso.datos_encuestas.euro_july.eurojury_results_2016,'concurso.datos_resultados_finales.datos_encuestas.eurojury_results_2016')\n",
    "checkearVariablePanda(concurso.datos_encuestas.euro_july.eurojury_results_2017,'concurso.datos_resultados_finales.datos_encuestas.eurojury_results_2017')\n",
    "checkearVariablePanda(concurso.datos_encuestas.euro_july.eurojury_results_2018,'concurso.datos_resultados_finales.datos_encuestas.eurojury_results_2018')\n",
    "checkearVariablePanda(concurso.datos_encuestas.euro_july.eurojury_results_2019,'concurso.datos_resultados_finales.datos_encuestas.eurojury_results_2019')\n",
    "checkearVariablePanda(concurso.datos_encuestas.euro_july.eurojury_results_2021,'concurso.datos_resultados_finales.datos_encuestas.eurojury_results_2021')\n",
    "checkearVariablePanda(concurso.datos_encuestas.euro_july.eurojury_results_2022,'concurso.datos_resultados_finales.datos_encuestas.eurojury_results_2022')\n",
    "\n",
    "#eurovisionworld\n",
    "checkearVariablePanda(concurso.datos_encuestas.eurovision_world.eurovisionworld_results_2016,'concurso.datos_resultados_finales.datos_encuestas.eurovisionworld_results_2016')\n",
    "checkearVariablePanda(concurso.datos_encuestas.eurovision_world.eurovisionworld_results_2017,'concurso.datos_resultados_finales.datos_encuestas.eurovisionworld_results_2017')\n",
    "checkearVariablePanda(concurso.datos_encuestas.eurovision_world.eurovisionworld_results_2018,'concurso.datos_resultados_finales.datos_encuestas.eurovisionworld_results_2018')\n",
    "checkearVariablePanda(concurso.datos_encuestas.eurovision_world.eurovisionworld_results_2019,'concurso.datos_resultados_finales.datos_encuestas.eurovisionworld_results_2019')\n",
    "checkearVariablePanda(concurso.datos_encuestas.eurovision_world.eurovisionworld_results_2021,'concurso.datos_resultados_finales.datos_encuestas.eurovisionworld_results_2021')\n",
    "checkearVariablePanda(concurso.datos_encuestas.eurovision_world.eurovisionworld_results_2022,'concurso.datos_resultados_finales.datos_encuestas.eurovisionworld_results_2022')\n",
    "\n",
    "#my eurovision score\n",
    "checkearVariablePanda(concurso.datos_encuestas.my_eurovision_score.myeurovisionscoreboard_results_2016,'concurso.datos_resultados_finales.datos_encuestas.myeurovisionscoreboard_results_2016')\n",
    "checkearVariablePanda(concurso.datos_encuestas.my_eurovision_score.myeurovisionscoreboard_results_2017,'concurso.datos_resultados_finales.datos_encuestas.myeurovisionscoreboard_results_2017')\n",
    "checkearVariablePanda(concurso.datos_encuestas.my_eurovision_score.myeurovisionscoreboard_results_2018,'concurso.datos_resultados_finales.datos_encuestas.myeurovisionscoreboard_results_2018')\n",
    "checkearVariablePanda(concurso.datos_encuestas.my_eurovision_score.myeurovisionscoreboard_results_2019,'concurso.datos_resultados_finales.datos_encuestas.myeurovisionscoreboard_results_2019')\n",
    "checkearVariablePanda(concurso.datos_encuestas.my_eurovision_score.myeurovisionscoreboard_results_2021,'concurso.datos_resultados_finales.datos_encuestas.myeurovisionscoreboard_results_2021')\n",
    "checkearVariablePanda(concurso.datos_encuestas.my_eurovision_score.myeurovisionscoreboard_results_2022,'concurso.datos_resultados_finales.datos_encuestas.myeurovisionscoreboard_results_2022')\n",
    "\n",
    "#ogae\n",
    "checkearVariablePanda(concurso.datos_encuestas.ogae.ogae_results_2016,'concurso.datos_resultados_finales.datos_encuestas.ogae.ogae_results_2016')\n",
    "checkearVariablePanda(concurso.datos_encuestas.ogae.ogae_results_2017,'concurso.datos_resultados_finales.datos_encuestas.ogae.ogae_results_2017')\n",
    "checkearVariablePanda(concurso.datos_encuestas.ogae.ogae_results_2018,'concurso.datos_resultados_finales.datos_encuestas.ogae.ogae_results_2018')\n",
    "checkearVariablePanda(concurso.datos_encuestas.ogae.ogae_results_2019,'concurso.datos_resultados_finales.datos_encuestas.ogae.ogae_results_2019')\n",
    "checkearVariablePanda(concurso.datos_encuestas.ogae.ogae_results_2021,'concurso.datos_resultados_finales.datos_encuestas.ogae.ogae_results_2021')\n",
    "checkearVariablePanda(concurso.datos_encuestas.ogae.ogae_results_2022,'concurso.datos_resultados_finales.datos_encuestas.ogae.ogae_results_2022')\n",
    "\n",
    "#wiwibloggs\n",
    "checkearVariablePanda(concurso.datos_encuestas.wiwibloggs.wiwibloggs_results_2018,'concurso.datos_resultados_finales.datos_encuestas.wiwibloggs.wiwibloggs_results_2018')\n",
    "checkearVariablePanda(concurso.datos_encuestas.wiwibloggs.wiwibloggs_results_2019,'concurso.datos_resultados_finales.datos_encuestas.wiwibloggs.wiwibloggs_results_2019')\n",
    "checkearVariablePanda(concurso.datos_encuestas.wiwibloggs.wiwibloggs_results_2021,'concurso.datos_resultados_finales.datos_encuestas.wiwibloggs.wiwibloggs_results_2021')\n",
    "checkearVariablePanda(concurso.datos_encuestas.wiwibloggs.wiwibloggs_results_2022,'concurso.datos_resultados_finales.datos_encuestas.wiwibloggs.wiwibloggs_results_2022')"
   ]
  },
  {
   "cell_type": "code",
   "execution_count": 189,
   "metadata": {},
   "outputs": [],
   "source": [
    "### Series de tiempo\n",
    "\n",
    "concurso_2016 = concurso.datos_encuestas.euro_july.eurojury_results_2016\n",
    "concurso_2017 = concurso.datos_encuestas.euro_july.eurojury_results_2017\n",
    "concurso_2018 = concurso.datos_encuestas.euro_july.eurojury_results_2018\n",
    "concurso_2019 = concurso.datos_encuestas.euro_july.eurojury_results_2019\n",
    "concurso_2021 = concurso.datos_encuestas.euro_july.eurojury_results_2021\n",
    "concurso_2022 = concurso.datos_encuestas.euro_july.eurojury_results_2022\n",
    "\n",
    "años = [2016, 2017, 2018, 2019, 2021, 2022]\n",
    "euro_july = pd.DataFrame()\n",
    "for an in años:\n",
    "    data1 =  locals()['concurso_'+str(an)]\n",
    "    data1['año'] = an\n",
    "    euro_july = pd.concat([data1, euro_july])"
   ]
  },
  {
   "cell_type": "code",
   "execution_count": 190,
   "metadata": {},
   "outputs": [],
   "source": [
    "\n",
    "concurso_2016 = concurso.datos_encuestas.eurovision_world.eurovisionworld_results_2016\n",
    "concurso_2017 = concurso.datos_encuestas.eurovision_world.eurovisionworld_results_2017\n",
    "concurso_2018 = concurso.datos_encuestas.eurovision_world.eurovisionworld_results_2018\n",
    "concurso_2019 = concurso.datos_encuestas.eurovision_world.eurovisionworld_results_2019\n",
    "concurso_2021 = concurso.datos_encuestas.eurovision_world.eurovisionworld_results_2021\n",
    "concurso_2022 = concurso.datos_encuestas.eurovision_world.eurovisionworld_results_2022\n",
    "\n",
    "años = [2016, 2017, 2018, 2019, 2021, 2022]\n",
    "eurovisionworld = pd.DataFrame()\n",
    "for an in años:\n",
    "    data1 =  locals()['concurso_'+str(an)]\n",
    "    data1['año'] = an\n",
    "    eurovisionworld = pd.concat([data1, eurovisionworld])"
   ]
  },
  {
   "cell_type": "code",
   "execution_count": 191,
   "metadata": {},
   "outputs": [],
   "source": [
    "concurso_2016 = concurso.datos_encuestas.my_eurovision_score.myeurovisionscoreboard_results_2016\n",
    "concurso_2017 = concurso.datos_encuestas.my_eurovision_score.myeurovisionscoreboard_results_2017\n",
    "concurso_2018 = concurso.datos_encuestas.my_eurovision_score.myeurovisionscoreboard_results_2018\n",
    "concurso_2019 = concurso.datos_encuestas.my_eurovision_score.myeurovisionscoreboard_results_2019\n",
    "concurso_2021 = concurso.datos_encuestas.my_eurovision_score.myeurovisionscoreboard_results_2021\n",
    "concurso_2022 = concurso.datos_encuestas.my_eurovision_score.myeurovisionscoreboard_results_2022\n",
    "\n",
    "años = [2016, 2017, 2018, 2019, 2021, 2022]\n",
    "myeurovisionscoreboard = pd.DataFrame()\n",
    "for an in años:\n",
    "    data1 =  locals()['concurso_'+str(an)]\n",
    "    data1['año'] = an\n",
    "    myeurovisionscoreboard = pd.concat([data1, myeurovisionscoreboard])"
   ]
  },
  {
   "cell_type": "code",
   "execution_count": 192,
   "metadata": {},
   "outputs": [],
   "source": [
    "concurso_2016 = concurso.datos_encuestas.ogae.ogae_results_2016\n",
    "concurso_2017 = concurso.datos_encuestas.ogae.ogae_results_2017\n",
    "concurso_2018 = concurso.datos_encuestas.ogae.ogae_results_2018\n",
    "concurso_2019 = concurso.datos_encuestas.ogae.ogae_results_2019\n",
    "concurso_2021 = concurso.datos_encuestas.ogae.ogae_results_2021\n",
    "concurso_2022 = concurso.datos_encuestas.ogae.ogae_results_2022\n",
    "años = [2016, 2017, 2018, 2019, 2021, 2022]\n",
    "ogae = pd.DataFrame()\n",
    "for an in años:\n",
    "    data1 =  locals()['concurso_'+str(an)]\n",
    "    data1['año'] = an\n",
    "    ogae = pd.concat([data1, ogae])"
   ]
  },
  {
   "cell_type": "code",
   "execution_count": 193,
   "metadata": {},
   "outputs": [],
   "source": [
    "concurso_2018 = concurso.datos_encuestas.wiwibloggs.wiwibloggs_results_2018\n",
    "concurso_2019 = concurso.datos_encuestas.wiwibloggs.wiwibloggs_results_2019\n",
    "concurso_2021 = concurso.datos_encuestas.wiwibloggs.wiwibloggs_results_2021\n",
    "concurso_2022 = concurso.datos_encuestas.wiwibloggs.wiwibloggs_results_2022\n",
    "años = [2018, 2019, 2021, 2022]\n",
    "wiwibloggs = pd.DataFrame()\n",
    "for an in años:\n",
    "    data1 =  locals()['concurso_'+str(an)]\n",
    "    data1['año'] = an\n",
    "    wiwibloggs = pd.concat([data1, wiwibloggs])"
   ]
  },
  {
   "cell_type": "code",
   "execution_count": 194,
   "metadata": {},
   "outputs": [],
   "source": [
    "country = concurso.country_data"
   ]
  },
  {
   "cell_type": "code",
   "execution_count": 195,
   "metadata": {},
   "outputs": [],
   "source": [
    "data = pd.merge(eurovisionworld.rename(columns= {'Contestant':'country'}),country, how = 'left', on = ['country'])"
   ]
  },
  {
   "cell_type": "markdown",
   "metadata": {},
   "source": [
    "###"
   ]
  },
  {
   "attachments": {},
   "cell_type": "markdown",
   "metadata": {},
   "source": [
    "## Series de tiempo"
   ]
  },
  {
   "cell_type": "code",
   "execution_count": 196,
   "metadata": {},
   "outputs": [
    {
     "name": "stderr",
     "output_type": "stream",
     "text": [
      "C:\\Users\\paofr\\AppData\\Local\\Temp\\ipykernel_23508\\4140174491.py:3: FutureWarning:\n",
      "\n",
      "The default value of numeric_only in DataFrameGroupBy.sum is deprecated. In a future version, numeric_only will default to False. Either specify numeric_only or select only columns which should be valid for the function.\n",
      "\n"
     ]
    },
    {
     "data": {
      "application/vnd.plotly.v1+json": {
       "config": {
        "plotlyServerURL": "https://plot.ly"
       },
       "data": [
        {
         "name": "Ukraine",
         "type": "scatter",
         "x": [
          2016,
          2017,
          2018,
          2019,
          2021,
          2022
         ],
         "y": [
          13057,
          1675,
          3438,
          null,
          15448,
          24631
         ]
        },
        {
         "name": "Sweden",
         "type": "scatter",
         "x": [
          2016,
          2017,
          2018,
          2019,
          2021,
          2022
         ],
         "y": [
          3073,
          4793,
          2744,
          15440,
          9865,
          23073
         ]
        },
        {
         "name": "France",
         "type": "scatter",
         "x": [
          2016,
          2017,
          2018,
          2019,
          2021,
          2022
         ],
         "y": [
          7137,
          2651,
          5306,
          10171,
          32651,
          6140
         ]
        },
        {
         "name": "Netherlands",
         "type": "scatter",
         "x": [
          2016,
          2017,
          2018,
          2019,
          2021,
          2022
         ],
         "y": [
          5043,
          7237,
          4145,
          51174,
          5557,
          12345
         ]
        },
        {
         "name": "Italy",
         "type": "scatter",
         "x": [
          2016,
          2017,
          2018,
          2019,
          2021,
          2022
         ],
         "y": [
          1165,
          13651,
          2679,
          14005,
          36383,
          21213
         ]
        }
       ],
       "layout": {
        "template": {
         "data": {
          "bar": [
           {
            "error_x": {
             "color": "#2a3f5f"
            },
            "error_y": {
             "color": "#2a3f5f"
            },
            "marker": {
             "line": {
              "color": "white",
              "width": 0.5
             },
             "pattern": {
              "fillmode": "overlay",
              "size": 10,
              "solidity": 0.2
             }
            },
            "type": "bar"
           }
          ],
          "barpolar": [
           {
            "marker": {
             "line": {
              "color": "white",
              "width": 0.5
             },
             "pattern": {
              "fillmode": "overlay",
              "size": 10,
              "solidity": 0.2
             }
            },
            "type": "barpolar"
           }
          ],
          "carpet": [
           {
            "aaxis": {
             "endlinecolor": "#2a3f5f",
             "gridcolor": "#C8D4E3",
             "linecolor": "#C8D4E3",
             "minorgridcolor": "#C8D4E3",
             "startlinecolor": "#2a3f5f"
            },
            "baxis": {
             "endlinecolor": "#2a3f5f",
             "gridcolor": "#C8D4E3",
             "linecolor": "#C8D4E3",
             "minorgridcolor": "#C8D4E3",
             "startlinecolor": "#2a3f5f"
            },
            "type": "carpet"
           }
          ],
          "choropleth": [
           {
            "colorbar": {
             "outlinewidth": 0,
             "ticks": ""
            },
            "type": "choropleth"
           }
          ],
          "contour": [
           {
            "colorbar": {
             "outlinewidth": 0,
             "ticks": ""
            },
            "colorscale": [
             [
              0,
              "#0d0887"
             ],
             [
              0.1111111111111111,
              "#46039f"
             ],
             [
              0.2222222222222222,
              "#7201a8"
             ],
             [
              0.3333333333333333,
              "#9c179e"
             ],
             [
              0.4444444444444444,
              "#bd3786"
             ],
             [
              0.5555555555555556,
              "#d8576b"
             ],
             [
              0.6666666666666666,
              "#ed7953"
             ],
             [
              0.7777777777777778,
              "#fb9f3a"
             ],
             [
              0.8888888888888888,
              "#fdca26"
             ],
             [
              1,
              "#f0f921"
             ]
            ],
            "type": "contour"
           }
          ],
          "contourcarpet": [
           {
            "colorbar": {
             "outlinewidth": 0,
             "ticks": ""
            },
            "type": "contourcarpet"
           }
          ],
          "heatmap": [
           {
            "colorbar": {
             "outlinewidth": 0,
             "ticks": ""
            },
            "colorscale": [
             [
              0,
              "#0d0887"
             ],
             [
              0.1111111111111111,
              "#46039f"
             ],
             [
              0.2222222222222222,
              "#7201a8"
             ],
             [
              0.3333333333333333,
              "#9c179e"
             ],
             [
              0.4444444444444444,
              "#bd3786"
             ],
             [
              0.5555555555555556,
              "#d8576b"
             ],
             [
              0.6666666666666666,
              "#ed7953"
             ],
             [
              0.7777777777777778,
              "#fb9f3a"
             ],
             [
              0.8888888888888888,
              "#fdca26"
             ],
             [
              1,
              "#f0f921"
             ]
            ],
            "type": "heatmap"
           }
          ],
          "heatmapgl": [
           {
            "colorbar": {
             "outlinewidth": 0,
             "ticks": ""
            },
            "colorscale": [
             [
              0,
              "#0d0887"
             ],
             [
              0.1111111111111111,
              "#46039f"
             ],
             [
              0.2222222222222222,
              "#7201a8"
             ],
             [
              0.3333333333333333,
              "#9c179e"
             ],
             [
              0.4444444444444444,
              "#bd3786"
             ],
             [
              0.5555555555555556,
              "#d8576b"
             ],
             [
              0.6666666666666666,
              "#ed7953"
             ],
             [
              0.7777777777777778,
              "#fb9f3a"
             ],
             [
              0.8888888888888888,
              "#fdca26"
             ],
             [
              1,
              "#f0f921"
             ]
            ],
            "type": "heatmapgl"
           }
          ],
          "histogram": [
           {
            "marker": {
             "pattern": {
              "fillmode": "overlay",
              "size": 10,
              "solidity": 0.2
             }
            },
            "type": "histogram"
           }
          ],
          "histogram2d": [
           {
            "colorbar": {
             "outlinewidth": 0,
             "ticks": ""
            },
            "colorscale": [
             [
              0,
              "#0d0887"
             ],
             [
              0.1111111111111111,
              "#46039f"
             ],
             [
              0.2222222222222222,
              "#7201a8"
             ],
             [
              0.3333333333333333,
              "#9c179e"
             ],
             [
              0.4444444444444444,
              "#bd3786"
             ],
             [
              0.5555555555555556,
              "#d8576b"
             ],
             [
              0.6666666666666666,
              "#ed7953"
             ],
             [
              0.7777777777777778,
              "#fb9f3a"
             ],
             [
              0.8888888888888888,
              "#fdca26"
             ],
             [
              1,
              "#f0f921"
             ]
            ],
            "type": "histogram2d"
           }
          ],
          "histogram2dcontour": [
           {
            "colorbar": {
             "outlinewidth": 0,
             "ticks": ""
            },
            "colorscale": [
             [
              0,
              "#0d0887"
             ],
             [
              0.1111111111111111,
              "#46039f"
             ],
             [
              0.2222222222222222,
              "#7201a8"
             ],
             [
              0.3333333333333333,
              "#9c179e"
             ],
             [
              0.4444444444444444,
              "#bd3786"
             ],
             [
              0.5555555555555556,
              "#d8576b"
             ],
             [
              0.6666666666666666,
              "#ed7953"
             ],
             [
              0.7777777777777778,
              "#fb9f3a"
             ],
             [
              0.8888888888888888,
              "#fdca26"
             ],
             [
              1,
              "#f0f921"
             ]
            ],
            "type": "histogram2dcontour"
           }
          ],
          "mesh3d": [
           {
            "colorbar": {
             "outlinewidth": 0,
             "ticks": ""
            },
            "type": "mesh3d"
           }
          ],
          "parcoords": [
           {
            "line": {
             "colorbar": {
              "outlinewidth": 0,
              "ticks": ""
             }
            },
            "type": "parcoords"
           }
          ],
          "pie": [
           {
            "automargin": true,
            "type": "pie"
           }
          ],
          "scatter": [
           {
            "fillpattern": {
             "fillmode": "overlay",
             "size": 10,
             "solidity": 0.2
            },
            "type": "scatter"
           }
          ],
          "scatter3d": [
           {
            "line": {
             "colorbar": {
              "outlinewidth": 0,
              "ticks": ""
             }
            },
            "marker": {
             "colorbar": {
              "outlinewidth": 0,
              "ticks": ""
             }
            },
            "type": "scatter3d"
           }
          ],
          "scattercarpet": [
           {
            "marker": {
             "colorbar": {
              "outlinewidth": 0,
              "ticks": ""
             }
            },
            "type": "scattercarpet"
           }
          ],
          "scattergeo": [
           {
            "marker": {
             "colorbar": {
              "outlinewidth": 0,
              "ticks": ""
             }
            },
            "type": "scattergeo"
           }
          ],
          "scattergl": [
           {
            "marker": {
             "colorbar": {
              "outlinewidth": 0,
              "ticks": ""
             }
            },
            "type": "scattergl"
           }
          ],
          "scattermapbox": [
           {
            "marker": {
             "colorbar": {
              "outlinewidth": 0,
              "ticks": ""
             }
            },
            "type": "scattermapbox"
           }
          ],
          "scatterpolar": [
           {
            "marker": {
             "colorbar": {
              "outlinewidth": 0,
              "ticks": ""
             }
            },
            "type": "scatterpolar"
           }
          ],
          "scatterpolargl": [
           {
            "marker": {
             "colorbar": {
              "outlinewidth": 0,
              "ticks": ""
             }
            },
            "type": "scatterpolargl"
           }
          ],
          "scatterternary": [
           {
            "marker": {
             "colorbar": {
              "outlinewidth": 0,
              "ticks": ""
             }
            },
            "type": "scatterternary"
           }
          ],
          "surface": [
           {
            "colorbar": {
             "outlinewidth": 0,
             "ticks": ""
            },
            "colorscale": [
             [
              0,
              "#0d0887"
             ],
             [
              0.1111111111111111,
              "#46039f"
             ],
             [
              0.2222222222222222,
              "#7201a8"
             ],
             [
              0.3333333333333333,
              "#9c179e"
             ],
             [
              0.4444444444444444,
              "#bd3786"
             ],
             [
              0.5555555555555556,
              "#d8576b"
             ],
             [
              0.6666666666666666,
              "#ed7953"
             ],
             [
              0.7777777777777778,
              "#fb9f3a"
             ],
             [
              0.8888888888888888,
              "#fdca26"
             ],
             [
              1,
              "#f0f921"
             ]
            ],
            "type": "surface"
           }
          ],
          "table": [
           {
            "cells": {
             "fill": {
              "color": "#EBF0F8"
             },
             "line": {
              "color": "white"
             }
            },
            "header": {
             "fill": {
              "color": "#C8D4E3"
             },
             "line": {
              "color": "white"
             }
            },
            "type": "table"
           }
          ]
         },
         "layout": {
          "annotationdefaults": {
           "arrowcolor": "#2a3f5f",
           "arrowhead": 0,
           "arrowwidth": 1
          },
          "autotypenumbers": "strict",
          "coloraxis": {
           "colorbar": {
            "outlinewidth": 0,
            "ticks": ""
           }
          },
          "colorscale": {
           "diverging": [
            [
             0,
             "#8e0152"
            ],
            [
             0.1,
             "#c51b7d"
            ],
            [
             0.2,
             "#de77ae"
            ],
            [
             0.3,
             "#f1b6da"
            ],
            [
             0.4,
             "#fde0ef"
            ],
            [
             0.5,
             "#f7f7f7"
            ],
            [
             0.6,
             "#e6f5d0"
            ],
            [
             0.7,
             "#b8e186"
            ],
            [
             0.8,
             "#7fbc41"
            ],
            [
             0.9,
             "#4d9221"
            ],
            [
             1,
             "#276419"
            ]
           ],
           "sequential": [
            [
             0,
             "#0d0887"
            ],
            [
             0.1111111111111111,
             "#46039f"
            ],
            [
             0.2222222222222222,
             "#7201a8"
            ],
            [
             0.3333333333333333,
             "#9c179e"
            ],
            [
             0.4444444444444444,
             "#bd3786"
            ],
            [
             0.5555555555555556,
             "#d8576b"
            ],
            [
             0.6666666666666666,
             "#ed7953"
            ],
            [
             0.7777777777777778,
             "#fb9f3a"
            ],
            [
             0.8888888888888888,
             "#fdca26"
            ],
            [
             1,
             "#f0f921"
            ]
           ],
           "sequentialminus": [
            [
             0,
             "#0d0887"
            ],
            [
             0.1111111111111111,
             "#46039f"
            ],
            [
             0.2222222222222222,
             "#7201a8"
            ],
            [
             0.3333333333333333,
             "#9c179e"
            ],
            [
             0.4444444444444444,
             "#bd3786"
            ],
            [
             0.5555555555555556,
             "#d8576b"
            ],
            [
             0.6666666666666666,
             "#ed7953"
            ],
            [
             0.7777777777777778,
             "#fb9f3a"
            ],
            [
             0.8888888888888888,
             "#fdca26"
            ],
            [
             1,
             "#f0f921"
            ]
           ]
          },
          "colorway": [
           "#636efa",
           "#EF553B",
           "#00cc96",
           "#ab63fa",
           "#FFA15A",
           "#19d3f3",
           "#FF6692",
           "#B6E880",
           "#FF97FF",
           "#FECB52"
          ],
          "font": {
           "color": "#2a3f5f"
          },
          "geo": {
           "bgcolor": "white",
           "lakecolor": "white",
           "landcolor": "white",
           "showlakes": true,
           "showland": true,
           "subunitcolor": "#C8D4E3"
          },
          "hoverlabel": {
           "align": "left"
          },
          "hovermode": "closest",
          "mapbox": {
           "style": "light"
          },
          "paper_bgcolor": "white",
          "plot_bgcolor": "white",
          "polar": {
           "angularaxis": {
            "gridcolor": "#EBF0F8",
            "linecolor": "#EBF0F8",
            "ticks": ""
           },
           "bgcolor": "white",
           "radialaxis": {
            "gridcolor": "#EBF0F8",
            "linecolor": "#EBF0F8",
            "ticks": ""
           }
          },
          "scene": {
           "xaxis": {
            "backgroundcolor": "white",
            "gridcolor": "#DFE8F3",
            "gridwidth": 2,
            "linecolor": "#EBF0F8",
            "showbackground": true,
            "ticks": "",
            "zerolinecolor": "#EBF0F8"
           },
           "yaxis": {
            "backgroundcolor": "white",
            "gridcolor": "#DFE8F3",
            "gridwidth": 2,
            "linecolor": "#EBF0F8",
            "showbackground": true,
            "ticks": "",
            "zerolinecolor": "#EBF0F8"
           },
           "zaxis": {
            "backgroundcolor": "white",
            "gridcolor": "#DFE8F3",
            "gridwidth": 2,
            "linecolor": "#EBF0F8",
            "showbackground": true,
            "ticks": "",
            "zerolinecolor": "#EBF0F8"
           }
          },
          "shapedefaults": {
           "line": {
            "color": "#2a3f5f"
           }
          },
          "ternary": {
           "aaxis": {
            "gridcolor": "#DFE8F3",
            "linecolor": "#A2B1C6",
            "ticks": ""
           },
           "baxis": {
            "gridcolor": "#DFE8F3",
            "linecolor": "#A2B1C6",
            "ticks": ""
           },
           "bgcolor": "white",
           "caxis": {
            "gridcolor": "#DFE8F3",
            "linecolor": "#A2B1C6",
            "ticks": ""
           }
          },
          "title": {
           "x": 0.05
          },
          "xaxis": {
           "automargin": true,
           "gridcolor": "#EBF0F8",
           "linecolor": "#EBF0F8",
           "ticks": "",
           "title": {
            "standoff": 15
           },
           "zerolinecolor": "#EBF0F8",
           "zerolinewidth": 2
          },
          "yaxis": {
           "automargin": true,
           "gridcolor": "#EBF0F8",
           "linecolor": "#EBF0F8",
           "ticks": "",
           "title": {
            "standoff": 15
           },
           "zerolinecolor": "#EBF0F8",
           "zerolinewidth": 2
          }
         }
        },
        "title": {
         "text": "Series de tiempo evolutiva del TOP 5 de Paises con mayor cantidad de votos"
        },
        "xaxis": {
         "title": {
          "text": "Año"
         }
        },
        "yaxis": {
         "title": {
          "text": "Cantidad de Votos"
         }
        }
       }
      }
     },
     "metadata": {},
     "output_type": "display_data"
    }
   ],
   "source": [
    "import plotly.graph_objs as go\n",
    "\n",
    "paises_top_5 = data.groupby(['country']).sum().sort_values(by='Votes')[-5:].index\n",
    "df = pd.pivot_table(data.drop(['region'], axis=1), index='año', columns='country', values='Votes')\n",
    "df_top5 = df[list(paises_top_5)]\n",
    "\n",
    "fig = go.Figure()\n",
    "for col in df_top5.columns:\n",
    "    fig.add_trace(go.Scatter(x=df_top5.index, y=df_top5[col], name=col))\n",
    "\n",
    "fig.update_layout(\n",
    "    title='Series de tiempo evolutiva del TOP 5 de Paises con mayor cantidad de votos',\n",
    "    xaxis_title='Año',\n",
    "    yaxis_title='Cantidad de Votos',\n",
    "    template='plotly_white'\n",
    ")\n",
    "\n",
    "fig.show()\n"
   ]
  },
  {
   "cell_type": "code",
   "execution_count": 197,
   "metadata": {},
   "outputs": [
    {
     "name": "stdout",
     "output_type": "stream",
     "text": [
      "Requirement already satisfied: wordcloud in c:\\users\\paofr\\anaconda3\\envs\\environment\\lib\\site-packages (1.8.2.2)\n",
      "Requirement already satisfied: numpy>=1.6.1 in c:\\users\\paofr\\anaconda3\\envs\\environment\\lib\\site-packages (from wordcloud) (1.22.3)\n",
      "Requirement already satisfied: matplotlib in c:\\users\\paofr\\anaconda3\\envs\\environment\\lib\\site-packages (from wordcloud) (3.7.1)\n",
      "Requirement already satisfied: pillow in c:\\users\\paofr\\anaconda3\\envs\\environment\\lib\\site-packages (from wordcloud) (9.5.0)\n",
      "Requirement already satisfied: python-dateutil>=2.7 in c:\\users\\paofr\\anaconda3\\envs\\environment\\lib\\site-packages (from matplotlib->wordcloud) (2.8.2)\n",
      "Requirement already satisfied: pyparsing>=2.3.1 in c:\\users\\paofr\\anaconda3\\envs\\environment\\lib\\site-packages (from matplotlib->wordcloud) (3.0.9)\n",
      "Requirement already satisfied: packaging>=20.0 in c:\\users\\paofr\\anaconda3\\envs\\environment\\lib\\site-packages (from matplotlib->wordcloud) (23.0)\n",
      "Requirement already satisfied: contourpy>=1.0.1 in c:\\users\\paofr\\anaconda3\\envs\\environment\\lib\\site-packages (from matplotlib->wordcloud) (1.0.7)\n",
      "Requirement already satisfied: cycler>=0.10 in c:\\users\\paofr\\anaconda3\\envs\\environment\\lib\\site-packages (from matplotlib->wordcloud) (0.11.0)\n",
      "Requirement already satisfied: kiwisolver>=1.0.1 in c:\\users\\paofr\\anaconda3\\envs\\environment\\lib\\site-packages (from matplotlib->wordcloud) (1.4.4)\n",
      "Requirement already satisfied: fonttools>=4.22.0 in c:\\users\\paofr\\anaconda3\\envs\\environment\\lib\\site-packages (from matplotlib->wordcloud) (4.39.3)\n",
      "Requirement already satisfied: six>=1.5 in c:\\users\\paofr\\anaconda3\\envs\\environment\\lib\\site-packages (from python-dateutil>=2.7->matplotlib->wordcloud) (1.16.0)\n"
     ]
    }
   ],
   "source": [
    "! pip install wordcloud"
   ]
  },
  {
   "cell_type": "code",
   "execution_count": 198,
   "metadata": {},
   "outputs": [],
   "source": [
    "## Nubes de palabras"
   ]
  },
  {
   "cell_type": "code",
   "execution_count": 199,
   "metadata": {},
   "outputs": [
    {
     "name": "stdout",
     "output_type": "stream",
     "text": [
      "Wordcloud and Plotly are installed and imported!\n"
     ]
    },
    {
     "data": {
      "application/vnd.plotly.v1+json": {
       "config": {
        "plotlyServerURL": "https://plot.ly"
       },
       "data": [
        {
         "hovertemplate": "x: %{x}<br>y: %{y}<br>color: [%{z[0]}, %{z[1]}, %{z[2]}]<extra></extra>",
         "name": "0",
         "source": "data:image/png;base64,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",
         "type": "image",
         "xaxis": "x",
         "yaxis": "y"
        }
       ],
       "layout": {
        "margin": {
         "t": 60
        },
        "template": {
         "data": {
          "bar": [
           {
            "error_x": {
             "color": "#2a3f5f"
            },
            "error_y": {
             "color": "#2a3f5f"
            },
            "marker": {
             "line": {
              "color": "white",
              "width": 0.5
             },
             "pattern": {
              "fillmode": "overlay",
              "size": 10,
              "solidity": 0.2
             }
            },
            "type": "bar"
           }
          ],
          "barpolar": [
           {
            "marker": {
             "line": {
              "color": "white",
              "width": 0.5
             },
             "pattern": {
              "fillmode": "overlay",
              "size": 10,
              "solidity": 0.2
             }
            },
            "type": "barpolar"
           }
          ],
          "carpet": [
           {
            "aaxis": {
             "endlinecolor": "#2a3f5f",
             "gridcolor": "#C8D4E3",
             "linecolor": "#C8D4E3",
             "minorgridcolor": "#C8D4E3",
             "startlinecolor": "#2a3f5f"
            },
            "baxis": {
             "endlinecolor": "#2a3f5f",
             "gridcolor": "#C8D4E3",
             "linecolor": "#C8D4E3",
             "minorgridcolor": "#C8D4E3",
             "startlinecolor": "#2a3f5f"
            },
            "type": "carpet"
           }
          ],
          "choropleth": [
           {
            "colorbar": {
             "outlinewidth": 0,
             "ticks": ""
            },
            "type": "choropleth"
           }
          ],
          "contour": [
           {
            "colorbar": {
             "outlinewidth": 0,
             "ticks": ""
            },
            "colorscale": [
             [
              0,
              "#0d0887"
             ],
             [
              0.1111111111111111,
              "#46039f"
             ],
             [
              0.2222222222222222,
              "#7201a8"
             ],
             [
              0.3333333333333333,
              "#9c179e"
             ],
             [
              0.4444444444444444,
              "#bd3786"
             ],
             [
              0.5555555555555556,
              "#d8576b"
             ],
             [
              0.6666666666666666,
              "#ed7953"
             ],
             [
              0.7777777777777778,
              "#fb9f3a"
             ],
             [
              0.8888888888888888,
              "#fdca26"
             ],
             [
              1,
              "#f0f921"
             ]
            ],
            "type": "contour"
           }
          ],
          "contourcarpet": [
           {
            "colorbar": {
             "outlinewidth": 0,
             "ticks": ""
            },
            "type": "contourcarpet"
           }
          ],
          "heatmap": [
           {
            "colorbar": {
             "outlinewidth": 0,
             "ticks": ""
            },
            "colorscale": [
             [
              0,
              "#0d0887"
             ],
             [
              0.1111111111111111,
              "#46039f"
             ],
             [
              0.2222222222222222,
              "#7201a8"
             ],
             [
              0.3333333333333333,
              "#9c179e"
             ],
             [
              0.4444444444444444,
              "#bd3786"
             ],
             [
              0.5555555555555556,
              "#d8576b"
             ],
             [
              0.6666666666666666,
              "#ed7953"
             ],
             [
              0.7777777777777778,
              "#fb9f3a"
             ],
             [
              0.8888888888888888,
              "#fdca26"
             ],
             [
              1,
              "#f0f921"
             ]
            ],
            "type": "heatmap"
           }
          ],
          "heatmapgl": [
           {
            "colorbar": {
             "outlinewidth": 0,
             "ticks": ""
            },
            "colorscale": [
             [
              0,
              "#0d0887"
             ],
             [
              0.1111111111111111,
              "#46039f"
             ],
             [
              0.2222222222222222,
              "#7201a8"
             ],
             [
              0.3333333333333333,
              "#9c179e"
             ],
             [
              0.4444444444444444,
              "#bd3786"
             ],
             [
              0.5555555555555556,
              "#d8576b"
             ],
             [
              0.6666666666666666,
              "#ed7953"
             ],
             [
              0.7777777777777778,
              "#fb9f3a"
             ],
             [
              0.8888888888888888,
              "#fdca26"
             ],
             [
              1,
              "#f0f921"
             ]
            ],
            "type": "heatmapgl"
           }
          ],
          "histogram": [
           {
            "marker": {
             "pattern": {
              "fillmode": "overlay",
              "size": 10,
              "solidity": 0.2
             }
            },
            "type": "histogram"
           }
          ],
          "histogram2d": [
           {
            "colorbar": {
             "outlinewidth": 0,
             "ticks": ""
            },
            "colorscale": [
             [
              0,
              "#0d0887"
             ],
             [
              0.1111111111111111,
              "#46039f"
             ],
             [
              0.2222222222222222,
              "#7201a8"
             ],
             [
              0.3333333333333333,
              "#9c179e"
             ],
             [
              0.4444444444444444,
              "#bd3786"
             ],
             [
              0.5555555555555556,
              "#d8576b"
             ],
             [
              0.6666666666666666,
              "#ed7953"
             ],
             [
              0.7777777777777778,
              "#fb9f3a"
             ],
             [
              0.8888888888888888,
              "#fdca26"
             ],
             [
              1,
              "#f0f921"
             ]
            ],
            "type": "histogram2d"
           }
          ],
          "histogram2dcontour": [
           {
            "colorbar": {
             "outlinewidth": 0,
             "ticks": ""
            },
            "colorscale": [
             [
              0,
              "#0d0887"
             ],
             [
              0.1111111111111111,
              "#46039f"
             ],
             [
              0.2222222222222222,
              "#7201a8"
             ],
             [
              0.3333333333333333,
              "#9c179e"
             ],
             [
              0.4444444444444444,
              "#bd3786"
             ],
             [
              0.5555555555555556,
              "#d8576b"
             ],
             [
              0.6666666666666666,
              "#ed7953"
             ],
             [
              0.7777777777777778,
              "#fb9f3a"
             ],
             [
              0.8888888888888888,
              "#fdca26"
             ],
             [
              1,
              "#f0f921"
             ]
            ],
            "type": "histogram2dcontour"
           }
          ],
          "mesh3d": [
           {
            "colorbar": {
             "outlinewidth": 0,
             "ticks": ""
            },
            "type": "mesh3d"
           }
          ],
          "parcoords": [
           {
            "line": {
             "colorbar": {
              "outlinewidth": 0,
              "ticks": ""
             }
            },
            "type": "parcoords"
           }
          ],
          "pie": [
           {
            "automargin": true,
            "type": "pie"
           }
          ],
          "scatter": [
           {
            "fillpattern": {
             "fillmode": "overlay",
             "size": 10,
             "solidity": 0.2
            },
            "type": "scatter"
           }
          ],
          "scatter3d": [
           {
            "line": {
             "colorbar": {
              "outlinewidth": 0,
              "ticks": ""
             }
            },
            "marker": {
             "colorbar": {
              "outlinewidth": 0,
              "ticks": ""
             }
            },
            "type": "scatter3d"
           }
          ],
          "scattercarpet": [
           {
            "marker": {
             "colorbar": {
              "outlinewidth": 0,
              "ticks": ""
             }
            },
            "type": "scattercarpet"
           }
          ],
          "scattergeo": [
           {
            "marker": {
             "colorbar": {
              "outlinewidth": 0,
              "ticks": ""
             }
            },
            "type": "scattergeo"
           }
          ],
          "scattergl": [
           {
            "marker": {
             "colorbar": {
              "outlinewidth": 0,
              "ticks": ""
             }
            },
            "type": "scattergl"
           }
          ],
          "scattermapbox": [
           {
            "marker": {
             "colorbar": {
              "outlinewidth": 0,
              "ticks": ""
             }
            },
            "type": "scattermapbox"
           }
          ],
          "scatterpolar": [
           {
            "marker": {
             "colorbar": {
              "outlinewidth": 0,
              "ticks": ""
             }
            },
            "type": "scatterpolar"
           }
          ],
          "scatterpolargl": [
           {
            "marker": {
             "colorbar": {
              "outlinewidth": 0,
              "ticks": ""
             }
            },
            "type": "scatterpolargl"
           }
          ],
          "scatterternary": [
           {
            "marker": {
             "colorbar": {
              "outlinewidth": 0,
              "ticks": ""
             }
            },
            "type": "scatterternary"
           }
          ],
          "surface": [
           {
            "colorbar": {
             "outlinewidth": 0,
             "ticks": ""
            },
            "colorscale": [
             [
              0,
              "#0d0887"
             ],
             [
              0.1111111111111111,
              "#46039f"
             ],
             [
              0.2222222222222222,
              "#7201a8"
             ],
             [
              0.3333333333333333,
              "#9c179e"
             ],
             [
              0.4444444444444444,
              "#bd3786"
             ],
             [
              0.5555555555555556,
              "#d8576b"
             ],
             [
              0.6666666666666666,
              "#ed7953"
             ],
             [
              0.7777777777777778,
              "#fb9f3a"
             ],
             [
              0.8888888888888888,
              "#fdca26"
             ],
             [
              1,
              "#f0f921"
             ]
            ],
            "type": "surface"
           }
          ],
          "table": [
           {
            "cells": {
             "fill": {
              "color": "#EBF0F8"
             },
             "line": {
              "color": "white"
             }
            },
            "header": {
             "fill": {
              "color": "#C8D4E3"
             },
             "line": {
              "color": "white"
             }
            },
            "type": "table"
           }
          ]
         },
         "layout": {
          "annotationdefaults": {
           "arrowcolor": "#2a3f5f",
           "arrowhead": 0,
           "arrowwidth": 1
          },
          "autotypenumbers": "strict",
          "coloraxis": {
           "colorbar": {
            "outlinewidth": 0,
            "ticks": ""
           }
          },
          "colorscale": {
           "diverging": [
            [
             0,
             "#8e0152"
            ],
            [
             0.1,
             "#c51b7d"
            ],
            [
             0.2,
             "#de77ae"
            ],
            [
             0.3,
             "#f1b6da"
            ],
            [
             0.4,
             "#fde0ef"
            ],
            [
             0.5,
             "#f7f7f7"
            ],
            [
             0.6,
             "#e6f5d0"
            ],
            [
             0.7,
             "#b8e186"
            ],
            [
             0.8,
             "#7fbc41"
            ],
            [
             0.9,
             "#4d9221"
            ],
            [
             1,
             "#276419"
            ]
           ],
           "sequential": [
            [
             0,
             "#0d0887"
            ],
            [
             0.1111111111111111,
             "#46039f"
            ],
            [
             0.2222222222222222,
             "#7201a8"
            ],
            [
             0.3333333333333333,
             "#9c179e"
            ],
            [
             0.4444444444444444,
             "#bd3786"
            ],
            [
             0.5555555555555556,
             "#d8576b"
            ],
            [
             0.6666666666666666,
             "#ed7953"
            ],
            [
             0.7777777777777778,
             "#fb9f3a"
            ],
            [
             0.8888888888888888,
             "#fdca26"
            ],
            [
             1,
             "#f0f921"
            ]
           ],
           "sequentialminus": [
            [
             0,
             "#0d0887"
            ],
            [
             0.1111111111111111,
             "#46039f"
            ],
            [
             0.2222222222222222,
             "#7201a8"
            ],
            [
             0.3333333333333333,
             "#9c179e"
            ],
            [
             0.4444444444444444,
             "#bd3786"
            ],
            [
             0.5555555555555556,
             "#d8576b"
            ],
            [
             0.6666666666666666,
             "#ed7953"
            ],
            [
             0.7777777777777778,
             "#fb9f3a"
            ],
            [
             0.8888888888888888,
             "#fdca26"
            ],
            [
             1,
             "#f0f921"
            ]
           ]
          },
          "colorway": [
           "#636efa",
           "#EF553B",
           "#00cc96",
           "#ab63fa",
           "#FFA15A",
           "#19d3f3",
           "#FF6692",
           "#B6E880",
           "#FF97FF",
           "#FECB52"
          ],
          "font": {
           "color": "#2a3f5f"
          },
          "geo": {
           "bgcolor": "white",
           "lakecolor": "white",
           "landcolor": "white",
           "showlakes": true,
           "showland": true,
           "subunitcolor": "#C8D4E3"
          },
          "hoverlabel": {
           "align": "left"
          },
          "hovermode": "closest",
          "mapbox": {
           "style": "light"
          },
          "paper_bgcolor": "white",
          "plot_bgcolor": "white",
          "polar": {
           "angularaxis": {
            "gridcolor": "#EBF0F8",
            "linecolor": "#EBF0F8",
            "ticks": ""
           },
           "bgcolor": "white",
           "radialaxis": {
            "gridcolor": "#EBF0F8",
            "linecolor": "#EBF0F8",
            "ticks": ""
           }
          },
          "scene": {
           "xaxis": {
            "backgroundcolor": "white",
            "gridcolor": "#DFE8F3",
            "gridwidth": 2,
            "linecolor": "#EBF0F8",
            "showbackground": true,
            "ticks": "",
            "zerolinecolor": "#EBF0F8"
           },
           "yaxis": {
            "backgroundcolor": "white",
            "gridcolor": "#DFE8F3",
            "gridwidth": 2,
            "linecolor": "#EBF0F8",
            "showbackground": true,
            "ticks": "",
            "zerolinecolor": "#EBF0F8"
           },
           "zaxis": {
            "backgroundcolor": "white",
            "gridcolor": "#DFE8F3",
            "gridwidth": 2,
            "linecolor": "#EBF0F8",
            "showbackground": true,
            "ticks": "",
            "zerolinecolor": "#EBF0F8"
           }
          },
          "shapedefaults": {
           "line": {
            "color": "#2a3f5f"
           }
          },
          "ternary": {
           "aaxis": {
            "gridcolor": "#DFE8F3",
            "linecolor": "#A2B1C6",
            "ticks": ""
           },
           "baxis": {
            "gridcolor": "#DFE8F3",
            "linecolor": "#A2B1C6",
            "ticks": ""
           },
           "bgcolor": "white",
           "caxis": {
            "gridcolor": "#DFE8F3",
            "linecolor": "#A2B1C6",
            "ticks": ""
           }
          },
          "title": {
           "x": 0.05
          },
          "xaxis": {
           "automargin": true,
           "gridcolor": "#EBF0F8",
           "linecolor": "#EBF0F8",
           "ticks": "",
           "title": {
            "standoff": 15
           },
           "zerolinecolor": "#EBF0F8",
           "zerolinewidth": 2
          },
          "yaxis": {
           "automargin": true,
           "gridcolor": "#EBF0F8",
           "linecolor": "#EBF0F8",
           "ticks": "",
           "title": {
            "standoff": 15
           },
           "zerolinecolor": "#EBF0F8",
           "zerolinewidth": 2
          }
         }
        },
        "title": {
         "text": "Word cloud de los Países"
        },
        "xaxis": {
         "anchor": "y",
         "domain": [
          0,
          1
         ],
         "showgrid": false,
         "showticklabels": false,
         "zeroline": false
        },
        "yaxis": {
         "anchor": "x",
         "domain": [
          0,
          1
         ],
         "showgrid": false,
         "showticklabels": false,
         "zeroline": false
        }
       }
      }
     },
     "metadata": {},
     "output_type": "display_data"
    }
   ],
   "source": [
    "from wordcloud import WordCloud, STOPWORDS\n",
    "import plotly.express as px\n",
    "from wordcloud import WordCloud, STOPWORDS\n",
    "\n",
    "print('Wordcloud and Plotly are installed and imported!')\n",
    "\n",
    "# Set stopwords\n",
    "stopwords = set(STOPWORDS)\n",
    "\n",
    "# Concatenate all country names into a single string\n",
    "country_text = ' '.join(song_data['country'].astype(str).tolist())\n",
    "\n",
    "# Generate the word cloud\n",
    "nube = WordCloud(\n",
    "    background_color='white',\n",
    "    max_words=2000,\n",
    "    stopwords=stopwords\n",
    ").generate(country_text)\n",
    "\n",
    "# Convert the word cloud to a Plotly figure\n",
    "fig = px.imshow(nube, color_continuous_scale='Blues')\n",
    "\n",
    "# Update the layout of the figure\n",
    "fig.update_layout(\n",
    "    title='Word cloud de los Países',\n",
    "    xaxis=dict(showticklabels=False, showgrid=False, zeroline=False),\n",
    "    yaxis=dict(showticklabels=False, showgrid=False, zeroline=False),\n",
    "    template='plotly_white'\n",
    ")\n",
    "\n",
    "# Show the plot\n",
    "fig.show()\n"
   ]
  },
  {
   "cell_type": "code",
   "execution_count": 200,
   "metadata": {},
   "outputs": [
    {
     "name": "stdout",
     "output_type": "stream",
     "text": [
      "Wordcloud and Plotly are installed and imported!\n"
     ]
    },
    {
     "data": {
      "application/vnd.plotly.v1+json": {
       "config": {
        "plotlyServerURL": "https://plot.ly"
       },
       "data": [
        {
         "hovertemplate": "x: %{x}<br>y: %{y}<br>color: [%{z[0]}, %{z[1]}, %{z[2]}]<extra></extra>",
         "name": "0",
         "source": "data:image/png;base64,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",
         "type": "image",
         "xaxis": "x",
         "yaxis": "y"
        }
       ],
       "layout": {
        "margin": {
         "t": 60
        },
        "template": {
         "data": {
          "bar": [
           {
            "error_x": {
             "color": "#2a3f5f"
            },
            "error_y": {
             "color": "#2a3f5f"
            },
            "marker": {
             "line": {
              "color": "white",
              "width": 0.5
             },
             "pattern": {
              "fillmode": "overlay",
              "size": 10,
              "solidity": 0.2
             }
            },
            "type": "bar"
           }
          ],
          "barpolar": [
           {
            "marker": {
             "line": {
              "color": "white",
              "width": 0.5
             },
             "pattern": {
              "fillmode": "overlay",
              "size": 10,
              "solidity": 0.2
             }
            },
            "type": "barpolar"
           }
          ],
          "carpet": [
           {
            "aaxis": {
             "endlinecolor": "#2a3f5f",
             "gridcolor": "#C8D4E3",
             "linecolor": "#C8D4E3",
             "minorgridcolor": "#C8D4E3",
             "startlinecolor": "#2a3f5f"
            },
            "baxis": {
             "endlinecolor": "#2a3f5f",
             "gridcolor": "#C8D4E3",
             "linecolor": "#C8D4E3",
             "minorgridcolor": "#C8D4E3",
             "startlinecolor": "#2a3f5f"
            },
            "type": "carpet"
           }
          ],
          "choropleth": [
           {
            "colorbar": {
             "outlinewidth": 0,
             "ticks": ""
            },
            "type": "choropleth"
           }
          ],
          "contour": [
           {
            "colorbar": {
             "outlinewidth": 0,
             "ticks": ""
            },
            "colorscale": [
             [
              0,
              "#0d0887"
             ],
             [
              0.1111111111111111,
              "#46039f"
             ],
             [
              0.2222222222222222,
              "#7201a8"
             ],
             [
              0.3333333333333333,
              "#9c179e"
             ],
             [
              0.4444444444444444,
              "#bd3786"
             ],
             [
              0.5555555555555556,
              "#d8576b"
             ],
             [
              0.6666666666666666,
              "#ed7953"
             ],
             [
              0.7777777777777778,
              "#fb9f3a"
             ],
             [
              0.8888888888888888,
              "#fdca26"
             ],
             [
              1,
              "#f0f921"
             ]
            ],
            "type": "contour"
           }
          ],
          "contourcarpet": [
           {
            "colorbar": {
             "outlinewidth": 0,
             "ticks": ""
            },
            "type": "contourcarpet"
           }
          ],
          "heatmap": [
           {
            "colorbar": {
             "outlinewidth": 0,
             "ticks": ""
            },
            "colorscale": [
             [
              0,
              "#0d0887"
             ],
             [
              0.1111111111111111,
              "#46039f"
             ],
             [
              0.2222222222222222,
              "#7201a8"
             ],
             [
              0.3333333333333333,
              "#9c179e"
             ],
             [
              0.4444444444444444,
              "#bd3786"
             ],
             [
              0.5555555555555556,
              "#d8576b"
             ],
             [
              0.6666666666666666,
              "#ed7953"
             ],
             [
              0.7777777777777778,
              "#fb9f3a"
             ],
             [
              0.8888888888888888,
              "#fdca26"
             ],
             [
              1,
              "#f0f921"
             ]
            ],
            "type": "heatmap"
           }
          ],
          "heatmapgl": [
           {
            "colorbar": {
             "outlinewidth": 0,
             "ticks": ""
            },
            "colorscale": [
             [
              0,
              "#0d0887"
             ],
             [
              0.1111111111111111,
              "#46039f"
             ],
             [
              0.2222222222222222,
              "#7201a8"
             ],
             [
              0.3333333333333333,
              "#9c179e"
             ],
             [
              0.4444444444444444,
              "#bd3786"
             ],
             [
              0.5555555555555556,
              "#d8576b"
             ],
             [
              0.6666666666666666,
              "#ed7953"
             ],
             [
              0.7777777777777778,
              "#fb9f3a"
             ],
             [
              0.8888888888888888,
              "#fdca26"
             ],
             [
              1,
              "#f0f921"
             ]
            ],
            "type": "heatmapgl"
           }
          ],
          "histogram": [
           {
            "marker": {
             "pattern": {
              "fillmode": "overlay",
              "size": 10,
              "solidity": 0.2
             }
            },
            "type": "histogram"
           }
          ],
          "histogram2d": [
           {
            "colorbar": {
             "outlinewidth": 0,
             "ticks": ""
            },
            "colorscale": [
             [
              0,
              "#0d0887"
             ],
             [
              0.1111111111111111,
              "#46039f"
             ],
             [
              0.2222222222222222,
              "#7201a8"
             ],
             [
              0.3333333333333333,
              "#9c179e"
             ],
             [
              0.4444444444444444,
              "#bd3786"
             ],
             [
              0.5555555555555556,
              "#d8576b"
             ],
             [
              0.6666666666666666,
              "#ed7953"
             ],
             [
              0.7777777777777778,
              "#fb9f3a"
             ],
             [
              0.8888888888888888,
              "#fdca26"
             ],
             [
              1,
              "#f0f921"
             ]
            ],
            "type": "histogram2d"
           }
          ],
          "histogram2dcontour": [
           {
            "colorbar": {
             "outlinewidth": 0,
             "ticks": ""
            },
            "colorscale": [
             [
              0,
              "#0d0887"
             ],
             [
              0.1111111111111111,
              "#46039f"
             ],
             [
              0.2222222222222222,
              "#7201a8"
             ],
             [
              0.3333333333333333,
              "#9c179e"
             ],
             [
              0.4444444444444444,
              "#bd3786"
             ],
             [
              0.5555555555555556,
              "#d8576b"
             ],
             [
              0.6666666666666666,
              "#ed7953"
             ],
             [
              0.7777777777777778,
              "#fb9f3a"
             ],
             [
              0.8888888888888888,
              "#fdca26"
             ],
             [
              1,
              "#f0f921"
             ]
            ],
            "type": "histogram2dcontour"
           }
          ],
          "mesh3d": [
           {
            "colorbar": {
             "outlinewidth": 0,
             "ticks": ""
            },
            "type": "mesh3d"
           }
          ],
          "parcoords": [
           {
            "line": {
             "colorbar": {
              "outlinewidth": 0,
              "ticks": ""
             }
            },
            "type": "parcoords"
           }
          ],
          "pie": [
           {
            "automargin": true,
            "type": "pie"
           }
          ],
          "scatter": [
           {
            "fillpattern": {
             "fillmode": "overlay",
             "size": 10,
             "solidity": 0.2
            },
            "type": "scatter"
           }
          ],
          "scatter3d": [
           {
            "line": {
             "colorbar": {
              "outlinewidth": 0,
              "ticks": ""
             }
            },
            "marker": {
             "colorbar": {
              "outlinewidth": 0,
              "ticks": ""
             }
            },
            "type": "scatter3d"
           }
          ],
          "scattercarpet": [
           {
            "marker": {
             "colorbar": {
              "outlinewidth": 0,
              "ticks": ""
             }
            },
            "type": "scattercarpet"
           }
          ],
          "scattergeo": [
           {
            "marker": {
             "colorbar": {
              "outlinewidth": 0,
              "ticks": ""
             }
            },
            "type": "scattergeo"
           }
          ],
          "scattergl": [
           {
            "marker": {
             "colorbar": {
              "outlinewidth": 0,
              "ticks": ""
             }
            },
            "type": "scattergl"
           }
          ],
          "scattermapbox": [
           {
            "marker": {
             "colorbar": {
              "outlinewidth": 0,
              "ticks": ""
             }
            },
            "type": "scattermapbox"
           }
          ],
          "scatterpolar": [
           {
            "marker": {
             "colorbar": {
              "outlinewidth": 0,
              "ticks": ""
             }
            },
            "type": "scatterpolar"
           }
          ],
          "scatterpolargl": [
           {
            "marker": {
             "colorbar": {
              "outlinewidth": 0,
              "ticks": ""
             }
            },
            "type": "scatterpolargl"
           }
          ],
          "scatterternary": [
           {
            "marker": {
             "colorbar": {
              "outlinewidth": 0,
              "ticks": ""
             }
            },
            "type": "scatterternary"
           }
          ],
          "surface": [
           {
            "colorbar": {
             "outlinewidth": 0,
             "ticks": ""
            },
            "colorscale": [
             [
              0,
              "#0d0887"
             ],
             [
              0.1111111111111111,
              "#46039f"
             ],
             [
              0.2222222222222222,
              "#7201a8"
             ],
             [
              0.3333333333333333,
              "#9c179e"
             ],
             [
              0.4444444444444444,
              "#bd3786"
             ],
             [
              0.5555555555555556,
              "#d8576b"
             ],
             [
              0.6666666666666666,
              "#ed7953"
             ],
             [
              0.7777777777777778,
              "#fb9f3a"
             ],
             [
              0.8888888888888888,
              "#fdca26"
             ],
             [
              1,
              "#f0f921"
             ]
            ],
            "type": "surface"
           }
          ],
          "table": [
           {
            "cells": {
             "fill": {
              "color": "#EBF0F8"
             },
             "line": {
              "color": "white"
             }
            },
            "header": {
             "fill": {
              "color": "#C8D4E3"
             },
             "line": {
              "color": "white"
             }
            },
            "type": "table"
           }
          ]
         },
         "layout": {
          "annotationdefaults": {
           "arrowcolor": "#2a3f5f",
           "arrowhead": 0,
           "arrowwidth": 1
          },
          "autotypenumbers": "strict",
          "coloraxis": {
           "colorbar": {
            "outlinewidth": 0,
            "ticks": ""
           }
          },
          "colorscale": {
           "diverging": [
            [
             0,
             "#8e0152"
            ],
            [
             0.1,
             "#c51b7d"
            ],
            [
             0.2,
             "#de77ae"
            ],
            [
             0.3,
             "#f1b6da"
            ],
            [
             0.4,
             "#fde0ef"
            ],
            [
             0.5,
             "#f7f7f7"
            ],
            [
             0.6,
             "#e6f5d0"
            ],
            [
             0.7,
             "#b8e186"
            ],
            [
             0.8,
             "#7fbc41"
            ],
            [
             0.9,
             "#4d9221"
            ],
            [
             1,
             "#276419"
            ]
           ],
           "sequential": [
            [
             0,
             "#0d0887"
            ],
            [
             0.1111111111111111,
             "#46039f"
            ],
            [
             0.2222222222222222,
             "#7201a8"
            ],
            [
             0.3333333333333333,
             "#9c179e"
            ],
            [
             0.4444444444444444,
             "#bd3786"
            ],
            [
             0.5555555555555556,
             "#d8576b"
            ],
            [
             0.6666666666666666,
             "#ed7953"
            ],
            [
             0.7777777777777778,
             "#fb9f3a"
            ],
            [
             0.8888888888888888,
             "#fdca26"
            ],
            [
             1,
             "#f0f921"
            ]
           ],
           "sequentialminus": [
            [
             0,
             "#0d0887"
            ],
            [
             0.1111111111111111,
             "#46039f"
            ],
            [
             0.2222222222222222,
             "#7201a8"
            ],
            [
             0.3333333333333333,
             "#9c179e"
            ],
            [
             0.4444444444444444,
             "#bd3786"
            ],
            [
             0.5555555555555556,
             "#d8576b"
            ],
            [
             0.6666666666666666,
             "#ed7953"
            ],
            [
             0.7777777777777778,
             "#fb9f3a"
            ],
            [
             0.8888888888888888,
             "#fdca26"
            ],
            [
             1,
             "#f0f921"
            ]
           ]
          },
          "colorway": [
           "#636efa",
           "#EF553B",
           "#00cc96",
           "#ab63fa",
           "#FFA15A",
           "#19d3f3",
           "#FF6692",
           "#B6E880",
           "#FF97FF",
           "#FECB52"
          ],
          "font": {
           "color": "#2a3f5f"
          },
          "geo": {
           "bgcolor": "white",
           "lakecolor": "white",
           "landcolor": "white",
           "showlakes": true,
           "showland": true,
           "subunitcolor": "#C8D4E3"
          },
          "hoverlabel": {
           "align": "left"
          },
          "hovermode": "closest",
          "mapbox": {
           "style": "light"
          },
          "paper_bgcolor": "white",
          "plot_bgcolor": "white",
          "polar": {
           "angularaxis": {
            "gridcolor": "#EBF0F8",
            "linecolor": "#EBF0F8",
            "ticks": ""
           },
           "bgcolor": "white",
           "radialaxis": {
            "gridcolor": "#EBF0F8",
            "linecolor": "#EBF0F8",
            "ticks": ""
           }
          },
          "scene": {
           "xaxis": {
            "backgroundcolor": "white",
            "gridcolor": "#DFE8F3",
            "gridwidth": 2,
            "linecolor": "#EBF0F8",
            "showbackground": true,
            "ticks": "",
            "zerolinecolor": "#EBF0F8"
           },
           "yaxis": {
            "backgroundcolor": "white",
            "gridcolor": "#DFE8F3",
            "gridwidth": 2,
            "linecolor": "#EBF0F8",
            "showbackground": true,
            "ticks": "",
            "zerolinecolor": "#EBF0F8"
           },
           "zaxis": {
            "backgroundcolor": "white",
            "gridcolor": "#DFE8F3",
            "gridwidth": 2,
            "linecolor": "#EBF0F8",
            "showbackground": true,
            "ticks": "",
            "zerolinecolor": "#EBF0F8"
           }
          },
          "shapedefaults": {
           "line": {
            "color": "#2a3f5f"
           }
          },
          "ternary": {
           "aaxis": {
            "gridcolor": "#DFE8F3",
            "linecolor": "#A2B1C6",
            "ticks": ""
           },
           "baxis": {
            "gridcolor": "#DFE8F3",
            "linecolor": "#A2B1C6",
            "ticks": ""
           },
           "bgcolor": "white",
           "caxis": {
            "gridcolor": "#DFE8F3",
            "linecolor": "#A2B1C6",
            "ticks": ""
           }
          },
          "title": {
           "x": 0.05
          },
          "xaxis": {
           "automargin": true,
           "gridcolor": "#EBF0F8",
           "linecolor": "#EBF0F8",
           "ticks": "",
           "title": {
            "standoff": 15
           },
           "zerolinecolor": "#EBF0F8",
           "zerolinewidth": 2
          },
          "yaxis": {
           "automargin": true,
           "gridcolor": "#EBF0F8",
           "linecolor": "#EBF0F8",
           "ticks": "",
           "title": {
            "standoff": 15
           },
           "zerolinecolor": "#EBF0F8",
           "zerolinewidth": 2
          }
         }
        },
        "title": {
         "text": "Word cloud de los Estilos"
        },
        "xaxis": {
         "anchor": "y",
         "domain": [
          0,
          1
         ],
         "showgrid": false,
         "showticklabels": false,
         "zeroline": false
        },
        "yaxis": {
         "anchor": "x",
         "domain": [
          0,
          1
         ],
         "showgrid": false,
         "showticklabels": false,
         "zeroline": false
        }
       }
      }
     },
     "metadata": {},
     "output_type": "display_data"
    }
   ],
   "source": [
    "import plotly.express as px\n",
    "from wordcloud import WordCloud, STOPWORDS\n",
    "\n",
    "print('Wordcloud and Plotly are installed and imported!')\n",
    "\n",
    "# Set stopwords\n",
    "stopwords = set(STOPWORDS)\n",
    "\n",
    "# Concatenate all style names into a single string\n",
    "style_text = ' '.join(song_data['style'].astype(str).tolist())\n",
    "\n",
    "# Generate the word cloud\n",
    "nube = WordCloud(\n",
    "    background_color='white',\n",
    "    max_words=2000,\n",
    "    stopwords=stopwords\n",
    ").generate(style_text)\n",
    "\n",
    "# Convert the word cloud to a Plotly figure\n",
    "fig = px.imshow(nube, color_continuous_scale='Blues')\n",
    "\n",
    "# Update the layout of the figure\n",
    "fig.update_layout(\n",
    "    title='Word cloud de los Estilos',\n",
    "    xaxis=dict(showticklabels=False, showgrid=False, zeroline=False),\n",
    "    yaxis=dict(showticklabels=False, showgrid=False, zeroline=False),\n",
    "    template='plotly_white'\n",
    ")\n",
    "\n",
    "# Show the plot\n",
    "fig.show()\n"
   ]
  },
  {
   "cell_type": "markdown",
   "metadata": {},
   "source": [
    "## Gráfico de distribución"
   ]
  },
  {
   "cell_type": "code",
   "execution_count": 201,
   "metadata": {},
   "outputs": [
    {
     "data": {
      "application/vnd.plotly.v1+json": {
       "config": {
        "plotlyServerURL": "https://plot.ly"
       },
       "data": [
        {
         "name": "Ukraine",
         "type": "scatter",
         "x": [
          2016,
          2017,
          2018,
          2019,
          2021,
          2022
         ],
         "y": [
          13057,
          1675,
          3438,
          null,
          15448,
          24631
         ]
        },
        {
         "name": "Sweden",
         "type": "scatter",
         "x": [
          2016,
          2017,
          2018,
          2019,
          2021,
          2022
         ],
         "y": [
          3073,
          4793,
          2744,
          15440,
          9865,
          23073
         ]
        },
        {
         "name": "France",
         "type": "scatter",
         "x": [
          2016,
          2017,
          2018,
          2019,
          2021,
          2022
         ],
         "y": [
          7137,
          2651,
          5306,
          10171,
          32651,
          6140
         ]
        },
        {
         "name": "Netherlands",
         "type": "scatter",
         "x": [
          2016,
          2017,
          2018,
          2019,
          2021,
          2022
         ],
         "y": [
          5043,
          7237,
          4145,
          51174,
          5557,
          12345
         ]
        },
        {
         "name": "Italy",
         "type": "scatter",
         "x": [
          2016,
          2017,
          2018,
          2019,
          2021,
          2022
         ],
         "y": [
          1165,
          13651,
          2679,
          14005,
          36383,
          21213
         ]
        }
       ],
       "layout": {
        "template": {
         "data": {
          "bar": [
           {
            "error_x": {
             "color": "#2a3f5f"
            },
            "error_y": {
             "color": "#2a3f5f"
            },
            "marker": {
             "line": {
              "color": "white",
              "width": 0.5
             },
             "pattern": {
              "fillmode": "overlay",
              "size": 10,
              "solidity": 0.2
             }
            },
            "type": "bar"
           }
          ],
          "barpolar": [
           {
            "marker": {
             "line": {
              "color": "white",
              "width": 0.5
             },
             "pattern": {
              "fillmode": "overlay",
              "size": 10,
              "solidity": 0.2
             }
            },
            "type": "barpolar"
           }
          ],
          "carpet": [
           {
            "aaxis": {
             "endlinecolor": "#2a3f5f",
             "gridcolor": "#C8D4E3",
             "linecolor": "#C8D4E3",
             "minorgridcolor": "#C8D4E3",
             "startlinecolor": "#2a3f5f"
            },
            "baxis": {
             "endlinecolor": "#2a3f5f",
             "gridcolor": "#C8D4E3",
             "linecolor": "#C8D4E3",
             "minorgridcolor": "#C8D4E3",
             "startlinecolor": "#2a3f5f"
            },
            "type": "carpet"
           }
          ],
          "choropleth": [
           {
            "colorbar": {
             "outlinewidth": 0,
             "ticks": ""
            },
            "type": "choropleth"
           }
          ],
          "contour": [
           {
            "colorbar": {
             "outlinewidth": 0,
             "ticks": ""
            },
            "colorscale": [
             [
              0,
              "#0d0887"
             ],
             [
              0.1111111111111111,
              "#46039f"
             ],
             [
              0.2222222222222222,
              "#7201a8"
             ],
             [
              0.3333333333333333,
              "#9c179e"
             ],
             [
              0.4444444444444444,
              "#bd3786"
             ],
             [
              0.5555555555555556,
              "#d8576b"
             ],
             [
              0.6666666666666666,
              "#ed7953"
             ],
             [
              0.7777777777777778,
              "#fb9f3a"
             ],
             [
              0.8888888888888888,
              "#fdca26"
             ],
             [
              1,
              "#f0f921"
             ]
            ],
            "type": "contour"
           }
          ],
          "contourcarpet": [
           {
            "colorbar": {
             "outlinewidth": 0,
             "ticks": ""
            },
            "type": "contourcarpet"
           }
          ],
          "heatmap": [
           {
            "colorbar": {
             "outlinewidth": 0,
             "ticks": ""
            },
            "colorscale": [
             [
              0,
              "#0d0887"
             ],
             [
              0.1111111111111111,
              "#46039f"
             ],
             [
              0.2222222222222222,
              "#7201a8"
             ],
             [
              0.3333333333333333,
              "#9c179e"
             ],
             [
              0.4444444444444444,
              "#bd3786"
             ],
             [
              0.5555555555555556,
              "#d8576b"
             ],
             [
              0.6666666666666666,
              "#ed7953"
             ],
             [
              0.7777777777777778,
              "#fb9f3a"
             ],
             [
              0.8888888888888888,
              "#fdca26"
             ],
             [
              1,
              "#f0f921"
             ]
            ],
            "type": "heatmap"
           }
          ],
          "heatmapgl": [
           {
            "colorbar": {
             "outlinewidth": 0,
             "ticks": ""
            },
            "colorscale": [
             [
              0,
              "#0d0887"
             ],
             [
              0.1111111111111111,
              "#46039f"
             ],
             [
              0.2222222222222222,
              "#7201a8"
             ],
             [
              0.3333333333333333,
              "#9c179e"
             ],
             [
              0.4444444444444444,
              "#bd3786"
             ],
             [
              0.5555555555555556,
              "#d8576b"
             ],
             [
              0.6666666666666666,
              "#ed7953"
             ],
             [
              0.7777777777777778,
              "#fb9f3a"
             ],
             [
              0.8888888888888888,
              "#fdca26"
             ],
             [
              1,
              "#f0f921"
             ]
            ],
            "type": "heatmapgl"
           }
          ],
          "histogram": [
           {
            "marker": {
             "pattern": {
              "fillmode": "overlay",
              "size": 10,
              "solidity": 0.2
             }
            },
            "type": "histogram"
           }
          ],
          "histogram2d": [
           {
            "colorbar": {
             "outlinewidth": 0,
             "ticks": ""
            },
            "colorscale": [
             [
              0,
              "#0d0887"
             ],
             [
              0.1111111111111111,
              "#46039f"
             ],
             [
              0.2222222222222222,
              "#7201a8"
             ],
             [
              0.3333333333333333,
              "#9c179e"
             ],
             [
              0.4444444444444444,
              "#bd3786"
             ],
             [
              0.5555555555555556,
              "#d8576b"
             ],
             [
              0.6666666666666666,
              "#ed7953"
             ],
             [
              0.7777777777777778,
              "#fb9f3a"
             ],
             [
              0.8888888888888888,
              "#fdca26"
             ],
             [
              1,
              "#f0f921"
             ]
            ],
            "type": "histogram2d"
           }
          ],
          "histogram2dcontour": [
           {
            "colorbar": {
             "outlinewidth": 0,
             "ticks": ""
            },
            "colorscale": [
             [
              0,
              "#0d0887"
             ],
             [
              0.1111111111111111,
              "#46039f"
             ],
             [
              0.2222222222222222,
              "#7201a8"
             ],
             [
              0.3333333333333333,
              "#9c179e"
             ],
             [
              0.4444444444444444,
              "#bd3786"
             ],
             [
              0.5555555555555556,
              "#d8576b"
             ],
             [
              0.6666666666666666,
              "#ed7953"
             ],
             [
              0.7777777777777778,
              "#fb9f3a"
             ],
             [
              0.8888888888888888,
              "#fdca26"
             ],
             [
              1,
              "#f0f921"
             ]
            ],
            "type": "histogram2dcontour"
           }
          ],
          "mesh3d": [
           {
            "colorbar": {
             "outlinewidth": 0,
             "ticks": ""
            },
            "type": "mesh3d"
           }
          ],
          "parcoords": [
           {
            "line": {
             "colorbar": {
              "outlinewidth": 0,
              "ticks": ""
             }
            },
            "type": "parcoords"
           }
          ],
          "pie": [
           {
            "automargin": true,
            "type": "pie"
           }
          ],
          "scatter": [
           {
            "fillpattern": {
             "fillmode": "overlay",
             "size": 10,
             "solidity": 0.2
            },
            "type": "scatter"
           }
          ],
          "scatter3d": [
           {
            "line": {
             "colorbar": {
              "outlinewidth": 0,
              "ticks": ""
             }
            },
            "marker": {
             "colorbar": {
              "outlinewidth": 0,
              "ticks": ""
             }
            },
            "type": "scatter3d"
           }
          ],
          "scattercarpet": [
           {
            "marker": {
             "colorbar": {
              "outlinewidth": 0,
              "ticks": ""
             }
            },
            "type": "scattercarpet"
           }
          ],
          "scattergeo": [
           {
            "marker": {
             "colorbar": {
              "outlinewidth": 0,
              "ticks": ""
             }
            },
            "type": "scattergeo"
           }
          ],
          "scattergl": [
           {
            "marker": {
             "colorbar": {
              "outlinewidth": 0,
              "ticks": ""
             }
            },
            "type": "scattergl"
           }
          ],
          "scattermapbox": [
           {
            "marker": {
             "colorbar": {
              "outlinewidth": 0,
              "ticks": ""
             }
            },
            "type": "scattermapbox"
           }
          ],
          "scatterpolar": [
           {
            "marker": {
             "colorbar": {
              "outlinewidth": 0,
              "ticks": ""
             }
            },
            "type": "scatterpolar"
           }
          ],
          "scatterpolargl": [
           {
            "marker": {
             "colorbar": {
              "outlinewidth": 0,
              "ticks": ""
             }
            },
            "type": "scatterpolargl"
           }
          ],
          "scatterternary": [
           {
            "marker": {
             "colorbar": {
              "outlinewidth": 0,
              "ticks": ""
             }
            },
            "type": "scatterternary"
           }
          ],
          "surface": [
           {
            "colorbar": {
             "outlinewidth": 0,
             "ticks": ""
            },
            "colorscale": [
             [
              0,
              "#0d0887"
             ],
             [
              0.1111111111111111,
              "#46039f"
             ],
             [
              0.2222222222222222,
              "#7201a8"
             ],
             [
              0.3333333333333333,
              "#9c179e"
             ],
             [
              0.4444444444444444,
              "#bd3786"
             ],
             [
              0.5555555555555556,
              "#d8576b"
             ],
             [
              0.6666666666666666,
              "#ed7953"
             ],
             [
              0.7777777777777778,
              "#fb9f3a"
             ],
             [
              0.8888888888888888,
              "#fdca26"
             ],
             [
              1,
              "#f0f921"
             ]
            ],
            "type": "surface"
           }
          ],
          "table": [
           {
            "cells": {
             "fill": {
              "color": "#EBF0F8"
             },
             "line": {
              "color": "white"
             }
            },
            "header": {
             "fill": {
              "color": "#C8D4E3"
             },
             "line": {
              "color": "white"
             }
            },
            "type": "table"
           }
          ]
         },
         "layout": {
          "annotationdefaults": {
           "arrowcolor": "#2a3f5f",
           "arrowhead": 0,
           "arrowwidth": 1
          },
          "autotypenumbers": "strict",
          "coloraxis": {
           "colorbar": {
            "outlinewidth": 0,
            "ticks": ""
           }
          },
          "colorscale": {
           "diverging": [
            [
             0,
             "#8e0152"
            ],
            [
             0.1,
             "#c51b7d"
            ],
            [
             0.2,
             "#de77ae"
            ],
            [
             0.3,
             "#f1b6da"
            ],
            [
             0.4,
             "#fde0ef"
            ],
            [
             0.5,
             "#f7f7f7"
            ],
            [
             0.6,
             "#e6f5d0"
            ],
            [
             0.7,
             "#b8e186"
            ],
            [
             0.8,
             "#7fbc41"
            ],
            [
             0.9,
             "#4d9221"
            ],
            [
             1,
             "#276419"
            ]
           ],
           "sequential": [
            [
             0,
             "#0d0887"
            ],
            [
             0.1111111111111111,
             "#46039f"
            ],
            [
             0.2222222222222222,
             "#7201a8"
            ],
            [
             0.3333333333333333,
             "#9c179e"
            ],
            [
             0.4444444444444444,
             "#bd3786"
            ],
            [
             0.5555555555555556,
             "#d8576b"
            ],
            [
             0.6666666666666666,
             "#ed7953"
            ],
            [
             0.7777777777777778,
             "#fb9f3a"
            ],
            [
             0.8888888888888888,
             "#fdca26"
            ],
            [
             1,
             "#f0f921"
            ]
           ],
           "sequentialminus": [
            [
             0,
             "#0d0887"
            ],
            [
             0.1111111111111111,
             "#46039f"
            ],
            [
             0.2222222222222222,
             "#7201a8"
            ],
            [
             0.3333333333333333,
             "#9c179e"
            ],
            [
             0.4444444444444444,
             "#bd3786"
            ],
            [
             0.5555555555555556,
             "#d8576b"
            ],
            [
             0.6666666666666666,
             "#ed7953"
            ],
            [
             0.7777777777777778,
             "#fb9f3a"
            ],
            [
             0.8888888888888888,
             "#fdca26"
            ],
            [
             1,
             "#f0f921"
            ]
           ]
          },
          "colorway": [
           "#636efa",
           "#EF553B",
           "#00cc96",
           "#ab63fa",
           "#FFA15A",
           "#19d3f3",
           "#FF6692",
           "#B6E880",
           "#FF97FF",
           "#FECB52"
          ],
          "font": {
           "color": "#2a3f5f"
          },
          "geo": {
           "bgcolor": "white",
           "lakecolor": "white",
           "landcolor": "white",
           "showlakes": true,
           "showland": true,
           "subunitcolor": "#C8D4E3"
          },
          "hoverlabel": {
           "align": "left"
          },
          "hovermode": "closest",
          "mapbox": {
           "style": "light"
          },
          "paper_bgcolor": "white",
          "plot_bgcolor": "white",
          "polar": {
           "angularaxis": {
            "gridcolor": "#EBF0F8",
            "linecolor": "#EBF0F8",
            "ticks": ""
           },
           "bgcolor": "white",
           "radialaxis": {
            "gridcolor": "#EBF0F8",
            "linecolor": "#EBF0F8",
            "ticks": ""
           }
          },
          "scene": {
           "xaxis": {
            "backgroundcolor": "white",
            "gridcolor": "#DFE8F3",
            "gridwidth": 2,
            "linecolor": "#EBF0F8",
            "showbackground": true,
            "ticks": "",
            "zerolinecolor": "#EBF0F8"
           },
           "yaxis": {
            "backgroundcolor": "white",
            "gridcolor": "#DFE8F3",
            "gridwidth": 2,
            "linecolor": "#EBF0F8",
            "showbackground": true,
            "ticks": "",
            "zerolinecolor": "#EBF0F8"
           },
           "zaxis": {
            "backgroundcolor": "white",
            "gridcolor": "#DFE8F3",
            "gridwidth": 2,
            "linecolor": "#EBF0F8",
            "showbackground": true,
            "ticks": "",
            "zerolinecolor": "#EBF0F8"
           }
          },
          "shapedefaults": {
           "line": {
            "color": "#2a3f5f"
           }
          },
          "ternary": {
           "aaxis": {
            "gridcolor": "#DFE8F3",
            "linecolor": "#A2B1C6",
            "ticks": ""
           },
           "baxis": {
            "gridcolor": "#DFE8F3",
            "linecolor": "#A2B1C6",
            "ticks": ""
           },
           "bgcolor": "white",
           "caxis": {
            "gridcolor": "#DFE8F3",
            "linecolor": "#A2B1C6",
            "ticks": ""
           }
          },
          "title": {
           "x": 0.05
          },
          "xaxis": {
           "automargin": true,
           "gridcolor": "#EBF0F8",
           "linecolor": "#EBF0F8",
           "ticks": "",
           "title": {
            "standoff": 15
           },
           "zerolinecolor": "#EBF0F8",
           "zerolinewidth": 2
          },
          "yaxis": {
           "automargin": true,
           "gridcolor": "#EBF0F8",
           "linecolor": "#EBF0F8",
           "ticks": "",
           "title": {
            "standoff": 15
           },
           "zerolinecolor": "#EBF0F8",
           "zerolinewidth": 2
          }
         }
        },
        "title": {
         "text": "Series de tiempo evolutiva del TOP 5 de Paises con mayor cantidad de votos"
        },
        "xaxis": {
         "title": {
          "text": "Año"
         }
        },
        "yaxis": {
         "title": {
          "text": "Cantidad de Votos"
         }
        }
       }
      }
     },
     "metadata": {},
     "output_type": "display_data"
    }
   ],
   "source": [
    "fig = go.Figure()\n",
    "for col in df_top5.columns:\n",
    "    fig.add_trace(go.Scatter(x=df_top5.index, y=df_top5[col], name=col))\n",
    "\n",
    "fig.update_layout(\n",
    "    title='Series de tiempo evolutiva del TOP 5 de Paises con mayor cantidad de votos',\n",
    "    xaxis_title='Año',\n",
    "    yaxis_title='Cantidad de Votos',\n",
    "    template='plotly_white'\n",
    ")\n",
    "\n",
    "fig.show()\n"
   ]
  },
  {
   "cell_type": "code",
   "execution_count": 202,
   "metadata": {},
   "outputs": [
    {
     "name": "stdout",
     "output_type": "stream",
     "text": [
      "Requirement already satisfied: numpy in c:\\users\\paofr\\anaconda3\\envs\\environment\\lib\\site-packages (1.22.3)\n"
     ]
    }
   ],
   "source": [
    "! pip install numpy\n",
    "import numpy as np"
   ]
  },
  {
   "attachments": {},
   "cell_type": "markdown",
   "metadata": {},
   "source": [
    "## Waffle Chart"
   ]
  },
  {
   "cell_type": "code",
   "execution_count": 215,
   "metadata": {},
   "outputs": [
    {
     "name": "stderr",
     "output_type": "stream",
     "text": [
      "C:\\Users\\paofr\\AppData\\Local\\Temp\\ipykernel_23508\\217828820.py:2: FutureWarning:\n",
      "\n",
      "The default value of numeric_only in DataFrameGroupBy.sum is deprecated. In a future version, numeric_only will default to False. Either specify numeric_only or select only columns which should be valid for the function.\n",
      "\n"
     ]
    },
    {
     "data": {
      "text/html": [
       "<div>\n",
       "<style scoped>\n",
       "    .dataframe tbody tr th:only-of-type {\n",
       "        vertical-align: middle;\n",
       "    }\n",
       "\n",
       "    .dataframe tbody tr th {\n",
       "        vertical-align: top;\n",
       "    }\n",
       "\n",
       "    .dataframe thead th {\n",
       "        text-align: right;\n",
       "    }\n",
       "</style>\n",
       "<table border=\"1\" class=\"dataframe\">\n",
       "  <thead>\n",
       "    <tr style=\"text-align: right;\">\n",
       "      <th></th>\n",
       "      <th>Total</th>\n",
       "    </tr>\n",
       "    <tr>\n",
       "      <th>style</th>\n",
       "      <th></th>\n",
       "    </tr>\n",
       "  </thead>\n",
       "  <tbody>\n",
       "    <tr>\n",
       "      <th>Ballad</th>\n",
       "      <td>18</td>\n",
       "    </tr>\n",
       "    <tr>\n",
       "      <th>Dance</th>\n",
       "      <td>7</td>\n",
       "    </tr>\n",
       "    <tr>\n",
       "      <th>Pop</th>\n",
       "      <td>26</td>\n",
       "    </tr>\n",
       "    <tr>\n",
       "      <th>Rock</th>\n",
       "      <td>5</td>\n",
       "    </tr>\n",
       "    <tr>\n",
       "      <th>Traditional</th>\n",
       "      <td>5</td>\n",
       "    </tr>\n",
       "  </tbody>\n",
       "</table>\n",
       "</div>"
      ],
      "text/plain": [
       "             Total\n",
       "style             \n",
       "Ballad          18\n",
       "Dance            7\n",
       "Pop             26\n",
       "Rock             5\n",
       "Traditional      5"
      ]
     },
     "execution_count": 215,
     "metadata": {},
     "output_type": "execute_result"
    }
   ],
   "source": []
  },
  {
   "cell_type": "code",
   "execution_count": 217,
   "metadata": {},
   "outputs": [
    {
     "name": "stdout",
     "output_type": "stream",
     "text": [
      "Número total de celdas:  400\n",
      "Waffle chart populated!\n"
     ]
    },
    {
     "name": "stderr",
     "output_type": "stream",
     "text": [
      "C:\\Users\\paofr\\AppData\\Local\\Temp\\ipykernel_23508\\679058457.py:2: FutureWarning:\n",
      "\n",
      "The default value of numeric_only in DataFrameGroupBy.sum is deprecated. In a future version, numeric_only will default to False. Either specify numeric_only or select only columns which should be valid for the function.\n",
      "\n"
     ]
    }
   ],
   "source": [
    "\n",
    "song_data['unos']=1\n",
    "df_pcb = song_data.groupby(['style','country']).sum()['unos'].to_frame().reset_index()\n",
    "\n",
    "df_pcb = df_pcb[df_pcb['country'].isin(df_top5.columns)].drop(['country'], axis=1).groupby(['style']).sum()\n",
    "\n",
    "df_pcb.columns = ['Total']\n",
    "df_pcb\n",
    "\n",
    "width = 40 # ancho del of chart\n",
    "height = 10 \n",
    "m = 40,\n",
    "n = 10\n",
    "\n",
    "\n",
    "width = 40 # ancho del of chart\n",
    "height = 10 # altura del chart\n",
    "\n",
    "total_num_tiles = width * height # número total de celdas\n",
    "\n",
    "print ('Número total de celdas: ', total_num_tiles)\n",
    "# calcula la cantidad de celdas por categoría\n",
    "tiles_per_category = [round(proportion * total_num_tiles) for proportion in category_proportions]\n",
    "\n",
    "# imprime número de celdas por categoría\n",
    "\n",
    "\n",
    "# inicializa el waffle chart como una matriz vacía\n",
    "waffle_chart = np.zeros((height, width))\n",
    "\n",
    "# índices que recorren la estructura\n",
    "category_index = 0\n",
    "tile_index = 0\n",
    "\n",
    "# poblar el waffle chart\n",
    "for col in range(width):\n",
    "    for row in range(height):\n",
    "        tile_index += 1\n",
    "\n",
    "        # si el número de celdas para la categoría actual es igual a las celdas asignadas...\n",
    "        if tile_index > sum(tiles_per_category[0:category_index]):\n",
    "            # ...se continúa con la siguiente categoría\n",
    "            category_index += 1       \n",
    "            \n",
    "        # Se asigna el valor de la categoría actual a las coordenadas row,col\n",
    "        waffle_chart[row, col] = category_index\n",
    "        \n",
    "print ('Waffle chart populated!')"
   ]
  },
  {
   "cell_type": "code",
   "execution_count": 220,
   "metadata": {},
   "outputs": [
    {
     "data": {
      "text/html": [
       "<div>\n",
       "<style scoped>\n",
       "    .dataframe tbody tr th:only-of-type {\n",
       "        vertical-align: middle;\n",
       "    }\n",
       "\n",
       "    .dataframe tbody tr th {\n",
       "        vertical-align: top;\n",
       "    }\n",
       "\n",
       "    .dataframe thead th {\n",
       "        text-align: right;\n",
       "    }\n",
       "</style>\n",
       "<table border=\"1\" class=\"dataframe\">\n",
       "  <thead>\n",
       "    <tr style=\"text-align: right;\">\n",
       "      <th></th>\n",
       "      <th>Total</th>\n",
       "    </tr>\n",
       "    <tr>\n",
       "      <th>style</th>\n",
       "      <th></th>\n",
       "    </tr>\n",
       "  </thead>\n",
       "  <tbody>\n",
       "    <tr>\n",
       "      <th>Ballad</th>\n",
       "      <td>18</td>\n",
       "    </tr>\n",
       "    <tr>\n",
       "      <th>Dance</th>\n",
       "      <td>7</td>\n",
       "    </tr>\n",
       "    <tr>\n",
       "      <th>Pop</th>\n",
       "      <td>26</td>\n",
       "    </tr>\n",
       "    <tr>\n",
       "      <th>Rock</th>\n",
       "      <td>5</td>\n",
       "    </tr>\n",
       "    <tr>\n",
       "      <th>Traditional</th>\n",
       "      <td>5</td>\n",
       "    </tr>\n",
       "  </tbody>\n",
       "</table>\n",
       "</div>"
      ],
      "text/plain": [
       "             Total\n",
       "style             \n",
       "Ballad          18\n",
       "Dance            7\n",
       "Pop             26\n",
       "Rock             5\n",
       "Traditional      5"
      ]
     },
     "execution_count": 220,
     "metadata": {},
     "output_type": "execute_result"
    }
   ],
   "source": [
    "df_pcb"
   ]
  },
  {
   "cell_type": "code",
   "execution_count": 285,
   "metadata": {},
   "outputs": [
    {
     "data": {
      "application/vnd.plotly.v1+json": {
       "config": {
        "plotlyServerURL": "https://plot.ly"
       },
       "data": [
        {
         "colorscale": [
          [
           0,
           "#FFD700"
          ],
          [
           0.2,
           "#FFA500"
          ],
          [
           0.4,
           "#FF8C00"
          ],
          [
           0.6,
           "#FF4500"
          ],
          [
           0.8,
           "#FF0000"
          ],
          [
           1,
           "#800000"
          ]
         ],
         "hoverinfo": "text",
         "showscale": false,
         "text": [
          "Ballad",
          "Dance",
          "Pop",
          "Rock",
          "Traditional"
         ],
         "type": "heatmap",
         "xgap": 3,
         "ygap": 3,
         "z": [
          [
           1,
           1,
           1,
           1,
           2,
           3,
           3,
           3,
           3,
           3,
           5
          ],
          [
           1,
           1,
           1,
           2,
           2,
           3,
           3,
           3,
           3,
           4,
           5
          ],
          [
           1,
           1,
           1,
           2,
           2,
           3,
           3,
           3,
           3,
           4,
           5
          ],
          [
           1,
           1,
           1,
           2,
           3,
           3,
           3,
           3,
           3,
           4,
           5
          ],
          [
           1,
           1,
           1,
           2,
           3,
           3,
           3,
           3,
           3,
           4,
           5
          ],
          [
           1,
           1,
           1,
           2,
           3,
           3,
           3,
           3,
           3,
           4,
           6
          ]
         ]
        },
        {
         "marker": {
          "color": "#FFD700",
          "size": 4.358898943540674
         },
         "mode": "markers",
         "name": "Ballad: 19",
         "type": "scatter",
         "x": [
          null
         ],
         "y": [
          null
         ]
        },
        {
         "marker": {
          "color": "#FFA500",
          "size": 2.8284271247461903
         },
         "mode": "markers",
         "name": "Dance: 8",
         "type": "scatter",
         "x": [
          null
         ],
         "y": [
          null
         ]
        },
        {
         "marker": {
          "color": "#FF8C00",
          "size": 5.291502622129181
         },
         "mode": "markers",
         "name": "Pop: 28",
         "type": "scatter",
         "x": [
          null
         ],
         "y": [
          null
         ]
        },
        {
         "marker": {
          "color": "#FF4500",
          "size": 2.23606797749979
         },
         "mode": "markers",
         "name": "Rock: 5",
         "type": "scatter",
         "x": [
          null
         ],
         "y": [
          null
         ]
        },
        {
         "marker": {
          "color": "#FF0000",
          "size": 2.23606797749979
         },
         "mode": "markers",
         "name": "Traditional: 5",
         "type": "scatter",
         "x": [
          null
         ],
         "y": [
          null
         ]
        }
       ],
       "layout": {
        "legend": {
         "orientation": "h",
         "x": 1,
         "xanchor": "right",
         "y": 1.02,
         "yanchor": "bottom"
        },
        "template": {
         "data": {
          "bar": [
           {
            "error_x": {
             "color": "#2a3f5f"
            },
            "error_y": {
             "color": "#2a3f5f"
            },
            "marker": {
             "line": {
              "color": "#E5ECF6",
              "width": 0.5
             },
             "pattern": {
              "fillmode": "overlay",
              "size": 10,
              "solidity": 0.2
             }
            },
            "type": "bar"
           }
          ],
          "barpolar": [
           {
            "marker": {
             "line": {
              "color": "#E5ECF6",
              "width": 0.5
             },
             "pattern": {
              "fillmode": "overlay",
              "size": 10,
              "solidity": 0.2
             }
            },
            "type": "barpolar"
           }
          ],
          "carpet": [
           {
            "aaxis": {
             "endlinecolor": "#2a3f5f",
             "gridcolor": "white",
             "linecolor": "white",
             "minorgridcolor": "white",
             "startlinecolor": "#2a3f5f"
            },
            "baxis": {
             "endlinecolor": "#2a3f5f",
             "gridcolor": "white",
             "linecolor": "white",
             "minorgridcolor": "white",
             "startlinecolor": "#2a3f5f"
            },
            "type": "carpet"
           }
          ],
          "choropleth": [
           {
            "colorbar": {
             "outlinewidth": 0,
             "ticks": ""
            },
            "type": "choropleth"
           }
          ],
          "contour": [
           {
            "colorbar": {
             "outlinewidth": 0,
             "ticks": ""
            },
            "colorscale": [
             [
              0,
              "#0d0887"
             ],
             [
              0.1111111111111111,
              "#46039f"
             ],
             [
              0.2222222222222222,
              "#7201a8"
             ],
             [
              0.3333333333333333,
              "#9c179e"
             ],
             [
              0.4444444444444444,
              "#bd3786"
             ],
             [
              0.5555555555555556,
              "#d8576b"
             ],
             [
              0.6666666666666666,
              "#ed7953"
             ],
             [
              0.7777777777777778,
              "#fb9f3a"
             ],
             [
              0.8888888888888888,
              "#fdca26"
             ],
             [
              1,
              "#f0f921"
             ]
            ],
            "type": "contour"
           }
          ],
          "contourcarpet": [
           {
            "colorbar": {
             "outlinewidth": 0,
             "ticks": ""
            },
            "type": "contourcarpet"
           }
          ],
          "heatmap": [
           {
            "colorbar": {
             "outlinewidth": 0,
             "ticks": ""
            },
            "colorscale": [
             [
              0,
              "#0d0887"
             ],
             [
              0.1111111111111111,
              "#46039f"
             ],
             [
              0.2222222222222222,
              "#7201a8"
             ],
             [
              0.3333333333333333,
              "#9c179e"
             ],
             [
              0.4444444444444444,
              "#bd3786"
             ],
             [
              0.5555555555555556,
              "#d8576b"
             ],
             [
              0.6666666666666666,
              "#ed7953"
             ],
             [
              0.7777777777777778,
              "#fb9f3a"
             ],
             [
              0.8888888888888888,
              "#fdca26"
             ],
             [
              1,
              "#f0f921"
             ]
            ],
            "type": "heatmap"
           }
          ],
          "heatmapgl": [
           {
            "colorbar": {
             "outlinewidth": 0,
             "ticks": ""
            },
            "colorscale": [
             [
              0,
              "#0d0887"
             ],
             [
              0.1111111111111111,
              "#46039f"
             ],
             [
              0.2222222222222222,
              "#7201a8"
             ],
             [
              0.3333333333333333,
              "#9c179e"
             ],
             [
              0.4444444444444444,
              "#bd3786"
             ],
             [
              0.5555555555555556,
              "#d8576b"
             ],
             [
              0.6666666666666666,
              "#ed7953"
             ],
             [
              0.7777777777777778,
              "#fb9f3a"
             ],
             [
              0.8888888888888888,
              "#fdca26"
             ],
             [
              1,
              "#f0f921"
             ]
            ],
            "type": "heatmapgl"
           }
          ],
          "histogram": [
           {
            "marker": {
             "pattern": {
              "fillmode": "overlay",
              "size": 10,
              "solidity": 0.2
             }
            },
            "type": "histogram"
           }
          ],
          "histogram2d": [
           {
            "colorbar": {
             "outlinewidth": 0,
             "ticks": ""
            },
            "colorscale": [
             [
              0,
              "#0d0887"
             ],
             [
              0.1111111111111111,
              "#46039f"
             ],
             [
              0.2222222222222222,
              "#7201a8"
             ],
             [
              0.3333333333333333,
              "#9c179e"
             ],
             [
              0.4444444444444444,
              "#bd3786"
             ],
             [
              0.5555555555555556,
              "#d8576b"
             ],
             [
              0.6666666666666666,
              "#ed7953"
             ],
             [
              0.7777777777777778,
              "#fb9f3a"
             ],
             [
              0.8888888888888888,
              "#fdca26"
             ],
             [
              1,
              "#f0f921"
             ]
            ],
            "type": "histogram2d"
           }
          ],
          "histogram2dcontour": [
           {
            "colorbar": {
             "outlinewidth": 0,
             "ticks": ""
            },
            "colorscale": [
             [
              0,
              "#0d0887"
             ],
             [
              0.1111111111111111,
              "#46039f"
             ],
             [
              0.2222222222222222,
              "#7201a8"
             ],
             [
              0.3333333333333333,
              "#9c179e"
             ],
             [
              0.4444444444444444,
              "#bd3786"
             ],
             [
              0.5555555555555556,
              "#d8576b"
             ],
             [
              0.6666666666666666,
              "#ed7953"
             ],
             [
              0.7777777777777778,
              "#fb9f3a"
             ],
             [
              0.8888888888888888,
              "#fdca26"
             ],
             [
              1,
              "#f0f921"
             ]
            ],
            "type": "histogram2dcontour"
           }
          ],
          "mesh3d": [
           {
            "colorbar": {
             "outlinewidth": 0,
             "ticks": ""
            },
            "type": "mesh3d"
           }
          ],
          "parcoords": [
           {
            "line": {
             "colorbar": {
              "outlinewidth": 0,
              "ticks": ""
             }
            },
            "type": "parcoords"
           }
          ],
          "pie": [
           {
            "automargin": true,
            "type": "pie"
           }
          ],
          "scatter": [
           {
            "fillpattern": {
             "fillmode": "overlay",
             "size": 10,
             "solidity": 0.2
            },
            "type": "scatter"
           }
          ],
          "scatter3d": [
           {
            "line": {
             "colorbar": {
              "outlinewidth": 0,
              "ticks": ""
             }
            },
            "marker": {
             "colorbar": {
              "outlinewidth": 0,
              "ticks": ""
             }
            },
            "type": "scatter3d"
           }
          ],
          "scattercarpet": [
           {
            "marker": {
             "colorbar": {
              "outlinewidth": 0,
              "ticks": ""
             }
            },
            "type": "scattercarpet"
           }
          ],
          "scattergeo": [
           {
            "marker": {
             "colorbar": {
              "outlinewidth": 0,
              "ticks": ""
             }
            },
            "type": "scattergeo"
           }
          ],
          "scattergl": [
           {
            "marker": {
             "colorbar": {
              "outlinewidth": 0,
              "ticks": ""
             }
            },
            "type": "scattergl"
           }
          ],
          "scattermapbox": [
           {
            "marker": {
             "colorbar": {
              "outlinewidth": 0,
              "ticks": ""
             }
            },
            "type": "scattermapbox"
           }
          ],
          "scatterpolar": [
           {
            "marker": {
             "colorbar": {
              "outlinewidth": 0,
              "ticks": ""
             }
            },
            "type": "scatterpolar"
           }
          ],
          "scatterpolargl": [
           {
            "marker": {
             "colorbar": {
              "outlinewidth": 0,
              "ticks": ""
             }
            },
            "type": "scatterpolargl"
           }
          ],
          "scatterternary": [
           {
            "marker": {
             "colorbar": {
              "outlinewidth": 0,
              "ticks": ""
             }
            },
            "type": "scatterternary"
           }
          ],
          "surface": [
           {
            "colorbar": {
             "outlinewidth": 0,
             "ticks": ""
            },
            "colorscale": [
             [
              0,
              "#0d0887"
             ],
             [
              0.1111111111111111,
              "#46039f"
             ],
             [
              0.2222222222222222,
              "#7201a8"
             ],
             [
              0.3333333333333333,
              "#9c179e"
             ],
             [
              0.4444444444444444,
              "#bd3786"
             ],
             [
              0.5555555555555556,
              "#d8576b"
             ],
             [
              0.6666666666666666,
              "#ed7953"
             ],
             [
              0.7777777777777778,
              "#fb9f3a"
             ],
             [
              0.8888888888888888,
              "#fdca26"
             ],
             [
              1,
              "#f0f921"
             ]
            ],
            "type": "surface"
           }
          ],
          "table": [
           {
            "cells": {
             "fill": {
              "color": "#EBF0F8"
             },
             "line": {
              "color": "white"
             }
            },
            "header": {
             "fill": {
              "color": "#C8D4E3"
             },
             "line": {
              "color": "white"
             }
            },
            "type": "table"
           }
          ]
         },
         "layout": {
          "annotationdefaults": {
           "arrowcolor": "#2a3f5f",
           "arrowhead": 0,
           "arrowwidth": 1
          },
          "autotypenumbers": "strict",
          "coloraxis": {
           "colorbar": {
            "outlinewidth": 0,
            "ticks": ""
           }
          },
          "colorscale": {
           "diverging": [
            [
             0,
             "#8e0152"
            ],
            [
             0.1,
             "#c51b7d"
            ],
            [
             0.2,
             "#de77ae"
            ],
            [
             0.3,
             "#f1b6da"
            ],
            [
             0.4,
             "#fde0ef"
            ],
            [
             0.5,
             "#f7f7f7"
            ],
            [
             0.6,
             "#e6f5d0"
            ],
            [
             0.7,
             "#b8e186"
            ],
            [
             0.8,
             "#7fbc41"
            ],
            [
             0.9,
             "#4d9221"
            ],
            [
             1,
             "#276419"
            ]
           ],
           "sequential": [
            [
             0,
             "#0d0887"
            ],
            [
             0.1111111111111111,
             "#46039f"
            ],
            [
             0.2222222222222222,
             "#7201a8"
            ],
            [
             0.3333333333333333,
             "#9c179e"
            ],
            [
             0.4444444444444444,
             "#bd3786"
            ],
            [
             0.5555555555555556,
             "#d8576b"
            ],
            [
             0.6666666666666666,
             "#ed7953"
            ],
            [
             0.7777777777777778,
             "#fb9f3a"
            ],
            [
             0.8888888888888888,
             "#fdca26"
            ],
            [
             1,
             "#f0f921"
            ]
           ],
           "sequentialminus": [
            [
             0,
             "#0d0887"
            ],
            [
             0.1111111111111111,
             "#46039f"
            ],
            [
             0.2222222222222222,
             "#7201a8"
            ],
            [
             0.3333333333333333,
             "#9c179e"
            ],
            [
             0.4444444444444444,
             "#bd3786"
            ],
            [
             0.5555555555555556,
             "#d8576b"
            ],
            [
             0.6666666666666666,
             "#ed7953"
            ],
            [
             0.7777777777777778,
             "#fb9f3a"
            ],
            [
             0.8888888888888888,
             "#fdca26"
            ],
            [
             1,
             "#f0f921"
            ]
           ]
          },
          "colorway": [
           "#636efa",
           "#EF553B",
           "#00cc96",
           "#ab63fa",
           "#FFA15A",
           "#19d3f3",
           "#FF6692",
           "#B6E880",
           "#FF97FF",
           "#FECB52"
          ],
          "font": {
           "color": "#2a3f5f"
          },
          "geo": {
           "bgcolor": "white",
           "lakecolor": "white",
           "landcolor": "#E5ECF6",
           "showlakes": true,
           "showland": true,
           "subunitcolor": "white"
          },
          "hoverlabel": {
           "align": "left"
          },
          "hovermode": "closest",
          "mapbox": {
           "style": "light"
          },
          "paper_bgcolor": "white",
          "plot_bgcolor": "#E5ECF6",
          "polar": {
           "angularaxis": {
            "gridcolor": "white",
            "linecolor": "white",
            "ticks": ""
           },
           "bgcolor": "#E5ECF6",
           "radialaxis": {
            "gridcolor": "white",
            "linecolor": "white",
            "ticks": ""
           }
          },
          "scene": {
           "xaxis": {
            "backgroundcolor": "#E5ECF6",
            "gridcolor": "white",
            "gridwidth": 2,
            "linecolor": "white",
            "showbackground": true,
            "ticks": "",
            "zerolinecolor": "white"
           },
           "yaxis": {
            "backgroundcolor": "#E5ECF6",
            "gridcolor": "white",
            "gridwidth": 2,
            "linecolor": "white",
            "showbackground": true,
            "ticks": "",
            "zerolinecolor": "white"
           },
           "zaxis": {
            "backgroundcolor": "#E5ECF6",
            "gridcolor": "white",
            "gridwidth": 2,
            "linecolor": "white",
            "showbackground": true,
            "ticks": "",
            "zerolinecolor": "white"
           }
          },
          "shapedefaults": {
           "line": {
            "color": "#2a3f5f"
           }
          },
          "ternary": {
           "aaxis": {
            "gridcolor": "white",
            "linecolor": "white",
            "ticks": ""
           },
           "baxis": {
            "gridcolor": "white",
            "linecolor": "white",
            "ticks": ""
           },
           "bgcolor": "#E5ECF6",
           "caxis": {
            "gridcolor": "white",
            "linecolor": "white",
            "ticks": ""
           }
          },
          "title": {
           "x": 0.05
          },
          "xaxis": {
           "automargin": true,
           "gridcolor": "white",
           "linecolor": "white",
           "ticks": "",
           "title": {
            "standoff": 15
           },
           "zerolinecolor": "white",
           "zerolinewidth": 2
          },
          "yaxis": {
           "automargin": true,
           "gridcolor": "white",
           "linecolor": "white",
           "ticks": "",
           "title": {
            "standoff": 15
           },
           "zerolinecolor": "white",
           "zerolinewidth": 2
          }
         }
        },
        "title": {
         "text": "Waffle Chart"
        },
        "xaxis": {
         "showgrid": false
        },
        "yaxis": {
         "showgrid": false
        }
       }
      }
     },
     "metadata": {},
     "output_type": "display_data"
    }
   ],
   "source": [
    "# importar librerías\n",
    "import plotly.graph_objects as go\n",
    "import numpy as np\n",
    "\n",
    "# definir categorías y proporciones\n",
    "categories = df_pcb.index.values\n",
    "category_proportions = (df_pcb['Total']/df_pcb['Total'].sum()).values\n",
    "\n",
    "# definir dimensiones del waffle chart\n",
    "width = int(np.ceil((df_pcb.sum()/12)*2).values[0])\n",
    "height = int(np.ceil((df_pcb.sum()/12)).values[0])\n",
    "\n",
    "# calcular número total de celdas\n",
    "total_num_tiles = width * height\n",
    "\n",
    "# calcular número de celdas por categoría\n",
    "tiles_per_category = [round(proportion * total_num_tiles) for proportion in category_proportions]\n",
    "\n",
    "# crear matriz para el waffle chart\n",
    "waffle_chart = np.zeros((height, width))\n",
    "\n",
    "# índices que recorren la estructura\n",
    "category_index = 0\n",
    "tile_index = 0\n",
    "\n",
    "# poblar el waffle chart\n",
    "for col in range(width):\n",
    "    for row in range(height):\n",
    "        tile_index += 1\n",
    "\n",
    "        # si el número de celdas para la categoría actual es igual a las celdas asignadas...\n",
    "        if tile_index > sum(tiles_per_category[0:category_index]):\n",
    "            # ...se continúa con la siguiente categoría\n",
    "            category_index += 1       \n",
    "            \n",
    "        # Se asigna el valor de la categoría actual a las coordenadas row,col\n",
    "        waffle_chart[row, col] = category_index\n",
    "        \n",
    "# crear lista de colores para cada categoría\n",
    "colors =  ['#FFD700', '#FFA500', '#FF8C00', '#FF4500', '#FF0000', '#800000']\n",
    "\n",
    "# crear lista de texto para cada categoría\n",
    "text = df_pcb.index.values\n",
    "# crear el waffle chart con plotly\n",
    "fig = go.Figure(data=go.Heatmap(z=waffle_chart, text=text, hoverinfo='text',  xgap=3, ygap=3,\n",
    "                            showscale=False,colorscale=colors))\n",
    "\n",
    "\n",
    "# actualizar estilo del gráfico\n",
    "fig.update_layout(\n",
    "    title='Waffle Chart',\n",
    "    xaxis_showgrid=False,\n",
    "    yaxis_showgrid=False,\n",
    "   \n",
    ")\n",
    "for i, tiles in enumerate(tiles_per_category):\n",
    "    fig.add_trace(go.Scatter(\n",
    "        x=[None],\n",
    "        y=[None],\n",
    "        mode='markers',\n",
    "        marker=dict(size=math.sqrt(tiles), color=colors[i]),\n",
    "        name=df_pcb.index.values[i] + ': ' + str(tiles)\n",
    "    ))\n",
    "\n",
    "# Actualizar la configuración del diseño para agregar la leyenda\n",
    "fig.update_layout(\n",
    "     title='Waffle Chart',\n",
    "    legend=dict(\n",
    "        orientation=\"h\",\n",
    "        yanchor=\"bottom\",\n",
    "        y=1.02,\n",
    "        xanchor=\"right\",\n",
    "        x=1\n",
    "    )\n",
    ")\n",
    "# mostrar el gráfico\n",
    "fig.show()\n"
   ]
  }
 ],
 "metadata": {
  "kernelspec": {
   "display_name": "Python 3",
   "language": "python",
   "name": "python3"
  },
  "language_info": {
   "codemirror_mode": {
    "name": "ipython",
    "version": 3
   },
   "file_extension": ".py",
   "mimetype": "text/x-python",
   "name": "python",
   "nbconvert_exporter": "python",
   "pygments_lexer": "ipython3",
   "version": "3.10.10"
  }
 },
 "nbformat": 4,
 "nbformat_minor": 2
}
