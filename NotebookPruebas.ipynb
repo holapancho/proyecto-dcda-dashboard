{
 "cells": [
  {
   "cell_type": "code",
   "execution_count": null,
   "metadata": {},
   "outputs": [],
   "source": [
    "from fuentes import DatosConcurso\n",
    "import pandas as pd\n",
    "\n",
    "def checkearVariablePanda(df_var,df_varname):\n",
    "    if isinstance(df_var, pd.DataFrame):\n",
    "        print('{0} ok'.format(df_varname))\n",
    "    else:\n",
    "        print('{0} fallido'.format(df_varname))\n",
    "\n",
    "concurso = DatosConcurso()\n",
    "\n",
    "checkearVariablePanda(concurso.country_data,'concurso.country_data')\n",
    "checkearVariablePanda(concurso.contest_data,'concurso.contest_data')\n",
    "checkearVariablePanda(concurso.song_data,'concurso.song_data')\n",
    "checkearVariablePanda(concurso.datos_resultados_finales.datos_jurado.jury_results_2016,'concurso.datos_resultados_finales.datos_jurado.jury_results_2016')\n",
    "checkearVariablePanda(concurso.datos_resultados_finales.datos_jurado.jury_results_2017,'concurso.datos_resultados_finales.datos_jurado.jury_results_2017')\n",
    "checkearVariablePanda(concurso.datos_resultados_finales.datos_jurado.jury_results_2018,'concurso.datos_resultados_finales.datos_jurado.jury_results_2018')\n",
    "checkearVariablePanda(concurso.datos_resultados_finales.datos_jurado.jury_results_2019,'concurso.datos_resultados_finales.datos_jurado.jury_results_2019')\n",
    "checkearVariablePanda(concurso.datos_resultados_finales.datos_jurado.jury_results_2021,'concurso.datos_resultados_finales.datos_jurado.jury_results_2021')\n",
    "checkearVariablePanda(concurso.datos_resultados_finales.datos_jurado.jury_results_2022,'concurso.datos_resultados_finales.datos_jurado.jury_results_2022')\n",
    "checkearVariablePanda(concurso.datos_resultados_finales.datos_televotacion.televote_results_2016,'concurso.datos_resultados_finales.datos_televotacion.2016_televote_results')\n",
    "checkearVariablePanda(concurso.datos_resultados_finales.datos_televotacion.televote_results_2017,'concurso.datos_resultados_finales.datos_televotacion.2017_televote_results')\n",
    "checkearVariablePanda(concurso.datos_resultados_finales.datos_televotacion.televote_results_2018,'concurso.datos_resultados_finales.datos_televotacion.2018_televote_results')\n",
    "checkearVariablePanda(concurso.datos_resultados_finales.datos_televotacion.televote_results_2019,'concurso.datos_resultados_finales.datos_televotacion.2019_televote_results')\n",
    "checkearVariablePanda(concurso.datos_resultados_finales.datos_televotacion.televote_results_2021,'concurso.datos_resultados_finales.datos_televotacion.2021_televote_results')\n",
    "checkearVariablePanda(concurso.datos_resultados_finales.datos_televotacion.televote_results_2022,'concurso.datos_resultados_finales.datos_televotacion.2022_televote_results')"
   ]
  }
 ],
 "metadata": {
  "kernelspec": {
   "display_name": "proyecto-dcda-dashboard",
   "language": "python",
   "name": "python3"
  },
  "language_info": {
   "codemirror_mode": {
    "name": "ipython",
    "version": 3
   },
   "file_extension": ".py",
   "mimetype": "text/x-python",
   "name": "python",
   "nbconvert_exporter": "python",
   "pygments_lexer": "ipython3",
   "version": "3.10.10"
  },
  "orig_nbformat": 4
 },
 "nbformat": 4,
 "nbformat_minor": 2
}
